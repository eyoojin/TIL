{
 "cells": [
  {
   "cell_type": "markdown",
   "id": "eccd9f2c-24a4-45e3-baed-2d0c57d70a24",
   "metadata": {},
   "source": [
    "## Tuple(튜플)"
   ]
  },
  {
   "cell_type": "markdown",
   "id": "3e5c8f8c-47c9-4a62-840e-270be9fc8feb",
   "metadata": {},
   "source": [
    "- 선언: `var_name = (value1, value2, value3, ...)`\n",
    "- 접근: `var_name[index]`\n",
    "- 수정불가능함(immutable) *(불변하다)*"
   ]
  },
  {
   "cell_type": "code",
   "execution_count": 1,
   "id": "5133adf4-6d85-4525-a2f4-a8ec9cddfade",
   "metadata": {},
   "outputs": [
    {
     "name": "stdout",
     "output_type": "stream",
     "text": [
      "('서울', '대전', '대구')\n",
      "서울\n"
     ]
    }
   ],
   "source": [
    "location = ('서울', '대전', '대구')\n",
    "print(location)\n",
    "print(location[0])"
   ]
  },
  {
   "cell_type": "code",
   "execution_count": 3,
   "id": "40ef4dc4-acea-43c3-a0d8-1f9b41f082bd",
   "metadata": {},
   "outputs": [],
   "source": [
    "# location[2] = '부산' # error: 재할당 불가/ 튜플은 한번 만들어두면 변하지 않음"
   ]
  },
  {
   "cell_type": "code",
   "execution_count": 5,
   "id": "a208be05-0475-494d-86f8-00d98758295e",
   "metadata": {},
   "outputs": [
    {
     "name": "stdout",
     "output_type": "stream",
     "text": [
      "(2, 1)\n",
      "<class 'tuple'>\n"
     ]
    }
   ],
   "source": [
    "result = divmod(5, 2)\n",
    "print(result)\n",
    "print(type(result))"
   ]
  },
  {
   "cell_type": "code",
   "execution_count": 6,
   "id": "7913480a-3f8c-43bc-add1-f948a41712b5",
   "metadata": {},
   "outputs": [
    {
     "name": "stdout",
     "output_type": "stream",
     "text": [
      "2 1\n"
     ]
    }
   ],
   "source": [
    "x = 1\n",
    "y = 2\n",
    "(x, y) = (y, x) # 변수값을 편하게 바꿀 때 사용\n",
    "print(x, y)"
   ]
  }
 ],
 "metadata": {
  "kernelspec": {
   "display_name": "Python 3 (ipykernel)",
   "language": "python",
   "name": "python3"
  },
  "language_info": {
   "codemirror_mode": {
    "name": "ipython",
    "version": 3
   },
   "file_extension": ".py",
   "mimetype": "text/x-python",
   "name": "python",
   "nbconvert_exporter": "python",
   "pygments_lexer": "ipython3",
   "version": "3.13.2"
  }
 },
 "nbformat": 4,
 "nbformat_minor": 5
}
