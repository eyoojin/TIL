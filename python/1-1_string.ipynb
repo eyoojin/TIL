{
 "cells": [
  {
   "cell_type": "markdown",
   "id": "364f71cb-3f8f-4b9a-b2a5-5197054f845e",
   "metadata": {},
   "source": [
    "### string"
   ]
  },
  {
   "cell_type": "markdown",
   "id": "70d502a9-eb81-45eb-80bb-8c33ac1af7d3",
   "metadata": {},
   "source": [
    "- *문자열*\n",
    "- `'`, `\"`를 이용하여 표현"
   ]
  },
  {
   "cell_type": "code",
   "execution_count": 1,
   "id": "f1346aed-22a4-4d1b-aa33-2e3d702853c2",
   "metadata": {},
   "outputs": [
    {
     "data": {
      "text/plain": [
       "'hello'"
      ]
     },
     "execution_count": 1,
     "metadata": {},
     "output_type": "execute_result"
    }
   ],
   "source": [
    "a = 'hello'\n",
    "a"
   ]
  },
  {
   "cell_type": "code",
   "execution_count": 2,
   "id": "f06c23ea-ffc8-4476-b1e5-bca32ffed05b",
   "metadata": {},
   "outputs": [
    {
     "name": "stdout",
     "output_type": "stream",
     "text": [
      "hello my name is \"Yoojin\"\n"
     ]
    }
   ],
   "source": [
    "print('hello my name is \"Yoojin\"')"
   ]
  },
  {
   "cell_type": "code",
   "execution_count": 3,
   "id": "5d1c4fa0-aeee-4709-a661-291890a8bb2e",
   "metadata": {},
   "outputs": [
    {
     "data": {
      "text/plain": [
       "'\\nhello\\nworld\\nhi\\n'"
      ]
     },
     "execution_count": 3,
     "metadata": {},
     "output_type": "execute_result"
    }
   ],
   "source": [
    "a = '''\n",
    "hello\n",
    "world\n",
    "hi\n",
    "''' # '''안의 것을 모두 문자로 인식\n",
    "a # \\n: new line"
   ]
  },
  {
   "cell_type": "markdown",
   "id": "fca65e8b-65f9-4b36-9adc-b864eb8135fe",
   "metadata": {},
   "source": [
    "#### string interpolation"
   ]
  },
  {
   "cell_type": "markdown",
   "id": "d6160326-1234-4f89-ab07-5f216286a0d7",
   "metadata": {},
   "source": [
    "- *문자열 사이에 변수를 넣는 법*\n",
    "- %-formating\n",
    "- str.format()\n",
    "- f-string"
   ]
  },
  {
   "cell_type": "code",
   "execution_count": 2,
   "id": "8cc9f4a0-37d0-4933-bc60-befeb17ece98",
   "metadata": {},
   "outputs": [],
   "source": [
    "age = 20"
   ]
  },
  {
   "cell_type": "code",
   "execution_count": 3,
   "id": "ee4285df-bc0d-44c2-b606-a22879b1acda",
   "metadata": {},
   "outputs": [
    {
     "name": "stdout",
     "output_type": "stream",
     "text": [
      "홍길동은 20살입니다.\n"
     ]
    }
   ],
   "source": [
    "print('홍길동은 %s살입니다.' % age)"
   ]
  },
  {
   "cell_type": "code",
   "execution_count": 4,
   "id": "0d3326a3-80d9-4d1a-8c6f-ea62325675ad",
   "metadata": {},
   "outputs": [
    {
     "name": "stdout",
     "output_type": "stream",
     "text": [
      "홍길동은 20살입니다.\n"
     ]
    }
   ],
   "source": [
    "print('홍길동은 {}살입니다.'.format(age))"
   ]
  },
  {
   "cell_type": "code",
   "execution_count": 5,
   "id": "6b9fbe68-e0c5-4cf8-b19c-d46e3d693623",
   "metadata": {},
   "outputs": [
    {
     "name": "stdout",
     "output_type": "stream",
     "text": [
      "홍길동은 20살입니다.\n"
     ]
    }
   ],
   "source": [
    "print(f'홍길동은 {age}살입니다.')"
   ]
  }
 ],
 "metadata": {
  "kernelspec": {
   "display_name": "Python 3 (ipykernel)",
   "language": "python",
   "name": "python3"
  },
  "language_info": {
   "codemirror_mode": {
    "name": "ipython",
    "version": 3
   },
   "file_extension": ".py",
   "mimetype": "text/x-python",
   "name": "python",
   "nbconvert_exporter": "python",
   "pygments_lexer": "ipython3",
   "version": "3.13.2"
  }
 },
 "nbformat": 4,
 "nbformat_minor": 5
}
