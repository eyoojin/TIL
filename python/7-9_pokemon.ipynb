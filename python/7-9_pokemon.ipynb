{
 "cells": [
  {
   "cell_type": "markdown",
   "id": "fd96a17f-a1e5-4c34-8bfd-237a2e8061bf",
   "metadata": {},
   "source": [
    "## pokemon game"
   ]
  },
  {
   "cell_type": "markdown",
   "id": "6f6f4402-3e6e-40fd-8bdb-c24737c53ffd",
   "metadata": {},
   "source": [
    "1. 포켓몬 클래스 정의\n",
    "    - 포켓몬 이름/ 레벨(기본값=5)/ 체력(레벨에 따라 결정 예: 레벨5면 체력 50)\n",
    "\n",
    "2. 간단한 공격: 데미지는 레벨과 1부터 3 사이의 랜덤 숫자를 곱해 결정합니다.\n",
    "\n",
    "3. 체력이 0 이하이면 쓰러진 것으로 간주\n",
    "\n",
    "4. 현재 상태(이름과 체력)를 출력하는 메서드\n",
    "\n",
    "5. 포켓몬 객체 생성\n",
    "\n",
    "6. 배틀 시뮬레이션 시작\n",
    "    - 꼬부기가 파이리를 공격\n",
    "    - 파이리가 꼬부기를 공격\n",
    "    - 각 포켓몬의 현재 체력을 출력"
   ]
  },
  {
   "cell_type": "code",
   "execution_count": 2,
   "id": "1cbca482-15f2-4708-9e91-2d63354ab40b",
   "metadata": {},
   "outputs": [],
   "source": [
    "import random\n",
    "\n",
    "class Pokemon():\n",
    "    def __init__(self, name, level=5):\n",
    "        self.name = name\n",
    "        self.level = level\n",
    "        self.hp = level * 10\n",
    "\n",
    "    def attack(self, opponent):\n",
    "        damage = self.level * random.randint(1, 3)\n",
    "        opponent.hp -= damage\n",
    "        print(f'{self.name}이(가) {opponent.name}에게 {damage}의 데미지를 주었다!')\n",
    "\n",
    "    def is_knocked_out(self):\n",
    "        return self.hp <= 0\n",
    "\n",
    "    def status(self):\n",
    "        print(f'{self.name} - hp: {self.hp}')"
   ]
  },
  {
   "cell_type": "code",
   "execution_count": 5,
   "id": "c34215b0-45e9-4d3d-ba96-17b522ec16f1",
   "metadata": {},
   "outputs": [
    {
     "name": "stdout",
     "output_type": "stream",
     "text": [
      "start!\n",
      "파이리이(가) 꼬부기에게 10의 데미지를 주었다!\n",
      "꼬부기이(가) 파이리에게 10의 데미지를 주었다!\n",
      "파이리 - hp: 40\n",
      "꼬부기 - hp: 40\n",
      "---\n",
      "파이리이(가) 꼬부기에게 10의 데미지를 주었다!\n",
      "꼬부기이(가) 파이리에게 10의 데미지를 주었다!\n",
      "파이리 - hp: 30\n",
      "꼬부기 - hp: 30\n",
      "---\n",
      "파이리이(가) 꼬부기에게 5의 데미지를 주었다!\n",
      "꼬부기이(가) 파이리에게 10의 데미지를 주었다!\n",
      "파이리 - hp: 20\n",
      "꼬부기 - hp: 25\n",
      "---\n",
      "파이리이(가) 꼬부기에게 10의 데미지를 주었다!\n",
      "꼬부기이(가) 파이리에게 10의 데미지를 주었다!\n",
      "파이리 - hp: 10\n",
      "꼬부기 - hp: 15\n",
      "---\n",
      "파이리이(가) 꼬부기에게 15의 데미지를 주었다!\n",
      "꼬부기이(가) 쓰러졌다! 파이리 승리!\n"
     ]
    }
   ],
   "source": [
    "pairi = Pokemon('파이리')\n",
    "kobugi = Pokemon('꼬부기')\n",
    "\n",
    "print('start!')\n",
    "while True:\n",
    "    pairi.attack(kobugi)\n",
    "    if kobugi.is_knocked_out():\n",
    "        print(f'{kobugi.name}이(가) 쓰러졌다! {pairi.name} 승리!')\n",
    "        break\n",
    "        \n",
    "    kobugi.attack(pairi)\n",
    "    if pairi.is_knocked_out():\n",
    "        print(f'{pairi.name}이(가) 쓰러졌다! {kobugi.name} 승리!')\n",
    "        break\n",
    "    \n",
    "    pairi.status()\n",
    "    kobugi.status()\n",
    "    print('---')"
   ]
  }
 ],
 "metadata": {
  "kernelspec": {
   "display_name": "Python 3 (ipykernel)",
   "language": "python",
   "name": "python3"
  },
  "language_info": {
   "codemirror_mode": {
    "name": "ipython",
    "version": 3
   },
   "file_extension": ".py",
   "mimetype": "text/x-python",
   "name": "python",
   "nbconvert_exporter": "python",
   "pygments_lexer": "ipython3",
   "version": "3.13.2"
  }
 },
 "nbformat": 4,
 "nbformat_minor": 5
}
