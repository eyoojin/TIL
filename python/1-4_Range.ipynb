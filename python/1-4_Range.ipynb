{
 "cells": [
  {
   "cell_type": "markdown",
   "id": "ca0c6fe9-7819-41cf-a154-1fbff4a21747",
   "metadata": {},
   "source": [
    "## Range"
   ]
  },
  {
   "cell_type": "markdown",
   "id": "a8f3d19f-7a01-43fc-96b6-0e06d0647dea",
   "metadata": {},
   "source": [
    "- 선언\n",
    "    - `range(n)`: 0부터 n-1까지 범위 *(0 이상 n 미만)*\n",
    "    - `range(n, m)`: n부터 m-1까지 범위\n",
    "    - `range(n, m, s)`: n부터 m-1까지 s만큼 증가하는 범위 *(s를 더함)*"
   ]
  },
  {
   "cell_type": "code",
   "execution_count": 1,
   "id": "ab2fe63d-225e-4471-a419-5940c57f6833",
   "metadata": {},
   "outputs": [
    {
     "name": "stdout",
     "output_type": "stream",
     "text": [
      "range(0, 45)\n",
      "[0, 1, 2, 3, 4, 5, 6, 7, 8, 9, 10, 11, 12, 13, 14, 15, 16, 17, 18, 19, 20, 21, 22, 23, 24, 25, 26, 27, 28, 29, 30, 31, 32, 33, 34, 35, 36, 37, 38, 39, 40, 41, 42, 43, 44]\n"
     ]
    }
   ],
   "source": [
    "lotto = range(45)\n",
    "print(lotto)\n",
    "print(list(lotto)) # 형변환"
   ]
  },
  {
   "cell_type": "code",
   "execution_count": 2,
   "id": "743e4630-c0e3-4570-9893-71060a41874d",
   "metadata": {},
   "outputs": [
    {
     "name": "stdout",
     "output_type": "stream",
     "text": [
      "range(1, 46)\n",
      "[1, 2, 3, 4, 5, 6, 7, 8, 9, 10, 11, 12, 13, 14, 15, 16, 17, 18, 19, 20, 21, 22, 23, 24, 25, 26, 27, 28, 29, 30, 31, 32, 33, 34, 35, 36, 37, 38, 39, 40, 41, 42, 43, 44, 45]\n"
     ]
    }
   ],
   "source": [
    "lotto = range(1, 46)\n",
    "print(lotto)\n",
    "print(list(lotto))"
   ]
  },
  {
   "cell_type": "code",
   "execution_count": 3,
   "id": "697a542a-9560-4cba-921c-fbce1ee418f2",
   "metadata": {},
   "outputs": [
    {
     "name": "stdout",
     "output_type": "stream",
     "text": [
      "[2, 4, 6, 8, 10, 12, 14, 16, 18, 20]\n"
     ]
    }
   ],
   "source": [
    "even = range(2, 21, 2) # 짝수만 뽑기\n",
    "print(list(even))"
   ]
  },
  {
   "cell_type": "code",
   "execution_count": 5,
   "id": "5ab4cccd-3cab-4056-8087-c71a810cc6f2",
   "metadata": {},
   "outputs": [
    {
     "name": "stdout",
     "output_type": "stream",
     "text": [
      "[0, -2, -4, -6, -8, -10, -12, -14, -16, -18, -20]\n"
     ]
    }
   ],
   "source": [
    "numbers = range(0, -21, -2) # 음수도 가능\n",
    "print(list(numbers))"
   ]
  }
 ],
 "metadata": {
  "kernelspec": {
   "display_name": "Python 3 (ipykernel)",
   "language": "python",
   "name": "python3"
  },
  "language_info": {
   "codemirror_mode": {
    "name": "ipython",
    "version": 3
   },
   "file_extension": ".py",
   "mimetype": "text/x-python",
   "name": "python",
   "nbconvert_exporter": "python",
   "pygments_lexer": "ipython3",
   "version": "3.13.2"
  }
 },
 "nbformat": 4,
 "nbformat_minor": 5
}
