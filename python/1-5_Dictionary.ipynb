{
 "cells": [
  {
   "cell_type": "markdown",
   "id": "beada093-a476-4999-b8d5-49c27db9e064",
   "metadata": {},
   "source": [
    "## Dictionary"
   ]
  },
  {
   "cell_type": "markdown",
   "id": "786c82b9-815e-4707-a1e5-dd170903af20",
   "metadata": {},
   "source": [
    "- 선언: `var_name = {key1: value1, key2:value2, key3:value3, ...}`\n",
    "- 접근: `var_name[key]` *value를 기준으로는 접근 불가능*"
   ]
  },
  {
   "cell_type": "code",
   "execution_count": 1,
   "id": "03be1f22-9401-4c86-b094-b4377ac7f753",
   "metadata": {},
   "outputs": [
    {
     "name": "stdout",
     "output_type": "stream",
     "text": [
      "02\n"
     ]
    }
   ],
   "source": [
    "my_dict = {'서울': '02', '경기': '031'}\n",
    "print(my_dict['서울'])"
   ]
  },
  {
   "cell_type": "code",
   "execution_count": 2,
   "id": "5fa40b9d-534c-443c-8642-da917cb863f1",
   "metadata": {},
   "outputs": [],
   "source": [
    "my_info = {\n",
    "    'name': 'Ruka',\n",
    "    'location': 'Tokyo',\n",
    "    'age': 22,\n",
    "    'skill': ['rap', 'dance'],\n",
    "}\n",
    "# 딕셔너리에는 스트링, 숫자, 리스트 등 모두 넣을 수 있음"
   ]
  },
  {
   "cell_type": "code",
   "execution_count": 3,
   "id": "5a0d9e1a-7cd9-4014-87d9-fdec3c7699f3",
   "metadata": {},
   "outputs": [
    {
     "name": "stdout",
     "output_type": "stream",
     "text": [
      "Ruka\n",
      "dance\n"
     ]
    }
   ],
   "source": [
    "print(my_info['name'])\n",
    "print(my_info['skill'][1]) # my_info['skill']: list, [1]: indexing"
   ]
  }
 ],
 "metadata": {
  "kernelspec": {
   "display_name": "Python 3 (ipykernel)",
   "language": "python",
   "name": "python3"
  },
  "language_info": {
   "codemirror_mode": {
    "name": "ipython",
    "version": 3
   },
   "file_extension": ".py",
   "mimetype": "text/x-python",
   "name": "python",
   "nbconvert_exporter": "python",
   "pygments_lexer": "ipython3",
   "version": "3.13.2"
  }
 },
 "nbformat": 4,
 "nbformat_minor": 5
}
