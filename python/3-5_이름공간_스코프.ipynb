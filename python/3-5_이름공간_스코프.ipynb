{
 "cells": [
  {
   "cell_type": "markdown",
   "id": "8b323244-82f8-4842-9f81-7f35d939647a",
   "metadata": {},
   "source": [
    "## 이름공간(namespace), 스코프(scope)"
   ]
  },
  {
   "cell_type": "markdown",
   "id": "208ac736-19f1-41ad-8b51-0e92e452eeea",
   "metadata": {},
   "source": [
    "- python에서 사용하는 이름들은 이름공간에 저장되어 있음\n",
    "- LEGB룰에 따라 접근 *(위에서 아래로 갈수록 넓은 범위)*\n",
    "    1. Local: 정의된 함수 내부\n",
    "    2. Enclosed: 상위 함수\n",
    "    3. Global: 함수 밖\n",
    "    4. Built_int: python이 기본적으로 가지고 있는 함수"
   ]
  }
 ],
 "metadata": {
  "kernelspec": {
   "display_name": "Python 3 (ipykernel)",
   "language": "python",
   "name": "python3"
  },
  "language_info": {
   "codemirror_mode": {
    "name": "ipython",
    "version": 3
   },
   "file_extension": ".py",
   "mimetype": "text/x-python",
   "name": "python",
   "nbconvert_exporter": "python",
   "pygments_lexer": "ipython3",
   "version": "3.13.2"
  }
 },
 "nbformat": 4,
 "nbformat_minor": 5
}
