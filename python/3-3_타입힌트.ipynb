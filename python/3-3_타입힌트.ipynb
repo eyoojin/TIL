{
 "cells": [
  {
   "cell_type": "markdown",
   "id": "16bc6619-a70e-409e-9208-ea076ec78118",
   "metadata": {},
   "source": [
    "## 타입힌트"
   ]
  },
  {
   "cell_type": "code",
   "execution_count": 1,
   "id": "fbfde03c-a6c6-43f0-ad9e-e958abe487ae",
   "metadata": {},
   "outputs": [],
   "source": [
    "# parameter의 타입힌트 -> return의 타입 힌트\n",
    "def something(a: int, b: int) -> int:\n",
    "    return a + b"
   ]
  }
 ],
 "metadata": {
  "kernelspec": {
   "display_name": "Python 3 (ipykernel)",
   "language": "python",
   "name": "python3"
  },
  "language_info": {
   "codemirror_mode": {
    "name": "ipython",
    "version": 3
   },
   "file_extension": ".py",
   "mimetype": "text/x-python",
   "name": "python",
   "nbconvert_exporter": "python",
   "pygments_lexer": "ipython3",
   "version": "3.13.2"
  }
 },
 "nbformat": 4,
 "nbformat_minor": 5
}
