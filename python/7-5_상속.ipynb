{
 "cells": [
  {
   "cell_type": "markdown",
   "id": "7f586e37-e0fd-4b0e-93a0-d84d8f1088dc",
   "metadata": {},
   "source": [
    "## 상속"
   ]
  },
  {
   "cell_type": "code",
   "execution_count": 1,
   "id": "eee9f94b-a351-4b65-ab7f-87a7417c6aff",
   "metadata": {},
   "outputs": [],
   "source": [
    "class Person():\n",
    "    ident = ''\n",
    "\n",
    "    def __init__(self, name):\n",
    "        self.name = name\n",
    "\n",
    "    def greeting(self):\n",
    "        print(f'hi I am {self.name}')"
   ]
  },
  {
   "cell_type": "code",
   "execution_count": 2,
   "id": "11ab8d84-29e8-4820-a3b1-3383979d2707",
   "metadata": {},
   "outputs": [],
   "source": [
    "p1 = Person('ruka')\n",
    "p2 = Person('rora')"
   ]
  },
  {
   "cell_type": "code",
   "execution_count": 3,
   "id": "60c4d169-c84c-4f09-b1fc-9c30695e121b",
   "metadata": {},
   "outputs": [
    {
     "name": "stdout",
     "output_type": "stream",
     "text": [
      "hi I am ruka\n",
      "hi I am rora\n"
     ]
    }
   ],
   "source": [
    "p1.greeting()\n",
    "p2.greeting()"
   ]
  },
  {
   "cell_type": "code",
   "execution_count": 4,
   "id": "97ab2876-03b4-4b4c-8dc5-fa67d458c7bc",
   "metadata": {},
   "outputs": [
    {
     "data": {
      "text/plain": [
       "'020320'"
      ]
     },
     "execution_count": 4,
     "metadata": {},
     "output_type": "execute_result"
    }
   ],
   "source": [
    "p1.ident = '020320'\n",
    "p1.ident"
   ]
  },
  {
   "cell_type": "code",
   "execution_count": 5,
   "id": "a6665c91-83b0-4383-9849-fc3d9b534300",
   "metadata": {},
   "outputs": [],
   "source": [
    "class Singer(Person):\n",
    "    def singer_greeting(self):\n",
    "        print(f'lala I am {self.name}.')\n",
    "\n",
    "    # ident = ''\n",
    "\n",
    "    # def __init__(self, name):\n",
    "    #     self.name = name\n",
    "\n",
    "    # def greeting(self):\n",
    "    #     print(f'hi I am {self.name}')"
   ]
  },
  {
   "cell_type": "code",
   "execution_count": 6,
   "id": "74fdce35-59dd-4242-842e-c3eb9a1bf445",
   "metadata": {},
   "outputs": [
    {
     "name": "stdout",
     "output_type": "stream",
     "text": [
      "hi I am asa\n",
      "lala I am asa.\n"
     ]
    }
   ],
   "source": [
    "s1 = Singer('asa')\n",
    "s1.greeting()\n",
    "s1.singer_greeting()"
   ]
  },
  {
   "cell_type": "code",
   "execution_count": 7,
   "id": "50017e9f-5d72-43c0-aabe-b52fd1ebc146",
   "metadata": {},
   "outputs": [],
   "source": [
    "class Singer(Person):\n",
    "    def greeting(self):\n",
    "        print(f'lala I am {self.name}.')"
   ]
  },
  {
   "cell_type": "code",
   "execution_count": 9,
   "id": "3946b324-188d-4843-aec9-b7f56ef1c413",
   "metadata": {},
   "outputs": [
    {
     "name": "stdout",
     "output_type": "stream",
     "text": [
      "lala I am ahyeon.\n"
     ]
    }
   ],
   "source": [
    "s1 = Singer('ahyeon')\n",
    "s1.greeting()"
   ]
  },
  {
   "cell_type": "code",
   "execution_count": 10,
   "id": "57310ace-a8ed-47cd-ba83-ae01dce81b1f",
   "metadata": {},
   "outputs": [
    {
     "data": {
      "text/plain": [
       "'07-04-11'"
      ]
     },
     "execution_count": 10,
     "metadata": {},
     "output_type": "execute_result"
    }
   ],
   "source": [
    "s1.ident = '07-04-11'\n",
    "s1.ident # 변수의 이름은 같지만 데이터의 유형은 다를 수 있음"
   ]
  },
  {
   "cell_type": "code",
   "execution_count": 12,
   "id": "b7cf0afa-6710-472a-9dc2-ddd2555473e7",
   "metadata": {},
   "outputs": [],
   "source": [
    "class Person():\n",
    "    def __init__(self, name, age, email, phone):\n",
    "        self.name = name\n",
    "        self.age = age\n",
    "        self.email = email\n",
    "        self.phone = phone\n",
    "class Student(Person):\n",
    "    def __init__(self, name, age, email, phone, student_id):\n",
    "        super().__init__(name, age, email, phone)\n",
    "        self.student_id = student_id"
   ]
  },
  {
   "cell_type": "markdown",
   "id": "150a84e8-c346-43b0-8fe4-4bf131989c67",
   "metadata": {},
   "source": [
    "### 다중상속"
   ]
  },
  {
   "cell_type": "code",
   "execution_count": 13,
   "id": "41ebb5bc-5d7a-460b-8699-3e0db7c22596",
   "metadata": {},
   "outputs": [],
   "source": [
    "class Person():\n",
    "    def __init__(self, name):\n",
    "        self.name = name\n",
    "\n",
    "    def breath(self):\n",
    "        print('huha')"
   ]
  },
  {
   "cell_type": "code",
   "execution_count": 14,
   "id": "80a0e536-9cc5-48f3-9e4a-d32e6446d1fe",
   "metadata": {},
   "outputs": [],
   "source": [
    "class Mom(Person):\n",
    "    gene = 'xx'\n",
    "\n",
    "    def swim(self):\n",
    "        print('uhpu uhpu')"
   ]
  },
  {
   "cell_type": "code",
   "execution_count": 15,
   "id": "5c0b607d-6149-46aa-8f04-893e623305c6",
   "metadata": {},
   "outputs": [],
   "source": [
    "class Dad(Person):\n",
    "    gene = 'xy'\n",
    "\n",
    "    def run(self):\n",
    "        print('dadada')"
   ]
  },
  {
   "cell_type": "code",
   "execution_count": 16,
   "id": "bf62472b-26ed-46bd-8707-8ac63b5282a7",
   "metadata": {},
   "outputs": [],
   "source": [
    "class Child(Mom, Dad):\n",
    "    pass"
   ]
  },
  {
   "cell_type": "code",
   "execution_count": 17,
   "id": "350fa00d-c961-462c-b969-15d1b9ccee1a",
   "metadata": {},
   "outputs": [
    {
     "name": "stdout",
     "output_type": "stream",
     "text": [
      "huha\n",
      "dadada\n",
      "uhpu uhpu\n"
     ]
    }
   ],
   "source": [
    "c = Child('gold')\n",
    "c.breath()\n",
    "c.run()\n",
    "c.swim()"
   ]
  },
  {
   "cell_type": "code",
   "execution_count": 18,
   "id": "e9a6427c-a092-4792-bc21-501ca539d50c",
   "metadata": {},
   "outputs": [
    {
     "data": {
      "text/plain": [
       "'xx'"
      ]
     },
     "execution_count": 18,
     "metadata": {},
     "output_type": "execute_result"
    }
   ],
   "source": [
    "c.gene # 변수/함수가 겹친다면 먼저 상속받은 것으로 상속됨"
   ]
  }
 ],
 "metadata": {
  "kernelspec": {
   "display_name": "Python 3 (ipykernel)",
   "language": "python",
   "name": "python3"
  },
  "language_info": {
   "codemirror_mode": {
    "name": "ipython",
    "version": 3
   },
   "file_extension": ".py",
   "mimetype": "text/x-python",
   "name": "python",
   "nbconvert_exporter": "python",
   "pygments_lexer": "ipython3",
   "version": "3.13.2"
  }
 },
 "nbformat": 4,
 "nbformat_minor": 5
}
