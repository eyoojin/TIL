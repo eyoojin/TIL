{
 "cells": [
  {
   "cell_type": "markdown",
   "id": "a1578333-5b4f-4a53-8dd2-afab7398d308",
   "metadata": {},
   "source": [
    "## 조건표현식"
   ]
  },
  {
   "cell_type": "markdown",
   "id": "03a9e2b6-16d6-432c-8e39-7215920ed6e4",
   "metadata": {},
   "source": [
    "- `true_value if <조건식> else false value`"
   ]
  },
  {
   "cell_type": "code",
   "execution_count": 2,
   "id": "86457ec1-e88c-4b13-ad00-1133c2eb2f58",
   "metadata": {},
   "outputs": [
    {
     "name": "stdout",
     "output_type": "stream",
     "text": [
      "-100\n"
     ]
    }
   ],
   "source": [
    "a = 0\n",
    "\n",
    "if False:\n",
    "    a = 100\n",
    "else:\n",
    "    a = -100\n",
    "\n",
    "print(a)"
   ]
  },
  {
   "cell_type": "code",
   "execution_count": 3,
   "id": "0da64884-2367-49d8-9804-df457ec10efb",
   "metadata": {},
   "outputs": [
    {
     "name": "stdout",
     "output_type": "stream",
     "text": [
      "-100\n"
     ]
    }
   ],
   "source": [
    "a = 100 if False else -100\n",
    "print(a) # 참/거짓에 따라 특정한 값을 표현하고 싶을 때 사용"
   ]
  },
  {
   "cell_type": "code",
   "execution_count": 4,
   "id": "5eb77ed9-11b4-469b-9df0-2e0b42f7111a",
   "metadata": {},
   "outputs": [
    {
     "name": "stdin",
     "output_type": "stream",
     "text": [
      " -100\n"
     ]
    },
    {
     "name": "stdout",
     "output_type": "stream",
     "text": [
      "-100\n",
      "0\n"
     ]
    }
   ],
   "source": [
    "num = int(input())\n",
    "print(num)\n",
    "\n",
    "if num >= 0:\n",
    "    result = num\n",
    "else:\n",
    "    result = 0\n",
    "print(result)"
   ]
  },
  {
   "cell_type": "code",
   "execution_count": 5,
   "id": "e6cbae4f-af63-44d5-8ede-95bfd3bee78d",
   "metadata": {},
   "outputs": [
    {
     "name": "stdin",
     "output_type": "stream",
     "text": [
      " 10\n"
     ]
    },
    {
     "name": "stdout",
     "output_type": "stream",
     "text": [
      "10\n",
      "10\n"
     ]
    }
   ],
   "source": [
    "num = int(input())\n",
    "print(num)\n",
    "\n",
    "result = num if num >= 0 else 0\n",
    "print(result)"
   ]
  },
  {
   "cell_type": "code",
   "execution_count": null,
   "id": "c147e4df-cf19-47c1-bb80-bb94e7d64dac",
   "metadata": {},
   "outputs": [],
   "source": []
  }
 ],
 "metadata": {
  "kernelspec": {
   "display_name": "Python 3 (ipykernel)",
   "language": "python",
   "name": "python3"
  },
  "language_info": {
   "codemirror_mode": {
    "name": "ipython",
    "version": 3
   },
   "file_extension": ".py",
   "mimetype": "text/x-python",
   "name": "python",
   "nbconvert_exporter": "python",
   "pygments_lexer": "ipython3",
   "version": "3.13.2"
  }
 },
 "nbformat": 4,
 "nbformat_minor": 5
}
