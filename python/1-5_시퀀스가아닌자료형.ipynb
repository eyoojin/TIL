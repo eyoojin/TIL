{
 "cells": [
  {
   "cell_type": "markdown",
   "id": "8af277c6-1461-48e0-b0a4-11756d11fa15",
   "metadata": {},
   "source": [
    "## 시퀀스형이 아닌 자료 구조"
   ]
  },
  {
   "cell_type": "markdown",
   "id": "ba819296-d552-4ad6-b56d-dce5dfb4b677",
   "metadata": {},
   "source": [
    "1. {Set} : mutable\n",
    "2. {Dict: ionary} : mutable"
   ]
  }
 ],
 "metadata": {
  "kernelspec": {
   "display_name": "Python 3 (ipykernel)",
   "language": "python",
   "name": "python3"
  },
  "language_info": {
   "codemirror_mode": {
    "name": "ipython",
    "version": 3
   },
   "file_extension": ".py",
   "mimetype": "text/x-python",
   "name": "python",
   "nbconvert_exporter": "python",
   "pygments_lexer": "ipython3",
   "version": "3.13.2"
  }
 },
 "nbformat": 4,
 "nbformat_minor": 5
}
