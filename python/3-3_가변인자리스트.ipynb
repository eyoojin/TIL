{
 "cells": [
  {
   "cell_type": "markdown",
   "id": "79389843-65c3-4ee4-96b2-e8407ea6e24b",
   "metadata": {},
   "source": [
    "## 가변 인자 리스트"
   ]
  },
  {
   "cell_type": "markdown",
   "id": "a22565e8-f981-4dfd-aa11-7653faa9f543",
   "metadata": {},
   "source": [
    "- *변할 수 있는*\n",
    "```python\n",
    "def func_name(*parmas):\n",
    "    code\n",
    "    ...\n",
    "    return value\n",
    "```"
   ]
  },
  {
   "cell_type": "code",
   "execution_count": 1,
   "id": "7ce18140-0f92-47d3-abdb-385097a6b08b",
   "metadata": {},
   "outputs": [
    {
     "data": {
      "text/plain": [
       "7"
      ]
     },
     "execution_count": 1,
     "metadata": {},
     "output_type": "execute_result"
    }
   ],
   "source": [
    "max(1, 2, 3, 4, 5, 6, 7) # 인자를 여러개 넣어도 실행 가능"
   ]
  },
  {
   "cell_type": "code",
   "execution_count": 3,
   "id": "63370647-5f62-4bb7-accd-3baa02a6a974",
   "metadata": {},
   "outputs": [],
   "source": [
    "def my_max(*numbers):\n",
    "    max_num = numbers[0]\n",
    "\n",
    "    for number in numbers:\n",
    "        if max_num < number:\n",
    "            max_num = number\n",
    "    return max_num"
   ]
  },
  {
   "cell_type": "code",
   "execution_count": 4,
   "id": "69695cbf-d4d8-41a3-9171-250985d3e3ab",
   "metadata": {},
   "outputs": [
    {
     "data": {
      "text/plain": [
       "40"
      ]
     },
     "execution_count": 4,
     "metadata": {},
     "output_type": "execute_result"
    }
   ],
   "source": [
    "my_max(2, 3, 40, 5, 7)"
   ]
  }
 ],
 "metadata": {
  "kernelspec": {
   "display_name": "Python 3 (ipykernel)",
   "language": "python",
   "name": "python3"
  },
  "language_info": {
   "codemirror_mode": {
    "name": "ipython",
    "version": 3
   },
   "file_extension": ".py",
   "mimetype": "text/x-python",
   "name": "python",
   "nbconvert_exporter": "python",
   "pygments_lexer": "ipython3",
   "version": "3.13.2"
  }
 },
 "nbformat": 4,
 "nbformat_minor": 5
}
