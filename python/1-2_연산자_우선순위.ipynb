{
 "cells": [
  {
   "cell_type": "markdown",
   "id": "13fe45bd-21a4-411e-ab1b-85bed1f5684d",
   "metadata": {},
   "source": [
    "## 연산자 우선순위"
   ]
  },
  {
   "cell_type": "markdown",
   "id": "0ae2a9f4-560c-474a-9f45-31371a4a7624",
   "metadata": {},
   "source": [
    "0. ()를 통해서 그룹\n",
    "1. **\n",
    "2. 산술연산자 *, /\n",
    "3. 산술연산자 +, -\n",
    "4. 비교연산자, in, is\n",
    "5. not\n",
    "6. and\n",
    "7. or"
   ]
  },
  {
   "cell_type": "code",
   "execution_count": 2,
   "id": "d3754b54-9f08-47db-ac47-ded9f026b0d1",
   "metadata": {},
   "outputs": [
    {
     "name": "stdout",
     "output_type": "stream",
     "text": [
      "-81\n",
      "81\n"
     ]
    }
   ],
   "source": [
    "print(-3 ** 4)\n",
    "print((-3) ** 4)"
   ]
  }
 ],
 "metadata": {
  "kernelspec": {
   "display_name": "Python 3 (ipykernel)",
   "language": "python",
   "name": "python3"
  },
  "language_info": {
   "codemirror_mode": {
    "name": "ipython",
    "version": 3
   },
   "file_extension": ".py",
   "mimetype": "text/x-python",
   "name": "python",
   "nbconvert_exporter": "python",
   "pygments_lexer": "ipython3",
   "version": "3.13.2"
  }
 },
 "nbformat": 4,
 "nbformat_minor": 5
}
