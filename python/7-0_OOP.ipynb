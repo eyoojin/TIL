{
 "cells": [
  {
   "cell_type": "markdown",
   "id": "ee13e4e4-143e-4cb9-bf66-f6e5bdb4dabd",
   "metadata": {},
   "source": [
    "# 07. OOP (객체 지향 프로그래밍)"
   ]
  },
  {
   "cell_type": "markdown",
   "id": "3d70c711-77b6-480f-931f-04ca0a5d9954",
   "metadata": {},
   "source": [
    "- 클래스(class): 같은 종류의 집단에 속하는 `속성`과 `행동`을 `정의`한 것\n",
    "- 속성(attribute): 클래스/인스턴스가 가지고 있는 데이터/값\n",
    "- 행동(method): 클래스/인스턴스가 가지고 있는 함수/기능\n",
    "    - *=함수, 객체 안에 들어있는 경우 method라고 부름*\n",
    "- 인스턴스(instance): 클래스를 실제로 메모리상에 할당한 것\n",
    "- *클래스는 데이터와 기능(함수)을 함계 묶는 방법을 제공*\n",
    "- *python은 객체 지향 언어*"
   ]
  },
  {
   "cell_type": "code",
   "execution_count": 1,
   "id": "1189233f-580c-4faf-a3d3-c8910cb41570",
   "metadata": {},
   "outputs": [
    {
     "name": "stdout",
     "output_type": "stream",
     "text": [
      "<class 'complex'>\n"
     ]
    }
   ],
   "source": [
    "number = 1 + 2j\n",
    "print(type(number))"
   ]
  },
  {
   "cell_type": "code",
   "execution_count": 2,
   "id": "ecde581f-1eb0-4092-83b4-28b12dcb247e",
   "metadata": {},
   "outputs": [
    {
     "name": "stdout",
     "output_type": "stream",
     "text": [
      "1.0\n",
      "2.0\n"
     ]
    }
   ],
   "source": [
    "print(number.real) # 데이터/값에 접근\n",
    "print(number.imag)"
   ]
  },
  {
   "cell_type": "code",
   "execution_count": 3,
   "id": "1400474a-5e93-46e0-8694-7d3bd6f1b971",
   "metadata": {},
   "outputs": [
    {
     "name": "stdout",
     "output_type": "stream",
     "text": [
      "<class 'list'>\n"
     ]
    }
   ],
   "source": [
    "numbers = [1, 2 ,3]\n",
    "print(type(numbers))"
   ]
  },
  {
   "cell_type": "code",
   "execution_count": 5,
   "id": "90fd1e57-139a-4a0c-8c0b-eeefff6feb99",
   "metadata": {},
   "outputs": [
    {
     "name": "stdout",
     "output_type": "stream",
     "text": [
      "[1, 2, 3]\n"
     ]
    }
   ],
   "source": [
    "numbers.reverse() # 정보에 접근하여 함수 실행()\n",
    "print(numbers)"
   ]
  },
  {
   "cell_type": "markdown",
   "id": "8c7af48f-196e-406e-a962-c2385cd1a7d5",
   "metadata": {},
   "source": [
    "- 클래스\n",
    "    - 데이터/변수/속성/attribute\n",
    "        - 클래스 변수\n",
    "        - 인스턴스 변수\n",
    "    - 기능/동작/함수/method\n",
    "        - 클래스 변수에 접근하려면 클래스 메소드 사용\n",
    "        - 인스턴스 변수에 접근하려면 인스턴스 메소드 사용\n",
    "        - 둘 다 필요없는 경우 스태틱 메소드 사용"
   ]
  }
 ],
 "metadata": {
  "kernelspec": {
   "display_name": "Python 3 (ipykernel)",
   "language": "python",
   "name": "python3"
  },
  "language_info": {
   "codemirror_mode": {
    "name": "ipython",
    "version": 3
   },
   "file_extension": ".py",
   "mimetype": "text/x-python",
   "name": "python",
   "nbconvert_exporter": "python",
   "pygments_lexer": "ipython3",
   "version": "3.13.2"
  }
 },
 "nbformat": 4,
 "nbformat_minor": 5
}
