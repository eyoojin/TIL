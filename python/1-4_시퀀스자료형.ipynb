{
 "cells": [
  {
   "cell_type": "markdown",
   "id": "49c35f1d-1068-42e7-a51a-f7127bb2accd",
   "metadata": {},
   "source": [
    "## 4. 시퀀스 자료형"
   ]
  },
  {
   "cell_type": "markdown",
   "id": "0fcc253a-e25b-422a-8e56-e91c34e997c6",
   "metadata": {},
   "source": [
    "- 시퀀스는 데이터의 **순서대로** 나열된 자료 구조\n",
    "    - 순서대로 나열되었다는 것은 정렬된 것과 다름\n",
    "1. List\n",
    "2. Tuple\n",
    "3. Range\n",
    "4. String"
   ]
  }
 ],
 "metadata": {
  "kernelspec": {
   "display_name": "Python 3 (ipykernel)",
   "language": "python",
   "name": "python3"
  },
  "language_info": {
   "codemirror_mode": {
    "name": "ipython",
    "version": 3
   },
   "file_extension": ".py",
   "mimetype": "text/x-python",
   "name": "python",
   "nbconvert_exporter": "python",
   "pygments_lexer": "ipython3",
   "version": "3.13.2"
  }
 },
 "nbformat": 4,
 "nbformat_minor": 5
}
