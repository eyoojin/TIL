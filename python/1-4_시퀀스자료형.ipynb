{
 "cells": [
  {
   "cell_type": "markdown",
   "id": "49c35f1d-1068-42e7-a51a-f7127bb2accd",
   "metadata": {},
   "source": [
    "## 4. 시퀀스 자료형"
   ]
  },
  {
   "cell_type": "markdown",
   "id": "0fcc253a-e25b-422a-8e56-e91c34e997c6",
   "metadata": {},
   "source": [
    "- 시퀀스는 데이터의 **순서대로** 나열된 자료 구조\n",
    "    - 순서대로 나열되었다는 것은 정렬된 것과 다름\n",
    "1. [List] : mutable *수정 가능*\n",
    "2. (Tuple) : immutable *수정 불가능*\n",
    "3. Range() : immutable\n",
    "4. 'String' : immutable"
   ]
  },
  {
   "cell_type": "markdown",
   "id": "2c158625-6691-423b-9bb5-5f2c37b75fb1",
   "metadata": {},
   "source": [
    "### 시퀀스에서 활용 가능한 연산/함수"
   ]
  },
  {
   "cell_type": "code",
   "execution_count": 1,
   "id": "e8ec02d6-880c-4248-b4bc-2f1d9d7483e5",
   "metadata": {},
   "outputs": [],
   "source": [
    "my_list = ['a', 'b', 'c', 'd', 'e']\n",
    "my_tuple = (6, 7, 8, 9, 10)\n",
    "my_range = range(5)\n",
    "my_string = '가나다라마'"
   ]
  },
  {
   "cell_type": "code",
   "execution_count": 2,
   "id": "f1c9d196-1711-4434-8074-8297707899de",
   "metadata": {},
   "outputs": [
    {
     "name": "stdout",
     "output_type": "stream",
     "text": [
      "a\n",
      "6\n",
      "0\n",
      "가\n"
     ]
    }
   ],
   "source": [
    "# indexing\n",
    "print(my_list[0])\n",
    "print(my_tuple[0])\n",
    "print(my_range[0])\n",
    "print(my_string[0])"
   ]
  },
  {
   "cell_type": "code",
   "execution_count": 4,
   "id": "fd034e93-eed5-4626-947c-30718f7be95d",
   "metadata": {},
   "outputs": [
    {
     "name": "stdout",
     "output_type": "stream",
     "text": [
      "['a', 'b']\n",
      "(6, 7)\n",
      "range(0, 2)\n",
      "가나\n"
     ]
    }
   ],
   "source": [
    "# slicing\n",
    "# var_name[index1:index2] -> 시작점과 끝점을 주면 글자를 잘라줌\n",
    "print(my_list[0:2])\n",
    "print(my_tuple[0:2])\n",
    "print(my_range[0:2])\n",
    "print(my_string[0:2])"
   ]
  },
  {
   "cell_type": "code",
   "execution_count": 5,
   "id": "fe3fccbb-83f9-4e3b-a51a-517f280bc6c3",
   "metadata": {},
   "outputs": [
    {
     "name": "stdout",
     "output_type": "stream",
     "text": [
      "['c', 'd', 'e']\n",
      "(8, 9, 10)\n",
      "range(2, 5)\n",
      "다라마\n"
     ]
    }
   ],
   "source": [
    "print(my_list[2:5])\n",
    "print(my_tuple[2:5])\n",
    "print(my_range[2:5])\n",
    "print(my_string[2:5])"
   ]
  },
  {
   "cell_type": "code",
   "execution_count": 6,
   "id": "dfa830bf-a76e-4c01-a1f8-4326a84c0185",
   "metadata": {},
   "outputs": [
    {
     "name": "stdout",
     "output_type": "stream",
     "text": [
      "['d', 'e']\n",
      "['a', 'b', 'c']\n"
     ]
    }
   ],
   "source": [
    "# 인덱스 생략\n",
    "print(my_list[3:]) # n부터 끝까지\n",
    "print(my_list[:3]) # 앞에서부터 n-1까지"
   ]
  },
  {
   "cell_type": "code",
   "execution_count": 7,
   "id": "7957f6ab-83ad-4c57-ab31-812fddebe207",
   "metadata": {},
   "outputs": [
    {
     "name": "stdout",
     "output_type": "stream",
     "text": [
      "e\n",
      "['b', 'c', 'd']\n"
     ]
    }
   ],
   "source": [
    "# 음수 인덱스\n",
    "print(my_list[-1]) # 맨 뒤\n",
    "print(my_list[1:-1]) # 맨 앞, 맨 뒤 자를 때 사용"
   ]
  },
  {
   "cell_type": "code",
   "execution_count": 8,
   "id": "699062f9-7274-4656-9b53-a6030960b5c3",
   "metadata": {},
   "outputs": [
    {
     "name": "stdout",
     "output_type": "stream",
     "text": [
      "['a', 'c', 'e']\n"
     ]
    }
   ],
   "source": [
    "# step\n",
    "print(my_list[::2]) # 2칸씩 건너"
   ]
  },
  {
   "cell_type": "code",
   "execution_count": 9,
   "id": "96fc50ad-9d14-4184-b7f3-ab0a77973b3c",
   "metadata": {},
   "outputs": [
    {
     "name": "stdout",
     "output_type": "stream",
     "text": [
      "False\n",
      "True\n",
      "True\n"
     ]
    }
   ],
   "source": [
    "# in\n",
    "print(1 in my_list)\n",
    "print('a' in my_list)\n",
    "print('z' not in my_list)"
   ]
  },
  {
   "cell_type": "code",
   "execution_count": 10,
   "id": "11f85c6b-e6fe-425f-b7d1-bb6a3f3480b2",
   "metadata": {},
   "outputs": [
    {
     "name": "stdout",
     "output_type": "stream",
     "text": [
      "['a', 'b', 'c', 'd', 'e', 1, 2, 3, 4, 5]\n",
      "(6, 7, 8, 9, 10, 1, 2, 3)\n"
     ]
    }
   ],
   "source": [
    "# concatenation\n",
    "print(my_list + [1, 2, 3, 4, 5])\n",
    "print(my_tuple + (1, 2, 3))\n",
    "# print(my_tuple + [1, 2 ,3]) # error: 리스트는 리스트끼리, 튜플은 튜플끼리"
   ]
  },
  {
   "cell_type": "code",
   "execution_count": 11,
   "id": "97175203-9ce7-4bd4-b414-ef2d29001463",
   "metadata": {},
   "outputs": [
    {
     "name": "stdout",
     "output_type": "stream",
     "text": [
      "['a', 'b', 'c', 'd', 'e', 'a', 'b', 'c', 'd', 'e']\n",
      "aaaaa\n",
      "[0, 0, 0, 0, 0, 0, 0, 0, 0, 0]\n"
     ]
    }
   ],
   "source": [
    "# *\n",
    "print(my_list * 2) # 연결을 2번 함\n",
    "print('a' * 5)\n",
    "print([0] * 10)"
   ]
  },
  {
   "cell_type": "code",
   "execution_count": 12,
   "id": "bf92afdd-bf1e-41c2-9289-b8c53ca13771",
   "metadata": {},
   "outputs": [
    {
     "data": {
      "text/plain": [
       "5"
      ]
     },
     "execution_count": 12,
     "metadata": {},
     "output_type": "execute_result"
    }
   ],
   "source": [
    "# len\n",
    "len(my_list) # length"
   ]
  },
  {
   "cell_type": "code",
   "execution_count": 13,
   "id": "dc6357c8-b134-40ae-947e-cffaa5e1c63b",
   "metadata": {},
   "outputs": [
    {
     "name": "stdout",
     "output_type": "stream",
     "text": [
      "e\n",
      "a\n"
     ]
    }
   ],
   "source": [
    "# max, min\n",
    "print(max(my_list)) # 영어도 숫자로 인식해서 큰 수를 선택\n",
    "print(min(my_list))"
   ]
  }
 ],
 "metadata": {
  "kernelspec": {
   "display_name": "Python 3 (ipykernel)",
   "language": "python",
   "name": "python3"
  },
  "language_info": {
   "codemirror_mode": {
    "name": "ipython",
    "version": 3
   },
   "file_extension": ".py",
   "mimetype": "text/x-python",
   "name": "python",
   "nbconvert_exporter": "python",
   "pygments_lexer": "ipython3",
   "version": "3.13.2"
  }
 },
 "nbformat": 4,
 "nbformat_minor": 5
}
