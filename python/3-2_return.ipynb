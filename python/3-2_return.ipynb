{
 "cells": [
  {
   "cell_type": "markdown",
   "id": "95838cbb-971a-48a5-9175-a3c41584e372",
   "metadata": {},
   "source": [
    "## 함수의 return"
   ]
  },
  {
   "cell_type": "markdown",
   "id": "716ac619-16f5-404e-9a04-d79b60ea48cc",
   "metadata": {},
   "source": [
    "- 함수가 return을 만나면 해당값을 반환하고 함수를 종료\n",
    "- 만약 return이 없는 경우 None *(=null 아무것도 없음)* 을 자동으로 반환\n",
    "- return은 오직 하나의 객체만 반환"
   ]
  },
  {
   "cell_type": "code",
   "execution_count": 1,
   "id": "d0b9a776-0d02-4a01-adf8-ce25d85e8e36",
   "metadata": {},
   "outputs": [],
   "source": [
    "def my_max(a, b):\n",
    "    if a > b:\n",
    "        print(a)\n",
    "    else:\n",
    "        print(b)"
   ]
  },
  {
   "cell_type": "code",
   "execution_count": 2,
   "id": "3651a046-811a-48ce-adf8-d1dae6379b6b",
   "metadata": {},
   "outputs": [
    {
     "name": "stdout",
     "output_type": "stream",
     "text": [
      "200\n"
     ]
    }
   ],
   "source": [
    "my_max(200, 20)"
   ]
  },
  {
   "cell_type": "code",
   "execution_count": 3,
   "id": "ad5b4cd7-377f-4f99-8839-3d3a474bafd1",
   "metadata": {},
   "outputs": [
    {
     "name": "stdout",
     "output_type": "stream",
     "text": [
      "2\n",
      "None\n"
     ]
    }
   ],
   "source": [
    "result = my_max(1, 2)\n",
    "print(result)\n",
    "# result * 2 -> error"
   ]
  },
  {
   "cell_type": "code",
   "execution_count": 4,
   "id": "cf35b40d-1e50-46e3-acbc-b5c97c45f880",
   "metadata": {},
   "outputs": [],
   "source": [
    "def my_max2(num1, num2):\n",
    "    if num1 > num2:\n",
    "        return num1\n",
    "    else:\n",
    "        return num2"
   ]
  },
  {
   "cell_type": "code",
   "execution_count": 5,
   "id": "53dbbe20-4bb9-4a4b-b372-c7c6b2440f5b",
   "metadata": {},
   "outputs": [
    {
     "data": {
      "text/plain": [
       "10"
      ]
     },
     "execution_count": 5,
     "metadata": {},
     "output_type": "execute_result"
    }
   ],
   "source": [
    "my_max2(2, 10)"
   ]
  },
  {
   "cell_type": "code",
   "execution_count": 7,
   "id": "c1524c96-5cc3-4679-a8d9-32e6c86f9bda",
   "metadata": {},
   "outputs": [
    {
     "name": "stdout",
     "output_type": "stream",
     "text": [
      "2\n"
     ]
    },
    {
     "data": {
      "text/plain": [
       "4"
      ]
     },
     "execution_count": 7,
     "metadata": {},
     "output_type": "execute_result"
    }
   ],
   "source": [
    "result = my_max2(1, 2)\n",
    "print(result)\n",
    "result * 2"
   ]
  },
  {
   "cell_type": "code",
   "execution_count": 8,
   "id": "530de74a-d76a-4bcf-a94c-a4646b736ccf",
   "metadata": {},
   "outputs": [
    {
     "data": {
      "text/plain": [
       "(20, 10)"
      ]
     },
     "execution_count": 8,
     "metadata": {},
     "output_type": "execute_result"
    }
   ],
   "source": [
    "def my_def(x):\n",
    "    return x * 2, x\n",
    "\n",
    "my_def(10) # 하나의 데이터만 반환하므로 tuple이 출력된"
   ]
  },
  {
   "cell_type": "code",
   "execution_count": 9,
   "id": "33a9e0fe-d523-4966-b94d-77616b616591",
   "metadata": {},
   "outputs": [
    {
     "name": "stdout",
     "output_type": "stream",
     "text": [
      "0\n",
      "1\n",
      "2\n",
      "3\n"
     ]
    },
    {
     "data": {
      "text/plain": [
       "3"
      ]
     },
     "execution_count": 9,
     "metadata": {},
     "output_type": "execute_result"
    }
   ],
   "source": [
    "def my_for(x):\n",
    "    for i in range(x):\n",
    "        print(i)\n",
    "        if i == 3:\n",
    "            return i\n",
    "\n",
    "my_for(5) # return을 만나서 반복문 종료"
   ]
  },
  {
   "cell_type": "code",
   "execution_count": 10,
   "id": "565179de-caa3-4ed5-a50a-29cb7d803f50",
   "metadata": {},
   "outputs": [],
   "source": [
    "# 리스트의 합을 비교하여 큰 것 출력\n",
    "def my_list_max(list1, list2):\n",
    "    result1 = 0\n",
    "    result2 = 0\n",
    "    for i in range(len(list1)):\n",
    "        result1 += list1[i]\n",
    "    for j in range(len(list2)):\n",
    "        result2 += list2[j]\n",
    "    if result1 > result2:\n",
    "        return list1\n",
    "    else:\n",
    "        return list2"
   ]
  },
  {
   "cell_type": "code",
   "execution_count": 11,
   "id": "73a62052-37a7-404c-ae1e-c38a4f0fb7e1",
   "metadata": {},
   "outputs": [],
   "source": [
    "def my_list_max(list1, list2):\n",
    "    if sum(list1) > sum(list2):\n",
    "        return list1\n",
    "    else:\n",
    "        return list2"
   ]
  }
 ],
 "metadata": {
  "kernelspec": {
   "display_name": "Python 3 (ipykernel)",
   "language": "python",
   "name": "python3"
  },
  "language_info": {
   "codemirror_mode": {
    "name": "ipython",
    "version": 3
   },
   "file_extension": ".py",
   "mimetype": "text/x-python",
   "name": "python",
   "nbconvert_exporter": "python",
   "pygments_lexer": "ipython3",
   "version": "3.13.2"
  }
 },
 "nbformat": 4,
 "nbformat_minor": 5
}
