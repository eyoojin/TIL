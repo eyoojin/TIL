{
 "cells": [
  {
   "cell_type": "markdown",
   "id": "857e03e0-5dec-4c89-ab95-8812c966eada",
   "metadata": {},
   "source": [
    "## 암시적 형변환"
   ]
  },
  {
   "cell_type": "markdown",
   "id": "96228244-78ca-4310-8a59-3c76302073d4",
   "metadata": {},
   "source": [
    "- *자동으로 바뀜*\n",
    "- True, False를 숫자로\n",
    "- 1, 0을 True, False로"
   ]
  },
  {
   "cell_type": "code",
   "execution_count": 1,
   "id": "2063c934-3a1c-42c0-9911-c6feb74c5199",
   "metadata": {},
   "outputs": [],
   "source": [
    "a = True # 1\n",
    "b = False # 0\n",
    "c = 2"
   ]
  },
  {
   "cell_type": "code",
   "execution_count": 2,
   "id": "0267ac53-6b04-4983-a79c-5c081f82ca80",
   "metadata": {},
   "outputs": [
    {
     "name": "stdout",
     "output_type": "stream",
     "text": [
      "1\n",
      "3\n"
     ]
    }
   ],
   "source": [
    "print(a + b)\n",
    "print(a + c)"
   ]
  },
  {
   "cell_type": "markdown",
   "id": "f90b3b28-76f7-4034-a6c7-485e2147578f",
   "metadata": {},
   "source": [
    "### 명시적 형변환"
   ]
  },
  {
   "cell_type": "markdown",
   "id": "6a4fd98b-981c-4577-8ca2-cf609b0e5e5d",
   "metadata": {},
   "source": [
    "- int()\n",
    "- float()\n",
    "- str()\n",
    "- bool()"
   ]
  },
  {
   "cell_type": "code",
   "execution_count": 3,
   "id": "621b811d-20c2-4fb8-b60d-dd95e38b2360",
   "metadata": {},
   "outputs": [],
   "source": [
    "a = 1\n",
    "b = '반'"
   ]
  },
  {
   "cell_type": "code",
   "execution_count": 4,
   "id": "9554fe14-d0ac-4b21-a753-aadf68e73299",
   "metadata": {},
   "outputs": [],
   "source": [
    "# print(a + b) # error"
   ]
  },
  {
   "cell_type": "code",
   "execution_count": 5,
   "id": "9f528265-682a-4cc7-9e5d-fa08b8ce0ea9",
   "metadata": {},
   "outputs": [
    {
     "name": "stdout",
     "output_type": "stream",
     "text": [
      "1반\n"
     ]
    }
   ],
   "source": [
    "print(str(a) + b) # 대부분의 경우 str로 변환 가능"
   ]
  },
  {
   "cell_type": "code",
   "execution_count": 6,
   "id": "4b57969e-aa6c-4e62-8d06-fcd88a22f1a9",
   "metadata": {},
   "outputs": [
    {
     "name": "stdout",
     "output_type": "stream",
     "text": [
      "3\n",
      "<class 'str'>\n"
     ]
    }
   ],
   "source": [
    "a = '3'\n",
    "print(a)\n",
    "print(type(a))"
   ]
  },
  {
   "cell_type": "code",
   "execution_count": 7,
   "id": "63fe7b93-f578-4a10-b42f-28b20a869eff",
   "metadata": {},
   "outputs": [
    {
     "name": "stdout",
     "output_type": "stream",
     "text": [
      "3\n",
      "<class 'int'>\n"
     ]
    }
   ],
   "source": [
    "b = int(a)\n",
    "print(b)\n",
    "print(type(b))"
   ]
  },
  {
   "cell_type": "code",
   "execution_count": 8,
   "id": "670e6157-bdb2-4816-887a-26337da038ff",
   "metadata": {},
   "outputs": [],
   "source": [
    "c = 'apple'\n",
    "# d = int(c) # error: 숫자로 바꿀 수 있는 형태여야 가능"
   ]
  },
  {
   "cell_type": "code",
   "execution_count": 10,
   "id": "a9a2166e-b548-492d-bad4-2080b55f5008",
   "metadata": {},
   "outputs": [
    {
     "name": "stdout",
     "output_type": "stream",
     "text": [
      "True\n",
      "False\n",
      "True\n"
     ]
    }
   ],
   "source": [
    "a = 1\n",
    "b = 0 # 0만 False, 0이 아닌 나머지 데이터는 True\n",
    "c = -123\n",
    "print(bool(a))\n",
    "print(bool(b))\n",
    "print(bool(c))"
   ]
  },
  {
   "cell_type": "code",
   "execution_count": 11,
   "id": "5e136cdc-b645-4b93-8776-f87f166ca38a",
   "metadata": {},
   "outputs": [
    {
     "name": "stdout",
     "output_type": "stream",
     "text": [
      "False\n",
      "True\n"
     ]
    }
   ],
   "source": [
    "print(bool([])) # 데이터가 하나도 없으면 False\n",
    "print(bool([3])) # 데이터가 하나라도 있으면 True"
   ]
  }
 ],
 "metadata": {
  "kernelspec": {
   "display_name": "Python 3 (ipykernel)",
   "language": "python",
   "name": "python3"
  },
  "language_info": {
   "codemirror_mode": {
    "name": "ipython",
    "version": 3
   },
   "file_extension": ".py",
   "mimetype": "text/x-python",
   "name": "python",
   "nbconvert_exporter": "python",
   "pygments_lexer": "ipython3",
   "version": "3.13.2"
  }
 },
 "nbformat": 4,
 "nbformat_minor": 5
}
