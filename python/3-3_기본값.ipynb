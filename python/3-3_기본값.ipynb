{
 "cells": [
  {
   "cell_type": "markdown",
   "id": "ec86dbd4-d668-4acf-a0b6-dd49886d896c",
   "metadata": {},
   "source": [
    "## 기본값"
   ]
  },
  {
   "cell_type": "markdown",
   "id": "21e31c4c-d665-40d1-9c6d-2f217050fa53",
   "metadata": {},
   "source": [
    "```python\n",
    "def func_name(p1=v1):\n",
    "    code1\n",
    "    return value\n",
    "```"
   ]
  },
  {
   "cell_type": "code",
   "execution_count": 1,
   "id": "2aeac43b-108b-4750-846f-c16f19ab2d88",
   "metadata": {},
   "outputs": [],
   "source": [
    "def greeting(name):\n",
    "    return f'{name}님 반갑습니다.'"
   ]
  },
  {
   "cell_type": "code",
   "execution_count": 2,
   "id": "f414a5ba-b151-4aaa-a437-26185fab9b57",
   "metadata": {},
   "outputs": [],
   "source": [
    "# greeting() -> error: 위치 인자 빠짐"
   ]
  },
  {
   "cell_type": "code",
   "execution_count": 3,
   "id": "5e8cd7aa-500d-44e3-bb5b-4a529a288995",
   "metadata": {},
   "outputs": [],
   "source": [
    "def greeting(name='익명'):\n",
    "    return f'{name}님 반갑습니다.'"
   ]
  },
  {
   "cell_type": "code",
   "execution_count": 4,
   "id": "c78effe2-0d02-43c1-8dac-6adb94ddb5bd",
   "metadata": {},
   "outputs": [
    {
     "data": {
      "text/plain": [
       "'익명님 반갑습니다.'"
      ]
     },
     "execution_count": 4,
     "metadata": {},
     "output_type": "execute_result"
    }
   ],
   "source": [
    "greeting() # 기본값 설정 시 값을 넣지 않아도 됨"
   ]
  },
  {
   "cell_type": "code",
   "execution_count": 5,
   "id": "d8b466ea-3b57-4812-9d5c-220f4e88daa8",
   "metadata": {},
   "outputs": [],
   "source": [
    "# def print(*object, sep=' ', end='\\n')"
   ]
  },
  {
   "cell_type": "code",
   "execution_count": 6,
   "id": "427abdd5-5590-4c28-a497-f76392de558a",
   "metadata": {},
   "outputs": [],
   "source": [
    "# def greeting(name='익명', age) -> error: 기본값 인자는 위치 인자보다 뒤에 나와야\n",
    "\n",
    "def greeting(age, name='익명'):\n",
    "    return f'{name}님의 나이는 {age}살입니다.'"
   ]
  },
  {
   "cell_type": "code",
   "execution_count": 7,
   "id": "60cff2f8-ef3c-4684-9f19-681381cd92dd",
   "metadata": {},
   "outputs": [
    {
     "data": {
      "text/plain": [
       "'익명님의 나이는 10살입니다.'"
      ]
     },
     "execution_count": 7,
     "metadata": {},
     "output_type": "execute_result"
    }
   ],
   "source": [
    "greeting(10)"
   ]
  }
 ],
 "metadata": {
  "kernelspec": {
   "display_name": "Python 3 (ipykernel)",
   "language": "python",
   "name": "python3"
  },
  "language_info": {
   "codemirror_mode": {
    "name": "ipython",
    "version": 3
   },
   "file_extension": ".py",
   "mimetype": "text/x-python",
   "name": "python",
   "nbconvert_exporter": "python",
   "pygments_lexer": "ipython3",
   "version": "3.13.2"
  }
 },
 "nbformat": 4,
 "nbformat_minor": 5
}
