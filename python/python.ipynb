{
 "cells": [
  {
   "cell_type": "markdown",
   "id": "dd2a1b0c-cc84-4912-b658-464cd2aa0be0",
   "metadata": {},
   "source": [
    "## 1. 조건문 (if문)"
   ]
  },
  {
   "cell_type": "markdown",
   "id": "f0544f67-8eae-4972-87a2-0d37bc53d1c3",
   "metadata": {},
   "source": [
    "1. if문은 반드시 참/거짓을 판단할 수 있는 `조건식`과 함께 사용\n",
    "    - `if <조건식>:`\n",
    "2. `<조건식>`이 참인 경우: `:` 이후의 문장을 실행\n",
    "3. `<조건식>`이 거짓인 경우: `else` 이후의 문장을 실행\n",
    "```\n",
    "if <조건식>:\n",
    "    if의 조건식이 참인 경우 실행하는 코드\n",
    "else:\n",
    "    if의 조건식이 거짓인 경우 실행하는 코드\n",
    "```\n",
    "- *else 뒤에는 조건식이 없어도 됨 위에서 이미 판별했기 떄문*"
   ]
  },
  {
   "cell_type": "code",
   "execution_count": null,
   "id": "e5ac4a92-af11-447a-9f49-cbdede0bd32b",
   "metadata": {},
   "outputs": [],
   "source": [
    "my_string = input() # input: 사용자가 마음대로 입력하고 싶을 때 사용\n",
    "print(my_string)\n",
    "\n",
    "if my_string == '12/25':\n",
    "    print('Merry Christmas!')\n",
    "else:\n",
    "    print('No')"
   ]
  },
  {
   "cell_type": "code",
   "execution_count": null,
   "id": "dd28c7ec-e5eb-4bc3-8f5d-767a98fe9c62",
   "metadata": {},
   "outputs": [],
   "source": [
    "num = input()\n",
    "print(num)\n",
    "\n",
    "if num % 2 == 1: # error: num을 글자로 인식\n",
    "    print('odd')\n",
    "else:\n",
    "    print('even')"
   ]
  },
  {
   "cell_type": "code",
   "execution_count": null,
   "id": "ecb897ee-fcba-44df-9bc7-41d0c6224106",
   "metadata": {},
   "outputs": [],
   "source": [
    "num = input('숫자를 입력해주세요')\n",
    "print(num)\n",
    "\n",
    "if int(num) % 2 == 1: # 형변환\n",
    "    print('odd')\n",
    "else:\n",
    "    print('even')"
   ]
  },
  {
   "cell_type": "code",
   "execution_count": null,
   "id": "3c85ced5-4a67-477d-bdc2-d0ccf2cd696b",
   "metadata": {},
   "outputs": [],
   "source": [
    "num = int(input())\n",
    "print(num)\n",
    "\n",
    "if num % 2: # if문 안쪽은 True(1)여야 함\n",
    "    print('odd')\n",
    "else:\n",
    "    print('even')"
   ]
  },
  {
   "cell_type": "markdown",
   "id": "b3599b3c-7fd9-4820-bf27-bfdb6dff2280",
   "metadata": {},
   "source": [
    "### 1.1. elif"
   ]
  },
  {
   "cell_type": "markdown",
   "id": "e475ad6b-7085-4550-af7c-04d20006803e",
   "metadata": {},
   "source": [
    "- *else if*\n",
    "```\n",
    "if <조건식>:\n",
    "    if문이 참인 경우\n",
    "elif <조건식>:\n",
    "    elif문이 참인 경우\n",
    "else:\n",
    "    위의 모든 조건이 거짓인 경우\n",
    "```"
   ]
  },
  {
   "cell_type": "code",
   "execution_count": null,
   "id": "41533ec7-9dc5-469d-833f-27b8cdaa9c6b",
   "metadata": {},
   "outputs": [],
   "source": [
    "score = int(input())\n",
    "print(score)\n",
    "\n",
    "if score >= 90:\n",
    "    print('A')\n",
    "    if score >= 95: # if문 중첩\n",
    "        print('good!')\n",
    "elif score >= 80:\n",
    "    print('B')\n",
    "elif score >= 70:\n",
    "    print('C')\n",
    "else:\n",
    "    print('F')"
   ]
  },
  {
   "cell_type": "markdown",
   "id": "b60c1632-98f3-40e7-96a7-3ed4201a5ef1",
   "metadata": {},
   "source": [
    "### 1.2. 조건표현식"
   ]
  },
  {
   "cell_type": "markdown",
   "id": "1e12cf36-8b28-4937-aea0-3c9aafda8a56",
   "metadata": {},
   "source": [
    "- `true_value if <조건식> else false value`"
   ]
  },
  {
   "cell_type": "code",
   "execution_count": null,
   "id": "921d2d02-b24f-4098-ab74-e541f19d2a9a",
   "metadata": {},
   "outputs": [],
   "source": [
    "a = 0\n",
    "\n",
    "if False:\n",
    "    a = 100\n",
    "else:\n",
    "    a = -100\n",
    "    \n",
    "print(a)"
   ]
  },
  {
   "cell_type": "code",
   "execution_count": null,
   "id": "eb597fc9-50b8-47ce-a969-ef35e9b60d09",
   "metadata": {},
   "outputs": [],
   "source": [
    "a = 100 if False else -100\n",
    "print(a) # 참/거짓에 따라 특정한 값을 표현하고 싶을 때 사용"
   ]
  },
  {
   "cell_type": "code",
   "execution_count": null,
   "id": "e7036857-fe61-49e3-89c6-c38f8068da5a",
   "metadata": {},
   "outputs": [],
   "source": [
    "num = int(input())\n",
    "print(num)\n",
    "\n",
    "if num >= 0:\n",
    "    result = num\n",
    "else:\n",
    "    result = 0\n",
    "print(result)"
   ]
  },
  {
   "cell_type": "code",
   "execution_count": null,
   "id": "ba607a4a-c435-4129-bae5-dc55ec8f870b",
   "metadata": {},
   "outputs": [],
   "source": [
    "num = int(input())\n",
    "print(num)\n",
    "\n",
    "result = num if num >= 0 else 0\n",
    "print(result)"
   ]
  },
  {
   "cell_type": "markdown",
   "id": "e640cfc2-602c-4441-be76-42d7d0b051e4",
   "metadata": {},
   "source": [
    "## 2. 반복문"
   ]
  },
  {
   "cell_type": "markdown",
   "id": "bba8fda0-c75b-4096-8306-3c069cb9a387",
   "metadata": {},
   "source": [
    "### 2.1. while문"
   ]
  },
  {
   "cell_type": "markdown",
   "id": "a2f3d0c7-90ac-4520-bbbd-96c971b9aa28",
   "metadata": {},
   "source": [
    "```\n",
    "while <조건식>:\n",
    "    실행할 코드\n",
    "```\n",
    "- *조건식이 참인 동안 코드를 반복하다가 조건식이 거짓이 되면 멈춤*"
   ]
  },
  {
   "cell_type": "code",
   "execution_count": null,
   "id": "c2817e2b-47ff-47db-b7ae-1beed2612da0",
   "metadata": {},
   "outputs": [],
   "source": [
    "a = 0\n",
    "\n",
    "while a < 5: # 언제 끝나는지 조건을 만들어주는 것이 중요\n",
    "    print(a) # 지정하지 않으면 무한루프에 빠짐\n",
    "    a = a + 1"
   ]
  },
  {
   "cell_type": "markdown",
   "id": "f9ffc45b-5074-43d1-bcbb-41461898380e",
   "metadata": {},
   "source": [
    "### 2.2. for문"
   ]
  },
  {
   "cell_type": "markdown",
   "id": "d361cc01-c14c-4998-b509-1794e377370f",
   "metadata": {},
   "source": [
    "- 정해진 범위 내의 반복\n",
    "```\n",
    "for var_name in sequence:\n",
    "    code\n",
    "```"
   ]
  },
  {
   "cell_type": "code",
   "execution_count": null,
   "id": "6b2488f4-4f8e-40a4-bbeb-b51c77d7e065",
   "metadata": {},
   "outputs": [],
   "source": [
    "numbers = [1, 2, 3, 4, 5]\n",
    "\n",
    "for number in numbers:\n",
    "    print(number)"
   ]
  },
  {
   "cell_type": "code",
   "execution_count": null,
   "id": "c2f15595-c525-47b8-8388-baee47a725bd",
   "metadata": {},
   "outputs": [],
   "source": [
    "words = 'apple'\n",
    "\n",
    "for word in words:\n",
    "    print(word)"
   ]
  },
  {
   "cell_type": "code",
   "execution_count": null,
   "id": "c05868e8-e6e7-407c-863c-ec2f89b4b067",
   "metadata": {},
   "outputs": [],
   "source": [
    "for i in range(5):\n",
    "    print(i)"
   ]
  },
  {
   "cell_type": "code",
   "execution_count": null,
   "id": "2d604524-3e12-42e7-85aa-dc6e21bd0d37",
   "metadata": {},
   "outputs": [],
   "source": [
    "for i in range(1, 51):\n",
    "    if i % 5 == 0: # for문에 if 중첩\n",
    "        print(i)"
   ]
  },
  {
   "cell_type": "code",
   "execution_count": null,
   "id": "2a2ca9e2-a832-4ebd-b291-2675eae802bd",
   "metadata": {},
   "outputs": [],
   "source": [
    "locations = ['서울', '대전', '부산']\n",
    "\n",
    "for location in enumerate(locations): # 낱낱이 세다\n",
    "    print(location)"
   ]
  },
  {
   "cell_type": "code",
   "execution_count": null,
   "id": "8dfd3d9b-260b-4b0e-b663-5e8922d2aed8",
   "metadata": {},
   "outputs": [],
   "source": [
    "for (index, location) in enumerate(locations):\n",
    "    print(index)\n",
    "    print(location)"
   ]
  },
  {
   "cell_type": "markdown",
   "id": "c3e1ac31-7e8a-44a1-af58-26a6eaddb055",
   "metadata": {},
   "source": [
    "### 2.3. dictionary 반복"
   ]
  },
  {
   "cell_type": "markdown",
   "id": "0315d428-7ad2-407e-8f5e-4f28f33bf6ab",
   "metadata": {},
   "source": [
    "1. `for key in dict:`\n",
    "2. `for key in dict.keys():`\n",
    "3. `for value in dict.values():`\n",
    "4. `for kwy, value in dict.items():`"
   ]
  },
  {
   "cell_type": "code",
   "execution_count": null,
   "id": "a76bda0f-54f9-4a25-bbb6-5b81f85b2e9c",
   "metadata": {},
   "outputs": [],
   "source": [
    "info = {\n",
    "    'name': 'gildong',\n",
    "    'location': 'seoul',\n",
    "    'phone': '010-1234-1234',\n",
    "    'age': 20,\n",
    "}"
   ]
  },
  {
   "cell_type": "code",
   "execution_count": null,
   "id": "a188ee76-5ccf-4ec1-ac96-7eabe7cce951",
   "metadata": {},
   "outputs": [],
   "source": [
    "for k in info:\n",
    "    print(k)"
   ]
  },
  {
   "cell_type": "code",
   "execution_count": null,
   "id": "09fcc110-7bf5-4978-8b43-4ec56ba923e4",
   "metadata": {},
   "outputs": [],
   "source": [
    "for k in info.keys():\n",
    "    print(k)"
   ]
  },
  {
   "cell_type": "code",
   "execution_count": null,
   "id": "82fceb33-aa31-4eae-a25c-40236807aaa5",
   "metadata": {},
   "outputs": [],
   "source": [
    "for k in info.keys():\n",
    "    print(k)\n",
    "    print(info[k])"
   ]
  },
  {
   "cell_type": "code",
   "execution_count": null,
   "id": "ea459594-9d2a-4834-b56a-d31e61066906",
   "metadata": {},
   "outputs": [],
   "source": [
    "for v in info.values():\n",
    "    print(v)"
   ]
  },
  {
   "cell_type": "code",
   "execution_count": null,
   "id": "2e7535cd-15a7-410c-8181-50538ba0da13",
   "metadata": {},
   "outputs": [],
   "source": [
    "for k, v in info.items():\n",
    "    print(k, v)"
   ]
  },
  {
   "cell_type": "code",
   "execution_count": null,
   "id": "e41fff6d-66e3-450b-9eec-443a67273b8f",
   "metadata": {},
   "outputs": [],
   "source": [
    "blood = {\n",
    "    'A': 15,\n",
    "    'B': 8,\n",
    "    'O': 5,\n",
    "    'AB': 4,\n",
    "}"
   ]
  },
  {
   "cell_type": "code",
   "execution_count": null,
   "id": "094ff508-1983-4eae-8db3-da0f4897a03d",
   "metadata": {},
   "outputs": [],
   "source": [
    "print('혈액형의 종류')\n",
    "\n",
    "for k in blood:\n",
    "    print(k)"
   ]
  },
  {
   "cell_type": "code",
   "execution_count": null,
   "id": "c1ab5fcf-03a0-4426-82ec-46ef26ca9a48",
   "metadata": {},
   "outputs": [],
   "source": [
    "# 총 학생 수\n",
    "result = 0\n",
    "for v in blood.values():\n",
    "    result += v\n",
    "print(result)"
   ]
  },
  {
   "cell_type": "code",
   "execution_count": null,
   "id": "0416fad8-d75f-4891-9035-d749577c40f4",
   "metadata": {},
   "outputs": [],
   "source": [
    "for k, v in blood.items():\n",
    "    print(f'{k}형은 {v}명입니다.')"
   ]
  },
  {
   "cell_type": "markdown",
   "id": "9a0776c5-7b8e-4c00-97ed-bb7b75f6991a",
   "metadata": {},
   "source": [
    "### 2.4. break"
   ]
  },
  {
   "cell_type": "markdown",
   "id": "be25db8f-85e1-4691-b0fe-b8566c1c112d",
   "metadata": {},
   "source": [
    "- 반복문을 종료시키는 키워드"
   ]
  },
  {
   "cell_type": "code",
   "execution_count": null,
   "id": "ec633336-264e-4a69-953f-bcbda7b3104d",
   "metadata": {},
   "outputs": [],
   "source": [
    "for i in range(100):\n",
    "    print('여기는 for문', i)\n",
    "    if i > 5:\n",
    "        print('여기는 break')\n",
    "        break"
   ]
  },
  {
   "cell_type": "code",
   "execution_count": null,
   "id": "bc06bb2b-1616-4d71-8903-111a8481ac4f",
   "metadata": {},
   "outputs": [],
   "source": [
    "while True:\n",
    "    rice = input() # 반복할 때마다 input을 받아야하기 때문에 반복문 안에 씀\n",
    "    print(rice)\n",
    "    if rice == '쌀':\n",
    "        print('잡았다!')\n",
    "        break"
   ]
  },
  {
   "cell_type": "markdown",
   "id": "fd40da7a-a692-411e-a413-14b39320f5f2",
   "metadata": {},
   "source": [
    "### 2.5. continue"
   ]
  },
  {
   "cell_type": "markdown",
   "id": "336239d5-bbbd-4409-bc45-7e4eda229fcb",
   "metadata": {},
   "source": [
    "- `continue` 이후의 코드를 실행하지 않고 다음 반복을 진행"
   ]
  },
  {
   "cell_type": "code",
   "execution_count": null,
   "id": "9c8444a7-4555-41fb-9569-51980f71522b",
   "metadata": {},
   "outputs": [],
   "source": [
    "for i in range(20):\n",
    "    if i % 2 == 1:\n",
    "        continue\n",
    "    print(i)"
   ]
  },
  {
   "cell_type": "code",
   "execution_count": null,
   "id": "d91984f2-ae61-44d7-ad64-f06ed1e93fb1",
   "metadata": {},
   "outputs": [],
   "source": [
    "for i in range(20):\n",
    "    if i % 2 == 1:\n",
    "        print(i)"
   ]
  },
  {
   "cell_type": "code",
   "execution_count": null,
   "id": "02b5ae05-ae4f-459c-83ee-740263f3765f",
   "metadata": {},
   "outputs": [],
   "source": [
    "ages = [10, 20, 30, 25, 23, 43, 9, 20]\n",
    "\n",
    "for age in ages:\n",
    "    if age < 20:\n",
    "        continue\n",
    "    print(f'{age}살은 성인입니다.')"
   ]
  },
  {
   "cell_type": "code",
   "execution_count": null,
   "id": "e2c333be-ba05-43a0-b878-f743890eec96",
   "metadata": {},
   "outputs": [],
   "source": [
    "for age in ages:\n",
    "    if age >= 20:\n",
    "        print(f'{age}살은 성인입니다.')"
   ]
  },
  {
   "cell_type": "markdown",
   "id": "40b15a7c-e2fc-4fd6-ba19-dda864f01159",
   "metadata": {},
   "source": [
    "### 2.6. else"
   ]
  },
  {
   "cell_type": "markdown",
   "id": "a921bd02-12be-4b28-916f-edf292c67fa3",
   "metadata": {},
   "source": [
    "- else문은 끝까지 반복된 경우 실행 = break를 만나지 않은 경우 실행"
   ]
  },
  {
   "cell_type": "code",
   "execution_count": null,
   "id": "9c2e9cd3-cd9b-4cea-a151-b703ef21038e",
   "metadata": {},
   "outputs": [],
   "source": [
    "for i in range(10):\n",
    "    if i > 100:\n",
    "        break\n",
    "    print(i)\n",
    "else:\n",
    "    print('all clear')"
   ]
  },
  {
   "cell_type": "markdown",
   "id": "df4c1cf4-7576-43b1-beeb-ae6e36c9475f",
   "metadata": {},
   "source": [
    "# 03. function (함수)"
   ]
  },
  {
   "cell_type": "markdown",
   "id": "8774589c-31c1-4ddf-a458-d6c7d61f403e",
   "metadata": {},
   "source": [
    "- 선언\n",
    "```python\n",
    "def func_name(parameter1, parameter2, ...):\n",
    "    code1\n",
    "    code2\n",
    "    ...\n",
    "    return value\n",
    "```\n",
    "- 호출 `func_name(parameter1, parameter2, ...)`\n",
    "    - *소괄호가 열림 = 함수가 호출됨*"
   ]
  },
  {
   "cell_type": "code",
   "execution_count": 1,
   "id": "e5247d0d-e9c0-4fb5-94ab-8d2680c487a9",
   "metadata": {},
   "outputs": [],
   "source": [
    "def rectangle(height, width):\n",
    "    area = height * width\n",
    "    perimeter = (height + width) * 2\n",
    "\n",
    "    print(f'사각형의 면적은 {area}이고 둘레는 {perimeter}입니다.')"
   ]
  },
  {
   "cell_type": "code",
   "execution_count": 2,
   "id": "a4e21021-ad65-4d4a-b208-483e69a93847",
   "metadata": {},
   "outputs": [
    {
     "name": "stdout",
     "output_type": "stream",
     "text": [
      "사각형의 면적은 1500이고 둘레는 160입니다.\n",
      "사각형의 면적은 2000이고 둘레는 240입니다.\n"
     ]
    }
   ],
   "source": [
    "rectangle(50, 30)\n",
    "rectangle(20, 100)"
   ]
  },
  {
   "cell_type": "code",
   "execution_count": 3,
   "id": "a2d653ad-bfee-4622-8a2f-0674b3392b5e",
   "metadata": {},
   "outputs": [
    {
     "data": {
      "text/plain": [
       "['ArithmeticError',\n",
       " 'AssertionError',\n",
       " 'AttributeError',\n",
       " 'BaseException',\n",
       " 'BaseExceptionGroup',\n",
       " 'BlockingIOError',\n",
       " 'BrokenPipeError',\n",
       " 'BufferError',\n",
       " 'BytesWarning',\n",
       " 'ChildProcessError',\n",
       " 'ConnectionAbortedError',\n",
       " 'ConnectionError',\n",
       " 'ConnectionRefusedError',\n",
       " 'ConnectionResetError',\n",
       " 'DeprecationWarning',\n",
       " 'EOFError',\n",
       " 'Ellipsis',\n",
       " 'EncodingWarning',\n",
       " 'EnvironmentError',\n",
       " 'Exception',\n",
       " 'ExceptionGroup',\n",
       " 'False',\n",
       " 'FileExistsError',\n",
       " 'FileNotFoundError',\n",
       " 'FloatingPointError',\n",
       " 'FutureWarning',\n",
       " 'GeneratorExit',\n",
       " 'IOError',\n",
       " 'ImportError',\n",
       " 'ImportWarning',\n",
       " 'IndentationError',\n",
       " 'IndexError',\n",
       " 'InterruptedError',\n",
       " 'IsADirectoryError',\n",
       " 'KeyError',\n",
       " 'KeyboardInterrupt',\n",
       " 'LookupError',\n",
       " 'MemoryError',\n",
       " 'ModuleNotFoundError',\n",
       " 'NameError',\n",
       " 'None',\n",
       " 'NotADirectoryError',\n",
       " 'NotImplemented',\n",
       " 'NotImplementedError',\n",
       " 'OSError',\n",
       " 'OverflowError',\n",
       " 'PendingDeprecationWarning',\n",
       " 'PermissionError',\n",
       " 'ProcessLookupError',\n",
       " 'PythonFinalizationError',\n",
       " 'RecursionError',\n",
       " 'ReferenceError',\n",
       " 'ResourceWarning',\n",
       " 'RuntimeError',\n",
       " 'RuntimeWarning',\n",
       " 'StopAsyncIteration',\n",
       " 'StopIteration',\n",
       " 'SyntaxError',\n",
       " 'SyntaxWarning',\n",
       " 'SystemError',\n",
       " 'SystemExit',\n",
       " 'TabError',\n",
       " 'TimeoutError',\n",
       " 'True',\n",
       " 'TypeError',\n",
       " 'UnboundLocalError',\n",
       " 'UnicodeDecodeError',\n",
       " 'UnicodeEncodeError',\n",
       " 'UnicodeError',\n",
       " 'UnicodeTranslateError',\n",
       " 'UnicodeWarning',\n",
       " 'UserWarning',\n",
       " 'ValueError',\n",
       " 'Warning',\n",
       " 'WindowsError',\n",
       " 'ZeroDivisionError',\n",
       " '_IncompleteInputError',\n",
       " '__IPYTHON__',\n",
       " '__build_class__',\n",
       " '__debug__',\n",
       " '__doc__',\n",
       " '__import__',\n",
       " '__loader__',\n",
       " '__name__',\n",
       " '__package__',\n",
       " '__spec__',\n",
       " 'abs',\n",
       " 'aiter',\n",
       " 'all',\n",
       " 'anext',\n",
       " 'any',\n",
       " 'ascii',\n",
       " 'bin',\n",
       " 'bool',\n",
       " 'breakpoint',\n",
       " 'bytearray',\n",
       " 'bytes',\n",
       " 'callable',\n",
       " 'chr',\n",
       " 'classmethod',\n",
       " 'compile',\n",
       " 'complex',\n",
       " 'copyright',\n",
       " 'credits',\n",
       " 'delattr',\n",
       " 'dict',\n",
       " 'dir',\n",
       " 'display',\n",
       " 'divmod',\n",
       " 'enumerate',\n",
       " 'eval',\n",
       " 'exec',\n",
       " 'execfile',\n",
       " 'filter',\n",
       " 'float',\n",
       " 'format',\n",
       " 'frozenset',\n",
       " 'get_ipython',\n",
       " 'getattr',\n",
       " 'globals',\n",
       " 'hasattr',\n",
       " 'hash',\n",
       " 'help',\n",
       " 'hex',\n",
       " 'id',\n",
       " 'input',\n",
       " 'int',\n",
       " 'isinstance',\n",
       " 'issubclass',\n",
       " 'iter',\n",
       " 'len',\n",
       " 'license',\n",
       " 'list',\n",
       " 'locals',\n",
       " 'map',\n",
       " 'max',\n",
       " 'memoryview',\n",
       " 'min',\n",
       " 'next',\n",
       " 'object',\n",
       " 'oct',\n",
       " 'open',\n",
       " 'ord',\n",
       " 'pow',\n",
       " 'print',\n",
       " 'property',\n",
       " 'range',\n",
       " 'repr',\n",
       " 'reversed',\n",
       " 'round',\n",
       " 'runfile',\n",
       " 'set',\n",
       " 'setattr',\n",
       " 'slice',\n",
       " 'sorted',\n",
       " 'staticmethod',\n",
       " 'str',\n",
       " 'sum',\n",
       " 'super',\n",
       " 'tuple',\n",
       " 'type',\n",
       " 'vars',\n",
       " 'zip']"
      ]
     },
     "execution_count": 3,
     "metadata": {},
     "output_type": "execute_result"
    }
   ],
   "source": [
    "dir(__builtins__) # python이 이미 가지고 있는 함수"
   ]
  },
  {
   "cell_type": "code",
   "execution_count": 4,
   "id": "dfcd7e3b-3244-448b-a7db-8d207ff39ed3",
   "metadata": {},
   "outputs": [
    {
     "data": {
      "text/plain": [
       "100"
      ]
     },
     "execution_count": 4,
     "metadata": {},
     "output_type": "execute_result"
    }
   ],
   "source": [
    "max(100, 2)"
   ]
  },
  {
   "cell_type": "code",
   "execution_count": 5,
   "id": "08366994-b276-42ea-b295-0e5b67d02fda",
   "metadata": {},
   "outputs": [],
   "source": [
    "def my_max(a, b):\n",
    "    if a > b:\n",
    "        print(a)\n",
    "    else:\n",
    "        print(b)"
   ]
  },
  {
   "cell_type": "code",
   "execution_count": 7,
   "id": "2f8097b0-57b2-41cc-936d-b154ab87f23d",
   "metadata": {},
   "outputs": [
    {
     "name": "stdout",
     "output_type": "stream",
     "text": [
      "200\n"
     ]
    }
   ],
   "source": [
    "my_max(200, 20)"
   ]
  },
  {
   "cell_type": "markdown",
   "id": "42d09025-4e56-4bfd-bd01-f45e7e4d19bc",
   "metadata": {},
   "source": [
    "- 함수가 return을 만나면 해당값을 반환하고 함수를 종료\n",
    "- 만약 return이 없는 경우 None *(= null 아무것도 없음)* 을 자동으로 반환\n",
    "- return은 오직 하나의 객체만 반환"
   ]
  },
  {
   "cell_type": "code",
   "execution_count": 8,
   "id": "8bd3ee60-a9a6-405e-b8ca-bbf494e16fb6",
   "metadata": {},
   "outputs": [
    {
     "name": "stdout",
     "output_type": "stream",
     "text": [
      "2\n",
      "None\n"
     ]
    }
   ],
   "source": [
    "result = my_max(1, 2)\n",
    "print(result)\n",
    "# result * 2 -> error"
   ]
  },
  {
   "cell_type": "code",
   "execution_count": 9,
   "id": "21682185-eb56-43a1-bea2-b01eb8e6ff56",
   "metadata": {},
   "outputs": [],
   "source": [
    "def my_max2(num1, num2):\n",
    "    if num1 > num2:\n",
    "        return num1\n",
    "    else:\n",
    "        return num2"
   ]
  },
  {
   "cell_type": "code",
   "execution_count": 10,
   "id": "43becbfc-0bbf-49ee-b866-2813c1d3464e",
   "metadata": {},
   "outputs": [
    {
     "data": {
      "text/plain": [
       "10"
      ]
     },
     "execution_count": 10,
     "metadata": {},
     "output_type": "execute_result"
    }
   ],
   "source": [
    "my_max2(2, 10)"
   ]
  },
  {
   "cell_type": "code",
   "execution_count": 11,
   "id": "d0f56ab4-f63f-4a03-afa7-8e588a3d0af9",
   "metadata": {},
   "outputs": [
    {
     "name": "stdout",
     "output_type": "stream",
     "text": [
      "2\n"
     ]
    },
    {
     "data": {
      "text/plain": [
       "4"
      ]
     },
     "execution_count": 11,
     "metadata": {},
     "output_type": "execute_result"
    }
   ],
   "source": [
    "result = my_max2(1, 2)\n",
    "print(result)\n",
    "result * 2"
   ]
  },
  {
   "cell_type": "code",
   "execution_count": 12,
   "id": "108a76d1-0e6b-4f67-9b2a-1000c3df6e7a",
   "metadata": {},
   "outputs": [
    {
     "data": {
      "text/plain": [
       "(20, 10)"
      ]
     },
     "execution_count": 12,
     "metadata": {},
     "output_type": "execute_result"
    }
   ],
   "source": [
    "def my_def(x):\n",
    "    return x * 2, x\n",
    "\n",
    "my_def(10) # 하나의 데이터만 반환하므로 tuple이 출력됨"
   ]
  },
  {
   "cell_type": "code",
   "execution_count": 13,
   "id": "b2b5141e-6df5-4b20-ba34-81f71e070b29",
   "metadata": {},
   "outputs": [
    {
     "name": "stdout",
     "output_type": "stream",
     "text": [
      "0\n",
      "1\n",
      "2\n",
      "3\n"
     ]
    },
    {
     "data": {
      "text/plain": [
       "3"
      ]
     },
     "execution_count": 13,
     "metadata": {},
     "output_type": "execute_result"
    }
   ],
   "source": [
    "def my_for(x):\n",
    "    for i in range(x):\n",
    "        print(i)\n",
    "        if i == 3:\n",
    "            return i\n",
    "\n",
    "my_for(5) # return을 만나서 반복문 종료"
   ]
  },
  {
   "cell_type": "code",
   "execution_count": 14,
   "id": "e5766d87-7e74-4a99-bafe-a37a7b88068a",
   "metadata": {},
   "outputs": [],
   "source": [
    "# 리스트의 합을 비교하여 큰 것 출력\n",
    "def my_list_max(list1, list2):\n",
    "    result1 = list1[0] + list1[1] + list1[2]\n",
    "    result2 = list2[0] + list2[1] + list2[2]\n",
    "\n",
    "    if result1 > result2:\n",
    "        return list1\n",
    "    else:\n",
    "        return list2"
   ]
  },
  {
   "cell_type": "code",
   "execution_count": 15,
   "id": "d995446c-b7a4-44bb-a8a7-0a2cda88a5b6",
   "metadata": {},
   "outputs": [],
   "source": [
    "def my_list_max(list1, list2):\n",
    "    result1 = 0\n",
    "    result2 = 0\n",
    "    for i in range(len(list1)):\n",
    "        result1 += list1[i]\n",
    "    for j in range(len(list2)):\n",
    "        result2 += list2[j]\n",
    "    if result1 > result2:\n",
    "        return list1\n",
    "    else:\n",
    "        return list2"
   ]
  },
  {
   "cell_type": "code",
   "execution_count": 16,
   "id": "92e52e6e-797a-4fc9-8d0b-dcb1ffbdfebc",
   "metadata": {},
   "outputs": [],
   "source": [
    "def my_list_max(list1, list2):\n",
    "    result1 = sum(list1)\n",
    "    result2 = sum(list2)\n",
    "\n",
    "    if result1 > result2:\n",
    "        return list1\n",
    "    else:\n",
    "        return list2"
   ]
  },
  {
   "cell_type": "code",
   "execution_count": 17,
   "id": "a95a5a81-a264-41eb-b6dd-52a692d4dd1d",
   "metadata": {},
   "outputs": [],
   "source": [
    "def my_list(list1, list2):\n",
    "    if sum(list1) > sum(list2):\n",
    "        return list1\n",
    "    else:\n",
    "        return list2"
   ]
  },
  {
   "cell_type": "markdown",
   "id": "326934c9-8e70-4b99-884f-8bb1d1d2d2b2",
   "metadata": {},
   "source": [
    "### 3.1. 위치 인수"
   ]
  },
  {
   "cell_type": "markdown",
   "id": "0f75e880-336f-4056-bd31-3c8a87ef5200",
   "metadata": {},
   "source": [
    "- 기본적으로 함수는 위치를 기준으로 인수를 판단"
   ]
  },
  {
   "cell_type": "code",
   "execution_count": 18,
   "id": "955aab51-4489-47b0-a877-ed87f32d525c",
   "metadata": {},
   "outputs": [],
   "source": [
    "def cylinder(r, h): # 원기둥의 부피\n",
    "    return 3.14 * r ** 2 * h"
   ]
  },
  {
   "cell_type": "code",
   "execution_count": 19,
   "id": "b94a51e5-1fab-4747-88ac-4858e6748c6e",
   "metadata": {},
   "outputs": [
    {
     "data": {
      "text/plain": [
       "282.6"
      ]
     },
     "execution_count": 19,
     "metadata": {},
     "output_type": "execute_result"
    }
   ],
   "source": [
    "cylinder(3, 10)"
   ]
  },
  {
   "cell_type": "code",
   "execution_count": 20,
   "id": "e422a8d1-b5e2-470b-9cd7-f95e81ee2cff",
   "metadata": {},
   "outputs": [
    {
     "data": {
      "text/plain": [
       "942.0"
      ]
     },
     "execution_count": 20,
     "metadata": {},
     "output_type": "execute_result"
    }
   ],
   "source": [
    "cylinder(10, 3)"
   ]
  },
  {
   "cell_type": "markdown",
   "id": "99ef08f4-f5b4-43a9-90cb-2d0e07546f01",
   "metadata": {},
   "source": [
    "### 3.2. 기본값"
   ]
  },
  {
   "cell_type": "markdown",
   "id": "b927f89d-f2eb-4db1-a924-97b90e8c971a",
   "metadata": {},
   "source": [
    "```python\n",
    "def func_name(p1=v1):\n",
    "    code1\n",
    "    return value\n",
    "```"
   ]
  },
  {
   "cell_type": "code",
   "execution_count": 21,
   "id": "88e9d063-f190-412b-9def-8bff21c9aa45",
   "metadata": {},
   "outputs": [],
   "source": [
    "def greeting(name):\n",
    "    return f'{name}님 반갑습니다.'"
   ]
  },
  {
   "cell_type": "code",
   "execution_count": 22,
   "id": "0e3ce1fe-137e-4d70-a5a5-1e06bd46d8f2",
   "metadata": {},
   "outputs": [],
   "source": [
    "# greeting() -> error: missing positional argument(위치 인자 빠짐)"
   ]
  },
  {
   "cell_type": "code",
   "execution_count": 23,
   "id": "9c00729b-ad65-4341-9287-a876c0bae509",
   "metadata": {},
   "outputs": [],
   "source": [
    "def greeting(name='익명'):\n",
    "    return f'{name}님 반갑습니다.'"
   ]
  },
  {
   "cell_type": "code",
   "execution_count": 24,
   "id": "f68f8742-0b48-44a3-b46a-f1fdac0a4590",
   "metadata": {},
   "outputs": [
    {
     "data": {
      "text/plain": [
       "'익명님 반갑습니다.'"
      ]
     },
     "execution_count": 24,
     "metadata": {},
     "output_type": "execute_result"
    }
   ],
   "source": [
    "greeting() # 기본값 설정시 값을 넣지 않아도 됨"
   ]
  },
  {
   "cell_type": "code",
   "execution_count": 25,
   "id": "f548f04a-9b29-450f-ba39-012ccde9316f",
   "metadata": {},
   "outputs": [],
   "source": [
    "# def print(*object, sep=' ', end='\\n')"
   ]
  },
  {
   "cell_type": "code",
   "execution_count": 27,
   "id": "a6287553-cb70-411f-9478-78d1febd9257",
   "metadata": {},
   "outputs": [],
   "source": [
    "# def greeting(name='익명', age) -> error: 기본값 인자는 위치 인자보다 뒤에 나와야\n",
    "\n",
    "def greeting(age, name='익명'):\n",
    "    return f'{name}님의 나이는 {age}살입니다.'"
   ]
  },
  {
   "cell_type": "code",
   "execution_count": 30,
   "id": "70257fd4-0181-4f82-87ef-2f1d2bd5a0e8",
   "metadata": {},
   "outputs": [
    {
     "data": {
      "text/plain": [
       "'익명님의 나이는 10살입니다.'"
      ]
     },
     "execution_count": 30,
     "metadata": {},
     "output_type": "execute_result"
    }
   ],
   "source": [
    "greeting(10)"
   ]
  },
  {
   "cell_type": "markdown",
   "id": "9f0498db-69eb-46a2-a3dc-b4cf543cfaab",
   "metadata": {},
   "source": [
    "### 3.3. 키워드 인수"
   ]
  },
  {
   "cell_type": "markdown",
   "id": "495516e0-b876-47e4-b95b-a9d445aaa90d",
   "metadata": {},
   "source": [
    "- 함수를 호출할 때 내가 원하는 위치에 직접적으로 값을 전달"
   ]
  },
  {
   "cell_type": "code",
   "execution_count": 31,
   "id": "616c58fd-a841-4c43-82ff-e54b9c394c86",
   "metadata": {},
   "outputs": [],
   "source": [
    "def greeting(age, name='익명'):\n",
    "    return f'{name}님의 나이는 {age}살입니다.'"
   ]
  },
  {
   "cell_type": "code",
   "execution_count": 32,
   "id": "f69f792d-4a61-42da-9662-fadf9b3adfbc",
   "metadata": {},
   "outputs": [
    {
     "data": {
      "text/plain": [
       "'길동님의 나이는 10살입니다.'"
      ]
     },
     "execution_count": 32,
     "metadata": {},
     "output_type": "execute_result"
    }
   ],
   "source": [
    "greeting(name='길동', age=10)"
   ]
  },
  {
   "cell_type": "markdown",
   "id": "877209c7-51e9-4c42-976a-39804d86cf07",
   "metadata": {},
   "source": [
    "### 3.4. 가변 인자 리스트"
   ]
  },
  {
   "cell_type": "markdown",
   "id": "be1faaaa-544e-4854-a9ee-f2e56f08dda9",
   "metadata": {},
   "source": [
    "- *변할 수 있는*\n",
    "```python\n",
    "def func_name(*params):\n",
    "    code\n",
    "    ...\n",
    "    return value\n",
    "```"
   ]
  },
  {
   "cell_type": "code",
   "execution_count": 34,
   "id": "2680d398-7b93-4614-8cf8-12dc90f04e7b",
   "metadata": {},
   "outputs": [
    {
     "data": {
      "text/plain": [
       "7"
      ]
     },
     "execution_count": 34,
     "metadata": {},
     "output_type": "execute_result"
    }
   ],
   "source": [
    "max(1, 2, 3, 4, 5, 6, 7) # 인자를 몇개 넣든 실행 가능"
   ]
  },
  {
   "cell_type": "code",
   "execution_count": 43,
   "id": "77db61c8-7ae4-4768-a051-c53d5a1f9edd",
   "metadata": {},
   "outputs": [],
   "source": [
    "def my_max(*numbers):\n",
    "    max_num = numbers[0]\n",
    "\n",
    "    for number in numbers:\n",
    "        if max_num < number:\n",
    "            max_num = number\n",
    "    return max_num"
   ]
  },
  {
   "cell_type": "code",
   "execution_count": 45,
   "id": "4e4a24fe-61c4-4367-b973-114a6758b05b",
   "metadata": {},
   "outputs": [
    {
     "data": {
      "text/plain": [
       "40"
      ]
     },
     "execution_count": 45,
     "metadata": {},
     "output_type": "execute_result"
    }
   ],
   "source": [
    "my_max(1, 2, 3, 40, 5, 6, 7)"
   ]
  },
  {
   "cell_type": "markdown",
   "id": "9b6be8fc-8754-4691-99ad-0d5dcb6d300f",
   "metadata": {},
   "source": [
    "### 3.5. 정의되지 않는 키워드 인자 처리하기"
   ]
  },
  {
   "cell_type": "markdown",
   "id": "c5b291e4-9d2c-4f8b-83f8-6d5028e7fd55",
   "metadata": {},
   "source": [
    "```python\n",
    "def func_name(**kwargs): # keyward arguments\n",
    "    return value\n",
    "```\n",
    "- *가변 인자 리스트와 비슷*\n",
    "- *키워드가 몇개 들어오든지 묶어서 dictionary로 만들어줌*"
   ]
  },
  {
   "cell_type": "code",
   "execution_count": 46,
   "id": "76ff126f-6e00-4094-95c4-d81b9f046e0f",
   "metadata": {},
   "outputs": [
    {
     "name": "stdout",
     "output_type": "stream",
     "text": [
      "{'name': 'kim', 'age': 20}\n"
     ]
    }
   ],
   "source": [
    "info = dict(name='kim', age=20)\n",
    "print(info)"
   ]
  },
  {
   "cell_type": "code",
   "execution_count": 47,
   "id": "cd32605b-673a-4f69-b7a1-f4beebd959f8",
   "metadata": {},
   "outputs": [
    {
     "name": "stdout",
     "output_type": "stream",
     "text": [
      "{'asdf': '가나다', 'age': 123, 'test': 'asdf'}\n"
     ]
    }
   ],
   "source": [
    "def my_dict(**kwargs):\n",
    "    print(kwargs)\n",
    "\n",
    "my_dict(asdf='가나다', age=123, test='asdf')"
   ]
  },
  {
   "cell_type": "code",
   "execution_count": 48,
   "id": "481e21b4-ddbf-42d1-876e-8120d035533f",
   "metadata": {},
   "outputs": [],
   "source": [
    "def my_func(parmas1, params2='temp', *numbers, **kwargs):\n",
    "    return 0"
   ]
  },
  {
   "cell_type": "code",
   "execution_count": 53,
   "id": "ca87685b-d98d-4b6e-89c2-a2dfb719b15b",
   "metadata": {},
   "outputs": [
    {
     "data": {
      "text/plain": [
       "0"
      ]
     },
     "execution_count": 53,
     "metadata": {},
     "output_type": "execute_result"
    }
   ],
   "source": [
    "my_func(123) # params1 = 123, params2 = 'temp'\n",
    "my_func(123, 234) # params1 = 123, params2 = 234\n",
    "my_func(123, 234, 456, 789) # params1 = 123, params2 = 234, numbers = (456, 789)\n",
    "my_func(123, 234, 456, 789, a=1, b=2, c=3) # kwargs = {a: 1. b: 2, c: 3}"
   ]
  },
  {
   "cell_type": "markdown",
   "id": "0c38be39-9e29-4734-91b7-199943cc732a",
   "metadata": {},
   "source": [
    "### 3.6. 타입힌트"
   ]
  },
  {
   "cell_type": "code",
   "execution_count": 57,
   "id": "7136d1eb-ab73-49d9-816f-0526298e3962",
   "metadata": {},
   "outputs": [],
   "source": [
    "def something(a: int, b: int) -> int: # parameter의 타입힌트 -> return의 타입힌트\n",
    "    return a + b"
   ]
  },
  {
   "cell_type": "markdown",
   "id": "b4454dea-9dfb-4675-bd55-c70337b0ea88",
   "metadata": {},
   "source": [
    "## 4. lambda 표현식"
   ]
  },
  {
   "cell_type": "markdown",
   "id": "6c87972d-6643-497d-bed5-67b617af33a7",
   "metadata": {},
   "source": [
    "```python\n",
    "lambda parameter: expression\n",
    "```\n",
    "- *임시함수, 일회용함수, 익명함수*\n",
    "- *장점: 빠르다*\n",
    "- *메모리에 올라가지 않고 한번 실행되면 휘발됨*"
   ]
  },
  {
   "cell_type": "code",
   "execution_count": 54,
   "id": "412be0ba-e5f0-4022-a6ea-b02ce47745e4",
   "metadata": {},
   "outputs": [],
   "source": [
    "def my_sum(num1, num2):\n",
    "    return num1 + num2"
   ]
  },
  {
   "cell_type": "code",
   "execution_count": 56,
   "id": "d666570a-646e-4b14-930a-73cae010bc92",
   "metadata": {},
   "outputs": [
    {
     "data": {
      "text/plain": [
       "3"
      ]
     },
     "execution_count": 56,
     "metadata": {},
     "output_type": "execute_result"
    }
   ],
   "source": [
    "(lambda num1, num2: num1 + num2)(1, 2)"
   ]
  },
  {
   "cell_type": "markdown",
   "id": "36ca6515-8893-45df-9d67-943f6a6295c4",
   "metadata": {},
   "source": [
    "## 5. 이름공간(namespace), 스코프(scope)"
   ]
  },
  {
   "cell_type": "markdown",
   "id": "1e82b9c0-5b90-4ef6-a429-18bd514a671f",
   "metadata": {},
   "source": [
    "- python에서 사용하는 이름들은 이름공간에 저장되어 있음\n",
    "- LEGB 룰에 따라 접근 *(위에서 아래로 갈수록 넓은 범위)*\n",
    "    1. Local: 정의된 함수 내부\n",
    "    2. Enclosed: 상위 함수\n",
    "    3. Global: 함수 밖\n",
    "    4. Built_in: python이 기본적으로 가지고 있는 함수"
   ]
  },
  {
   "cell_type": "code",
   "execution_count": 58,
   "id": "4e117589-4dfc-4d4c-a745-e7063b745206",
   "metadata": {},
   "outputs": [
    {
     "name": "stdout",
     "output_type": "stream",
     "text": [
      "123\n"
     ]
    }
   ],
   "source": [
    "result = str(123) # Built_in\n",
    "print(result)"
   ]
  },
  {
   "cell_type": "code",
   "execution_count": 59,
   "id": "7cc83314-4c3e-419b-ac87-75af5f9122b2",
   "metadata": {},
   "outputs": [],
   "source": [
    "str = 'hello'"
   ]
  },
  {
   "cell_type": "code",
   "execution_count": 60,
   "id": "b73f6791-26e8-473e-bf0e-429156e4a76e",
   "metadata": {},
   "outputs": [
    {
     "ename": "TypeError",
     "evalue": "'str' object is not callable",
     "output_type": "error",
     "traceback": [
      "\u001b[1;31m---------------------------------------------------------------------------\u001b[0m",
      "\u001b[1;31mTypeError\u001b[0m                                 Traceback (most recent call last)",
      "Cell \u001b[1;32mIn[60], line 1\u001b[0m\n\u001b[1;32m----> 1\u001b[0m result \u001b[38;5;241m=\u001b[39m \u001b[38;5;28;43mstr\u001b[39;49m\u001b[43m(\u001b[49m\u001b[38;5;241;43m123\u001b[39;49m\u001b[43m)\u001b[49m \u001b[38;5;66;03m# Built_in\u001b[39;00m\n\u001b[0;32m      2\u001b[0m \u001b[38;5;28mprint\u001b[39m(result) \u001b[38;5;66;03m# error: str을 위에서 변수로 정의\u001b[39;00m\n",
      "\u001b[1;31mTypeError\u001b[0m: 'str' object is not callable"
     ]
    }
   ],
   "source": [
    "result = str(123) # Built_in\n",
    "print(result) # error: str을 위에서 변수로 정의"
   ]
  },
  {
   "cell_type": "code",
   "execution_count": 61,
   "id": "d69c0492-7c83-4f43-ae45-af7bbf9f03ec",
   "metadata": {},
   "outputs": [],
   "source": [
    "del str # 변수 삭제"
   ]
  },
  {
   "cell_type": "code",
   "execution_count": 62,
   "id": "44608156-7b46-4462-ac57-d3e07929f0a1",
   "metadata": {},
   "outputs": [
    {
     "data": {
      "text/plain": [
       "'asdf'"
      ]
     },
     "execution_count": 62,
     "metadata": {},
     "output_type": "execute_result"
    }
   ],
   "source": [
    "a = 1\n",
    "\n",
    "def local_scope(a): # Local\n",
    "    # a = 'asdf'\n",
    "    return a\n",
    "\n",
    "a = '가나다라'\n",
    "\n",
    "local_scope('asdf')"
   ]
  },
  {
   "cell_type": "code",
   "execution_count": 63,
   "id": "e7805962-272e-4956-9288-1146aa941688",
   "metadata": {},
   "outputs": [
    {
     "data": {
      "text/plain": [
       "'가나다라'"
      ]
     },
     "execution_count": 63,
     "metadata": {},
     "output_type": "execute_result"
    }
   ],
   "source": [
    "a = 1\n",
    "\n",
    "def local_scope(b):\n",
    "    # b = 'asdf'\n",
    "    return a\n",
    "\n",
    "a = '가나다라' # a =1 => a = '가나다라'\n",
    "\n",
    "local_scope('asdf')"
   ]
  },
  {
   "cell_type": "code",
   "execution_count": 64,
   "id": "b5da2811-bcc4-46f8-9595-5781b0fb1a97",
   "metadata": {},
   "outputs": [
    {
     "name": "stdout",
     "output_type": "stream",
     "text": [
      "1\n",
      "2\n",
      "3\n",
      "4\n",
      "5\n",
      "5\n"
     ]
    }
   ],
   "source": [
    "my_list = [1, 2, 3, 4, 5]\n",
    "\n",
    "for i in my_list:\n",
    "    # i = ...\n",
    "    print(i)\n",
    "print(i) # 맨 마지막에 저장된 i 값 = 5"
   ]
  },
  {
   "cell_type": "code",
   "execution_count": 65,
   "id": "ae0a38fa-a2d3-4e37-981a-f685ae49fc12",
   "metadata": {},
   "outputs": [
    {
     "ename": "UnboundLocalError",
     "evalue": "cannot access local variable 'a' where it is not associated with a value",
     "output_type": "error",
     "traceback": [
      "\u001b[1;31m---------------------------------------------------------------------------\u001b[0m",
      "\u001b[1;31mUnboundLocalError\u001b[0m                         Traceback (most recent call last)",
      "Cell \u001b[1;32mIn[65], line 7\u001b[0m\n\u001b[0;32m      4\u001b[0m     a \u001b[38;5;241m=\u001b[39m a \u001b[38;5;241m+\u001b[39m \u001b[38;5;241m1\u001b[39m\n\u001b[0;32m      5\u001b[0m     \u001b[38;5;28;01mreturn\u001b[39;00m a\n\u001b[1;32m----> 7\u001b[0m \u001b[43mglobal_scope\u001b[49m\u001b[43m(\u001b[49m\u001b[43m)\u001b[49m \u001b[38;5;66;03m# error: a를 마음대로 계산할 수 없음\u001b[39;00m\n",
      "Cell \u001b[1;32mIn[65], line 4\u001b[0m, in \u001b[0;36mglobal_scope\u001b[1;34m()\u001b[0m\n\u001b[0;32m      3\u001b[0m \u001b[38;5;28;01mdef\u001b[39;00m\u001b[38;5;250m \u001b[39m\u001b[38;5;21mglobal_scope\u001b[39m():\n\u001b[1;32m----> 4\u001b[0m     a \u001b[38;5;241m=\u001b[39m \u001b[43ma\u001b[49m \u001b[38;5;241m+\u001b[39m \u001b[38;5;241m1\u001b[39m\n\u001b[0;32m      5\u001b[0m     \u001b[38;5;28;01mreturn\u001b[39;00m a\n",
      "\u001b[1;31mUnboundLocalError\u001b[0m: cannot access local variable 'a' where it is not associated with a value"
     ]
    }
   ],
   "source": [
    "a = 0\n",
    "\n",
    "def global_scope():\n",
    "    a = a + 1\n",
    "    return a\n",
    "\n",
    "global_scope() # error: a를 마음대로 계산할 수 없음"
   ]
  },
  {
   "cell_type": "code",
   "execution_count": 66,
   "id": "a13bbe99-9810-4799-9302-d15925432e02",
   "metadata": {},
   "outputs": [
    {
     "data": {
      "text/plain": [
       "1"
      ]
     },
     "execution_count": 66,
     "metadata": {},
     "output_type": "execute_result"
    }
   ],
   "source": [
    "a = 0\n",
    "\n",
    "def global_scope():\n",
    "    global a # 함수 밖에 있는 a를 쓸거야\n",
    "    a = a + 1\n",
    "    return a\n",
    "\n",
    "global_scope()"
   ]
  },
  {
   "cell_type": "markdown",
   "id": "a2b13185-b1a3-4a75-b4a3-885617f1ec51",
   "metadata": {},
   "source": [
    "## 6. 재귀"
   ]
  },
  {
   "cell_type": "markdown",
   "id": "8b3fd908-40b2-402c-9c24-b15176ab2d7d",
   "metadata": {},
   "source": [
    "- 함수 내부에서 자기 자신을 호출하는 함수\n",
    "```\n",
    "n! = 1 * 2 * 3 * ... * n\n",
    "\n",
    "1! = 1\n",
    "2! = 1 * 2 = 1! * 2\n",
    "3! = 1 * 2 * 3 = 2! * 3\n",
    "n! = (n-1)! * n\n",
    "```\n",
    "- *recursion*"
   ]
  },
  {
   "cell_type": "code",
   "execution_count": 67,
   "id": "a342330d-93c4-4e3b-8f20-993f1a605e83",
   "metadata": {},
   "outputs": [],
   "source": [
    "def fact(n):\n",
    "    if n == 1:\n",
    "        return 1\n",
    "    else:\n",
    "        return fact(n-1) * n"
   ]
  },
  {
   "cell_type": "code",
   "execution_count": 69,
   "id": "4012b11a-24f6-42bd-b325-5c858fb440de",
   "metadata": {},
   "outputs": [
    {
     "data": {
      "text/plain": [
       "3628800"
      ]
     },
     "execution_count": 69,
     "metadata": {},
     "output_type": "execute_result"
    }
   ],
   "source": [
    "fact(10)\n",
    "\n",
    "# fact(10 fact(9 fact(8 ...))) -> 안에서부터 계산"
   ]
  },
  {
   "cell_type": "markdown",
   "id": "afdf9f40-a00d-4222-82c6-ba8b3ac2857c",
   "metadata": {},
   "source": [
    "- *(: 함수 실행*\n",
    "- *): 함수 종료*"
   ]
  },
  {
   "cell_type": "markdown",
   "id": "b9ee5bba-834c-483e-af35-b9a9167f9b30",
   "metadata": {},
   "source": [
    "# 04. data structure 자료구조"
   ]
  },
  {
   "cell_type": "markdown",
   "id": "04ad6019-5bac-41e6-9999-6789b76f14ce",
   "metadata": {},
   "source": [
    "- 여러가지 자료구조가 가지고 있는 메소드(함수) 알아보기"
   ]
  },
  {
   "cell_type": "code",
   "execution_count": 1,
   "id": "92bdf3ab-6b3b-463d-b620-2169eec677fd",
   "metadata": {},
   "outputs": [
    {
     "name": "stdout",
     "output_type": "stream",
     "text": [
      "['__add__', '__class__', '__contains__', '__delattr__', '__dir__', '__doc__', '__eq__', '__format__', '__ge__', '__getattribute__', '__getitem__', '__getnewargs__', '__getstate__', '__gt__', '__hash__', '__init__', '__init_subclass__', '__iter__', '__le__', '__len__', '__lt__', '__mod__', '__mul__', '__ne__', '__new__', '__reduce__', '__reduce_ex__', '__repr__', '__rmod__', '__rmul__', '__setattr__', '__sizeof__', '__str__', '__subclasshook__', 'capitalize', 'casefold', 'center', 'count', 'encode', 'endswith', 'expandtabs', 'find', 'format', 'format_map', 'index', 'isalnum', 'isalpha', 'isascii', 'isdecimal', 'isdigit', 'isidentifier', 'islower', 'isnumeric', 'isprintable', 'isspace', 'istitle', 'isupper', 'join', 'ljust', 'lower', 'lstrip', 'maketrans', 'partition', 'removeprefix', 'removesuffix', 'replace', 'rfind', 'rindex', 'rjust', 'rpartition', 'rsplit', 'rstrip', 'split', 'splitlines', 'startswith', 'strip', 'swapcase', 'title', 'translate', 'upper', 'zfill']\n"
     ]
    }
   ],
   "source": [
    "print(dir('hello'))"
   ]
  },
  {
   "cell_type": "markdown",
   "id": "e7f6d687-b7eb-44bd-bb78-47ee6ad3a035",
   "metadata": {},
   "source": [
    "## 1. 문자열 메소드"
   ]
  },
  {
   "cell_type": "code",
   "execution_count": 2,
   "id": "5734a99f-f062-402c-a97b-830b69a70afc",
   "metadata": {},
   "outputs": [],
   "source": [
    "a = 'hello my name is hong'"
   ]
  },
  {
   "cell_type": "code",
   "execution_count": 3,
   "id": "1ff1f38f-2c9d-4800-b69a-81eef8d78391",
   "metadata": {},
   "outputs": [
    {
     "name": "stdout",
     "output_type": "stream",
     "text": [
      "hello my name is hong\n"
     ]
    }
   ],
   "source": [
    "print(a)"
   ]
  },
  {
   "cell_type": "code",
   "execution_count": 4,
   "id": "78914865-2c83-4193-8992-ccf6b6109389",
   "metadata": {},
   "outputs": [],
   "source": [
    "# a[0] = 'H' # error: str is immutable"
   ]
  },
  {
   "cell_type": "code",
   "execution_count": 5,
   "id": "b150955b-690f-418e-a0a4-6e54cb22e5c1",
   "metadata": {},
   "outputs": [
    {
     "data": {
      "text/plain": [
       "'Hello my name is hong'"
      ]
     },
     "execution_count": 5,
     "metadata": {},
     "output_type": "execute_result"
    }
   ],
   "source": [
    "a.capitalize() # 원본 데이터가 바뀐 것은 아님, 함수의 결과값이 출력된 것"
   ]
  },
  {
   "cell_type": "code",
   "execution_count": 6,
   "id": "d22c7cb2-4fb2-46a9-908f-c535d7466da9",
   "metadata": {},
   "outputs": [
    {
     "data": {
      "text/plain": [
       "'Hello my name is hong'"
      ]
     },
     "execution_count": 6,
     "metadata": {},
     "output_type": "execute_result"
    }
   ],
   "source": [
    "'hello my name is hong'.capitalize()"
   ]
  },
  {
   "cell_type": "code",
   "execution_count": 8,
   "id": "b051a92c-51f7-4aa0-ab6e-252d0657133c",
   "metadata": {},
   "outputs": [],
   "source": [
    "a = a.capitalize() # 재할당 -> 원본변경"
   ]
  },
  {
   "cell_type": "code",
   "execution_count": 10,
   "id": "5de6f026-a863-4e43-8549-3da0a510f01a",
   "metadata": {},
   "outputs": [
    {
     "data": {
      "text/plain": [
       "'Hello My Name Is Hong'"
      ]
     },
     "execution_count": 10,
     "metadata": {},
     "output_type": "execute_result"
    }
   ],
   "source": [
    "a.title()"
   ]
  },
  {
   "cell_type": "code",
   "execution_count": 11,
   "id": "730e2902-973d-43a9-94b1-5f3f9ff94559",
   "metadata": {},
   "outputs": [
    {
     "data": {
      "text/plain": [
       "'hello my name is hong'"
      ]
     },
     "execution_count": 11,
     "metadata": {},
     "output_type": "execute_result"
    }
   ],
   "source": [
    "a.lower()"
   ]
  },
  {
   "cell_type": "code",
   "execution_count": 12,
   "id": "919b8db8-10e0-4b9b-924f-f5d8ee217753",
   "metadata": {},
   "outputs": [
    {
     "data": {
      "text/plain": [
       "'HELLO MY NAME IS HONG'"
      ]
     },
     "execution_count": 12,
     "metadata": {},
     "output_type": "execute_result"
    }
   ],
   "source": [
    "a.upper()"
   ]
  },
  {
   "cell_type": "code",
   "execution_count": 13,
   "id": "f7010568-088c-4c7a-8fd2-b9c09657bb0a",
   "metadata": {},
   "outputs": [
    {
     "data": {
      "text/plain": [
       "'배?고?프?다'"
      ]
     },
     "execution_count": 13,
     "metadata": {},
     "output_type": "execute_result"
    }
   ],
   "source": [
    "'?'.join('배고프다')"
   ]
  },
  {
   "cell_type": "code",
   "execution_count": 14,
   "id": "42190eef-4579-4820-aaf3-a6f46f9dc562",
   "metadata": {},
   "outputs": [
    {
     "data": {
      "text/plain": [
       "'hello'"
      ]
     },
     "execution_count": 14,
     "metadata": {},
     "output_type": "execute_result"
    }
   ],
   "source": [
    "a = '      \\t    hello      \\n        '\n",
    "a.strip() # 좌우의 여백으로 생각하는 모든 것을 지워줌"
   ]
  },
  {
   "cell_type": "code",
   "execution_count": 15,
   "id": "428c1a91-895a-46e0-8d08-11f9cb4c359a",
   "metadata": {},
   "outputs": [
    {
     "data": {
      "text/plain": [
       "'hello???????'"
      ]
     },
     "execution_count": 15,
     "metadata": {},
     "output_type": "execute_result"
    }
   ],
   "source": [
    "a = '!!!!!!!!hello???????'\n",
    "a.strip('!') # def strip(char=' ')"
   ]
  },
  {
   "cell_type": "code",
   "execution_count": 16,
   "id": "fd195c88-5888-40c2-a025-7c238bb2256d",
   "metadata": {},
   "outputs": [
    {
     "name": "stdout",
     "output_type": "stream",
     "text": [
      "hello---\n",
      "----hello\n"
     ]
    }
   ],
   "source": [
    "a = '----hello---'\n",
    "print(a.lstrip('-')) # 왼쪽\n",
    "print(a.rstrip('-')) # 오른쪽"
   ]
  },
  {
   "cell_type": "code",
   "execution_count": 17,
   "id": "4818620e-d721-498e-a9a6-9cd7d11147f6",
   "metadata": {},
   "outputs": [
    {
     "data": {
      "text/plain": [
       "'w!!!ooooow'"
      ]
     },
     "execution_count": 17,
     "metadata": {},
     "output_type": "execute_result"
    }
   ],
   "source": [
    "a = 'woooooooow'\n",
    "a.replace('o', '!', 3) # count = 몇개 바꿀지"
   ]
  },
  {
   "cell_type": "code",
   "execution_count": 18,
   "id": "939bfd6b-a470-442d-98e0-5bb698aa3a18",
   "metadata": {},
   "outputs": [
    {
     "name": "stdout",
     "output_type": "stream",
     "text": [
      "0\n",
      "1\n",
      "-1\n"
     ]
    }
   ],
   "source": [
    "a = 'apple'\n",
    "print(a.find('a'))\n",
    "print(a.find('p')) # 첫번째 것만 호출\n",
    "print(a.find('z')) # -1: 없다는 뜻"
   ]
  },
  {
   "cell_type": "code",
   "execution_count": 19,
   "id": "39512e5a-b90f-4793-a4c9-7b9c2397b2a8",
   "metadata": {},
   "outputs": [
    {
     "name": "stdout",
     "output_type": "stream",
     "text": [
      "0\n",
      "1\n"
     ]
    }
   ],
   "source": [
    "a = 'apple'\n",
    "print(a.index('a'))\n",
    "print(a.index('p'))\n",
    "# print(a.index('z')) # error"
   ]
  },
  {
   "cell_type": "code",
   "execution_count": 20,
   "id": "099830bf-83ad-49bb-ac88-7614b8874c53",
   "metadata": {},
   "outputs": [
    {
     "data": {
      "text/plain": [
       "['my', 'name', 'is', 'hong']"
      ]
     },
     "execution_count": 20,
     "metadata": {},
     "output_type": "execute_result"
    }
   ],
   "source": [
    "a = 'my name is hong'\n",
    "a.split() # 띄어쓰기를 기준으로 잘라서 리스트로 만들어줌"
   ]
  },
  {
   "cell_type": "code",
   "execution_count": 21,
   "id": "75e23618-4b82-4d32-a346-d2bf5ff9394d",
   "metadata": {},
   "outputs": [
    {
     "data": {
      "text/plain": [
       "['my nam', ' is hong']"
      ]
     },
     "execution_count": 21,
     "metadata": {},
     "output_type": "execute_result"
    }
   ],
   "source": [
    "a.split('e')"
   ]
  },
  {
   "cell_type": "code",
   "execution_count": 22,
   "id": "d9b7e291-0f23-49dd-9b54-9b41e224ee42",
   "metadata": {},
   "outputs": [
    {
     "data": {
      "text/plain": [
       "6"
      ]
     },
     "execution_count": 22,
     "metadata": {},
     "output_type": "execute_result"
    }
   ],
   "source": [
    "a = 'woooooow'\n",
    "a.count('o')"
   ]
  },
  {
   "cell_type": "markdown",
   "id": "bac93549-0d26-4e48-90ce-b5c5097d8e96",
   "metadata": {},
   "source": [
    "## 2. 리스트 메소드"
   ]
  },
  {
   "cell_type": "code",
   "execution_count": 33,
   "id": "5d4aee86-14ec-46a7-bae4-62d1d417a215",
   "metadata": {},
   "outputs": [],
   "source": [
    "numbers = [2, 6, 1, 4, 8, 3, 2, 8]"
   ]
  },
  {
   "cell_type": "code",
   "execution_count": 34,
   "id": "5d4609e4-7272-4c19-ae4c-76eadd5d33d4",
   "metadata": {},
   "outputs": [
    {
     "name": "stdout",
     "output_type": "stream",
     "text": [
      "[2, 6, 1, 4, 8, 3, 2, 8, 10]\n"
     ]
    }
   ],
   "source": [
    "numbers.append(10) # 추가하다, 덧붙이다\n",
    "print(numbers)"
   ]
  },
  {
   "cell_type": "code",
   "execution_count": 35,
   "id": "16e11775-b0c2-46a1-86b9-215822121786",
   "metadata": {},
   "outputs": [
    {
     "name": "stdout",
     "output_type": "stream",
     "text": [
      "[2, 6, 1, 4, 8, 3, 2, 8, 10, 99, 100]\n"
     ]
    }
   ],
   "source": [
    "a = [99, 100]\n",
    "numbers.extend(a) # => numbers + a (concatenation)\n",
    "print(numbers)"
   ]
  },
  {
   "cell_type": "code",
   "execution_count": 36,
   "id": "37902ba3-9205-486a-9234-7ac0ebbb7773",
   "metadata": {},
   "outputs": [
    {
     "name": "stdout",
     "output_type": "stream",
     "text": [
      "[2, 6, 1, 55, 4, 8, 3, 2, 8, 10, 99, 100]\n"
     ]
    }
   ],
   "source": [
    "numbers.insert(3, 55) # 위치를 지정해서 넣을 때 (~로, ~를)\n",
    "print(numbers)"
   ]
  },
  {
   "cell_type": "code",
   "execution_count": 37,
   "id": "b9c4f5ba-25b6-4147-a49c-78ec15b760ca",
   "metadata": {},
   "outputs": [
    {
     "name": "stdout",
     "output_type": "stream",
     "text": [
      "[2, 6, 1, 55, 4, 3, 2, 8, 10, 99, 100]\n"
     ]
    }
   ],
   "source": [
    "# 첫번째 x를 찾아서 제거, 없으면 오류\n",
    "numbers.remove(8)\n",
    "print(numbers) # 첫번째 8만 삭제, 두번 실행 시 뒤의 8도 삭제, 없는 걸 삭제하려고 하면 error"
   ]
  },
  {
   "cell_type": "code",
   "execution_count": 38,
   "id": "ebd205dd-e545-4752-b543-3dd451c8baeb",
   "metadata": {},
   "outputs": [
    {
     "name": "stdout",
     "output_type": "stream",
     "text": [
      "[2, 6, 1, 55, 4, 3, 2, 8, 10, 99]\n"
     ]
    }
   ],
   "source": [
    "numbers.pop() # 맨 마지막 데이터 제거\n",
    "print(numbers)"
   ]
  },
  {
   "cell_type": "code",
   "execution_count": 39,
   "id": "a60c1b67-97ad-4b9d-ac92-f14b7857fa7e",
   "metadata": {},
   "outputs": [],
   "source": [
    "# stack(후입선출) vs queue(선입선출)"
   ]
  },
  {
   "cell_type": "code",
   "execution_count": 40,
   "id": "9e01ec3e-ffcb-4785-bf0d-16af7ad32041",
   "metadata": {},
   "outputs": [
    {
     "name": "stdout",
     "output_type": "stream",
     "text": [
      "[6, 1, 55, 4, 3, 2, 8, 10, 99]\n"
     ]
    }
   ],
   "source": [
    "numbers.pop(0) # 원하는 위치의 데이터 제거\n",
    "print(numbers)"
   ]
  },
  {
   "cell_type": "code",
   "execution_count": 41,
   "id": "99b9ce7d-4bea-4f3a-95a7-8b8c1a787ed2",
   "metadata": {},
   "outputs": [
    {
     "name": "stdout",
     "output_type": "stream",
     "text": [
      "[1, 2, 3, 4, 6, 8, 10, 55, 99]\n"
     ]
    }
   ],
   "source": [
    "numbers.sort() # 오름차순 정렬\n",
    "print(numbers)"
   ]
  },
  {
   "cell_type": "code",
   "execution_count": 43,
   "id": "9f6a2d6a-c5b7-4f5e-8a94-d850e75e186a",
   "metadata": {},
   "outputs": [
    {
     "name": "stdout",
     "output_type": "stream",
     "text": [
      "[99, 55, 10, 8, 6, 4, 3, 2, 1]\n"
     ]
    }
   ],
   "source": [
    "numbers.sort(reverse=True) # 내림차순 정렬/ 원본을 바꿈\n",
    "print(numbers)"
   ]
  },
  {
   "cell_type": "code",
   "execution_count": 44,
   "id": "ce1f5600-80ed-494e-8138-078d19846535",
   "metadata": {},
   "outputs": [
    {
     "name": "stdout",
     "output_type": "stream",
     "text": [
      "[1, 2, 4, 5, 7, 8]\n",
      "[5, 4, 2, 7, 8, 1]\n"
     ]
    }
   ],
   "source": [
    "a = [5, 4, 2, 7, 8, 1]\n",
    "print(sorted(a)) # 원본을 바꾸지 않고 계산한 결과만 알려줌\n",
    "print(a)"
   ]
  },
  {
   "cell_type": "code",
   "execution_count": 45,
   "id": "6b521c9d-a9fe-417d-92ba-31959b860d31",
   "metadata": {},
   "outputs": [
    {
     "name": "stdout",
     "output_type": "stream",
     "text": [
      "['a', 'b', 'z', '나', '하']\n"
     ]
    }
   ],
   "source": [
    "a = ['a', '하', '나', 'b', 'z']\n",
    "a.sort()\n",
    "print(a) # 유니코드 기준으로 글자도 정렬"
   ]
  },
  {
   "cell_type": "code",
   "execution_count": 46,
   "id": "0ccb4355-4d56-430d-843a-cc0106f56557",
   "metadata": {},
   "outputs": [
    {
     "name": "stdout",
     "output_type": "stream",
     "text": [
      "[99, 55, 10, 8, 6, 4, 3, 2, 1]\n",
      "[1, 2, 3, 4, 6, 8, 10, 55, 99]\n"
     ]
    }
   ],
   "source": [
    "print(numbers)\n",
    "numbers.reverse()\n",
    "print(numbers)"
   ]
  },
  {
   "cell_type": "code",
   "execution_count": 47,
   "id": "2cbbeb00-af81-42c4-ae6e-06b00a5acef8",
   "metadata": {},
   "outputs": [
    {
     "data": {
      "text/plain": [
       "1"
      ]
     },
     "execution_count": 47,
     "metadata": {},
     "output_type": "execute_result"
    }
   ],
   "source": [
    "numbers.count(10)"
   ]
  },
  {
   "cell_type": "markdown",
   "id": "d123f751-2244-40d6-ba34-39a4a097adb3",
   "metadata": {},
   "source": [
    "### 4.1. list copy"
   ]
  },
  {
   "cell_type": "code",
   "execution_count": 49,
   "id": "b48ea330-da4f-4159-b4cf-c2345036480a",
   "metadata": {},
   "outputs": [
    {
     "name": "stdout",
     "output_type": "stream",
     "text": [
      "[1, 2, 3]\n",
      "[1, 2, 3]\n"
     ]
    }
   ],
   "source": [
    "origin_list = [1, 2, 3]\n",
    "copy_list = origin_list\n",
    "print(origin_list)\n",
    "print(copy_list)"
   ]
  },
  {
   "cell_type": "code",
   "execution_count": 50,
   "id": "a245fcb0-f914-4f6f-bdba-06c4ff613b55",
   "metadata": {},
   "outputs": [
    {
     "name": "stdout",
     "output_type": "stream",
     "text": [
      "[100, 2, 3]\n",
      "[100, 2, 3]\n"
     ]
    }
   ],
   "source": [
    "copy_list[0] = 100\n",
    "print(origin_list)\n",
    "print(copy_list)"
   ]
  },
  {
   "cell_type": "code",
   "execution_count": 51,
   "id": "ca03243a-a0fd-4f92-8e4c-be694f72f95b",
   "metadata": {},
   "outputs": [
    {
     "name": "stdout",
     "output_type": "stream",
     "text": [
      "[1, 2, 3]\n",
      "[100, 2, 3]\n"
     ]
    }
   ],
   "source": [
    "origin_list = [1, 2, 3]\n",
    "copy_list = origin_list[:] # slicing\n",
    "\n",
    "copy_list[0] = 100\n",
    "\n",
    "print(origin_list)\n",
    "print(copy_list)"
   ]
  },
  {
   "cell_type": "code",
   "execution_count": 57,
   "id": "b4a2fa2d-3771-4fab-b363-3495de0a4f98",
   "metadata": {},
   "outputs": [
    {
     "name": "stdout",
     "output_type": "stream",
     "text": [
      "[1, 2, [-10, 11]]\n",
      "[100, 2, [-10, 11]]\n"
     ]
    }
   ],
   "source": [
    "o_l = [1, 2, [10, 11]]\n",
    "c_l = o_l[:]\n",
    "\n",
    "c_l[0] = 100\n",
    "c_l[2][0] = -10\n",
    "\n",
    "print(o_l)\n",
    "print(c_l)"
   ]
  },
  {
   "cell_type": "code",
   "execution_count": 59,
   "id": "4bcfbddf-0e94-4fb5-ac89-180460e078d8",
   "metadata": {},
   "outputs": [
    {
     "name": "stdout",
     "output_type": "stream",
     "text": [
      "[1, 2, [10, 11]]\n",
      "[100, 2, [10, -11]]\n"
     ]
    }
   ],
   "source": [
    "import copy\n",
    "\n",
    "o_l = [1, 2, [10, 11]]\n",
    "c_l = copy.deepcopy(o_l)\n",
    "\n",
    "c_l[0] = 100\n",
    "c_l[2][1] = -11\n",
    "\n",
    "print(o_l)\n",
    "print(c_l)"
   ]
  },
  {
   "cell_type": "markdown",
   "id": "a79ba99f-7ced-4c44-aa87-60f594ba178d",
   "metadata": {},
   "source": [
    "### 4.2. list comprehension"
   ]
  },
  {
   "cell_type": "code",
   "execution_count": 60,
   "id": "121b990f-c33e-4beb-9820-81ba2c2c9905",
   "metadata": {},
   "outputs": [
    {
     "name": "stdout",
     "output_type": "stream",
     "text": [
      "[1, 2, 3, 4, 5, 6, 7, 8, 9, 10]\n"
     ]
    }
   ],
   "source": [
    "numbers = list(range(1, 11))\n",
    "print(numbers)"
   ]
  },
  {
   "cell_type": "code",
   "execution_count": 63,
   "id": "8d085989-4d61-4b98-a8ec-ff075d8bf49b",
   "metadata": {},
   "outputs": [
    {
     "name": "stdout",
     "output_type": "stream",
     "text": [
      "[3, 6, 9, 12, 15, 18, 21, 24, 27, 30]\n"
     ]
    }
   ],
   "source": [
    "result = []\n",
    "\n",
    "for number in numbers:\n",
    "    temp = number * 3\n",
    "    result.append(temp)\n",
    "\n",
    "print(result)"
   ]
  },
  {
   "cell_type": "code",
   "execution_count": 64,
   "id": "ecf92b3a-6409-46b7-8356-a49266019c65",
   "metadata": {},
   "outputs": [
    {
     "name": "stdout",
     "output_type": "stream",
     "text": [
      "[3, 6, 9, 12, 15, 18, 21, 24, 27, 30]\n"
     ]
    }
   ],
   "source": [
    "result = [number * 3 for number in numbers]\n",
    "print(result)"
   ]
  },
  {
   "cell_type": "code",
   "execution_count": 65,
   "id": "06422238-9c67-4ed2-90e7-0b09bd7e5b5c",
   "metadata": {},
   "outputs": [
    {
     "name": "stdout",
     "output_type": "stream",
     "text": [
      "[2, 4, 6, 8, 10, 12, 14, 16, 18, 20, 22, 24, 26, 28, 30]\n"
     ]
    }
   ],
   "source": [
    "# 짝수만 고르기\n",
    "numbers = list(range(1, 31))\n",
    "result = []\n",
    "\n",
    "for number in numbers:\n",
    "    if number % 2 == 0:\n",
    "        result.append(number)\n",
    "\n",
    "print(result)"
   ]
  },
  {
   "cell_type": "code",
   "execution_count": 66,
   "id": "f8bc7647-9632-4a77-8fbf-d88fa521f76b",
   "metadata": {},
   "outputs": [
    {
     "name": "stdout",
     "output_type": "stream",
     "text": [
      "[2, 4, 6, 8, 10, 12, 14, 16, 18, 20, 22, 24, 26, 28, 30]\n"
     ]
    }
   ],
   "source": [
    "numbers = list(range(1, 31))\n",
    "\n",
    "result = [number for number in numbers if number % 2 == 0]\n",
    "print(result)"
   ]
  },
  {
   "cell_type": "code",
   "execution_count": 77,
   "id": "e583cad4-f8a1-4bad-9696-295c68271c3a",
   "metadata": {},
   "outputs": [],
   "source": [
    "# 연습! 모음제거\n",
    "words = 'my name is hong'\n",
    "# => my nm s hng"
   ]
  },
  {
   "cell_type": "code",
   "execution_count": 72,
   "id": "b44f5550-ddab-4981-a0e7-682bcfa7fa23",
   "metadata": {},
   "outputs": [
    {
     "name": "stdout",
     "output_type": "stream",
     "text": [
      "my nm s hng\n"
     ]
    }
   ],
   "source": [
    "vowels = 'aeiou'\n",
    "result = []\n",
    "\n",
    "for word in words:\n",
    "    if word not in vowels:\n",
    "        result.append(word)\n",
    "        \n",
    "print(''.join(result))"
   ]
  },
  {
   "cell_type": "code",
   "execution_count": 74,
   "id": "7ba034f2-97b3-47aa-8b64-3d3b031fe206",
   "metadata": {},
   "outputs": [
    {
     "name": "stdout",
     "output_type": "stream",
     "text": [
      "my nm s hng\n"
     ]
    }
   ],
   "source": [
    "vowels = 'aeiou'\n",
    "result = [word for word in words if word not in vowels]\n",
    "print(''.join(result))"
   ]
  },
  {
   "cell_type": "code",
   "execution_count": 78,
   "id": "2e466720-26e8-43e1-9cbf-e28be75b45ba",
   "metadata": {},
   "outputs": [
    {
     "name": "stdout",
     "output_type": "stream",
     "text": [
      "my nm s hng\n"
     ]
    }
   ],
   "source": [
    "vowels = 'aeiou'\n",
    "\n",
    "for word in vowels:\n",
    "    words = words.replace(word, '')\n",
    "\n",
    "print(words)"
   ]
  },
  {
   "cell_type": "markdown",
   "id": "ec2aa78d-c56a-4a60-9fee-eaa051b6c1bd",
   "metadata": {},
   "source": [
    "## 5. dictionary 메소드"
   ]
  },
  {
   "cell_type": "code",
   "execution_count": 80,
   "id": "748fc8b7-34b4-441e-99ae-17007b144ff4",
   "metadata": {},
   "outputs": [],
   "source": [
    "info = {\n",
    "    'name': 'hong',\n",
    "    'location': 'seoul',\n",
    "    'age': 20,\n",
    "    'phone_book':{\n",
    "        'kim': '010-1234-1234',\n",
    "        'park': '010-4321-4321'\n",
    "    }, \n",
    "    'models': ['iphone', 'ipad'],\n",
    "}"
   ]
  },
  {
   "cell_type": "code",
   "execution_count": 81,
   "id": "c3417abb-a976-406c-913f-1e817d5a9de8",
   "metadata": {},
   "outputs": [
    {
     "name": "stdout",
     "output_type": "stream",
     "text": [
      "hong\n",
      "20\n",
      "010-4321-4321\n",
      "iphone\n"
     ]
    }
   ],
   "source": [
    "print(info['name'])\n",
    "print(info['age'])\n",
    "print(info['phone_book']['park'])\n",
    "print(info['models'][0])"
   ]
  },
  {
   "cell_type": "code",
   "execution_count": 82,
   "id": "0cae5ded-26f6-4067-905d-7baba9087499",
   "metadata": {},
   "outputs": [
    {
     "name": "stdout",
     "output_type": "stream",
     "text": [
      "{'name': 'lee', 'location': 'seoul', 'age': 20, 'phone_book': {'kim': '010-1234-1234', 'park': '010-4321-4321'}, 'models': ['iphone', 'ipad']}\n"
     ]
    }
   ],
   "source": [
    "info['name'] = 'lee'\n",
    "print(info)"
   ]
  },
  {
   "cell_type": "code",
   "execution_count": 84,
   "id": "9ed75228-68ae-47fa-b3db-97e9736d613b",
   "metadata": {},
   "outputs": [
    {
     "name": "stdout",
     "output_type": "stream",
     "text": [
      "{'name': 'choi', 'location': 'seoul', 'age': 20, 'phone_book': {'kim': '010-1234-1234', 'park': '010-4321-4321'}, 'models': ['iphone', 'ipad']}\n"
     ]
    }
   ],
   "source": [
    "info.update(name='choi')\n",
    "print(info)"
   ]
  },
  {
   "cell_type": "code",
   "execution_count": 85,
   "id": "20bb3112-5e37-4862-8642-0404ab6cd385",
   "metadata": {},
   "outputs": [
    {
     "name": "stdout",
     "output_type": "stream",
     "text": [
      "{'name': 'choi', 'age': 20, 'phone_book': {'kim': '010-1234-1234', 'park': '010-4321-4321'}, 'models': ['iphone', 'ipad']}\n"
     ]
    }
   ],
   "source": [
    "info.pop('location')\n",
    "print(info)"
   ]
  },
  {
   "cell_type": "code",
   "execution_count": 86,
   "id": "8e35cfa3-deae-4683-a4cc-9f00e029f59d",
   "metadata": {},
   "outputs": [
    {
     "name": "stdout",
     "output_type": "stream",
     "text": [
      "choi\n",
      "choi\n"
     ]
    }
   ],
   "source": [
    "print(info.get('name'))\n",
    "print(info['name'])"
   ]
  },
  {
   "cell_type": "code",
   "execution_count": 87,
   "id": "a83fd09e-5072-4c27-8662-8f8b5b74907a",
   "metadata": {},
   "outputs": [
    {
     "name": "stdout",
     "output_type": "stream",
     "text": [
      "None\n"
     ]
    }
   ],
   "source": [
    "print(info.get('birth'))\n",
    "# print(info['birth']) # error"
   ]
  },
  {
   "cell_type": "code",
   "execution_count": 89,
   "id": "0b47ce59-34aa-433d-9b2f-b2f40a1d96ae",
   "metadata": {},
   "outputs": [
    {
     "name": "stdout",
     "output_type": "stream",
     "text": [
      "{'A': 4, 'B': 2, 'O': 1, 'AB': 2}\n"
     ]
    }
   ],
   "source": [
    "# 연습문제\n",
    "blood_type = ['A', 'B', 'A', 'B', 'O', 'AB', 'A', 'A', 'AB']\n",
    "\n",
    "result = {\n",
    "    'A': 0,\n",
    "    'B': 0,\n",
    "    'O': 0,\n",
    "    'AB':0\n",
    "}\n",
    "\n",
    "for blood in blood_type:\n",
    "    result[blood] += 1\n",
    "\n",
    "print(result)"
   ]
  },
  {
   "cell_type": "code",
   "execution_count": 91,
   "id": "9330efce-4631-45e7-9ba7-42a1279fc778",
   "metadata": {},
   "outputs": [
    {
     "name": "stdout",
     "output_type": "stream",
     "text": [
      "{'서울': 2, '대전': 1, '부산': 1, '대구': 1, 'LA': 1, '파리': 1}\n"
     ]
    }
   ],
   "source": [
    "# 연습문제2 데이터가 정해지지 않은 상태에서\n",
    "locations = ['서울', '서울', '대전', '부산', '대구','LA', '파리']\n",
    "result = {}\n",
    "\n",
    "for location in locations:\n",
    "    if result.get(location):\n",
    "        result[location] += 1\n",
    "    else:\n",
    "        result[location] = 1\n",
    "\n",
    "print(result)"
   ]
  },
  {
   "cell_type": "markdown",
   "id": "04b076c2-77b0-4a9d-a851-ee68409716e7",
   "metadata": {},
   "source": [
    "### 5.1. dict comprehension"
   ]
  },
  {
   "cell_type": "code",
   "execution_count": 95,
   "id": "bc07f58b-0b33-4073-90cc-93284663d07a",
   "metadata": {},
   "outputs": [
    {
     "name": "stdout",
     "output_type": "stream",
     "text": [
      "{1: 1, 2: 8, 3: 27, 4: 64, 5: 125, 6: 216, 7: 343, 8: 512, 9: 729, 10: 1000}\n"
     ]
    }
   ],
   "source": [
    "result = {}\n",
    "numbers = range(1, 11)\n",
    "\n",
    "for number in numbers:\n",
    "    result[number] = number ** 3\n",
    "\n",
    "print(result)"
   ]
  },
  {
   "cell_type": "code",
   "execution_count": 96,
   "id": "da669182-c08f-4f8a-b652-e63f9329a83a",
   "metadata": {},
   "outputs": [
    {
     "name": "stdout",
     "output_type": "stream",
     "text": [
      "{1: 1, 2: 8, 3: 27, 4: 64, 5: 125, 6: 216, 7: 343, 8: 512, 9: 729, 10: 1000}\n"
     ]
    }
   ],
   "source": [
    "result = {number: number ** 3 for number in range(1, 11)}\n",
    "print(result)"
   ]
  },
  {
   "cell_type": "code",
   "execution_count": 97,
   "id": "0e8e79c3-c7d3-4657-8e61-cb3c71c26579",
   "metadata": {},
   "outputs": [
    {
     "name": "stdout",
     "output_type": "stream",
     "text": [
      "{'수원': 30, '부산': 0}\n"
     ]
    }
   ],
   "source": [
    "dust = {\n",
    "    '서울': 40,\n",
    "    '인천': 100,\n",
    "    '수원': 30,\n",
    "    '부산': 0,\n",
    "}\n",
    "result = {}\n",
    "\n",
    "for key, value in dust.items():\n",
    "    if value <= 30:\n",
    "        result[key] = value\n",
    "\n",
    "print(result)"
   ]
  },
  {
   "cell_type": "code",
   "execution_count": 99,
   "id": "94fb8afa-3b76-4b64-92c3-003ab7821239",
   "metadata": {},
   "outputs": [
    {
     "name": "stdout",
     "output_type": "stream",
     "text": [
      "{'수원': '매우 좋음', '부산': '매우 좋음'}\n"
     ]
    }
   ],
   "source": [
    "result = {key: '매우 좋음' for key, value in dust.items() if value <= 30}\n",
    "print(result)"
   ]
  },
  {
   "cell_type": "markdown",
   "id": "15faf449-19ac-4d2a-820d-1386c3b9f7ba",
   "metadata": {},
   "source": [
    "## 6. Set 메소드"
   ]
  },
  {
   "cell_type": "code",
   "execution_count": 105,
   "id": "33a5501a-387b-4c9c-8c91-70534d91660a",
   "metadata": {},
   "outputs": [],
   "source": [
    "fruits  = {'apple', 'banana', 'melon'}"
   ]
  },
  {
   "cell_type": "code",
   "execution_count": 106,
   "id": "7fdb2f14-74b6-4863-9572-64d7dd7ac5f6",
   "metadata": {},
   "outputs": [
    {
     "name": "stdout",
     "output_type": "stream",
     "text": [
      "{'banana', 'apple', 'watermelon', 'melon'}\n"
     ]
    }
   ],
   "source": [
    "fruits.add('watermelon')\n",
    "print(fruits)"
   ]
  },
  {
   "cell_type": "code",
   "execution_count": 107,
   "id": "4c7b9d90-2e20-4db5-acc8-95d88d74c2a3",
   "metadata": {},
   "outputs": [
    {
     "name": "stdout",
     "output_type": "stream",
     "text": [
      "{'banana', 'orange', 'watermelon', 'grape', 'apple', 'melon'}\n"
     ]
    }
   ],
   "source": [
    "fruits.update({'orange', 'grape'})\n",
    "print(fruits)"
   ]
  },
  {
   "cell_type": "code",
   "execution_count": 108,
   "id": "dd78b5c8-f4f0-4093-917c-97c6403a1fe3",
   "metadata": {},
   "outputs": [
    {
     "name": "stdout",
     "output_type": "stream",
     "text": [
      "{'banana', 'orange', 'watermelon', 'grape', 'melon'}\n"
     ]
    }
   ],
   "source": [
    "fruits.remove('apple')\n",
    "print(fruits)"
   ]
  },
  {
   "cell_type": "code",
   "execution_count": 109,
   "id": "48501759-3e99-4c12-a1e5-47d7cf68e54d",
   "metadata": {},
   "outputs": [
    {
     "name": "stdout",
     "output_type": "stream",
     "text": [
      "{'orange', 'watermelon', 'grape', 'melon'}\n"
     ]
    }
   ],
   "source": [
    "fruits.pop() # 랜덤하게 지워줌\n",
    "print(fruits)"
   ]
  },
  {
   "cell_type": "markdown",
   "id": "b3a1bddd-a3f8-4b70-b41a-7cde2144b47a",
   "metadata": {},
   "source": [
    "## 7. map, filter, zip"
   ]
  },
  {
   "cell_type": "markdown",
   "id": "f019daca-b920-4604-b59f-f451ceaa5f28",
   "metadata": {},
   "source": [
    "- *공통점: lazy한 계산을 함*"
   ]
  },
  {
   "cell_type": "markdown",
   "id": "eb506338-d1f6-4100-afd7-825b489807e8",
   "metadata": {},
   "source": [
    "### 7.1. map"
   ]
  },
  {
   "cell_type": "markdown",
   "id": "ad15fb50-60a0-4b9d-ad12-289a21bbd53d",
   "metadata": {},
   "source": [
    "- `map(function, iterable)`\n",
    "    - iterable: 시퀀스 타입 *(반복 가능한 객체)*\n",
    "- *list 안 모든 데이터의 일괄 처리*"
   ]
  },
  {
   "cell_type": "code",
   "execution_count": 111,
   "id": "86a8a6cd-03f1-47d6-bc35-138bfbc50356",
   "metadata": {},
   "outputs": [
    {
     "name": "stdout",
     "output_type": "stream",
     "text": [
      "['1', '2', '3', '4', '5']\n"
     ]
    }
   ],
   "source": [
    "numbers = [1, 2, 3, 4, 5]\n",
    "\n",
    "result = []\n",
    "for number in numbers:\n",
    "    result.append(str(number))\n",
    "print(result)"
   ]
  },
  {
   "cell_type": "code",
   "execution_count": 112,
   "id": "de1329d6-f8a9-478a-93ee-0ee549153f7f",
   "metadata": {},
   "outputs": [
    {
     "name": "stdout",
     "output_type": "stream",
     "text": [
      "<map object at 0x0000021A33E04EB0>\n",
      "['1', '2', '3', '4', '5']\n"
     ]
    }
   ],
   "source": [
    "result = map(str, numbers)\n",
    "print(result)\n",
    "print(list(result))"
   ]
  },
  {
   "cell_type": "code",
   "execution_count": 113,
   "id": "7fbff044-9e05-44cd-b8ef-6f53881bd7d9",
   "metadata": {},
   "outputs": [
    {
     "name": "stdout",
     "output_type": "stream",
     "text": [
      "['1', '2', '3', '4', '5']\n"
     ]
    }
   ],
   "source": [
    "result = list(map(str, numbers))\n",
    "print(result)"
   ]
  },
  {
   "cell_type": "code",
   "execution_count": 114,
   "id": "be1abc84-6f0f-4d34-a2c2-417eecec93f1",
   "metadata": {},
   "outputs": [
    {
     "name": "stdout",
     "output_type": "stream",
     "text": [
      "[1, 8, 27, 64, 125]\n"
     ]
    }
   ],
   "source": [
    "numbers = [1, 2, 3, 4, 5]\n",
    "\n",
    "result = []\n",
    "for number in numbers:\n",
    "    result.append(number ** 3)\n",
    "\n",
    "print(result)"
   ]
  },
  {
   "cell_type": "code",
   "execution_count": 115,
   "id": "224b7aa3-e64a-4365-b290-5458988e353b",
   "metadata": {},
   "outputs": [
    {
     "name": "stdout",
     "output_type": "stream",
     "text": [
      "<map object at 0x0000021A35410E80>\n",
      "[1, 8, 27, 64, 125]\n"
     ]
    }
   ],
   "source": [
    "def cube(x):\n",
    "    return x ** 3\n",
    "\n",
    "result = map(cube, numbers)\n",
    "print(result)\n",
    "print(list(result))"
   ]
  },
  {
   "cell_type": "code",
   "execution_count": 116,
   "id": "ebf3109f-58b1-4b08-9f2a-54417c54ec0a",
   "metadata": {},
   "outputs": [
    {
     "name": "stdout",
     "output_type": "stream",
     "text": [
      "[1, 3, 5, 7, 9]\n"
     ]
    }
   ],
   "source": [
    "test_input = '1 3 5 7 9'\n",
    "\n",
    "# 1. 띄어쓰기 기준으로 나눔\n",
    "test_input.split()\n",
    "\n",
    "# 2. 각 글자를 숫자로 바꿈\n",
    "map(int, test_input.split())\n",
    "\n",
    "# 3. 리스트에 저장\n",
    "result = list(map(int, test_input.split()))\n",
    "\n",
    "print(result)"
   ]
  },
  {
   "cell_type": "markdown",
   "id": "63c80009-1083-4383-9cf6-e9c65a03ebdc",
   "metadata": {},
   "source": [
    "### 7.2. filter"
   ]
  },
  {
   "cell_type": "markdown",
   "id": "92866aae-6136-452a-87f3-12135dcf76a8",
   "metadata": {},
   "source": [
    "- `filter(function, iterable)`\n",
    "- *True만 골라내기 때문에 T or F만 나오는 함수를 써야함*"
   ]
  },
  {
   "cell_type": "code",
   "execution_count": 117,
   "id": "a8a88a14-107f-4f4f-8938-2683108cd5f0",
   "metadata": {},
   "outputs": [
    {
     "name": "stdout",
     "output_type": "stream",
     "text": [
      "[1, 3, 5]\n"
     ]
    }
   ],
   "source": [
    "numbers = [1, 2, 3, 4, 5, 6]\n",
    "\n",
    "result = []\n",
    "for number in numbers:\n",
    "    if number % 2 == 1:\n",
    "        result.append(number)\n",
    "\n",
    "print(result)"
   ]
  },
  {
   "cell_type": "code",
   "execution_count": 118,
   "id": "738f60f8-c736-4df7-b7d6-ad7f73832d89",
   "metadata": {},
   "outputs": [
    {
     "name": "stdout",
     "output_type": "stream",
     "text": [
      "<filter object at 0x0000021A35411180>\n",
      "[1, 3, 5]\n"
     ]
    }
   ],
   "source": [
    "def is_odd(x):\n",
    "    return x % 2\n",
    "\n",
    "result = filter(is_odd, numbers)\n",
    "print(result)\n",
    "print(list(result))"
   ]
  },
  {
   "cell_type": "markdown",
   "id": "ba862eb2-43dc-44d6-adea-14b2a2e3eb59",
   "metadata": {},
   "source": [
    "### 7.3. zip"
   ]
  },
  {
   "cell_type": "code",
   "execution_count": 120,
   "id": "06d6b64b-2d50-4a34-bb44-b64f1b2d3973",
   "metadata": {},
   "outputs": [
    {
     "name": "stdout",
     "output_type": "stream",
     "text": [
      "<zip object at 0x0000021A3590D900>\n",
      "[(1, 100), (2, 200), (3, 300)]\n"
     ]
    }
   ],
   "source": [
    "a = [1, 2, 3]\n",
    "b = [100, 200, 300, 400]\n",
    "\n",
    "result = zip(a, b)\n",
    "print(result)\n",
    "print(list(result))"
   ]
  },
  {
   "cell_type": "markdown",
   "id": "479be024-06f5-4b40-b052-05050518003a",
   "metadata": {},
   "source": [
    "# 05. module"
   ]
  },
  {
   "cell_type": "markdown",
   "id": "b9ab41ec-4566-40c4-aa97-91a019857a8f",
   "metadata": {},
   "source": [
    "## 1. 파이썬 내장 패키지"
   ]
  },
  {
   "cell_type": "markdown",
   "id": "9b3e04cd-5cc8-44a4-af52-f79d96cd6163",
   "metadata": {},
   "source": [
    "### 1.1. math"
   ]
  },
  {
   "cell_type": "code",
   "execution_count": 2,
   "id": "1ccb9827-03b2-4610-aaa5-9b7857c2c761",
   "metadata": {},
   "outputs": [],
   "source": [
    "import math"
   ]
  },
  {
   "cell_type": "code",
   "execution_count": 3,
   "id": "aa694691-83c1-4012-9684-32c83fb7182a",
   "metadata": {},
   "outputs": [
    {
     "data": {
      "text/plain": [
       "3.141592653589793"
      ]
     },
     "execution_count": 3,
     "metadata": {},
     "output_type": "execute_result"
    }
   ],
   "source": [
    "math.pi"
   ]
  },
  {
   "cell_type": "code",
   "execution_count": 4,
   "id": "c03da6ff-e0cf-42c6-a25d-8a5ddb8f4c48",
   "metadata": {},
   "outputs": [
    {
     "data": {
      "text/plain": [
       "2.718281828459045"
      ]
     },
     "execution_count": 4,
     "metadata": {},
     "output_type": "execute_result"
    }
   ],
   "source": [
    "math.e"
   ]
  },
  {
   "cell_type": "code",
   "execution_count": 5,
   "id": "a339c372-bde1-4340-8af4-a4dbc6beeae3",
   "metadata": {},
   "outputs": [
    {
     "data": {
      "text/plain": [
       "3"
      ]
     },
     "execution_count": 5,
     "metadata": {},
     "output_type": "execute_result"
    }
   ],
   "source": [
    "math.ceil(math.e) # 올림"
   ]
  },
  {
   "cell_type": "code",
   "execution_count": 6,
   "id": "fb26c28e-2ec5-4388-b5b5-04effa820ad8",
   "metadata": {},
   "outputs": [
    {
     "data": {
      "text/plain": [
       "2"
      ]
     },
     "execution_count": 6,
     "metadata": {},
     "output_type": "execute_result"
    }
   ],
   "source": [
    "math.floor(math.e) # 내림"
   ]
  },
  {
   "cell_type": "code",
   "execution_count": 7,
   "id": "0a400583-dd7b-4344-b3c0-32ba4b8d14ff",
   "metadata": {},
   "outputs": [
    {
     "data": {
      "text/plain": [
       "3.0"
      ]
     },
     "execution_count": 7,
     "metadata": {},
     "output_type": "execute_result"
    }
   ],
   "source": [
    "math.sqrt(9)"
   ]
  },
  {
   "cell_type": "code",
   "execution_count": 8,
   "id": "50a98982-4d1f-4f53-80ba-cbd9f1b8caea",
   "metadata": {},
   "outputs": [
    {
     "data": {
      "text/plain": [
       "3628800"
      ]
     },
     "execution_count": 8,
     "metadata": {},
     "output_type": "execute_result"
    }
   ],
   "source": [
    "math.factorial(10)"
   ]
  },
  {
   "cell_type": "code",
   "execution_count": 9,
   "id": "22124d66-840b-476a-afd0-da07e1a86c62",
   "metadata": {},
   "outputs": [],
   "source": [
    "from math import sqrt, factorial"
   ]
  },
  {
   "cell_type": "code",
   "execution_count": 10,
   "id": "ffbc9f21-4808-4e7e-b941-1ad5b7cd4d07",
   "metadata": {},
   "outputs": [
    {
     "data": {
      "text/plain": [
       "4.0"
      ]
     },
     "execution_count": 10,
     "metadata": {},
     "output_type": "execute_result"
    }
   ],
   "source": [
    "sqrt(16)"
   ]
  },
  {
   "cell_type": "code",
   "execution_count": 11,
   "id": "f5a5444c-fcd6-4a25-9e2b-037e7ba39aae",
   "metadata": {},
   "outputs": [
    {
     "data": {
      "text/plain": [
       "120"
      ]
     },
     "execution_count": 11,
     "metadata": {},
     "output_type": "execute_result"
    }
   ],
   "source": [
    "factorial(5)"
   ]
  },
  {
   "cell_type": "markdown",
   "id": "a814899d-40a1-46fa-8941-2821874f432a",
   "metadata": {},
   "source": [
    "### 1.2. random"
   ]
  },
  {
   "cell_type": "code",
   "execution_count": 18,
   "id": "f2bbebb8-e841-4d57-9d39-28f03f27af56",
   "metadata": {},
   "outputs": [],
   "source": [
    "import random"
   ]
  },
  {
   "cell_type": "code",
   "execution_count": 19,
   "id": "1fe16685-790c-4198-bddf-16b52b3c2f5f",
   "metadata": {},
   "outputs": [
    {
     "data": {
      "text/plain": [
       "0.08718667752263232"
      ]
     },
     "execution_count": 19,
     "metadata": {},
     "output_type": "execute_result"
    }
   ],
   "source": [
    "random.random() # 0 ~ 1 사이의 랜덤한 소수"
   ]
  },
  {
   "cell_type": "code",
   "execution_count": 20,
   "id": "cc43ed9b-0977-4f7a-9599-0af5aaeaf7ca",
   "metadata": {},
   "outputs": [
    {
     "data": {
      "text/plain": [
       "7"
      ]
     },
     "execution_count": 20,
     "metadata": {},
     "output_type": "execute_result"
    }
   ],
   "source": [
    "random.randint(1, 10) # 지정한 범위의 자연수"
   ]
  },
  {
   "cell_type": "code",
   "execution_count": 21,
   "id": "09420002-6b7d-4894-a11d-ae11285b6792",
   "metadata": {},
   "outputs": [
    {
     "data": {
      "text/plain": [
       "0.052363598850944326"
      ]
     },
     "execution_count": 21,
     "metadata": {},
     "output_type": "execute_result"
    }
   ],
   "source": [
    "random.seed(123) # 똑같은 값을 내고 싶을 때 seed를 고정\n",
    "random.random()"
   ]
  },
  {
   "cell_type": "code",
   "execution_count": 22,
   "id": "99252eb6-404a-4766-a2b5-a271eb65afc5",
   "metadata": {},
   "outputs": [
    {
     "name": "stdout",
     "output_type": "stream",
     "text": [
      "[3, 5, 2, 4, 1]\n"
     ]
    }
   ],
   "source": [
    "numbers = [1, 2, 3, 4, 5]\n",
    "\n",
    "random.shuffle(numbers)\n",
    "print(numbers)"
   ]
  },
  {
   "cell_type": "code",
   "execution_count": 25,
   "id": "e6b1d17c-d0ea-4d99-9665-46f49dd1746d",
   "metadata": {},
   "outputs": [
    {
     "data": {
      "text/plain": [
       "2"
      ]
     },
     "execution_count": 25,
     "metadata": {},
     "output_type": "execute_result"
    }
   ],
   "source": [
    "random.choice(numbers) # 복원추출"
   ]
  },
  {
   "cell_type": "code",
   "execution_count": 28,
   "id": "622ae2f0-b801-4a31-aec2-cc7152a33dfc",
   "metadata": {},
   "outputs": [
    {
     "data": {
      "text/plain": [
       "[1, 2]"
      ]
     },
     "execution_count": 28,
     "metadata": {},
     "output_type": "execute_result"
    }
   ],
   "source": [
    "random.sample(numbers, 2) # 비복원추출"
   ]
  },
  {
   "cell_type": "markdown",
   "id": "24b26e38-6853-4c3d-8edd-35f3fc7785da",
   "metadata": {},
   "source": [
    "### 1.3. datetime"
   ]
  },
  {
   "cell_type": "code",
   "execution_count": 29,
   "id": "77a4ae35-f5e1-4047-9359-3cc1c6476759",
   "metadata": {},
   "outputs": [],
   "source": [
    "from datetime import datetime"
   ]
  },
  {
   "cell_type": "code",
   "execution_count": 30,
   "id": "5d29d912-af0e-4cfa-9f8a-62157a50a8a5",
   "metadata": {},
   "outputs": [
    {
     "data": {
      "text/plain": [
       "datetime.datetime(2025, 3, 4, 19, 49, 48, 598840)"
      ]
     },
     "execution_count": 30,
     "metadata": {},
     "output_type": "execute_result"
    }
   ],
   "source": [
    "datetime.now()"
   ]
  },
  {
   "cell_type": "code",
   "execution_count": 31,
   "id": "46c8b669-cd85-47cf-a653-6dd5f48a1d15",
   "metadata": {},
   "outputs": [
    {
     "data": {
      "text/plain": [
       "datetime.datetime(2025, 3, 4, 19, 49, 54, 667898)"
      ]
     },
     "execution_count": 31,
     "metadata": {},
     "output_type": "execute_result"
    }
   ],
   "source": [
    "datetime.today()"
   ]
  },
  {
   "cell_type": "code",
   "execution_count": 32,
   "id": "cf33bfe4-f315-4d86-9726-675665db9c0f",
   "metadata": {},
   "outputs": [
    {
     "name": "stderr",
     "output_type": "stream",
     "text": [
      "C:\\Users\\1-14\\AppData\\Local\\Temp\\ipykernel_4052\\2518267345.py:1: DeprecationWarning: datetime.datetime.utcnow() is deprecated and scheduled for removal in a future version. Use timezone-aware objects to represent datetimes in UTC: datetime.datetime.now(datetime.UTC).\n",
      "  datetime.utcnow() # 그리니치 천문대 기준 영국시간\n"
     ]
    },
    {
     "data": {
      "text/plain": [
       "datetime.datetime(2025, 3, 4, 10, 50, 23, 918331)"
      ]
     },
     "execution_count": 32,
     "metadata": {},
     "output_type": "execute_result"
    }
   ],
   "source": [
    "datetime.utcnow() # 그리니치 천문대 기준 영국시간"
   ]
  },
  {
   "cell_type": "code",
   "execution_count": 33,
   "id": "42d68ca6-02c4-4f04-9e6d-a0c8c9c598cc",
   "metadata": {},
   "outputs": [],
   "source": [
    "now = datetime.now() # 데이트 타임 객체"
   ]
  },
  {
   "cell_type": "code",
   "execution_count": 34,
   "id": "113cf5df-e4c7-43d7-9eac-ab565bc6b36f",
   "metadata": {},
   "outputs": [
    {
     "data": {
      "text/plain": [
       "datetime.datetime(2025, 3, 4, 19, 50, 57, 311211)"
      ]
     },
     "execution_count": 34,
     "metadata": {},
     "output_type": "execute_result"
    }
   ],
   "source": [
    "now"
   ]
  },
  {
   "cell_type": "code",
   "execution_count": 35,
   "id": "1177ec50-a3bc-4547-b0ad-eca6b2ffee51",
   "metadata": {},
   "outputs": [
    {
     "data": {
      "text/plain": [
       "2025"
      ]
     },
     "execution_count": 35,
     "metadata": {},
     "output_type": "execute_result"
    }
   ],
   "source": [
    "now.year"
   ]
  },
  {
   "cell_type": "code",
   "execution_count": 36,
   "id": "1843c1a0-bf35-428a-8022-31822e56cc31",
   "metadata": {},
   "outputs": [
    {
     "data": {
      "text/plain": [
       "3"
      ]
     },
     "execution_count": 36,
     "metadata": {},
     "output_type": "execute_result"
    }
   ],
   "source": [
    "now.month"
   ]
  },
  {
   "cell_type": "code",
   "execution_count": 37,
   "id": "c3162f2a-8d0f-44f1-a78b-459e37fb8eb3",
   "metadata": {},
   "outputs": [
    {
     "data": {
      "text/plain": [
       "4"
      ]
     },
     "execution_count": 37,
     "metadata": {},
     "output_type": "execute_result"
    }
   ],
   "source": [
    "now.day"
   ]
  },
  {
   "cell_type": "code",
   "execution_count": 40,
   "id": "9ba2410f-6295-464b-8ee1-cd49f3dbd6d7",
   "metadata": {},
   "outputs": [
    {
     "data": {
      "text/plain": [
       "1"
      ]
     },
     "execution_count": 40,
     "metadata": {},
     "output_type": "execute_result"
    }
   ],
   "source": [
    "now.weekday() # 0 = monday"
   ]
  },
  {
   "cell_type": "code",
   "execution_count": 42,
   "id": "ffb93c84-15bf-4cb1-8472-a2d0c19ff240",
   "metadata": {},
   "outputs": [
    {
     "name": "stdout",
     "output_type": "stream",
     "text": [
      "2025-03-04 19:50:57.311211\n"
     ]
    }
   ],
   "source": [
    "print(now)"
   ]
  },
  {
   "cell_type": "code",
   "execution_count": 43,
   "id": "1b7fed25-89a6-423f-bd88-08dfa5aaaad0",
   "metadata": {},
   "outputs": [
    {
     "data": {
      "text/plain": [
       "'2025년 03월 04일'"
      ]
     },
     "execution_count": 43,
     "metadata": {},
     "output_type": "execute_result"
    }
   ],
   "source": [
    "now.strftime('%Y년 %m월 %d일')"
   ]
  },
  {
   "cell_type": "code",
   "execution_count": 45,
   "id": "11d32042-1a91-4511-bd24-df5e5b153bd2",
   "metadata": {},
   "outputs": [
    {
     "data": {
      "text/plain": [
       "'25/ Mar/ 04'"
      ]
     },
     "execution_count": 45,
     "metadata": {},
     "output_type": "execute_result"
    }
   ],
   "source": [
    "now.strftime('%y/ %b/ %d')"
   ]
  },
  {
   "cell_type": "code",
   "execution_count": 46,
   "id": "479dcfc8-78fb-492a-a8dd-029e7efefa70",
   "metadata": {},
   "outputs": [
    {
     "name": "stdout",
     "output_type": "stream",
     "text": [
      "2025-12-25 00:00:00\n"
     ]
    }
   ],
   "source": [
    "x_mas = datetime(2025, 12, 25)\n",
    "print(x_mas)"
   ]
  },
  {
   "cell_type": "code",
   "execution_count": 47,
   "id": "1167861d-1860-4e8d-873a-d2042923719e",
   "metadata": {},
   "outputs": [],
   "source": [
    "from datetime import timedelta"
   ]
  },
  {
   "cell_type": "code",
   "execution_count": 48,
   "id": "5154f2c1-7736-4f5a-ba3d-8689c1533aad",
   "metadata": {},
   "outputs": [
    {
     "name": "stdout",
     "output_type": "stream",
     "text": [
      "2025-09-16 00:00:00\n"
     ]
    }
   ],
   "source": [
    "future = timedelta(days=-100)\n",
    "print(x_mas + future) # 크리스마스 100일 전"
   ]
  },
  {
   "cell_type": "code",
   "execution_count": 49,
   "id": "fe7761dd-0f63-44a4-b68a-9371011a7591",
   "metadata": {},
   "outputs": [
    {
     "data": {
      "text/plain": [
       "datetime.timedelta(days=295, seconds=14942, microseconds=688789)"
      ]
     },
     "execution_count": 49,
     "metadata": {},
     "output_type": "execute_result"
    }
   ],
   "source": [
    "x_mas - now # 크리스마스까지 며칠 남았는지"
   ]
  },
  {
   "cell_type": "markdown",
   "id": "0e2a0d07-e786-43de-babd-98f66c36ee23",
   "metadata": {},
   "source": [
    "## 2. 외부 라이브러리"
   ]
  },
  {
   "cell_type": "markdown",
   "id": "0eb1da45-d61b-485c-b9c0-30f17c415e18",
   "metadata": {},
   "source": [
    "### 2.1. requests"
   ]
  },
  {
   "cell_type": "code",
   "execution_count": 50,
   "id": "b3cfeee2-6ffa-41fd-9f5d-8b6194ae8751",
   "metadata": {},
   "outputs": [],
   "source": [
    "import requests"
   ]
  },
  {
   "cell_type": "code",
   "execution_count": 51,
   "id": "e694facf-0cb8-4451-8e84-afadf519b73f",
   "metadata": {},
   "outputs": [],
   "source": [
    "r = requests.get('http://api.github.com/events')\n",
    "# print(r.text)"
   ]
  },
  {
   "cell_type": "code",
   "execution_count": 55,
   "id": "96e26068-3959-42b0-b1a2-e06860ad641f",
   "metadata": {},
   "outputs": [],
   "source": [
    "r = requests.get('http://naver.com')\n",
    "# print(r.text)"
   ]
  },
  {
   "cell_type": "code",
   "execution_count": 56,
   "id": "dafc492a-a266-444e-a82b-19935ac16e56",
   "metadata": {},
   "outputs": [
    {
     "name": "stdout",
     "output_type": "stream",
     "text": [
      "https://httpbin.org/get?key1=value1&key2=value2\n",
      "{\n",
      "  \"args\": {\n",
      "    \"key1\": \"value1\", \n",
      "    \"key2\": \"value2\"\n",
      "  }, \n",
      "  \"headers\": {\n",
      "    \"Accept\": \"*/*\", \n",
      "    \"Accept-Encoding\": \"gzip, deflate\", \n",
      "    \"Host\": \"httpbin.org\", \n",
      "    \"User-Agent\": \"python-requests/2.32.3\", \n",
      "    \"X-Amzn-Trace-Id\": \"Root=1-67c6dcae-0852448f5282cff338d33658\"\n",
      "  }, \n",
      "  \"origin\": \"183.96.187.252\", \n",
      "  \"url\": \"https://httpbin.org/get?key1=value1&key2=value2\"\n",
      "}\n",
      "\n"
     ]
    }
   ],
   "source": [
    "payload = {'key1': 'value1', 'key2': 'value2'}\n",
    "r = requests.get('https://httpbin.org/get', params=payload)\n",
    "print(r.url)\n",
    "print(r.text)"
   ]
  },
  {
   "cell_type": "code",
   "execution_count": 57,
   "id": "70651efb-6e7e-479e-bbdd-ef07222111ce",
   "metadata": {},
   "outputs": [
    {
     "name": "stdout",
     "output_type": "stream",
     "text": [
      "https://search.naver.com/search.naver?query=%ED%8C%8C%EC%9D%B4%EC%8D%AC\n"
     ]
    }
   ],
   "source": [
    "payload = {'query': '파이썬'}\n",
    "r = requests.get('https://search.naver.com/search.naver', params=payload)\n",
    "print(r.url)"
   ]
  },
  {
   "cell_type": "code",
   "execution_count": 62,
   "id": "e343fee0-6f56-4228-92ca-d0aeb14ba69f",
   "metadata": {},
   "outputs": [
    {
     "name": "stdout",
     "output_type": "stream",
     "text": [
      "<class 'str'>\n"
     ]
    }
   ],
   "source": [
    "r = requests.get('http://api.github.com/events')\n",
    "# print(r.text)\n",
    "print(type(r.text))\n",
    "# print(r.text['message']) # error"
   ]
  },
  {
   "cell_type": "code",
   "execution_count": 69,
   "id": "ce1733f6-03f5-46fe-9586-848c66a5571d",
   "metadata": {},
   "outputs": [
    {
     "name": "stdout",
     "output_type": "stream",
     "text": [
      "<class 'list'>\n"
     ]
    }
   ],
   "source": [
    "r = requests.get('http://api.github.com/events')\n",
    "print(type(r.json()))\n",
    "# print(r.json())"
   ]
  },
  {
   "cell_type": "code",
   "execution_count": 70,
   "id": "74e4e274-fb0a-4f66-9a50-616f934dc24d",
   "metadata": {},
   "outputs": [],
   "source": [
    "# interface: 어떤 물건과 동작하기 위한 접점 ex. 스마트폰의 터치, 키보드의 마우스, tv의 리모컨"
   ]
  },
  {
   "cell_type": "code",
   "execution_count": 76,
   "id": "2fcd44d7-dcc9-4fac-852a-cbb2cc5519c5",
   "metadata": {},
   "outputs": [
    {
     "name": "stdout",
     "output_type": "stream",
     "text": [
      "https://www.dhlottery.co.kr/common.do?method=getLottoNumber&drwNo=1159\n",
      "{\"totSellamnt\":124802304000,\"returnValue\":\"success\",\"drwNoDate\":\"2025-02-15\",\"firstWinamnt\":1284854250,\"drwtNo6\":39,\"drwtNo4\":28,\"firstPrzwnerCo\":23,\"drwtNo5\":38,\"bnusNo\":7,\"firstAccumamnt\":29551647750,\"drwNo\":1159,\"drwtNo2\":9,\"drwtNo3\":27,\"drwtNo1\":3}\n",
      "<class 'str'>\n",
      "{'totSellamnt': 124802304000, 'returnValue': 'success', 'drwNoDate': '2025-02-15', 'firstWinamnt': 1284854250, 'drwtNo6': 39, 'drwtNo4': 28, 'firstPrzwnerCo': 23, 'drwtNo5': 38, 'bnusNo': 7, 'firstAccumamnt': 29551647750, 'drwNo': 1159, 'drwtNo2': 9, 'drwtNo3': 27, 'drwtNo1': 3}\n",
      "<class 'dict'>\n"
     ]
    }
   ],
   "source": [
    "lotto_url = 'https://www.dhlottery.co.kr/common.do'\n",
    "payload = {\n",
    "    'method': 'getLottoNumber',\n",
    "    'drwNo': 1159,\n",
    "}\n",
    "\n",
    "r = requests.get(lotto_url, params=payload)\n",
    "print(r.url)\n",
    "print(r.text)\n",
    "print(type(r.text))\n",
    "print(r.json())\n",
    "print(type(r.json()))"
   ]
  },
  {
   "cell_type": "code",
   "execution_count": 80,
   "id": "8cb0f4bb-67c9-4b17-8f84-15f7af637433",
   "metadata": {},
   "outputs": [
    {
     "name": "stdout",
     "output_type": "stream",
     "text": [
      "2025-02-15\n",
      "3\n",
      "9\n",
      "27\n",
      "28\n",
      "38\n",
      "39\n"
     ]
    }
   ],
   "source": [
    "lotto_dict = r.json()\n",
    "print(lotto_dict['drwNoDate'])\n",
    "print(lotto_dict['drwtNo1'])\n",
    "print(lotto_dict['drwtNo2'])\n",
    "print(lotto_dict['drwtNo3'])\n",
    "print(lotto_dict['drwtNo4'])\n",
    "print(lotto_dict['drwtNo5'])\n",
    "print(lotto_dict['drwtNo6'])"
   ]
  },
  {
   "cell_type": "code",
   "execution_count": 83,
   "id": "0c5d4d3b-76e7-4bff-8803-8bc92c3ffac1",
   "metadata": {},
   "outputs": [
    {
     "name": "stdout",
     "output_type": "stream",
     "text": [
      "2025-02-15\n",
      "3\n",
      "9\n",
      "27\n",
      "28\n",
      "38\n",
      "39\n"
     ]
    }
   ],
   "source": [
    "print(lotto_dict['drwNoDate'])\n",
    "for i in range(1, 7):\n",
    "    print(lotto_dict[f'drwtNo{i}'])"
   ]
  },
  {
   "cell_type": "markdown",
   "id": "9d6f3834-2b6e-4751-8274-42d56eef78cc",
   "metadata": {},
   "source": [
    "# 06. Errors"
   ]
  },
  {
   "cell_type": "markdown",
   "id": "5650c655-1d6c-4e19-b2b5-0bd65eee5b0f",
   "metadata": {},
   "source": [
    "## 1. Syntax error"
   ]
  },
  {
   "cell_type": "markdown",
   "id": "6b350e3d-2215-4f8d-bb5f-85bde6c80ec8",
   "metadata": {},
   "source": [
    "- *문법적 오류*"
   ]
  },
  {
   "cell_type": "code",
   "execution_count": 1,
   "id": "fa8925b9-595e-4c18-a8d2-3535e4740d7a",
   "metadata": {},
   "outputs": [
    {
     "ename": "SyntaxError",
     "evalue": "expected ':' (3448656250.py, line 3)",
     "output_type": "error",
     "traceback": [
      "\u001b[1;36m  Cell \u001b[1;32mIn[1], line 3\u001b[1;36m\u001b[0m\n\u001b[1;33m    else\u001b[0m\n\u001b[1;37m        ^\u001b[0m\n\u001b[1;31mSyntaxError\u001b[0m\u001b[1;31m:\u001b[0m expected ':'\n"
     ]
    }
   ],
   "source": [
    "if True:\n",
    "    pass\n",
    "else"
   ]
  },
  {
   "cell_type": "code",
   "execution_count": 2,
   "id": "aa1f465a-a678-4598-b87b-95b6faa4619e",
   "metadata": {},
   "outputs": [
    {
     "ename": "SyntaxError",
     "evalue": "unterminated string literal (detected at line 1) (3574047905.py, line 1)",
     "output_type": "error",
     "traceback": [
      "\u001b[1;36m  Cell \u001b[1;32mIn[2], line 1\u001b[1;36m\u001b[0m\n\u001b[1;33m    print('hello)\u001b[0m\n\u001b[1;37m          ^\u001b[0m\n\u001b[1;31mSyntaxError\u001b[0m\u001b[1;31m:\u001b[0m unterminated string literal (detected at line 1)\n"
     ]
    }
   ],
   "source": [
    "print('hello)"
   ]
  },
  {
   "cell_type": "code",
   "execution_count": 4,
   "id": "9c340c10-e01f-4b8d-bbab-124c5fbedb68",
   "metadata": {},
   "outputs": [
    {
     "ename": "_IncompleteInputError",
     "evalue": "incomplete input (3871997710.py, line 1)",
     "output_type": "error",
     "traceback": [
      "\u001b[1;36m  Cell \u001b[1;32mIn[4], line 1\u001b[1;36m\u001b[0m\n\u001b[1;33m    print('hello'\u001b[0m\n\u001b[1;37m                 ^\u001b[0m\n\u001b[1;31m_IncompleteInputError\u001b[0m\u001b[1;31m:\u001b[0m incomplete input\n"
     ]
    }
   ],
   "source": [
    "print('hello'"
   ]
  },
  {
   "cell_type": "markdown",
   "id": "11db588d-9004-430d-a23e-2451c637bf2c",
   "metadata": {},
   "source": [
    "## 2. exception"
   ]
  },
  {
   "cell_type": "markdown",
   "id": "a15f98e7-b8be-4400-82ef-ff87ded89049",
   "metadata": {},
   "source": [
    "- *코드가 내 예상과 다르게 동작할 때*"
   ]
  },
  {
   "cell_type": "code",
   "execution_count": 5,
   "id": "4a0ed109-1755-40ba-8209-11a059c01d26",
   "metadata": {},
   "outputs": [
    {
     "ename": "ZeroDivisionError",
     "evalue": "division by zero",
     "output_type": "error",
     "traceback": [
      "\u001b[1;31m---------------------------------------------------------------------------\u001b[0m",
      "\u001b[1;31mZeroDivisionError\u001b[0m                         Traceback (most recent call last)",
      "Cell \u001b[1;32mIn[5], line 1\u001b[0m\n\u001b[1;32m----> 1\u001b[0m \u001b[38;5;28mprint\u001b[39m(\u001b[38;5;241;43m3\u001b[39;49m\u001b[38;5;241;43m/\u001b[39;49m\u001b[38;5;241;43m0\u001b[39;49m) \u001b[38;5;66;03m# 수학적으로 불가능\u001b[39;00m\n",
      "\u001b[1;31mZeroDivisionError\u001b[0m: division by zero"
     ]
    }
   ],
   "source": [
    "print(3/0) # 수학적으로 불가능"
   ]
  },
  {
   "cell_type": "code",
   "execution_count": 6,
   "id": "f7c88b7a-6439-453a-8e6a-80aae7d5adf3",
   "metadata": {},
   "outputs": [
    {
     "ename": "NameError",
     "evalue": "name 'hello' is not defined",
     "output_type": "error",
     "traceback": [
      "\u001b[1;31m---------------------------------------------------------------------------\u001b[0m",
      "\u001b[1;31mNameError\u001b[0m                                 Traceback (most recent call last)",
      "Cell \u001b[1;32mIn[6], line 1\u001b[0m\n\u001b[1;32m----> 1\u001b[0m \u001b[38;5;28mprint\u001b[39m(\u001b[43mhello\u001b[49m) \u001b[38;5;66;03m# 변수 hello를 찾으려고 시도\u001b[39;00m\n",
      "\u001b[1;31mNameError\u001b[0m: name 'hello' is not defined"
     ]
    }
   ],
   "source": [
    "print(hello) # 변수 hello를 찾으려고 시도"
   ]
  },
  {
   "cell_type": "code",
   "execution_count": 7,
   "id": "10e440b9-acc0-4ced-ba49-b8703a5d8de1",
   "metadata": {},
   "outputs": [
    {
     "ename": "TypeError",
     "evalue": "unsupported operand type(s) for +: 'int' and 'str'",
     "output_type": "error",
     "traceback": [
      "\u001b[1;31m---------------------------------------------------------------------------\u001b[0m",
      "\u001b[1;31mTypeError\u001b[0m                                 Traceback (most recent call last)",
      "Cell \u001b[1;32mIn[7], line 1\u001b[0m\n\u001b[1;32m----> 1\u001b[0m \u001b[38;5;241;43m1\u001b[39;49m\u001b[43m \u001b[49m\u001b[38;5;241;43m+\u001b[39;49m\u001b[43m \u001b[49m\u001b[38;5;124;43m'\u001b[39;49m\u001b[38;5;124;43m1\u001b[39;49m\u001b[38;5;124;43m'\u001b[39;49m \u001b[38;5;66;03m# 연산자가 기대하지 않았던 데이터 타입이 들어왔을 때\u001b[39;00m\n",
      "\u001b[1;31mTypeError\u001b[0m: unsupported operand type(s) for +: 'int' and 'str'"
     ]
    }
   ],
   "source": [
    "1 + '1' # 연산자가 기대하지 않았던 데이터 타입이 들어왔을 때"
   ]
  },
  {
   "cell_type": "code",
   "execution_count": 8,
   "id": "a70dae25-1c07-4a32-9d77-a3c06e049ede",
   "metadata": {},
   "outputs": [
    {
     "ename": "TypeError",
     "evalue": "can only concatenate str (not \"int\") to str",
     "output_type": "error",
     "traceback": [
      "\u001b[1;31m---------------------------------------------------------------------------\u001b[0m",
      "\u001b[1;31mTypeError\u001b[0m                                 Traceback (most recent call last)",
      "Cell \u001b[1;32mIn[8], line 1\u001b[0m\n\u001b[1;32m----> 1\u001b[0m \u001b[38;5;124;43m'\u001b[39;49m\u001b[38;5;124;43m1\u001b[39;49m\u001b[38;5;124;43m'\u001b[39;49m\u001b[43m \u001b[49m\u001b[38;5;241;43m+\u001b[39;49m\u001b[43m \u001b[49m\u001b[38;5;241;43m1\u001b[39;49m\n",
      "\u001b[1;31mTypeError\u001b[0m: can only concatenate str (not \"int\") to str"
     ]
    }
   ],
   "source": [
    "'1' + 1"
   ]
  },
  {
   "cell_type": "code",
   "execution_count": 9,
   "id": "6a6c7d74-ed8f-423f-bfe9-c1ed3eeb1e32",
   "metadata": {},
   "outputs": [
    {
     "ename": "TypeError",
     "evalue": "Random.sample() missing 1 required positional argument: 'k'",
     "output_type": "error",
     "traceback": [
      "\u001b[1;31m---------------------------------------------------------------------------\u001b[0m",
      "\u001b[1;31mTypeError\u001b[0m                                 Traceback (most recent call last)",
      "Cell \u001b[1;32mIn[9], line 2\u001b[0m\n\u001b[0;32m      1\u001b[0m \u001b[38;5;28;01mimport\u001b[39;00m\u001b[38;5;250m \u001b[39m\u001b[38;5;21;01mrandom\u001b[39;00m\n\u001b[1;32m----> 2\u001b[0m \u001b[43mrandom\u001b[49m\u001b[38;5;241;43m.\u001b[39;49m\u001b[43msample\u001b[49m\u001b[43m(\u001b[49m\u001b[43m[\u001b[49m\u001b[38;5;241;43m1\u001b[39;49m\u001b[43m,\u001b[49m\u001b[43m \u001b[49m\u001b[38;5;241;43m2\u001b[39;49m\u001b[43m,\u001b[49m\u001b[43m \u001b[49m\u001b[38;5;241;43m3\u001b[39;49m\u001b[43m,\u001b[49m\u001b[43m \u001b[49m\u001b[38;5;241;43m4\u001b[39;49m\u001b[43m,\u001b[49m\u001b[43m \u001b[49m\u001b[38;5;241;43m5\u001b[39;49m\u001b[43m]\u001b[49m\u001b[43m)\u001b[49m \u001b[38;5;66;03m# 인자가 2개 필요한데 1개만 넣음\u001b[39;00m\n",
      "\u001b[1;31mTypeError\u001b[0m: Random.sample() missing 1 required positional argument: 'k'"
     ]
    }
   ],
   "source": [
    "import random\n",
    "random.sample([1, 2, 3, 4, 5]) # 인자가 2개 필요한데 1개만 넣음"
   ]
  },
  {
   "cell_type": "code",
   "execution_count": 10,
   "id": "2fb8e037-e02b-443e-98f4-28ffca92ea7c",
   "metadata": {},
   "outputs": [
    {
     "ename": "TypeError",
     "evalue": "Random.sample() takes 3 positional arguments but 5 were given",
     "output_type": "error",
     "traceback": [
      "\u001b[1;31m---------------------------------------------------------------------------\u001b[0m",
      "\u001b[1;31mTypeError\u001b[0m                                 Traceback (most recent call last)",
      "Cell \u001b[1;32mIn[10], line 1\u001b[0m\n\u001b[1;32m----> 1\u001b[0m \u001b[43mrandom\u001b[49m\u001b[38;5;241;43m.\u001b[39;49m\u001b[43msample\u001b[49m\u001b[43m(\u001b[49m\u001b[43m[\u001b[49m\u001b[38;5;241;43m1\u001b[39;49m\u001b[43m,\u001b[49m\u001b[43m \u001b[49m\u001b[38;5;241;43m2\u001b[39;49m\u001b[43m,\u001b[49m\u001b[43m \u001b[49m\u001b[38;5;241;43m3\u001b[39;49m\u001b[43m]\u001b[49m\u001b[43m,\u001b[49m\u001b[43m \u001b[49m\u001b[38;5;241;43m1\u001b[39;49m\u001b[43m,\u001b[49m\u001b[43m \u001b[49m\u001b[38;5;241;43m2\u001b[39;49m\u001b[43m,\u001b[49m\u001b[43m \u001b[49m\u001b[38;5;241;43m3\u001b[39;49m\u001b[43m)\u001b[49m \u001b[38;5;66;03m# 함수의 규격에 맞춰서 필요한 만큼만 넣어야 함\u001b[39;00m\n",
      "\u001b[1;31mTypeError\u001b[0m: Random.sample() takes 3 positional arguments but 5 were given"
     ]
    }
   ],
   "source": [
    "random.sample([1, 2, 3], 1, 2, 3) # 함수의 규격에 맞춰서 필요한 만큼만 넣어야 함"
   ]
  },
  {
   "cell_type": "code",
   "execution_count": 12,
   "id": "5957f2c0-0be5-4441-9bf0-9c044871a0b6",
   "metadata": {},
   "outputs": [
    {
     "ename": "ValueError",
     "evalue": "invalid literal for int() with base 10: '4.5'",
     "output_type": "error",
     "traceback": [
      "\u001b[1;31m---------------------------------------------------------------------------\u001b[0m",
      "\u001b[1;31mValueError\u001b[0m                                Traceback (most recent call last)",
      "Cell \u001b[1;32mIn[12], line 2\u001b[0m\n\u001b[0;32m      1\u001b[0m \u001b[38;5;66;03m# int(4.5)\u001b[39;00m\n\u001b[1;32m----> 2\u001b[0m \u001b[38;5;28;43mint\u001b[39;49m\u001b[43m(\u001b[49m\u001b[38;5;124;43m'\u001b[39;49m\u001b[38;5;124;43m4.5\u001b[39;49m\u001b[38;5;124;43m'\u001b[39;49m\u001b[43m)\u001b[49m \u001b[38;5;66;03m# 데이터의 규격이 잘못됨\u001b[39;00m\n",
      "\u001b[1;31mValueError\u001b[0m: invalid literal for int() with base 10: '4.5'"
     ]
    }
   ],
   "source": [
    "# int(4.5)\n",
    "int('4.5') # 데이터의 규격이 잘못됨"
   ]
  },
  {
   "cell_type": "code",
   "execution_count": 13,
   "id": "900d9dd1-73d1-48fc-b2e4-8bb00fbf6103",
   "metadata": {},
   "outputs": [
    {
     "ename": "ValueError",
     "evalue": "100 is not in list",
     "output_type": "error",
     "traceback": [
      "\u001b[1;31m---------------------------------------------------------------------------\u001b[0m",
      "\u001b[1;31mValueError\u001b[0m                                Traceback (most recent call last)",
      "Cell \u001b[1;32mIn[13], line 2\u001b[0m\n\u001b[0;32m      1\u001b[0m numbers \u001b[38;5;241m=\u001b[39m [\u001b[38;5;241m1\u001b[39m, \u001b[38;5;241m2\u001b[39m, \u001b[38;5;241m3\u001b[39m]\n\u001b[1;32m----> 2\u001b[0m \u001b[43mnumbers\u001b[49m\u001b[38;5;241;43m.\u001b[39;49m\u001b[43mindex\u001b[49m\u001b[43m(\u001b[49m\u001b[38;5;241;43m100\u001b[39;49m\u001b[43m)\u001b[49m\n",
      "\u001b[1;31mValueError\u001b[0m: 100 is not in list"
     ]
    }
   ],
   "source": [
    "numbers = [1, 2, 3]\n",
    "numbers.index(100)"
   ]
  },
  {
   "cell_type": "code",
   "execution_count": 14,
   "id": "429870a6-5b93-4476-a09b-55543b78fe3c",
   "metadata": {},
   "outputs": [
    {
     "ename": "IndexError",
     "evalue": "list index out of range",
     "output_type": "error",
     "traceback": [
      "\u001b[1;31m---------------------------------------------------------------------------\u001b[0m",
      "\u001b[1;31mIndexError\u001b[0m                                Traceback (most recent call last)",
      "Cell \u001b[1;32mIn[14], line 1\u001b[0m\n\u001b[1;32m----> 1\u001b[0m \u001b[43mnumbers\u001b[49m\u001b[43m[\u001b[49m\u001b[38;5;241;43m100\u001b[39;49m\u001b[43m]\u001b[49m\n",
      "\u001b[1;31mIndexError\u001b[0m: list index out of range"
     ]
    }
   ],
   "source": [
    "numbers[100]"
   ]
  },
  {
   "cell_type": "code",
   "execution_count": 15,
   "id": "71b7f879-5eaa-4930-a09e-2d205bd68cdf",
   "metadata": {},
   "outputs": [
    {
     "ename": "KeyError",
     "evalue": "'melon'",
     "output_type": "error",
     "traceback": [
      "\u001b[1;31m---------------------------------------------------------------------------\u001b[0m",
      "\u001b[1;31mKeyError\u001b[0m                                  Traceback (most recent call last)",
      "Cell \u001b[1;32mIn[15], line 6\u001b[0m\n\u001b[0;32m      1\u001b[0m my_dict \u001b[38;5;241m=\u001b[39m {\n\u001b[0;32m      2\u001b[0m     \u001b[38;5;124m'\u001b[39m\u001b[38;5;124mapple\u001b[39m\u001b[38;5;124m'\u001b[39m: \u001b[38;5;124m'\u001b[39m\u001b[38;5;124m사과\u001b[39m\u001b[38;5;124m'\u001b[39m,\n\u001b[0;32m      3\u001b[0m     \u001b[38;5;124m'\u001b[39m\u001b[38;5;124mbanana\u001b[39m\u001b[38;5;124m'\u001b[39m: \u001b[38;5;124m'\u001b[39m\u001b[38;5;124m바나나\u001b[39m\u001b[38;5;124m'\u001b[39m,\n\u001b[0;32m      4\u001b[0m }\n\u001b[1;32m----> 6\u001b[0m \u001b[43mmy_dict\u001b[49m\u001b[43m[\u001b[49m\u001b[38;5;124;43m'\u001b[39;49m\u001b[38;5;124;43mmelon\u001b[39;49m\u001b[38;5;124;43m'\u001b[39;49m\u001b[43m]\u001b[49m\n",
      "\u001b[1;31mKeyError\u001b[0m: 'melon'"
     ]
    }
   ],
   "source": [
    "my_dict = {\n",
    "    'apple': '사과',\n",
    "    'banana': '바나나',\n",
    "}\n",
    "\n",
    "my_dict['melon']"
   ]
  },
  {
   "cell_type": "markdown",
   "id": "6ea4ceba-c1de-4159-87d1-d1e07a583d21",
   "metadata": {},
   "source": [
    "## 3. 예외처리"
   ]
  },
  {
   "cell_type": "markdown",
   "id": "eb880b62-c2c4-4974-bb3c-0ea8b6faa38f",
   "metadata": {},
   "source": [
    "```python\n",
    "try:\n",
    "    code\n",
    "except exception:\n",
    "    code\n",
    "```"
   ]
  },
  {
   "cell_type": "code",
   "execution_count": 19,
   "id": "2e320742-4d2a-488b-88d0-f188f459829c",
   "metadata": {},
   "outputs": [
    {
     "name": "stdin",
     "output_type": "stream",
     "text": [
      "숫자를 입력해주세요. 아\n"
     ]
    },
    {
     "name": "stdout",
     "output_type": "stream",
     "text": [
      "숫자를 입력해달라고!!\n"
     ]
    }
   ],
   "source": [
    "try:\n",
    "    number = int(input('숫자를 입력해주세요.'))\n",
    "    print(f'입력하신 {number}의 세제곱은 {number ** 3}입니다.')\n",
    "except:\n",
    "    print('숫자를 입력해달라고!!')"
   ]
  },
  {
   "cell_type": "code",
   "execution_count": 20,
   "id": "4bf94377-3eed-4fab-ab0d-de625315ac37",
   "metadata": {},
   "outputs": [
    {
     "name": "stdin",
     "output_type": "stream",
     "text": [
      "100을 무엇으로 나누겠습니까? 0\n"
     ]
    },
    {
     "name": "stdout",
     "output_type": "stream",
     "text": [
      "0으로 나눌 수 없음\n"
     ]
    }
   ],
   "source": [
    "try:\n",
    "    num = int(input('100을 무엇으로 나누겠습니까?'))\n",
    "    print(f'100을 {num}으로 나눈 결과는 {100/num}입니다.')\n",
    "except ValueError:\n",
    "    print('숫자 아님')\n",
    "except ZeroDivisionError:\n",
    "    print('0으로 나눌 수 없음')"
   ]
  },
  {
   "cell_type": "code",
   "execution_count": 23,
   "id": "80dcb4ce-b2e0-4d26-871f-e2997a770084",
   "metadata": {},
   "outputs": [
    {
     "name": "stdout",
     "output_type": "stream",
     "text": [
      "error\n"
     ]
    }
   ],
   "source": [
    "try:\n",
    "    numbers = [1, 2, 3]\n",
    "    numbers[100]\n",
    "except:\n",
    "    print('error')\n",
    "else: # exception을 만나지 않았을 때\n",
    "    print('else')"
   ]
  },
  {
   "cell_type": "code",
   "execution_count": 24,
   "id": "05d43402-96c9-4849-b58d-edf9e865dec3",
   "metadata": {},
   "outputs": [
    {
     "name": "stdout",
     "output_type": "stream",
     "text": [
      "else\n"
     ]
    }
   ],
   "source": [
    "try:\n",
    "    numbers = [1, 2, 3]\n",
    "    numbers[1]\n",
    "except:\n",
    "    print('error')\n",
    "else: # exception을 만나지 않았을 때\n",
    "    print('else')"
   ]
  },
  {
   "cell_type": "code",
   "execution_count": 25,
   "id": "804420d9-d6e1-4a22-929d-9d543e93af7c",
   "metadata": {},
   "outputs": [
    {
     "name": "stdout",
     "output_type": "stream",
     "text": [
      "error\n",
      "finally\n"
     ]
    }
   ],
   "source": [
    "try:\n",
    "    numbers = [1, 2, 3]\n",
    "    numbers[100]\n",
    "except:\n",
    "    print('error')\n",
    "finally: # error와 상관없이 출력\n",
    "    print('finally')"
   ]
  },
  {
   "cell_type": "code",
   "execution_count": 32,
   "id": "e5ce75de-c6a8-483e-b9d1-df814ff68fca",
   "metadata": {},
   "outputs": [
    {
     "name": "stdout",
     "output_type": "stream",
     "text": [
      "number\n",
      "0\n"
     ]
    },
    {
     "ename": "TypeError",
     "evalue": "my_div() missing 1 required positional argument: 'b'",
     "output_type": "error",
     "traceback": [
      "\u001b[1;31m---------------------------------------------------------------------------\u001b[0m",
      "\u001b[1;31mTypeError\u001b[0m                                 Traceback (most recent call last)",
      "Cell \u001b[1;32mIn[32], line 13\u001b[0m\n\u001b[0;32m     11\u001b[0m \u001b[38;5;28mprint\u001b[39m(my_div(\u001b[38;5;124m'\u001b[39m\u001b[38;5;124m가\u001b[39m\u001b[38;5;124m'\u001b[39m, \u001b[38;5;124m'\u001b[39m\u001b[38;5;124m나\u001b[39m\u001b[38;5;124m'\u001b[39m))\n\u001b[0;32m     12\u001b[0m \u001b[38;5;28mprint\u001b[39m(my_div(\u001b[38;5;241m1\u001b[39m, \u001b[38;5;241m0\u001b[39m))\n\u001b[1;32m---> 13\u001b[0m \u001b[38;5;28mprint\u001b[39m(\u001b[43mmy_div\u001b[49m\u001b[43m(\u001b[49m\u001b[38;5;241;43m1\u001b[39;49m\u001b[43m,\u001b[49m\u001b[43m \u001b[49m\u001b[43m)\u001b[49m)\n",
      "\u001b[1;31mTypeError\u001b[0m: my_div() missing 1 required positional argument: 'b'"
     ]
    }
   ],
   "source": [
    "def my_div(a, b):\n",
    "    try:\n",
    "        return a/b\n",
    "    except (ValueError, TypeError):\n",
    "        return 'number'\n",
    "    except ZeroDivisionError:\n",
    "        return '0'\n",
    "    except:\n",
    "        return 'something wrong'\n",
    "\n",
    "print(my_div('가', '나'))\n",
    "print(my_div(1, 0))\n",
    "print(my_div(1, )) # 함수를 실행하기도 전에 오류가 나서 try를 못만남"
   ]
  },
  {
   "cell_type": "markdown",
   "id": "bcf23dcd-9380-4b24-a98e-d8ecb709850d",
   "metadata": {},
   "source": [
    "- 클래스(class): 같은 종류의 집단에 속하는 `속성`과 `행동`을 `정의`한 것\n",
    "- 속성(attribute): 클래스/인스턴스가 가지고 있는 데이터/값\n",
    "- 행동(method): 클래스/인스턴스가 가지고 있는 함수/기능\n",
    "    - *=함수, 객체 안에 들어있는 경우 method라고 부름*\n",
    "- 인스턴스(instance):  클래스를 실제로 메모리상에 할당한 것\n",
    "- *클래스는 데이터와 기능(함수)을 함께 묶는 방법을 제공*\n",
    "- *python은 객체지향언어*"
   ]
  },
  {
   "cell_type": "code",
   "execution_count": 35,
   "id": "0353d778-4fc7-40fa-bcb9-99fff77486f1",
   "metadata": {},
   "outputs": [
    {
     "name": "stdout",
     "output_type": "stream",
     "text": [
      "<class 'complex'>\n"
     ]
    }
   ],
   "source": [
    "number = 1 + 2j\n",
    "print(type(number))"
   ]
  },
  {
   "cell_type": "code",
   "execution_count": 36,
   "id": "6490043e-9d70-4a76-9945-8fa99b212957",
   "metadata": {},
   "outputs": [
    {
     "name": "stdout",
     "output_type": "stream",
     "text": [
      "1.0\n",
      "2.0\n"
     ]
    }
   ],
   "source": [
    "print(number.real) # 데이터/값에 접근\n",
    "print(number.imag)"
   ]
  },
  {
   "cell_type": "code",
   "execution_count": 37,
   "id": "d0ec441a-c465-413f-9e9e-8ef6d24f33ce",
   "metadata": {},
   "outputs": [
    {
     "name": "stdout",
     "output_type": "stream",
     "text": [
      "<class 'list'>\n"
     ]
    }
   ],
   "source": [
    "numbers = [1, 2 ,3]\n",
    "print(type(numbers))"
   ]
  },
  {
   "cell_type": "code",
   "execution_count": 40,
   "id": "daa86072-3d3d-4146-b2ab-51afed023404",
   "metadata": {},
   "outputs": [
    {
     "name": "stdout",
     "output_type": "stream",
     "text": [
      "[3, 2, 1]\n"
     ]
    }
   ],
   "source": [
    "numbers.reverse() # 정보에 접근하여 함수 실행()\n",
    "print(numbers)"
   ]
  },
  {
   "cell_type": "markdown",
   "id": "5ed47d64-ea26-4385-bc51-fbb3e9414902",
   "metadata": {},
   "source": [
    "## 1. class"
   ]
  },
  {
   "cell_type": "markdown",
   "id": "1c987016-28a2-43b9-80c3-cfb84385a64e",
   "metadata": {},
   "source": [
    "- *함수와 똑같은 구조: 선언과 실행*\n",
    "- 클래스 선언/정의\n",
    "```python\n",
    "class ClassName():\n",
    "    attribute1 = value1 # 정보/속성/값을 넣는 공간\n",
    "    attribute2 = value2\n",
    "    ...\n",
    "\n",
    "    def method_name1(self): # 함수 만들기\n",
    "        code\n",
    "\n",
    "    def method_name2(self):\n",
    "        code\n",
    "    ...\n",
    "```\n",
    "- 인스턴스화 (클래스 실행): `c = ClassName()`"
   ]
  },
  {
   "cell_type": "code",
   "execution_count": 42,
   "id": "a90d471c-678c-42de-8aaf-8ba24792e712",
   "metadata": {},
   "outputs": [],
   "source": [
    "# 선언(정의)\n",
    "class MyClass():\n",
    "    name = 'kim'\n",
    "\n",
    "    def hello(self):\n",
    "        return 'hi'"
   ]
  },
  {
   "cell_type": "code",
   "execution_count": 43,
   "id": "b80c4ca9-3e9f-4770-b0b7-560c09631fbf",
   "metadata": {},
   "outputs": [],
   "source": [
    "# 인스턴스화\n",
    "m = MyClass()"
   ]
  },
  {
   "cell_type": "code",
   "execution_count": 44,
   "id": "4dd4ac76-ed5e-4cea-8685-b4f077029229",
   "metadata": {},
   "outputs": [
    {
     "name": "stdout",
     "output_type": "stream",
     "text": [
      "<__main__.MyClass object at 0x000001FE4F7374D0>\n",
      "<class '__main__.MyClass'>\n"
     ]
    }
   ],
   "source": [
    "print(m)\n",
    "print(type(m))"
   ]
  },
  {
   "cell_type": "code",
   "execution_count": 45,
   "id": "fd30f7e6-2e5f-4d97-a4db-7bfddc01b203",
   "metadata": {},
   "outputs": [
    {
     "name": "stdout",
     "output_type": "stream",
     "text": [
      "kim\n",
      "hi\n"
     ]
    }
   ],
   "source": [
    "print(m.name)\n",
    "print(m.hello())"
   ]
  },
  {
   "cell_type": "code",
   "execution_count": 46,
   "id": "a1b1dd50-073b-4b87-b725-ea9900594d2d",
   "metadata": {},
   "outputs": [
    {
     "name": "stdout",
     "output_type": "stream",
     "text": [
      "kim\n",
      "hi\n"
     ]
    }
   ],
   "source": [
    "m2 = MyClass()\n",
    "print(m2.name)\n",
    "print(m2.hello())"
   ]
  },
  {
   "cell_type": "code",
   "execution_count": 47,
   "id": "599595d5-81a9-4cd2-9ec3-b450fa1ca23c",
   "metadata": {},
   "outputs": [
    {
     "name": "stdout",
     "output_type": "stream",
     "text": [
      "kim\n",
      "park\n"
     ]
    }
   ],
   "source": [
    "m2.name = 'park'\n",
    "\n",
    "print(m.name)\n",
    "print(m2.name)"
   ]
  },
  {
   "cell_type": "code",
   "execution_count": 55,
   "id": "93ba4329-df0a-451b-a2b5-8d43c34cc537",
   "metadata": {},
   "outputs": [],
   "source": [
    "class Phone():\n",
    "    power = False\n",
    "    number = '010-0000-0000'\n",
    "    book = {}\n",
    "    model = ''\n",
    "\n",
    "    def on(self): # self = instance 자기 자신\n",
    "        if self.power == False:\n",
    "            self.power = True\n",
    "\n",
    "    def off(self):\n",
    "        if self.power == True:\n",
    "            self.power = False\n",
    "\n",
    "    def call(self, target):\n",
    "        if self.power == True:\n",
    "            print(f'{self.number}이(가) {target.number}에게 전화 중')\n",
    "        else:\n",
    "            print('power off')"
   ]
  },
  {
   "cell_type": "code",
   "execution_count": 56,
   "id": "f1543c23-457f-4f03-8e21-f6f9546c814f",
   "metadata": {},
   "outputs": [],
   "source": [
    "my_phone = Phone()\n",
    "your_phone = Phone()"
   ]
  },
  {
   "cell_type": "code",
   "execution_count": 57,
   "id": "50bbc9b3-b3b6-45c3-af69-932118a1a48a",
   "metadata": {},
   "outputs": [
    {
     "name": "stdout",
     "output_type": "stream",
     "text": [
      "010-1234-1234\n",
      "010-0000-0000\n"
     ]
    }
   ],
   "source": [
    "my_phone.number = '010-1234-1234'\n",
    "\n",
    "print(my_phone.number)\n",
    "print(your_phone.number)"
   ]
  },
  {
   "cell_type": "code",
   "execution_count": 58,
   "id": "d869ee84-d34c-4b57-a531-d3c803114782",
   "metadata": {},
   "outputs": [
    {
     "data": {
      "text/plain": [
       "False"
      ]
     },
     "execution_count": 58,
     "metadata": {},
     "output_type": "execute_result"
    }
   ],
   "source": [
    "my_phone.power"
   ]
  },
  {
   "cell_type": "code",
   "execution_count": 59,
   "id": "14a370c4-e2d0-420f-a8c1-39202eb6361c",
   "metadata": {},
   "outputs": [],
   "source": [
    "my_phone.on()"
   ]
  },
  {
   "cell_type": "code",
   "execution_count": 60,
   "id": "c6aa9ea9-d376-415f-aacc-18504bd10921",
   "metadata": {},
   "outputs": [
    {
     "data": {
      "text/plain": [
       "True"
      ]
     },
     "execution_count": 60,
     "metadata": {},
     "output_type": "execute_result"
    }
   ],
   "source": [
    "my_phone.power"
   ]
  },
  {
   "cell_type": "code",
   "execution_count": 61,
   "id": "accda5a4-5af3-45ec-b118-419e678c470a",
   "metadata": {},
   "outputs": [
    {
     "name": "stdout",
     "output_type": "stream",
     "text": [
      "010-1234-1234이(가) 010-0000-0000에게 전화 중\n"
     ]
    }
   ],
   "source": [
    "my_phone.call(your_phone) # self 생략 가능"
   ]
  },
  {
   "cell_type": "code",
   "execution_count": 63,
   "id": "394aff01-9d60-4995-8209-dfffec6ce932",
   "metadata": {},
   "outputs": [
    {
     "name": "stdout",
     "output_type": "stream",
     "text": [
      "power off\n"
     ]
    }
   ],
   "source": [
    "your_phone.call(my_phone)"
   ]
  },
  {
   "cell_type": "code",
   "execution_count": 64,
   "id": "6b0e3073-73c9-40fd-bfab-7b20a87ce2db",
   "metadata": {},
   "outputs": [],
   "source": [
    "class Person():\n",
    "    name = ''\n",
    "    gender = ''\n",
    "    age = 0\n",
    "    height = 0\n",
    "\n",
    "    def greeting(self):\n",
    "        print(f'안녕하세요. 나는 {self.name}입니다.')\n",
    "\n",
    "    def grow(self):\n",
    "        self.age += 1"
   ]
  },
  {
   "cell_type": "code",
   "execution_count": 65,
   "id": "3b6015a1-8096-4211-8ba7-98486be86945",
   "metadata": {},
   "outputs": [],
   "source": [
    "p1 = Person()\n",
    "p2 = Person()"
   ]
  },
  {
   "cell_type": "code",
   "execution_count": 67,
   "id": "1ea199cb-a208-434e-bbb1-c96079b3c8ad",
   "metadata": {},
   "outputs": [],
   "source": [
    "p1.name = 'hong'\n",
    "p2.name = 'kim'\n",
    "\n",
    "p1.gender = 'F'\n",
    "p2.gender = 'M'\n",
    "\n",
    "p1.age = 20\n",
    "p2.age = 30\n",
    "\n",
    "p1.height = 170\n",
    "p2.height = 180"
   ]
  },
  {
   "cell_type": "code",
   "execution_count": 68,
   "id": "c385914a-e648-4a19-8df5-3a6178932264",
   "metadata": {},
   "outputs": [
    {
     "name": "stdout",
     "output_type": "stream",
     "text": [
      "hong kim\n"
     ]
    }
   ],
   "source": [
    "print(p1.name, p2.name)"
   ]
  },
  {
   "cell_type": "code",
   "execution_count": 69,
   "id": "f08b25ca-326a-4e66-9356-fcc681c6db0e",
   "metadata": {},
   "outputs": [
    {
     "name": "stdout",
     "output_type": "stream",
     "text": [
      "안녕하세요. 나는 hong입니다.\n"
     ]
    }
   ],
   "source": [
    "p1.greeting()"
   ]
  },
  {
   "cell_type": "code",
   "execution_count": 76,
   "id": "1db01d6c-4711-4248-a8cf-2d13e5e4a0d1",
   "metadata": {},
   "outputs": [
    {
     "name": "stdout",
     "output_type": "stream",
     "text": [
      "안녕하세요. 나는 hong입니다.\n"
     ]
    }
   ],
   "source": [
    "Person.greeting(p1)\n",
    "# Person.greeting() # error: missing argument"
   ]
  },
  {
   "cell_type": "code",
   "execution_count": 72,
   "id": "928c91da-622b-466e-89e2-0462448218a5",
   "metadata": {},
   "outputs": [
    {
     "name": "stdout",
     "output_type": "stream",
     "text": [
      "안녕하세요. 나는 hong입니다.\n"
     ]
    }
   ],
   "source": [
    "p1.greeting()"
   ]
  },
  {
   "cell_type": "markdown",
   "id": "2ecabdba-62a3-4575-aaa8-01911bac6a86",
   "metadata": {},
   "source": [
    "## 2. 생성자, 소멸자"
   ]
  },
  {
   "cell_type": "markdown",
   "id": "5ac17d58-ebde-47e5-8ce6-91822f284813",
   "metadata": {},
   "source": [
    "```python\n",
    "class MyClass():\n",
    "\n",
    "    def __init__(self):\n",
    "        pass\n",
    "    def __init__(self):\n",
    "        pass    \n",
    "```"
   ]
  },
  {
   "cell_type": "code",
   "execution_count": 77,
   "id": "72ed1f60-90ac-45a4-a4a5-6b80c122366d",
   "metadata": {},
   "outputs": [],
   "source": [
    "class Person():\n",
    "    name = ''\n",
    "\n",
    "    def __init__(self, name):\n",
    "        self.name = name\n",
    "        print('생성')\n",
    "\n",
    "    def __del__(self):\n",
    "        print('소멸')"
   ]
  },
  {
   "cell_type": "code",
   "execution_count": 79,
   "id": "94f67b34-9b6a-4453-8ab9-02fb47bd176b",
   "metadata": {},
   "outputs": [
    {
     "name": "stdout",
     "output_type": "stream",
     "text": [
      "생성\n",
      "생성\n"
     ]
    }
   ],
   "source": [
    "# p1 = Person() # Person.__init__(p1, name이 없음)\n",
    "p1 = Person('kim') # Person.__init__(p1. 'kim')\n",
    "p2 = Person('park')"
   ]
  },
  {
   "cell_type": "code",
   "execution_count": 80,
   "id": "1aa45fc0-4de3-4054-89dc-79f150eaf2de",
   "metadata": {},
   "outputs": [
    {
     "name": "stdout",
     "output_type": "stream",
     "text": [
      "생성\n",
      "소멸\n",
      "생성\n",
      "소멸\n"
     ]
    }
   ],
   "source": [
    "p1 = Person('kim') # 2번 실행하면 소멸됨\n",
    "p2 = Person('park')"
   ]
  },
  {
   "cell_type": "code",
   "execution_count": 81,
   "id": "206f6796-02cf-438c-aab6-e844bb59d468",
   "metadata": {},
   "outputs": [
    {
     "name": "stdout",
     "output_type": "stream",
     "text": [
      "소멸\n"
     ]
    }
   ],
   "source": [
    "del p1"
   ]
  },
  {
   "cell_type": "code",
   "execution_count": 82,
   "id": "c34f83a8-99e5-44d7-864d-ea1b0a679e20",
   "metadata": {},
   "outputs": [
    {
     "name": "stdout",
     "output_type": "stream",
     "text": [
      "소멸\n"
     ]
    }
   ],
   "source": [
    "del p2"
   ]
  },
  {
   "cell_type": "code",
   "execution_count": 83,
   "id": "fb398405-fe27-4747-819a-698a67377adb",
   "metadata": {},
   "outputs": [],
   "source": [
    "class Circle():\n",
    "    pi = 3.14\n",
    "\n",
    "    def __init__(self, r, x=0, y=0):\n",
    "        self.r = r\n",
    "        self.x = x\n",
    "        self.y = y\n",
    "\n",
    "    def info(self):\n",
    "        print(f'반지름: {self.r}, 중심점: ({self.x}, {self.y})')\n",
    "\n",
    "    def area(self):\n",
    "        return self.r ** 2 * self.pi\n",
    "\n",
    "    def round(self):\n",
    "        return self.r * self.pi * 2\n",
    "\n",
    "    def move(self, x, y):\n",
    "        self.x = x\n",
    "        self.y =y"
   ]
  },
  {
   "cell_type": "code",
   "execution_count": 84,
   "id": "f3c3fefc-9739-46b5-8513-b77529bb6c15",
   "metadata": {},
   "outputs": [],
   "source": [
    "c1 = Circle(5) # 기본값 인자 활용\n",
    "c2 = Circle(3, 1, 1)"
   ]
  },
  {
   "cell_type": "code",
   "execution_count": 86,
   "id": "19237ead-849a-499a-9cb7-25bb986dcea1",
   "metadata": {},
   "outputs": [
    {
     "name": "stdout",
     "output_type": "stream",
     "text": [
      "반지름: 5, 중심점: (0, 0)\n",
      "반지름: 3, 중심점: (1, 1)\n"
     ]
    }
   ],
   "source": [
    "c1.info()\n",
    "c2.info()"
   ]
  },
  {
   "cell_type": "code",
   "execution_count": 87,
   "id": "38fde2fe-cb8f-4a69-92e0-a9d461192b7c",
   "metadata": {},
   "outputs": [
    {
     "name": "stdout",
     "output_type": "stream",
     "text": [
      "78.5\n",
      "28.26\n",
      "31.400000000000002\n",
      "18.84\n"
     ]
    }
   ],
   "source": [
    "print(c1.area())\n",
    "print(c2.area())\n",
    "\n",
    "print(c1.round())\n",
    "print(c2.round())"
   ]
  },
  {
   "cell_type": "code",
   "execution_count": 88,
   "id": "3fdca20a-65a2-4d60-8cc6-e8bfc2441310",
   "metadata": {},
   "outputs": [
    {
     "name": "stdout",
     "output_type": "stream",
     "text": [
      "반지름: 5, 중심점: (100, 100)\n"
     ]
    }
   ],
   "source": [
    "c1.move(100, 100)\n",
    "c1.info()"
   ]
  },
  {
   "cell_type": "code",
   "execution_count": 89,
   "id": "166d2f30-ce2f-4d41-9ced-485e18ad52f0",
   "metadata": {},
   "outputs": [],
   "source": [
    "class Point():\n",
    "    def __init__(self, x, y):\n",
    "        self.x = x\n",
    "        self.y = y\n",
    "\n",
    "    def info(self):\n",
    "        print(f'({self.x}, {self.y})')"
   ]
  },
  {
   "cell_type": "code",
   "execution_count": 90,
   "id": "d6e5348d-3e0d-4277-b075-63650384f01c",
   "metadata": {},
   "outputs": [],
   "source": [
    "p1 = Point(1, 1)\n",
    "p2 = Point(2, 3)"
   ]
  },
  {
   "cell_type": "code",
   "execution_count": 91,
   "id": "6576aab2-e2f3-48d2-b0ef-29eb15cf13fb",
   "metadata": {},
   "outputs": [
    {
     "name": "stdout",
     "output_type": "stream",
     "text": [
      "(1, 1)\n"
     ]
    }
   ],
   "source": [
    "p1.info()"
   ]
  },
  {
   "cell_type": "code",
   "execution_count": 92,
   "id": "4abc4775-af9f-46de-ab47-3b951cbf686d",
   "metadata": {},
   "outputs": [],
   "source": [
    "class Circle():\n",
    "    def __init__(self, r, point):\n",
    "        self.r = r\n",
    "        self.point = point\n",
    "\n",
    "    def info(self):\n",
    "        point = self.point\n",
    "        x = point.x\n",
    "        y = point.y\n",
    "        print(f'반지름: {self.r}, 중심점: ({x}, {y})')"
   ]
  },
  {
   "cell_type": "code",
   "execution_count": 93,
   "id": "05bb9cb4-15d5-444e-a80b-c8919ee83370",
   "metadata": {},
   "outputs": [],
   "source": [
    "c1 = Circle(10, p1)\n",
    "c2 = Circle(5, p2)"
   ]
  },
  {
   "cell_type": "code",
   "execution_count": 95,
   "id": "ca821f1d-ae0a-4afa-bab6-6db47a3294d0",
   "metadata": {},
   "outputs": [
    {
     "name": "stdout",
     "output_type": "stream",
     "text": [
      "반지름: 10, 중심점: (1, 1)\n"
     ]
    }
   ],
   "source": [
    "c1.info()"
   ]
  },
  {
   "cell_type": "code",
   "execution_count": 96,
   "id": "2309e811-f1ad-4723-a5a5-284fc2067fa9",
   "metadata": {},
   "outputs": [
    {
     "data": {
      "text/plain": [
       "'C'"
      ]
     },
     "execution_count": 96,
     "metadata": {},
     "output_type": "execute_result"
    }
   ],
   "source": [
    "['a', 'b', 'c'].pop().capitalize()"
   ]
  },
  {
   "cell_type": "markdown",
   "id": "4cce4af7-dec6-4221-bb99-fa80e9e0e982",
   "metadata": {},
   "source": [
    "## 3. 클래스 변수/ 인스턴스 변수"
   ]
  },
  {
   "cell_type": "markdown",
   "id": "515c21ba-4ec3-48ec-afe6-78f54bea3030",
   "metadata": {},
   "source": [
    "- 클래스 변수: 클래스 선언 블록 최상단에 위치\n",
    "- 인스턴스 변수: 인스턴스 내부에서 생성한 변수\n",
    "```python\n",
    "class MyClass():\n",
    "    class_variable = '클래스 변수'\n",
    "\n",
    "    def __init__(self):\n",
    "        self.instance_variable = '인스턴스 변수'\n",
    "```\n",
    "- *영역 차이 존재, 독립적으로 존재*"
   ]
  },
  {
   "cell_type": "code",
   "execution_count": 97,
   "id": "c51e1c2e-84df-4657-bf33-4eda10880236",
   "metadata": {},
   "outputs": [],
   "source": [
    "class Person():\n",
    "    name = 'hong'\n",
    "    age = 10\n",
    "\n",
    "    def __init__(self, name):\n",
    "        self.name = name"
   ]
  },
  {
   "cell_type": "code",
   "execution_count": 98,
   "id": "c8ebba2f-4129-4a60-99d4-a5239b0cbc80",
   "metadata": {},
   "outputs": [
    {
     "name": "stdout",
     "output_type": "stream",
     "text": [
      "oh\n",
      "10\n"
     ]
    }
   ],
   "source": [
    "p1 = Person('oh')\n",
    "print(p1.name) # 인스턴스 변수\n",
    "print(p1.age) # 클래스 변수"
   ]
  },
  {
   "cell_type": "markdown",
   "id": "bef00032-cd03-4fe5-930c-a6e670fc0854",
   "metadata": {},
   "source": [
    "## 4. 클래스 메소드/ 인스턴스 메소드/ 스태틱 메소드"
   ]
  },
  {
   "cell_type": "markdown",
   "id": "5e8f5737-ec73-4fe6-92e3-c4f52cb5ff5e",
   "metadata": {},
   "source": [
    "```python\n",
    "class MyClass():\n",
    "\n",
    "    def instance_method(self): # 인스턴스 자기 자신\n",
    "        pass\n",
    "\n",
    "    @classmethod\n",
    "    def class_method(cls): # 클래스 개체 자체\n",
    "        pass\n",
    "\n",
    "    @staticmethod\n",
    "    def static_method():\n",
    "        pass\n",
    "```"
   ]
  },
  {
   "cell_type": "code",
   "execution_count": 99,
   "id": "037fe8a4-889b-4f94-903c-1f70671a956b",
   "metadata": {},
   "outputs": [],
   "source": [
    "class MyClass():\n",
    "\n",
    "    def instance_method(self):\n",
    "        print(self)\n",
    "\n",
    "    @classmethod\n",
    "    def class_method(cls):\n",
    "        print(cls)\n",
    "\n",
    "    @staticmethod\n",
    "    def static_method():\n",
    "        print('static')"
   ]
  },
  {
   "cell_type": "code",
   "execution_count": 100,
   "id": "99264585-54c2-4180-95a6-d208b802ff53",
   "metadata": {},
   "outputs": [
    {
     "name": "stdout",
     "output_type": "stream",
     "text": [
      "<__main__.MyClass object at 0x000001FE50A246E0>\n",
      "<__main__.MyClass object at 0x000001FE50A246E0>\n"
     ]
    }
   ],
   "source": [
    "mc = MyClass()\n",
    "\n",
    "mc.instance_method() # => self: 내가 인스턴스화한 자기 자신 그 자체\n",
    "print(mc)"
   ]
  },
  {
   "cell_type": "code",
   "execution_count": 101,
   "id": "17cd2c42-25f7-4306-9735-3f38e1f8e69d",
   "metadata": {},
   "outputs": [
    {
     "name": "stdout",
     "output_type": "stream",
     "text": [
      "<class '__main__.MyClass'>\n",
      "<class '__main__.MyClass'>\n"
     ]
    }
   ],
   "source": [
    "mc.class_method()  # => cls\n",
    "print(MyClass)"
   ]
  },
  {
   "cell_type": "code",
   "execution_count": 103,
   "id": "e641948e-dd51-4f75-9e94-20f823221bb3",
   "metadata": {},
   "outputs": [
    {
     "name": "stdout",
     "output_type": "stream",
     "text": [
      "static\n"
     ]
    }
   ],
   "source": [
    "mc.static_method()"
   ]
  },
  {
   "cell_type": "code",
   "execution_count": 104,
   "id": "972d1fa7-47f7-4014-b1be-4c73b2a93074",
   "metadata": {},
   "outputs": [],
   "source": [
    "class Puppy():\n",
    "    num_of_puppy = 0\n",
    "\n",
    "    def __init__(self, name):\n",
    "        self.name = name\n",
    "        Puppy.num_of_puppy += 1\n",
    "\n",
    "    @classmethod\n",
    "    def info(cls):\n",
    "        print(f'강아지는 {cls.num_of_puppy}마리')\n",
    "\n",
    "    # @instancemethod\n",
    "    def bark(self):\n",
    "        print(f'멍멍 {self.name}입니다.')\n",
    "\n",
    "    @staticmethod # 왜 쓰는거지? => 클래스 변수나 인스턴스 변수를 건드리지 않을 때\n",
    "    def bark2():\n",
    "        print('왈왈')"
   ]
  },
  {
   "cell_type": "code",
   "execution_count": 105,
   "id": "77b39390-d039-4cfc-9fd3-032bf8a2205b",
   "metadata": {},
   "outputs": [
    {
     "name": "stdout",
     "output_type": "stream",
     "text": [
      "강아지는 3마리\n"
     ]
    }
   ],
   "source": [
    "p1 = Puppy('choco')\n",
    "p2 = Puppy('cloud')\n",
    "p3 = Puppy('apple')\n",
    "\n",
    "Puppy.info()"
   ]
  },
  {
   "cell_type": "code",
   "execution_count": 106,
   "id": "b033a281-c79e-432a-ba34-39f6fe432a7e",
   "metadata": {},
   "outputs": [
    {
     "name": "stdout",
     "output_type": "stream",
     "text": [
      "멍멍 choco입니다.\n",
      "멍멍 cloud입니다.\n"
     ]
    }
   ],
   "source": [
    "p1.bark()\n",
    "p2.bark()"
   ]
  },
  {
   "cell_type": "code",
   "execution_count": 109,
   "id": "7cb5af90-54f1-46c7-8faa-68f3e0e35b1b",
   "metadata": {},
   "outputs": [
    {
     "name": "stdout",
     "output_type": "stream",
     "text": [
      "왈왈\n",
      "왈왈\n"
     ]
    }
   ],
   "source": [
    "p1.bark2()\n",
    "p2.bark2()"
   ]
  },
  {
   "cell_type": "markdown",
   "id": "e075efb0-9b99-421a-890a-fdfb9ee09d0d",
   "metadata": {},
   "source": [
    "- 클래스\n",
    "    - 데이터/변수/속성/attribute\n",
    "        - 클래스 변수\n",
    "        - 인스턴스 변수\n",
    "    - 기능/동작/함수/method\n",
    "        - 클래스 변수에 접근하려면 클래스 메소드 사용\n",
    "        - 인스턴스 변수에 접근하려면 인스턴스 메소드 사용\n",
    "        - 둘 다 필요없는 경우 스태틱 메소드 사용"
   ]
  },
  {
   "cell_type": "markdown",
   "id": "10d1b41f-a7c9-4ed5-b766-12d3c9081c77",
   "metadata": {},
   "source": [
    "## 5. 상속"
   ]
  },
  {
   "cell_type": "code",
   "execution_count": 111,
   "id": "03810c72-2c7f-49c4-9b88-07efa5dc0442",
   "metadata": {},
   "outputs": [],
   "source": [
    "class Person():\n",
    "    ident = ''\n",
    "\n",
    "    def __init__(self, name):\n",
    "        self.name = name\n",
    "\n",
    "    def greeting(self):\n",
    "        print(f'hi I am {self.name}')"
   ]
  },
  {
   "cell_type": "code",
   "execution_count": 116,
   "id": "423f8fac-029d-48bf-b862-5e0eb8f9a74c",
   "metadata": {},
   "outputs": [],
   "source": [
    "p1 = Person('hong')\n",
    "p2 = Person('kim')"
   ]
  },
  {
   "cell_type": "code",
   "execution_count": 117,
   "id": "d905d916-9820-4d15-98dc-89dfa9f5b833",
   "metadata": {},
   "outputs": [
    {
     "name": "stdout",
     "output_type": "stream",
     "text": [
      "hi I am hong\n",
      "hi I am kim\n"
     ]
    }
   ],
   "source": [
    "p1.greeting()\n",
    "p2.greeting()"
   ]
  },
  {
   "cell_type": "code",
   "execution_count": 118,
   "id": "aa839155-d7d8-4819-9607-87726537aa55",
   "metadata": {},
   "outputs": [
    {
     "data": {
      "text/plain": [
       "'990909-1234567'"
      ]
     },
     "execution_count": 118,
     "metadata": {},
     "output_type": "execute_result"
    }
   ],
   "source": [
    "p1.ident = '990909-1234567'\n",
    "p1.ident"
   ]
  },
  {
   "cell_type": "code",
   "execution_count": 119,
   "id": "c32c3a58-2074-4cf1-988a-3cf57c38561d",
   "metadata": {},
   "outputs": [],
   "source": [
    "class Soldier(Person):\n",
    "    def soldier_greeting(self):\n",
    "        print(f'충성! {self.name}입니다.')\n",
    "\n",
    "    # ident = ''\n",
    "\n",
    "    # def __init__(self, name):\n",
    "    #     self.name = name\n",
    "\n",
    "    # def greeting(self):\n",
    "    #     print(f'hi I am {self.name}')"
   ]
  },
  {
   "cell_type": "code",
   "execution_count": 120,
   "id": "7e7aa9e7-bf04-46cd-9b89-49474ba0be07",
   "metadata": {},
   "outputs": [
    {
     "name": "stdout",
     "output_type": "stream",
     "text": [
      "hi I am 굳건이\n",
      "충성! 굳건이입니다.\n"
     ]
    }
   ],
   "source": [
    "s1 = Soldier('굳건이')\n",
    "s1.greeting()\n",
    "s1.soldier_greeting()"
   ]
  },
  {
   "cell_type": "code",
   "execution_count": 121,
   "id": "d3fdde2b-a9cd-4acb-90c5-d9e9dee22215",
   "metadata": {},
   "outputs": [],
   "source": [
    "class Soldier(Person):\n",
    "    def greeting(self):\n",
    "        print(f'충성! {self.name}입니다.')"
   ]
  },
  {
   "cell_type": "code",
   "execution_count": 122,
   "id": "122f06f1-1ce3-4d6a-acb7-b83f2bd2f008",
   "metadata": {},
   "outputs": [
    {
     "name": "stdout",
     "output_type": "stream",
     "text": [
      "충성! 굳건이입니다.\n"
     ]
    }
   ],
   "source": [
    "s1 = Soldier('굳건이')\n",
    "s1.greeting() # 내가 만든 게 우선순위가 더 높다"
   ]
  },
  {
   "cell_type": "code",
   "execution_count": 123,
   "id": "756c7f69-be85-427a-b843-abc12c47de7a",
   "metadata": {},
   "outputs": [
    {
     "data": {
      "text/plain": [
       "'25-12341243'"
      ]
     },
     "execution_count": 123,
     "metadata": {},
     "output_type": "execute_result"
    }
   ],
   "source": [
    "s1.ident = '25-12341243'\n",
    "s1.ident # 변수의 이름은 같지만 데이터의 유형은 다를 수 있음"
   ]
  },
  {
   "cell_type": "code",
   "execution_count": 124,
   "id": "3317f5a8-4b09-40df-84e4-8d9246db14b2",
   "metadata": {},
   "outputs": [],
   "source": [
    "class PErson():\n",
    "    def __init__(self, name, age, email, phone):\n",
    "        self.name = name\n",
    "        self.age = age\n",
    "        self.email = email\n",
    "        self.phone = phone\n",
    "class Student(Person):\n",
    "    def __init__(self, name, age, email, phone, student_id):\n",
    "        super().__init__(name, age, email, phone)\n",
    "        self.student_id = student_id"
   ]
  },
  {
   "cell_type": "markdown",
   "id": "c536c42c-2f3e-4178-a462-615adf0d716d",
   "metadata": {},
   "source": [
    "### 5.1 다중상속"
   ]
  },
  {
   "cell_type": "code",
   "execution_count": 125,
   "id": "36024fd9-f5b9-446e-9158-70907fa899b8",
   "metadata": {},
   "outputs": [],
   "source": [
    "class Person():\n",
    "    def __init__(self, name):\n",
    "        self.name = name\n",
    "\n",
    "    def breath(self):\n",
    "        print('huha')"
   ]
  },
  {
   "cell_type": "code",
   "execution_count": 126,
   "id": "3e897f6d-1c8c-4106-ac97-ac5967ce8dbb",
   "metadata": {},
   "outputs": [],
   "source": [
    "class Mom(Person):\n",
    "    gene = 'xx'\n",
    "\n",
    "    def swim(self):\n",
    "        print('uhpu uhpu')"
   ]
  },
  {
   "cell_type": "code",
   "execution_count": 127,
   "id": "26c56244-5711-4a09-9c30-8946c4929c52",
   "metadata": {},
   "outputs": [],
   "source": [
    "class Dad(Person):\n",
    "    gene = 'xy'\n",
    "\n",
    "    def run(self):\n",
    "        print('dadada')"
   ]
  },
  {
   "cell_type": "code",
   "execution_count": 128,
   "id": "dae3d29d-7fa2-4822-9786-be5d4289af3c",
   "metadata": {},
   "outputs": [],
   "source": [
    "class Child(Mom, Dad):\n",
    "    pass"
   ]
  },
  {
   "cell_type": "code",
   "execution_count": 129,
   "id": "18fcbfb7-fcf7-4957-a46f-93bab8550c0b",
   "metadata": {},
   "outputs": [
    {
     "name": "stdout",
     "output_type": "stream",
     "text": [
      "huha\n",
      "dadada\n",
      "uhpu uhpu\n"
     ]
    }
   ],
   "source": [
    "c = Child('gold')\n",
    "c.breath()\n",
    "c.run()\n",
    "c.swim()"
   ]
  },
  {
   "cell_type": "code",
   "execution_count": 130,
   "id": "2da01237-fa37-4b63-a82a-4421951e74ba",
   "metadata": {},
   "outputs": [
    {
     "data": {
      "text/plain": [
       "'xx'"
      ]
     },
     "execution_count": 130,
     "metadata": {},
     "output_type": "execute_result"
    }
   ],
   "source": [
    "c.gene # 변수/함수가 겹친다면 먼저 상속받은 변수/함수가 상속"
   ]
  }
 ],
 "metadata": {
  "kernelspec": {
   "display_name": "Python 3 (ipykernel)",
   "language": "python",
   "name": "python3"
  },
  "language_info": {
   "codemirror_mode": {
    "name": "ipython",
    "version": 3
   },
   "file_extension": ".py",
   "mimetype": "text/x-python",
   "name": "python",
   "nbconvert_exporter": "python",
   "pygments_lexer": "ipython3",
   "version": "3.13.2"
  }
 },
 "nbformat": 4,
 "nbformat_minor": 5
}
