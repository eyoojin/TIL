{
 "cells": [
  {
   "cell_type": "markdown",
   "id": "cf667f2e-3a65-4838-81b2-d7a080952c68",
   "metadata": {},
   "source": [
    "# 01. intro"
   ]
  },
  {
   "cell_type": "markdown",
   "id": "233ab601-546c-4cef-a0b6-e8b58dfc508b",
   "metadata": {},
   "source": [
    "## 1. 변수"
   ]
  },
  {
   "cell_type": "markdown",
   "id": "4bbfbe67-132f-457a-97aa-47266ceaf35f",
   "metadata": {},
   "source": [
    "```\n",
    "var_name = value\n",
    "```\n",
    "- 변수 이름은 어떤 이름이든 사용 가능\n",
    "- but 영어, 숫자, _를 이용해서 선언\n",
    "- 키워드는 불가능"
   ]
  },
  {
   "cell_type": "code",
   "execution_count": null,
   "id": "809e9823-cbfb-4a6f-9061-decb3aeabf75",
   "metadata": {},
   "outputs": [],
   "source": [
    "a = 100\n",
    "a # 아래에 결과값 바로 출력"
   ]
  },
  {
   "cell_type": "code",
   "execution_count": null,
   "id": "fe15e88d-431e-4be7-a3df-5610ede75bfb",
   "metadata": {},
   "outputs": [],
   "source": [
    "import keyword\n",
    "keyword.kwlist"
   ]
  },
  {
   "cell_type": "markdown",
   "id": "cd6d0c1f-d226-456f-b07e-f45b9e270d40",
   "metadata": {},
   "source": [
    "### 1.1. number"
   ]
  },
  {
   "cell_type": "code",
   "execution_count": null,
   "id": "7184bc13-b52c-457c-a046-f56fa864c071",
   "metadata": {},
   "outputs": [],
   "source": [
    "a = 10000 # 덮어씌우기 # 데이터 타입 다양\n",
    "type(a) # integer: 정수"
   ]
  },
  {
   "cell_type": "code",
   "execution_count": null,
   "id": "aa08cc59-273a-4ffe-bd2b-b1f0c253de0e",
   "metadata": {},
   "outputs": [],
   "source": [
    "b = 1.1\n",
    "type(b) # float: 실수"
   ]
  },
  {
   "cell_type": "code",
   "execution_count": null,
   "id": "fe529502-e9da-4815-a457-071909d64811",
   "metadata": {},
   "outputs": [],
   "source": [
    "c = 1 + 1j\n",
    "type(c) # complex: 복소수"
   ]
  },
  {
   "cell_type": "markdown",
   "id": "e4414114-cdfc-4db4-ae8c-e50f3976791a",
   "metadata": {},
   "source": [
    "### 1.2. boolean"
   ]
  },
  {
   "cell_type": "code",
   "execution_count": null,
   "id": "00b00fde-a901-4db5-afd4-670b18c6e0f6",
   "metadata": {},
   "outputs": [],
   "source": [
    "a = True\n",
    "type(a) # boolean: 참 또는 거짓"
   ]
  },
  {
   "cell_type": "markdown",
   "id": "99f419a3-a454-4f63-a8c0-ae2f01973091",
   "metadata": {},
   "source": [
    "### 1.3. string"
   ]
  },
  {
   "cell_type": "markdown",
   "id": "add8fda6-44cd-45cd-9f5a-79b8f4464ee5",
   "metadata": {},
   "source": [
    "- `'`, `\"`를 이용하여 표현\n",
    "- *문자열*\n",
    "- *어디로 가느냐에 따라 모양이 달라질 수 있음*"
   ]
  },
  {
   "cell_type": "code",
   "execution_count": null,
   "id": "f512e6b8-9052-4f7f-a236-5198ff67a640",
   "metadata": {},
   "outputs": [],
   "source": [
    "a = 'hello'\n",
    "a"
   ]
  },
  {
   "cell_type": "code",
   "execution_count": null,
   "id": "cd1a5b5a-fb00-4356-904b-aa5405b87593",
   "metadata": {},
   "outputs": [],
   "source": [
    "print('hello my name is \"Yoojin\"')"
   ]
  },
  {
   "cell_type": "code",
   "execution_count": null,
   "id": "0657d9b1-91a5-466e-8182-0c60be719653",
   "metadata": {},
   "outputs": [],
   "source": [
    "print('hello \\nmy name is \\'Yoojin\\'') # \\n: new line"
   ]
  },
  {
   "cell_type": "code",
   "execution_count": null,
   "id": "fe1bfdc7-5d94-4d44-98a9-a5e638b01864",
   "metadata": {},
   "outputs": [],
   "source": [
    "a = '''\n",
    "hello\n",
    "world\n",
    "hi\n",
    "''' # '''안의 것을 모두 문자로 인식\n",
    "a"
   ]
  },
  {
   "cell_type": "markdown",
   "id": "86e84f1e-7b25-4550-a489-69cf9ba58699",
   "metadata": {},
   "source": [
    "#### string interpolation"
   ]
  },
  {
   "cell_type": "markdown",
   "id": "5cec3901-e5e4-4d84-954e-c8845c2f1cae",
   "metadata": {},
   "source": [
    "- %-formating\n",
    "- str.format()\n",
    "- f-string\n",
    "- *문자열 사이에 변수를 넣는 법*"
   ]
  },
  {
   "cell_type": "code",
   "execution_count": null,
   "id": "b0bc3c05-71af-47b4-ac78-40c239ea02c2",
   "metadata": {},
   "outputs": [],
   "source": [
    "age = 10"
   ]
  },
  {
   "cell_type": "code",
   "execution_count": null,
   "id": "72446c21-6f36-4c84-bb07-bc43bfbeddbc",
   "metadata": {},
   "outputs": [],
   "source": [
    "print('홍길동은 %s살입니다.' % age)"
   ]
  },
  {
   "cell_type": "code",
   "execution_count": null,
   "id": "01017fa8-9cca-4baa-8524-9ed567dd0e99",
   "metadata": {},
   "outputs": [],
   "source": [
    "print('홍길동은 {}살입니다.'.format(age))"
   ]
  },
  {
   "cell_type": "code",
   "execution_count": null,
   "id": "7ad8571c-ec90-4991-b762-793c45b4fdd4",
   "metadata": {},
   "outputs": [],
   "source": [
    "print(f'홍길동은 {age}살입니다.')"
   ]
  },
  {
   "cell_type": "markdown",
   "id": "f54f6632-1800-4893-855c-5bd3966b222c",
   "metadata": {},
   "source": [
    "## 2. 연산자"
   ]
  },
  {
   "cell_type": "markdown",
   "id": "c053c2a4-f14e-4c14-ab37-d8ed4b1e671c",
   "metadata": {},
   "source": [
    "### 2.1. 산술연산자"
   ]
  },
  {
   "cell_type": "code",
   "execution_count": null,
   "id": "1d2d01bb-4b93-4ebe-b009-58286df8cc34",
   "metadata": {},
   "outputs": [],
   "source": [
    "a = 5\n",
    "b = 2"
   ]
  },
  {
   "cell_type": "code",
   "execution_count": null,
   "id": "9b341e98-f464-44af-a775-012c40819291",
   "metadata": {},
   "outputs": [],
   "source": [
    "print(a + b)\n",
    "print(a - b)\n",
    "print(a * b)\n",
    "print(a / b)"
   ]
  },
  {
   "cell_type": "code",
   "execution_count": null,
   "id": "efe4278d-24c3-4e33-a81d-806172e1b359",
   "metadata": {},
   "outputs": [],
   "source": [
    "result = divmod(a, b) # 몫과 나머지를 한번에 계산\n",
    "print(result)"
   ]
  },
  {
   "cell_type": "markdown",
   "id": "cf0a95ce-7ecd-428d-9e72-c55d508a9b2f",
   "metadata": {},
   "source": [
    "### 2.2. 비교연산자"
   ]
  },
  {
   "cell_type": "code",
   "execution_count": null,
   "id": "332777af-c9c7-40f8-9f95-a375ac806836",
   "metadata": {},
   "outputs": [],
   "source": [
    "a = 5\n",
    "b = 10"
   ]
  },
  {
   "cell_type": "code",
   "execution_count": null,
   "id": "83fb9c3c-e62e-4664-9678-2c21c8f34173",
   "metadata": {},
   "outputs": [],
   "source": [
    "print(a > b) # 맞으면 T 틀리면 F\n",
    "print(a < b)\n",
    "print(a >= b)\n",
    "print(a <= b)"
   ]
  },
  {
   "cell_type": "code",
   "execution_count": null,
   "id": "7c067c0c-0e5d-4179-9cc4-8fed6121a584",
   "metadata": {},
   "outputs": [],
   "source": [
    "print(a == b)\n",
    "print(a != b)"
   ]
  },
  {
   "cell_type": "code",
   "execution_count": null,
   "id": "391a3817-5233-4b51-b50b-c79d42d834dc",
   "metadata": {},
   "outputs": [],
   "source": [
    "print('hi' == 'hi')\n",
    "print('hi' == 'Hi')"
   ]
  },
  {
   "cell_type": "markdown",
   "id": "bb59a326-4a95-4e17-abb2-90ad22677a8d",
   "metadata": {},
   "source": [
    "### 2.3. 논리연산자"
   ]
  },
  {
   "cell_type": "markdown",
   "id": "4a944fbd-47cd-4c69-9df9-b18af09434d6",
   "metadata": {},
   "source": [
    "- and: 양쪽 모두 True일 때, True를 반환\n",
    "- or: 양쪽 모두 False일 때, False를 반환 *(둘 중에 하나라도 True라면 True)*\n",
    "- not: 상태를 부정"
   ]
  },
  {
   "cell_type": "code",
   "execution_count": null,
   "id": "cd0f2426-4ba2-4736-b9dc-c56428c42490",
   "metadata": {},
   "outputs": [],
   "source": [
    "print(True and True)\n",
    "print(True and False)\n",
    "print(False and True)\n",
    "print(False and False)"
   ]
  },
  {
   "cell_type": "code",
   "execution_count": null,
   "id": "e2e47b98-caec-472a-b79a-4f39b1ed8897",
   "metadata": {},
   "outputs": [],
   "source": [
    "print(True or True)\n",
    "print(True or False)\n",
    "print(False or True)\n",
    "print(False or False)"
   ]
  },
  {
   "cell_type": "code",
   "execution_count": null,
   "id": "bef631f5-ab6d-4cd6-b02b-0ccf836f20db",
   "metadata": {},
   "outputs": [],
   "source": [
    "a = True\n",
    "print(not a)"
   ]
  },
  {
   "cell_type": "markdown",
   "id": "133f9363-0a83-4bee-bde4-499028c6b300",
   "metadata": {},
   "source": [
    "#### 단축평가"
   ]
  },
  {
   "cell_type": "code",
   "execution_count": null,
   "id": "89de652a-31a3-49d3-8826-7af01fb1dd7c",
   "metadata": {},
   "outputs": [],
   "source": [
    "print(3 and 5) # 앞이 T인 경우 '뒤'를 반환\n",
    "print(3 and 0)\n",
    "print(0 and 5) # 앞이 F인 경우 '앞'을 반환\n",
    "print(0 and 0)"
   ]
  },
  {
   "cell_type": "code",
   "execution_count": null,
   "id": "f64a540f-fd89-42d4-92e5-371f36e2548c",
   "metadata": {},
   "outputs": [],
   "source": [
    "print(3 or 5) # 앞이 T인 경우 '앞'을 반환\n",
    "print(3 or 0)\n",
    "print(0 or 5) # 앞이 F인 경우 '뒤'를 반환\n",
    "print(0 or 0)"
   ]
  },
  {
   "cell_type": "markdown",
   "id": "858a369f-d127-4d7b-9141-ac20d137a8d7",
   "metadata": {},
   "source": [
    "### 2.4. 복합연산자"
   ]
  },
  {
   "cell_type": "code",
   "execution_count": null,
   "id": "7315fda1-751f-4b9e-9c7a-0714e8fca1b2",
   "metadata": {},
   "outputs": [],
   "source": [
    "a = 2\n",
    "b = 3"
   ]
  },
  {
   "cell_type": "code",
   "execution_count": null,
   "id": "350c66b1-f9a8-49f7-84f3-eba7d0607636",
   "metadata": {},
   "outputs": [],
   "source": [
    "a = a + b # 오른쪽의 값을 왼쪽에 할당\n",
    "a += b"
   ]
  },
  {
   "cell_type": "code",
   "execution_count": null,
   "id": "847a9560-2d15-4e92-a5e2-677ad0027f1b",
   "metadata": {},
   "outputs": [],
   "source": [
    "a = a - b\n",
    "a -= b"
   ]
  },
  {
   "cell_type": "code",
   "execution_count": null,
   "id": "a67cacb4-b384-4a56-8e16-6217fa50b5f7",
   "metadata": {},
   "outputs": [],
   "source": [
    "a = a * b\n",
    "a *= b"
   ]
  },
  {
   "cell_type": "code",
   "execution_count": null,
   "id": "f74722a4-3bec-4e9a-8fb0-26b2c546d783",
   "metadata": {},
   "outputs": [],
   "source": [
    "a = a / b\n",
    "a /= b"
   ]
  },
  {
   "cell_type": "code",
   "execution_count": null,
   "id": "5ce6cdb2-e8d6-4bab-bd2a-bafbd83ce14f",
   "metadata": {},
   "outputs": [],
   "source": [
    "a = a // b\n",
    "a //= b"
   ]
  },
  {
   "cell_type": "code",
   "execution_count": null,
   "id": "1569bc4d-2bc1-4273-b82b-5f0837f55f90",
   "metadata": {},
   "outputs": [],
   "source": [
    "a = a % b\n",
    "a %= b"
   ]
  },
  {
   "cell_type": "code",
   "execution_count": null,
   "id": "a9e53a44-dd97-4580-ba8d-4a444a176cde",
   "metadata": {},
   "outputs": [],
   "source": [
    "a = a ** b\n",
    "a **= b"
   ]
  },
  {
   "cell_type": "markdown",
   "id": "0080fa1b-68dd-4cd3-9155-66c83e56f01e",
   "metadata": {},
   "source": [
    "### 2.5. 기타연산자"
   ]
  },
  {
   "cell_type": "code",
   "execution_count": null,
   "id": "c5041304-40da-422b-aec8-abd31f1a477d",
   "metadata": {},
   "outputs": [],
   "source": [
    "a = 'hi'\n",
    "b = 'hello'"
   ]
  },
  {
   "cell_type": "code",
   "execution_count": null,
   "id": "dc4ea871-5842-4fe4-9772-2516631f72eb",
   "metadata": {},
   "outputs": [],
   "source": [
    "print(a + b) # concatenation: 연결"
   ]
  },
  {
   "cell_type": "code",
   "execution_count": null,
   "id": "e8dd1dc7-8c7e-49a7-a75e-4dee04c8e91c",
   "metadata": {},
   "outputs": [],
   "source": [
    "print(a + 1) # error: 앞이 str 이므로 concetention으로 인식"
   ]
  },
  {
   "cell_type": "code",
   "execution_count": null,
   "id": "428c3a79-857f-42b0-ab35-370ad37fd52b",
   "metadata": {},
   "outputs": [],
   "source": [
    "print(1 + b) # error: 앞이 int이므로 plus로 인식"
   ]
  },
  {
   "cell_type": "code",
   "execution_count": null,
   "id": "1255f14c-b2ab-4c11-a268-63ac922d3fb3",
   "metadata": {},
   "outputs": [],
   "source": [
    "a = [1, 2, 3]\n",
    "b = [2, 3, 4]"
   ]
  },
  {
   "cell_type": "code",
   "execution_count": null,
   "id": "7c9ac8b4-779b-4624-a4ea-226a5beff4e9",
   "metadata": {},
   "outputs": [],
   "source": [
    "print(a + b) # concatenation"
   ]
  },
  {
   "cell_type": "code",
   "execution_count": null,
   "id": "036d7c38-a93f-49b9-bee0-8b10f748452e",
   "metadata": {},
   "outputs": [],
   "source": [
    "print(1 in a) # contain\n",
    "print(10 in a)"
   ]
  },
  {
   "cell_type": "code",
   "execution_count": null,
   "id": "1ded93f0-0e23-4377-b0d1-8086800401c1",
   "metadata": {},
   "outputs": [],
   "source": [
    "a = 256\n",
    "b = 256\n",
    "c = 257\n",
    "d = 257"
   ]
  },
  {
   "cell_type": "code",
   "execution_count": null,
   "id": "dda7b485-eb66-4ebb-95d3-b721fa3fc035",
   "metadata": {},
   "outputs": [],
   "source": [
    "print(a == b) # a와 b의 값이 같은가?\n",
    "print(a is b) # a가 b인가?\n",
    "# is: a와 b가 본질적으로 같은 객체인지 = 메모리를 차지하는 위치가 같은지\n",
    "print(c == d)\n",
    "print(c is d) # 256까지는 자주 쓰는 숫자이므로 이미 메모리를 차지하고 있음"
   ]
  },
  {
   "cell_type": "markdown",
   "id": "14395761-2a7e-4576-8cd4-5590b0199933",
   "metadata": {},
   "source": [
    "#### 연산자 우선순위"
   ]
  },
  {
   "cell_type": "markdown",
   "id": "907763d1-908f-409b-962b-d8f2d7e11aee",
   "metadata": {},
   "source": [
    "0. ()를 통해서 그룹\n",
    "1. **\n",
    "2. 산술연산자(*, /)\n",
    "3. 산술연산자(+, -)\n",
    "4. 비교연산자, in, is\n",
    "5. not\n",
    "6. and\n",
    "7. or"
   ]
  },
  {
   "cell_type": "code",
   "execution_count": null,
   "id": "0e930236-872c-43dd-b6c0-dd6eb37ca0e3",
   "metadata": {},
   "outputs": [],
   "source": [
    "print(-3 ** 4)\n",
    "print((-3) ** 4)"
   ]
  },
  {
   "cell_type": "markdown",
   "id": "798ece86-3539-4ce6-80ac-41b60a5cf698",
   "metadata": {},
   "source": [
    "## 3. 형변환"
   ]
  },
  {
   "cell_type": "markdown",
   "id": "7089a55e-ecb5-43c9-8aca-e2b56f28f510",
   "metadata": {},
   "source": [
    "### 3.1. 암시적 형변환"
   ]
  },
  {
   "cell_type": "markdown",
   "id": "76048422-a738-4c8e-9305-ee8e9ee3dd64",
   "metadata": {},
   "source": [
    "- *자동으로 바뀜*\n",
    "- True, False를 숫자로/ 1, 0을 True, False로"
   ]
  },
  {
   "cell_type": "code",
   "execution_count": null,
   "id": "4a43871b-4595-45a4-a6d3-00bbc24563e3",
   "metadata": {},
   "outputs": [],
   "source": [
    "a = True # 1\n",
    "b = False # 0\n",
    "c = 2"
   ]
  },
  {
   "cell_type": "code",
   "execution_count": null,
   "id": "82c97b56-0c46-4eab-ad5d-9adbb86e26b0",
   "metadata": {},
   "outputs": [],
   "source": [
    "print(a + b)\n",
    "print(a + c)"
   ]
  },
  {
   "cell_type": "markdown",
   "id": "385e8e69-aab5-4d4e-b039-1b667c3e8ec3",
   "metadata": {},
   "source": [
    "### 3.2. 명시적 형변환"
   ]
  },
  {
   "cell_type": "markdown",
   "id": "01ba5176-0ce9-4af5-b65c-43ce008089c4",
   "metadata": {},
   "source": [
    "- int()\n",
    "- float()\n",
    "- str()\n",
    "- bool()"
   ]
  },
  {
   "cell_type": "code",
   "execution_count": null,
   "id": "e6aa5323-d188-4316-8c26-794ec984b935",
   "metadata": {},
   "outputs": [],
   "source": [
    "a = 1\n",
    "b = '반'"
   ]
  },
  {
   "cell_type": "code",
   "execution_count": null,
   "id": "c7ca5431-fac4-4c96-8e38-8fa021453657",
   "metadata": {},
   "outputs": [],
   "source": [
    "print(a + b) # error"
   ]
  },
  {
   "cell_type": "code",
   "execution_count": null,
   "id": "4f149d94-d44e-47e0-ab01-5001415d3908",
   "metadata": {},
   "outputs": [],
   "source": [
    "print(str(a) + b) # 대부분의 경우 str로 변환 가능"
   ]
  },
  {
   "cell_type": "code",
   "execution_count": null,
   "id": "f9f1a36d-56b6-4177-876e-3eaeefede281",
   "metadata": {},
   "outputs": [],
   "source": [
    "a = '3'\n",
    "print(a)\n",
    "print(type(a))\n",
    "\n",
    "b = int(a)\n",
    "print(b)\n",
    "print(type(b))"
   ]
  },
  {
   "cell_type": "code",
   "execution_count": null,
   "id": "ed27beee-d1c3-4156-b453-6f7e282e5b1b",
   "metadata": {},
   "outputs": [],
   "source": [
    "c = 'apple'\n",
    "d = int(c) # error: 숫자로 바꿀 수 있는 형태여야 가능"
   ]
  },
  {
   "cell_type": "code",
   "execution_count": null,
   "id": "6bdfc1f1-ca6c-4066-98f0-46ea6bf485c2",
   "metadata": {},
   "outputs": [],
   "source": [
    "a = 1\n",
    "b = 0 # 0만 False, 0이 아닌 나머지 데이터는 True\n",
    "c = -123\n",
    "print(bool(a))\n",
    "print(bool(b))\n",
    "print(bool(c))"
   ]
  },
  {
   "cell_type": "code",
   "execution_count": null,
   "id": "a6cc91ab-599a-4bd3-9d54-0bf3df37eb5e",
   "metadata": {},
   "outputs": [],
   "source": [
    "print(bool([])) # 데이터가 하나도 없으면  False\n",
    "print(bool([3])) # 하나라도 있으면 True"
   ]
  },
  {
   "cell_type": "markdown",
   "id": "22f2026a-68e1-4ce4-ba28-63fe4a46f775",
   "metadata": {},
   "source": [
    "## 4. 시퀀스 자료형"
   ]
  },
  {
   "cell_type": "markdown",
   "id": "8f03cd20-79b5-4f2f-a3b1-1de2a1f05b7f",
   "metadata": {},
   "source": [
    "- 시퀀스는 데이터의 **순서대로** 나열된 자료 구조\n",
    "    - 순서대로 나열되었다는 것은 정렬된 것과 다름\n",
    "1. List\n",
    "2. Tuple\n",
    "3. Range\n",
    "4. String"
   ]
  },
  {
   "cell_type": "markdown",
   "id": "e95016a5-b93c-405d-9922-807467933445",
   "metadata": {},
   "source": [
    "### 4.1. List(리스트, 배열)"
   ]
  },
  {
   "cell_type": "markdown",
   "id": "4e61292a-9f67-4229-82a9-a6845b9ad513",
   "metadata": {},
   "source": [
    "- 선언: `var_name = [value1, value2, value3, ...]`\n",
    "- 접근: `var_name[index]` *(index: 숫자 데이터/ 0, 1, 2, 3번째...)*"
   ]
  },
  {
   "cell_type": "code",
   "execution_count": null,
   "id": "d6369bf0-a007-45dd-a941-c2a3a3cf4a77",
   "metadata": {},
   "outputs": [],
   "source": [
    "l = []\n",
    "print(l)\n",
    "print(type(l))"
   ]
  },
  {
   "cell_type": "code",
   "execution_count": null,
   "id": "165ebe01-664f-4c8d-8508-b5a77565c508",
   "metadata": {},
   "outputs": [],
   "source": [
    "location = ['서울', '대전', '부산']\n",
    "print(location)\n",
    "print(location[0])\n",
    "print(location[1])\n",
    "print(location[2])\n",
    "print(location[3]) # error: 내가 가지고 있는 숫자의 범위까지만 가져올 수 있음"
   ]
  },
  {
   "cell_type": "code",
   "execution_count": null,
   "id": "43433acc-402e-4c52-b1a9-377c84406ca8",
   "metadata": {},
   "outputs": [],
   "source": [
    "location[1] = '대구' # 재할당\n",
    "print(location)"
   ]
  },
  {
   "cell_type": "markdown",
   "id": "be9022a4-3097-4d22-93a8-cebc4aaf5a30",
   "metadata": {},
   "source": [
    "### 4.2. Tuple(튜플)"
   ]
  },
  {
   "cell_type": "markdown",
   "id": "025995f5-d487-4efa-a4c7-46e589fee22c",
   "metadata": {},
   "source": [
    "- 선언: `var_name = (value1, value2, value3, ...)`\n",
    "- 접근: `var_name[index]` *(순서가 있는 것은 대괄호 인덱스 접근)*\n",
    "- 수정불가능하다(immutable) *(불변하다)*"
   ]
  },
  {
   "cell_type": "code",
   "execution_count": null,
   "id": "3e1ffcc8-8720-4244-9f9a-9397c9affadd",
   "metadata": {},
   "outputs": [],
   "source": [
    "location = ('서울', '대전', '대구')\n",
    "print(location)\n",
    "print(location[0])"
   ]
  },
  {
   "cell_type": "code",
   "execution_count": null,
   "id": "c8b10acc-8405-4156-8b95-85494e99fa8d",
   "metadata": {},
   "outputs": [],
   "source": [
    "location[2] = '부산' # error: 재할당 불가/ 튜플은 한번 만들어두면 변하지 않음"
   ]
  },
  {
   "cell_type": "code",
   "execution_count": null,
   "id": "8a0ad691-6805-4917-a565-04b7f0a11960",
   "metadata": {},
   "outputs": [],
   "source": [
    "result = divmod(5, 2)\n",
    "print(result)\n",
    "print(type(result))"
   ]
  },
  {
   "cell_type": "code",
   "execution_count": null,
   "id": "be283d0f-6f44-42ec-9870-4594c5702df2",
   "metadata": {},
   "outputs": [],
   "source": [
    "x = 1\n",
    "y = 2\n",
    "(x, y) = (y, x) # 변수값을 편하게 바꿀 때 사용\n",
    "print(x, y)"
   ]
  },
  {
   "cell_type": "markdown",
   "id": "bb2af47c-4d98-474d-966a-73f66302916c",
   "metadata": {},
   "source": [
    "### 4.3. Range"
   ]
  },
  {
   "cell_type": "markdown",
   "id": "98fa3188-190b-406d-aa1b-392c145795c9",
   "metadata": {},
   "source": [
    "- 선언\n",
    "    - `range(n)`: 0부터 n-1까지 범위 *(0 이상 n 미만)*\n",
    "    - `range(n, m)`: n부터 m-1까지 범위\n",
    "    - `range(n, m, s)`: n부터 m-1까지 s만큼 증가하는 범위 *(s를 더한다)*"
   ]
  },
  {
   "cell_type": "code",
   "execution_count": null,
   "id": "a74eb35b-558c-4880-bd32-dec368a5d7d1",
   "metadata": {},
   "outputs": [],
   "source": [
    "lotto = range(45)\n",
    "print(lotto)\n",
    "print(list(lotto)) # 형변환"
   ]
  },
  {
   "cell_type": "code",
   "execution_count": null,
   "id": "1c1db101-5a47-45e9-be73-0974b4a015bd",
   "metadata": {},
   "outputs": [],
   "source": [
    "lotto = range(1, 46)\n",
    "print(lotto)\n",
    "print(list(lotto))"
   ]
  },
  {
   "cell_type": "code",
   "execution_count": null,
   "id": "21d7068b-77ea-4f04-909f-daf5c376fca2",
   "metadata": {},
   "outputs": [],
   "source": [
    "even = range(2, 21, 2) # 짝수만 뽑기\n",
    "print(list(even))"
   ]
  },
  {
   "cell_type": "code",
   "execution_count": null,
   "id": "409bf545-5942-4703-a39d-fe44b46f2071",
   "metadata": {},
   "outputs": [],
   "source": [
    "numbers = range(0, -21, -2) # 음수도 가능\n",
    "print(list(numbers))"
   ]
  },
  {
   "cell_type": "markdown",
   "id": "01c24176-af8a-4792-bec3-18dc4643d80b",
   "metadata": {},
   "source": [
    "### 4.4. String"
   ]
  },
  {
   "cell_type": "code",
   "execution_count": null,
   "id": "3de8dc8f-a509-4998-8953-bca699ca9e18",
   "metadata": {},
   "outputs": [],
   "source": [
    "s = 'hi my name is Jin' # 순서대로 나열된 단어의 집합체\n",
    "print(s[0])\n",
    "print(list(s))"
   ]
  },
  {
   "cell_type": "markdown",
   "id": "ea87aaa2-c3e0-4c35-a977-c99122031552",
   "metadata": {},
   "source": [
    "### 4.5. 시퀀스에서 활용 가능한 연산/함수"
   ]
  },
  {
   "cell_type": "code",
   "execution_count": null,
   "id": "c1a8bec2-67e0-4cbd-bcf9-8b961d0b94fe",
   "metadata": {},
   "outputs": [],
   "source": [
    "my_list = ['a', 'b', 'c', 'd', 'e']\n",
    "my_tuple = (6, 7, 8, 9, 10)\n",
    "my_range = range(5)\n",
    "my_string = '가나다라마'"
   ]
  },
  {
   "cell_type": "code",
   "execution_count": null,
   "id": "3ffff581-1d4b-4bba-ac45-200b13a24009",
   "metadata": {},
   "outputs": [],
   "source": [
    "# indexing\n",
    "print(my_list[0])\n",
    "print(my_tuple[0])\n",
    "print(my_range[0])\n",
    "print(my_string[0])"
   ]
  },
  {
   "cell_type": "code",
   "execution_count": null,
   "id": "d8b70643-41ff-45de-ae08-f6845e6991ff",
   "metadata": {},
   "outputs": [],
   "source": [
    "# slicing\n",
    "# var_name[index1:index2] # 시작점과 끝점을 주면 글자를 잘라줌\n",
    "print(my_list[0:2])\n",
    "print(my_tuple[0:2])\n",
    "print(my_range[0:2])\n",
    "print(my_string[0:2])"
   ]
  },
  {
   "cell_type": "code",
   "execution_count": null,
   "id": "31a633ce-5c68-4483-bec3-31e2f133406f",
   "metadata": {},
   "outputs": [],
   "source": [
    "print(my_list[2:5])\n",
    "print(my_tuple[2:5])\n",
    "print(my_range[2:5])\n",
    "print(my_string[2:5])"
   ]
  },
  {
   "cell_type": "code",
   "execution_count": null,
   "id": "6e154485-db85-4306-8086-24e0ea3534e1",
   "metadata": {},
   "outputs": [],
   "source": [
    "# 인덱스 생략\n",
    "print(my_list[3:]) # n부터 끝까지\n",
    "print(my_list[:3]) # 앞에서부터 n-1까지"
   ]
  },
  {
   "cell_type": "code",
   "execution_count": null,
   "id": "bc1e102a-4336-47c1-b1d9-2da5650373ec",
   "metadata": {},
   "outputs": [],
   "source": [
    "# 음수 인덱스\n",
    "print(my_list[-1]) # 맨 뒤 찾을 때 사용\n",
    "print(my_list[1:-1]) # 맨 앞, 맨 뒤 자를 때 사용"
   ]
  },
  {
   "cell_type": "code",
   "execution_count": null,
   "id": "ec155fd3-0f8a-4a11-993c-e790475c2148",
   "metadata": {},
   "outputs": [],
   "source": [
    "# step\n",
    "print(my_list[::2]) # 2칸씩 건너"
   ]
  },
  {
   "cell_type": "code",
   "execution_count": null,
   "id": "ef7ac11b-35ff-4755-a276-57a527e21d96",
   "metadata": {},
   "outputs": [],
   "source": [
    "# in\n",
    "print(1 in my_list)\n",
    "print('a' in my_list)\n",
    "print('z' not in my_list)"
   ]
  },
  {
   "cell_type": "code",
   "execution_count": null,
   "id": "62da9b58-508b-41e6-a50e-32b64a07c13a",
   "metadata": {},
   "outputs": [],
   "source": [
    "# concatenation\n",
    "print(my_list + [1, 2, 3, 4, 5])\n",
    "print(my_tuple + (1, 2, 3))\n",
    "print(my_tuple + [1, 2, 3]) # error: 리스트는 리스트끼리, 튜플은 튜플끼리"
   ]
  },
  {
   "cell_type": "code",
   "execution_count": null,
   "id": "c25a7b94-9d4b-4a5f-a627-a1457b327d32",
   "metadata": {},
   "outputs": [],
   "source": [
    "# *\n",
    "print(my_list * 2) # 연결을 2번 함\n",
    "print('a' * 5)\n",
    "print([0] * 10) # 직접 쓰는 것보다 편함"
   ]
  },
  {
   "cell_type": "code",
   "execution_count": null,
   "id": "2cc892cd-a822-4876-9fb5-2ed64c6e1a35",
   "metadata": {},
   "outputs": [],
   "source": [
    "# len\n",
    "len(my_list) # length"
   ]
  },
  {
   "cell_type": "code",
   "execution_count": null,
   "id": "fe2910d4-cd90-4ada-9bf4-58503d67e1f0",
   "metadata": {},
   "outputs": [],
   "source": [
    "# max, min\n",
    "print(max(my_list)) # 영어도 숫자로 인식해서 큰 수를 선택\n",
    "print(min(my_list))"
   ]
  },
  {
   "cell_type": "markdown",
   "id": "ec291e2b-4bd3-4819-ba15-c3b2a25910b0",
   "metadata": {},
   "source": [
    "## 5. 시퀀스형이 아닌 자료 구조"
   ]
  },
  {
   "cell_type": "markdown",
   "id": "0839c8c6-8fab-448e-a4dc-22acf73d4025",
   "metadata": {},
   "source": [
    "### 5.1. Set"
   ]
  },
  {
   "cell_type": "markdown",
   "id": "d63a92b8-0a5b-4654-934d-cc5c159c49ad",
   "metadata": {},
   "source": [
    "- 수학에서의 집합과 비슷한 개념(중복값이 없음)\n",
    "- 선언: `var_name = {value1, value2, value3, ...}`\n",
    "- *순서가 아니기 때문에 접근이 의미가 없음*\n",
    "- *단일 데이터가 아니라 집합 전체를 봄*"
   ]
  },
  {
   "cell_type": "code",
   "execution_count": null,
   "id": "1ce8f57f-860c-4ea9-8ef7-7952a8fa4e5e",
   "metadata": {},
   "outputs": [],
   "source": [
    "my_set_a = {1, 2, 3, 4, 5}\n",
    "my_set_b = {1, 3, 5, 7, 9}"
   ]
  },
  {
   "cell_type": "code",
   "execution_count": null,
   "id": "bbc18601-1769-413e-a7b2-a04c63b55857",
   "metadata": {},
   "outputs": [],
   "source": [
    "print(my_set_a)\n",
    "print(my_set_b)"
   ]
  },
  {
   "cell_type": "code",
   "execution_count": null,
   "id": "53897381-1fcd-4e88-91a5-4e1edb0737ea",
   "metadata": {},
   "outputs": [],
   "source": [
    "my_set_a = {1, 2, 3, 4, 5, 5 ,5, 5}\n",
    "print(my_set_a) # 5를 아무리 많이 넣어도 하나로 인식"
   ]
  },
  {
   "cell_type": "code",
   "execution_count": null,
   "id": "39405016-76bf-4469-ac43-8721f1430770",
   "metadata": {},
   "outputs": [],
   "source": [
    "print(my_set_a - my_set_b) # 차집합\n",
    "print(my_set_a | my_set_b) # 합집합\n",
    "print(my_set_a & my_set_b) # 교집합"
   ]
  },
  {
   "cell_type": "code",
   "execution_count": null,
   "id": "386294f2-ee5c-4fa3-bb5d-0ecbc1ece2a3",
   "metadata": {},
   "outputs": [],
   "source": [
    "location = ['서울', '대구', '광주', '부산', '광주', '부산']\n",
    "print(set(location)) # 형변환: 중복값을 없애려고 사용"
   ]
  },
  {
   "cell_type": "markdown",
   "id": "68ccc1cc-f662-4d33-8dde-db46b9a5d343",
   "metadata": {},
   "source": [
    "### 5.2. Dictionary"
   ]
  },
  {
   "cell_type": "markdown",
   "id": "436ea38a-50ba-401c-94d5-be7f7fbf27f4",
   "metadata": {},
   "source": [
    "- 선언: `var_name = {key1: value1, key2: value2, key3: value3, ...}`\n",
    "- 접근: `var_name[key]` *value를 기준으로는 접근 불가능*"
   ]
  },
  {
   "cell_type": "code",
   "execution_count": null,
   "id": "d8d6ef58-dd0b-486d-8acc-54825144985c",
   "metadata": {},
   "outputs": [],
   "source": [
    "my_dict = {'서울': '02', '경기': '031'}\n",
    "print(my_dict['서울'])"
   ]
  },
  {
   "cell_type": "code",
   "execution_count": null,
   "id": "a6a654cc-eaa6-4ccd-b8e2-6a4695183260",
   "metadata": {},
   "outputs": [],
   "source": [
    "my_info ={\n",
    "    'name': 'Yoojin',\n",
    "    'location': 'Seoul',\n",
    "    'age': 27,\n",
    "    'skill': ['python', 'git'],\n",
    "}\n",
    "# 스트링, 숫자, 리스트 등 모두 넣을 수 있음"
   ]
  },
  {
   "cell_type": "code",
   "execution_count": null,
   "id": "ab75ecd0-0dc7-4efa-ac11-ccf014a6102a",
   "metadata": {},
   "outputs": [],
   "source": [
    "print(my_info['name'])\n",
    "print(my_info['skill'][1]) # my_info['skill']: list, [1]: index"
   ]
  },
  {
   "cell_type": "markdown",
   "id": "86e355c0-fe5d-43fe-a143-651dd24014fd",
   "metadata": {},
   "source": [
    "## 정리"
   ]
  },
  {
   "cell_type": "markdown",
   "id": "3bf3f57f-c523-4dc4-a8f9-87d8c141fa4c",
   "metadata": {},
   "source": [
    "**데이터 타입**\n",
    "1. Number\n",
    "2. Boolean\n",
    "3. String\n",
    "\n",
    "**자료 구조**\n",
    "- 시퀀스\n",
    "    1. [List]: mutable *수정 가능*\n",
    "    2. (Tuple): immutable *수정 불가*\n",
    "    3. range(): immutable\n",
    "    4. 'String': immutable\n",
    "- 시퀀스가 아닌 것\n",
    "    1. {Set}: mutable\n",
    "    2. {Dict: ionary}: mutable"
   ]
  },
  {
   "cell_type": "code",
   "execution_count": null,
   "id": "9dabc4fa-1ced-4557-8287-f7da060e13a1",
   "metadata": {},
   "outputs": [],
   "source": [
    "a = 'hello'\n",
    "a[0] = 'H' # error: 안의 세부 내용을 바꿀 수 없음"
   ]
  },
  {
   "cell_type": "code",
   "execution_count": null,
   "id": "79327e1e-ec70-4c6d-b6f8-27e90e8e467f",
   "metadata": {},
   "outputs": [],
   "source": [
    "my_t = (1, 2, 3)\n",
    "print(my_t)\n",
    "my_t = (4, 5, 6)\n",
    "print(my_t) # 전체를 바꾸는 것은 가능"
   ]
  },
  {
   "cell_type": "markdown",
   "id": "95d3c990-6119-45a2-81e4-3d8bbf4d44a9",
   "metadata": {},
   "source": [
    "# 02. control of flow (제어문)"
   ]
  },
  {
   "cell_type": "markdown",
   "id": "dd2a1b0c-cc84-4912-b658-464cd2aa0be0",
   "metadata": {},
   "source": [
    "## 1. 조건문 (if문)"
   ]
  },
  {
   "cell_type": "markdown",
   "id": "f0544f67-8eae-4972-87a2-0d37bc53d1c3",
   "metadata": {},
   "source": [
    "1. if문은 반드시 참/거짓을 판단할 수 있는 `조건식`과 함께 사용\n",
    "    - `if <조건식>:`\n",
    "2. `<조건식>`이 참인 경우: `:` 이후의 문장을 실행\n",
    "3. `<조건식>`이 거짓인 경우: `else` 이후의 문장을 실행\n",
    "```\n",
    "if <조건식>:\n",
    "    if의 조건식이 참인 경우 실행하는 코드\n",
    "else:\n",
    "    if의 조건식이 거짓인 경우 실행하는 코드\n",
    "```\n",
    "- *else 뒤에는 조건식이 없어도 됨 위에서 이미 판별했기 떄문*"
   ]
  },
  {
   "cell_type": "code",
   "execution_count": null,
   "id": "e5ac4a92-af11-447a-9f49-cbdede0bd32b",
   "metadata": {},
   "outputs": [],
   "source": [
    "my_string = input() # input: 사용자가 마음대로 입력하고 싶을 때 사용\n",
    "print(my_string)\n",
    "\n",
    "if my_string == '12/25':\n",
    "    print('Merry Christmas!')\n",
    "else:\n",
    "    print('No')"
   ]
  },
  {
   "cell_type": "code",
   "execution_count": null,
   "id": "dd28c7ec-e5eb-4bc3-8f5d-767a98fe9c62",
   "metadata": {},
   "outputs": [],
   "source": [
    "num = input()\n",
    "print(num)\n",
    "\n",
    "if num % 2 == 1: # error: num을 글자로 인식\n",
    "    print('odd')\n",
    "else:\n",
    "    print('even')"
   ]
  },
  {
   "cell_type": "code",
   "execution_count": null,
   "id": "ecb897ee-fcba-44df-9bc7-41d0c6224106",
   "metadata": {},
   "outputs": [],
   "source": [
    "num = input('숫자를 입력해주세요')\n",
    "print(num)\n",
    "\n",
    "if int(num) % 2 == 1: # 형변환\n",
    "    print('odd')\n",
    "else:\n",
    "    print('even')"
   ]
  },
  {
   "cell_type": "code",
   "execution_count": null,
   "id": "3c85ced5-4a67-477d-bdc2-d0ccf2cd696b",
   "metadata": {},
   "outputs": [],
   "source": [
    "num = int(input())\n",
    "print(num)\n",
    "\n",
    "if num % 2: # if문 안쪽은 True(1)여야 함\n",
    "    print('odd')\n",
    "else:\n",
    "    print('even')"
   ]
  },
  {
   "cell_type": "markdown",
   "id": "b3599b3c-7fd9-4820-bf27-bfdb6dff2280",
   "metadata": {},
   "source": [
    "### 1.1. elif"
   ]
  },
  {
   "cell_type": "markdown",
   "id": "e475ad6b-7085-4550-af7c-04d20006803e",
   "metadata": {},
   "source": [
    "- *else if*\n",
    "```\n",
    "if <조건식>:\n",
    "    if문이 참인 경우\n",
    "elif <조건식>:\n",
    "    elif문이 참인 경우\n",
    "else:\n",
    "    위의 모든 조건이 거짓인 경우\n",
    "```"
   ]
  },
  {
   "cell_type": "code",
   "execution_count": null,
   "id": "41533ec7-9dc5-469d-833f-27b8cdaa9c6b",
   "metadata": {},
   "outputs": [],
   "source": [
    "score = int(input())\n",
    "print(score)\n",
    "\n",
    "if score >= 90:\n",
    "    print('A')\n",
    "    if score >= 95: # if문 중첩\n",
    "        print('good!')\n",
    "elif score >= 80:\n",
    "    print('B')\n",
    "elif score >= 70:\n",
    "    print('C')\n",
    "else:\n",
    "    print('F')"
   ]
  },
  {
   "cell_type": "markdown",
   "id": "b60c1632-98f3-40e7-96a7-3ed4201a5ef1",
   "metadata": {},
   "source": [
    "### 1.2. 조건표현식"
   ]
  },
  {
   "cell_type": "markdown",
   "id": "1e12cf36-8b28-4937-aea0-3c9aafda8a56",
   "metadata": {},
   "source": [
    "- `true_value if <조건식> else false value`"
   ]
  },
  {
   "cell_type": "code",
   "execution_count": null,
   "id": "921d2d02-b24f-4098-ab74-e541f19d2a9a",
   "metadata": {},
   "outputs": [],
   "source": [
    "a = 0\n",
    "\n",
    "if False:\n",
    "    a = 100\n",
    "else:\n",
    "    a = -100\n",
    "    \n",
    "print(a)"
   ]
  },
  {
   "cell_type": "code",
   "execution_count": null,
   "id": "eb597fc9-50b8-47ce-a969-ef35e9b60d09",
   "metadata": {},
   "outputs": [],
   "source": [
    "a = 100 if False else -100\n",
    "print(a) # 참/거짓에 따라 특정한 값을 표현하고 싶을 때 사용"
   ]
  },
  {
   "cell_type": "code",
   "execution_count": null,
   "id": "e7036857-fe61-49e3-89c6-c38f8068da5a",
   "metadata": {},
   "outputs": [],
   "source": [
    "num = int(input())\n",
    "print(num)\n",
    "\n",
    "if num >= 0:\n",
    "    result = num\n",
    "else:\n",
    "    result = 0\n",
    "print(result)"
   ]
  },
  {
   "cell_type": "code",
   "execution_count": null,
   "id": "ba607a4a-c435-4129-bae5-dc55ec8f870b",
   "metadata": {},
   "outputs": [],
   "source": [
    "num = int(input())\n",
    "print(num)\n",
    "\n",
    "result = num if num >= 0 else 0\n",
    "print(result)"
   ]
  },
  {
   "cell_type": "markdown",
   "id": "e640cfc2-602c-4441-be76-42d7d0b051e4",
   "metadata": {},
   "source": [
    "## 2. 반복문"
   ]
  },
  {
   "cell_type": "markdown",
   "id": "bba8fda0-c75b-4096-8306-3c069cb9a387",
   "metadata": {},
   "source": [
    "### 2.1. while문"
   ]
  },
  {
   "cell_type": "markdown",
   "id": "a2f3d0c7-90ac-4520-bbbd-96c971b9aa28",
   "metadata": {},
   "source": [
    "```\n",
    "while <조건식>:\n",
    "    실행할 코드\n",
    "```\n",
    "- *조건식이 참인 동안 코드를 반복하다가 조건식이 거짓이 되면 멈춤*"
   ]
  },
  {
   "cell_type": "code",
   "execution_count": null,
   "id": "c2817e2b-47ff-47db-b7ae-1beed2612da0",
   "metadata": {},
   "outputs": [],
   "source": [
    "a = 0\n",
    "\n",
    "while a < 5: # 언제 끝나는지 조건을 만들어주는 것이 중요\n",
    "    print(a) # 지정하지 않으면 무한루프에 빠짐\n",
    "    a = a + 1"
   ]
  },
  {
   "cell_type": "markdown",
   "id": "f9ffc45b-5074-43d1-bcbb-41461898380e",
   "metadata": {},
   "source": [
    "### 2.2. for문"
   ]
  },
  {
   "cell_type": "markdown",
   "id": "d361cc01-c14c-4998-b509-1794e377370f",
   "metadata": {},
   "source": [
    "- 정해진 범위 내의 반복\n",
    "```\n",
    "for var_name in sequence:\n",
    "    code\n",
    "```"
   ]
  },
  {
   "cell_type": "code",
   "execution_count": null,
   "id": "6b2488f4-4f8e-40a4-bbeb-b51c77d7e065",
   "metadata": {},
   "outputs": [],
   "source": [
    "numbers = [1, 2, 3, 4, 5]\n",
    "\n",
    "for number in numbers:\n",
    "    print(number)"
   ]
  },
  {
   "cell_type": "code",
   "execution_count": null,
   "id": "c2f15595-c525-47b8-8388-baee47a725bd",
   "metadata": {},
   "outputs": [],
   "source": [
    "words = 'apple'\n",
    "\n",
    "for word in words:\n",
    "    print(word)"
   ]
  },
  {
   "cell_type": "code",
   "execution_count": null,
   "id": "c05868e8-e6e7-407c-863c-ec2f89b4b067",
   "metadata": {},
   "outputs": [],
   "source": [
    "for i in range(5):\n",
    "    print(i)"
   ]
  },
  {
   "cell_type": "code",
   "execution_count": null,
   "id": "2d604524-3e12-42e7-85aa-dc6e21bd0d37",
   "metadata": {},
   "outputs": [],
   "source": [
    "for i in range(1, 51):\n",
    "    if i % 5 == 0: # for문에 if 중첩\n",
    "        print(i)"
   ]
  },
  {
   "cell_type": "code",
   "execution_count": null,
   "id": "2a2ca9e2-a832-4ebd-b291-2675eae802bd",
   "metadata": {},
   "outputs": [],
   "source": [
    "locations = ['서울', '대전', '부산']\n",
    "\n",
    "for location in enumerate(locations): # 낱낱이 세다\n",
    "    print(location)"
   ]
  },
  {
   "cell_type": "code",
   "execution_count": null,
   "id": "8dfd3d9b-260b-4b0e-b663-5e8922d2aed8",
   "metadata": {},
   "outputs": [],
   "source": [
    "for (index, location) in enumerate(locations):\n",
    "    print(index)\n",
    "    print(location)"
   ]
  },
  {
   "cell_type": "markdown",
   "id": "c3e1ac31-7e8a-44a1-af58-26a6eaddb055",
   "metadata": {},
   "source": [
    "### 2.3. dictionary 반복"
   ]
  },
  {
   "cell_type": "markdown",
   "id": "0315d428-7ad2-407e-8f5e-4f28f33bf6ab",
   "metadata": {},
   "source": [
    "1. `for key in dict:`\n",
    "2. `for key in dict.keys():`\n",
    "3. `for value in dict.values():`\n",
    "4. `for kwy, value in dict.items():`"
   ]
  },
  {
   "cell_type": "code",
   "execution_count": null,
   "id": "a76bda0f-54f9-4a25-bbb6-5b81f85b2e9c",
   "metadata": {},
   "outputs": [],
   "source": [
    "info = {\n",
    "    'name': 'gildong',\n",
    "    'location': 'seoul',\n",
    "    'phone': '010-1234-1234',\n",
    "    'age': 20,\n",
    "}"
   ]
  },
  {
   "cell_type": "code",
   "execution_count": null,
   "id": "a188ee76-5ccf-4ec1-ac96-7eabe7cce951",
   "metadata": {},
   "outputs": [],
   "source": [
    "for k in info:\n",
    "    print(k)"
   ]
  },
  {
   "cell_type": "code",
   "execution_count": null,
   "id": "09fcc110-7bf5-4978-8b43-4ec56ba923e4",
   "metadata": {},
   "outputs": [],
   "source": [
    "for k in info.keys():\n",
    "    print(k)"
   ]
  },
  {
   "cell_type": "code",
   "execution_count": null,
   "id": "82fceb33-aa31-4eae-a25c-40236807aaa5",
   "metadata": {},
   "outputs": [],
   "source": [
    "for k in info.keys():\n",
    "    print(k)\n",
    "    print(info[k])"
   ]
  },
  {
   "cell_type": "code",
   "execution_count": null,
   "id": "ea459594-9d2a-4834-b56a-d31e61066906",
   "metadata": {},
   "outputs": [],
   "source": [
    "for v in info.values():\n",
    "    print(v)"
   ]
  },
  {
   "cell_type": "code",
   "execution_count": null,
   "id": "2e7535cd-15a7-410c-8181-50538ba0da13",
   "metadata": {},
   "outputs": [],
   "source": [
    "for k, v in info.items():\n",
    "    print(k, v)"
   ]
  },
  {
   "cell_type": "code",
   "execution_count": null,
   "id": "e41fff6d-66e3-450b-9eec-443a67273b8f",
   "metadata": {},
   "outputs": [],
   "source": [
    "blood = {\n",
    "    'A': 15,\n",
    "    'B': 8,\n",
    "    'O': 5,\n",
    "    'AB': 4,\n",
    "}"
   ]
  },
  {
   "cell_type": "code",
   "execution_count": null,
   "id": "094ff508-1983-4eae-8db3-da0f4897a03d",
   "metadata": {},
   "outputs": [],
   "source": [
    "print('혈액형의 종류')\n",
    "\n",
    "for k in blood:\n",
    "    print(k)"
   ]
  },
  {
   "cell_type": "code",
   "execution_count": null,
   "id": "c1ab5fcf-03a0-4426-82ec-46ef26ca9a48",
   "metadata": {},
   "outputs": [],
   "source": [
    "# 총 학생 수\n",
    "result = 0\n",
    "for v in blood.values():\n",
    "    result += v\n",
    "print(result)"
   ]
  },
  {
   "cell_type": "code",
   "execution_count": null,
   "id": "0416fad8-d75f-4891-9035-d749577c40f4",
   "metadata": {},
   "outputs": [],
   "source": [
    "for k, v in blood.items():\n",
    "    print(f'{k}형은 {v}명입니다.')"
   ]
  },
  {
   "cell_type": "markdown",
   "id": "9a0776c5-7b8e-4c00-97ed-bb7b75f6991a",
   "metadata": {},
   "source": [
    "### 2.4. break"
   ]
  },
  {
   "cell_type": "markdown",
   "id": "be25db8f-85e1-4691-b0fe-b8566c1c112d",
   "metadata": {},
   "source": [
    "- 반복문을 종료시키는 키워드"
   ]
  },
  {
   "cell_type": "code",
   "execution_count": null,
   "id": "ec633336-264e-4a69-953f-bcbda7b3104d",
   "metadata": {},
   "outputs": [],
   "source": [
    "for i in range(100):\n",
    "    print('여기는 for문', i)\n",
    "    if i > 5:\n",
    "        print('여기는 break')\n",
    "        break"
   ]
  },
  {
   "cell_type": "code",
   "execution_count": null,
   "id": "bc06bb2b-1616-4d71-8903-111a8481ac4f",
   "metadata": {},
   "outputs": [],
   "source": [
    "while True:\n",
    "    rice = input() # 반복할 때마다 input을 받아야하기 때문에 반복문 안에 씀\n",
    "    print(rice)\n",
    "    if rice == '쌀':\n",
    "        print('잡았다!')\n",
    "        break"
   ]
  },
  {
   "cell_type": "markdown",
   "id": "fd40da7a-a692-411e-a413-14b39320f5f2",
   "metadata": {},
   "source": [
    "### 2.5. continue"
   ]
  },
  {
   "cell_type": "markdown",
   "id": "336239d5-bbbd-4409-bc45-7e4eda229fcb",
   "metadata": {},
   "source": [
    "- `continue` 이후의 코드를 실행하지 않고 다음 반복을 진행"
   ]
  },
  {
   "cell_type": "code",
   "execution_count": null,
   "id": "9c8444a7-4555-41fb-9569-51980f71522b",
   "metadata": {},
   "outputs": [],
   "source": [
    "for i in range(20):\n",
    "    if i % 2 == 1:\n",
    "        continue\n",
    "    print(i)"
   ]
  },
  {
   "cell_type": "code",
   "execution_count": null,
   "id": "d91984f2-ae61-44d7-ad64-f06ed1e93fb1",
   "metadata": {},
   "outputs": [],
   "source": [
    "for i in range(20):\n",
    "    if i % 2 == 1:\n",
    "        print(i)"
   ]
  },
  {
   "cell_type": "code",
   "execution_count": null,
   "id": "02b5ae05-ae4f-459c-83ee-740263f3765f",
   "metadata": {},
   "outputs": [],
   "source": [
    "ages = [10, 20, 30, 25, 23, 43, 9, 20]\n",
    "\n",
    "for age in ages:\n",
    "    if age < 20:\n",
    "        continue\n",
    "    print(f'{age}살은 성인입니다.')"
   ]
  },
  {
   "cell_type": "code",
   "execution_count": null,
   "id": "e2c333be-ba05-43a0-b878-f743890eec96",
   "metadata": {},
   "outputs": [],
   "source": [
    "for age in ages:\n",
    "    if age >= 20:\n",
    "        print(f'{age}살은 성인입니다.')"
   ]
  },
  {
   "cell_type": "markdown",
   "id": "40b15a7c-e2fc-4fd6-ba19-dda864f01159",
   "metadata": {},
   "source": [
    "### 2.6. else"
   ]
  },
  {
   "cell_type": "markdown",
   "id": "a921bd02-12be-4b28-916f-edf292c67fa3",
   "metadata": {},
   "source": [
    "- else문은 끝까지 반복된 경우 실행 = break를 만나지 않은 경우 실행"
   ]
  },
  {
   "cell_type": "code",
   "execution_count": null,
   "id": "9c2e9cd3-cd9b-4cea-a151-b703ef21038e",
   "metadata": {},
   "outputs": [],
   "source": [
    "for i in range(10):\n",
    "    if i > 100:\n",
    "        break\n",
    "    print(i)\n",
    "else:\n",
    "    print('all clear')"
   ]
  },
  {
   "cell_type": "markdown",
   "id": "df4c1cf4-7576-43b1-beeb-ae6e36c9475f",
   "metadata": {},
   "source": [
    "# 03. function (함수)"
   ]
  },
  {
   "cell_type": "markdown",
   "id": "5df37ccc-dfac-4ad3-9baf-06a11d591959",
   "metadata": {},
   "source": [
    "## 1. 함수의 선언과 호출"
   ]
  },
  {
   "cell_type": "markdown",
   "id": "8774589c-31c1-4ddf-a458-d6c7d61f403e",
   "metadata": {},
   "source": [
    "- 선언\n",
    "```python\n",
    "def func_name(parameter1, parameter2, ...):\n",
    "    code1\n",
    "    code2\n",
    "    ...\n",
    "    return value\n",
    "```\n",
    "- 호출 `func_name(parameter1, parameter2, ...)`\n",
    "    - *소괄호가 열림 = 함수가 호출됨*"
   ]
  },
  {
   "cell_type": "code",
   "execution_count": 1,
   "id": "e5247d0d-e9c0-4fb5-94ab-8d2680c487a9",
   "metadata": {},
   "outputs": [],
   "source": [
    "def rectangle(height, width):\n",
    "    area = height * width\n",
    "    perimeter = (height + width) * 2\n",
    "\n",
    "    print(f'사각형의 면적은 {area}이고 둘레는 {perimeter}입니다.')"
   ]
  },
  {
   "cell_type": "code",
   "execution_count": 2,
   "id": "a4e21021-ad65-4d4a-b208-483e69a93847",
   "metadata": {},
   "outputs": [
    {
     "name": "stdout",
     "output_type": "stream",
     "text": [
      "사각형의 면적은 1500이고 둘레는 160입니다.\n",
      "사각형의 면적은 2000이고 둘레는 240입니다.\n"
     ]
    }
   ],
   "source": [
    "rectangle(50, 30)\n",
    "rectangle(20, 100)"
   ]
  },
  {
   "cell_type": "code",
   "execution_count": 3,
   "id": "a2d653ad-bfee-4622-8a2f-0674b3392b5e",
   "metadata": {},
   "outputs": [
    {
     "data": {
      "text/plain": [
       "['ArithmeticError',\n",
       " 'AssertionError',\n",
       " 'AttributeError',\n",
       " 'BaseException',\n",
       " 'BaseExceptionGroup',\n",
       " 'BlockingIOError',\n",
       " 'BrokenPipeError',\n",
       " 'BufferError',\n",
       " 'BytesWarning',\n",
       " 'ChildProcessError',\n",
       " 'ConnectionAbortedError',\n",
       " 'ConnectionError',\n",
       " 'ConnectionRefusedError',\n",
       " 'ConnectionResetError',\n",
       " 'DeprecationWarning',\n",
       " 'EOFError',\n",
       " 'Ellipsis',\n",
       " 'EncodingWarning',\n",
       " 'EnvironmentError',\n",
       " 'Exception',\n",
       " 'ExceptionGroup',\n",
       " 'False',\n",
       " 'FileExistsError',\n",
       " 'FileNotFoundError',\n",
       " 'FloatingPointError',\n",
       " 'FutureWarning',\n",
       " 'GeneratorExit',\n",
       " 'IOError',\n",
       " 'ImportError',\n",
       " 'ImportWarning',\n",
       " 'IndentationError',\n",
       " 'IndexError',\n",
       " 'InterruptedError',\n",
       " 'IsADirectoryError',\n",
       " 'KeyError',\n",
       " 'KeyboardInterrupt',\n",
       " 'LookupError',\n",
       " 'MemoryError',\n",
       " 'ModuleNotFoundError',\n",
       " 'NameError',\n",
       " 'None',\n",
       " 'NotADirectoryError',\n",
       " 'NotImplemented',\n",
       " 'NotImplementedError',\n",
       " 'OSError',\n",
       " 'OverflowError',\n",
       " 'PendingDeprecationWarning',\n",
       " 'PermissionError',\n",
       " 'ProcessLookupError',\n",
       " 'PythonFinalizationError',\n",
       " 'RecursionError',\n",
       " 'ReferenceError',\n",
       " 'ResourceWarning',\n",
       " 'RuntimeError',\n",
       " 'RuntimeWarning',\n",
       " 'StopAsyncIteration',\n",
       " 'StopIteration',\n",
       " 'SyntaxError',\n",
       " 'SyntaxWarning',\n",
       " 'SystemError',\n",
       " 'SystemExit',\n",
       " 'TabError',\n",
       " 'TimeoutError',\n",
       " 'True',\n",
       " 'TypeError',\n",
       " 'UnboundLocalError',\n",
       " 'UnicodeDecodeError',\n",
       " 'UnicodeEncodeError',\n",
       " 'UnicodeError',\n",
       " 'UnicodeTranslateError',\n",
       " 'UnicodeWarning',\n",
       " 'UserWarning',\n",
       " 'ValueError',\n",
       " 'Warning',\n",
       " 'WindowsError',\n",
       " 'ZeroDivisionError',\n",
       " '_IncompleteInputError',\n",
       " '__IPYTHON__',\n",
       " '__build_class__',\n",
       " '__debug__',\n",
       " '__doc__',\n",
       " '__import__',\n",
       " '__loader__',\n",
       " '__name__',\n",
       " '__package__',\n",
       " '__spec__',\n",
       " 'abs',\n",
       " 'aiter',\n",
       " 'all',\n",
       " 'anext',\n",
       " 'any',\n",
       " 'ascii',\n",
       " 'bin',\n",
       " 'bool',\n",
       " 'breakpoint',\n",
       " 'bytearray',\n",
       " 'bytes',\n",
       " 'callable',\n",
       " 'chr',\n",
       " 'classmethod',\n",
       " 'compile',\n",
       " 'complex',\n",
       " 'copyright',\n",
       " 'credits',\n",
       " 'delattr',\n",
       " 'dict',\n",
       " 'dir',\n",
       " 'display',\n",
       " 'divmod',\n",
       " 'enumerate',\n",
       " 'eval',\n",
       " 'exec',\n",
       " 'execfile',\n",
       " 'filter',\n",
       " 'float',\n",
       " 'format',\n",
       " 'frozenset',\n",
       " 'get_ipython',\n",
       " 'getattr',\n",
       " 'globals',\n",
       " 'hasattr',\n",
       " 'hash',\n",
       " 'help',\n",
       " 'hex',\n",
       " 'id',\n",
       " 'input',\n",
       " 'int',\n",
       " 'isinstance',\n",
       " 'issubclass',\n",
       " 'iter',\n",
       " 'len',\n",
       " 'license',\n",
       " 'list',\n",
       " 'locals',\n",
       " 'map',\n",
       " 'max',\n",
       " 'memoryview',\n",
       " 'min',\n",
       " 'next',\n",
       " 'object',\n",
       " 'oct',\n",
       " 'open',\n",
       " 'ord',\n",
       " 'pow',\n",
       " 'print',\n",
       " 'property',\n",
       " 'range',\n",
       " 'repr',\n",
       " 'reversed',\n",
       " 'round',\n",
       " 'runfile',\n",
       " 'set',\n",
       " 'setattr',\n",
       " 'slice',\n",
       " 'sorted',\n",
       " 'staticmethod',\n",
       " 'str',\n",
       " 'sum',\n",
       " 'super',\n",
       " 'tuple',\n",
       " 'type',\n",
       " 'vars',\n",
       " 'zip']"
      ]
     },
     "execution_count": 3,
     "metadata": {},
     "output_type": "execute_result"
    }
   ],
   "source": [
    "dir(__builtins__) # python이 이미 가지고 있는 함수"
   ]
  },
  {
   "cell_type": "code",
   "execution_count": 4,
   "id": "dfcd7e3b-3244-448b-a7db-8d207ff39ed3",
   "metadata": {},
   "outputs": [
    {
     "data": {
      "text/plain": [
       "100"
      ]
     },
     "execution_count": 4,
     "metadata": {},
     "output_type": "execute_result"
    }
   ],
   "source": [
    "max(100, 2)"
   ]
  },
  {
   "cell_type": "code",
   "execution_count": 5,
   "id": "08366994-b276-42ea-b295-0e5b67d02fda",
   "metadata": {},
   "outputs": [],
   "source": [
    "def my_max(a, b):\n",
    "    if a > b:\n",
    "        print(a)\n",
    "    else:\n",
    "        print(b)"
   ]
  },
  {
   "cell_type": "code",
   "execution_count": 7,
   "id": "2f8097b0-57b2-41cc-936d-b154ab87f23d",
   "metadata": {},
   "outputs": [
    {
     "name": "stdout",
     "output_type": "stream",
     "text": [
      "200\n"
     ]
    }
   ],
   "source": [
    "my_max(200, 20)"
   ]
  },
  {
   "cell_type": "markdown",
   "id": "be746170-5f5e-41a8-ba7a-8453e8c619a0",
   "metadata": {},
   "source": [
    "## 2. 함수의 return"
   ]
  },
  {
   "cell_type": "markdown",
   "id": "42d09025-4e56-4bfd-bd01-f45e7e4d19bc",
   "metadata": {},
   "source": [
    "- 함수가 return을 만나면 해당값을 반환하고 함수를 종료\n",
    "- 만약 return이 없는 경우 None *(= null 아무것도 없음)* 을 자동으로 반환\n",
    "- return은 오직 하나의 객체만 반환"
   ]
  },
  {
   "cell_type": "code",
   "execution_count": 8,
   "id": "8bd3ee60-a9a6-405e-b8ca-bbf494e16fb6",
   "metadata": {},
   "outputs": [
    {
     "name": "stdout",
     "output_type": "stream",
     "text": [
      "2\n",
      "None\n"
     ]
    }
   ],
   "source": [
    "result = my_max(1, 2)\n",
    "print(result)\n",
    "# result * 2 -> error"
   ]
  },
  {
   "cell_type": "code",
   "execution_count": 9,
   "id": "21682185-eb56-43a1-bea2-b01eb8e6ff56",
   "metadata": {},
   "outputs": [],
   "source": [
    "def my_max2(num1, num2):\n",
    "    if num1 > num2:\n",
    "        return num1\n",
    "    else:\n",
    "        return num2"
   ]
  },
  {
   "cell_type": "code",
   "execution_count": 10,
   "id": "43becbfc-0bbf-49ee-b866-2813c1d3464e",
   "metadata": {},
   "outputs": [
    {
     "data": {
      "text/plain": [
       "10"
      ]
     },
     "execution_count": 10,
     "metadata": {},
     "output_type": "execute_result"
    }
   ],
   "source": [
    "my_max2(2, 10)"
   ]
  },
  {
   "cell_type": "code",
   "execution_count": 11,
   "id": "d0f56ab4-f63f-4a03-afa7-8e588a3d0af9",
   "metadata": {},
   "outputs": [
    {
     "name": "stdout",
     "output_type": "stream",
     "text": [
      "2\n"
     ]
    },
    {
     "data": {
      "text/plain": [
       "4"
      ]
     },
     "execution_count": 11,
     "metadata": {},
     "output_type": "execute_result"
    }
   ],
   "source": [
    "result = my_max2(1, 2)\n",
    "print(result)\n",
    "result * 2"
   ]
  },
  {
   "cell_type": "code",
   "execution_count": 12,
   "id": "108a76d1-0e6b-4f67-9b2a-1000c3df6e7a",
   "metadata": {},
   "outputs": [
    {
     "data": {
      "text/plain": [
       "(20, 10)"
      ]
     },
     "execution_count": 12,
     "metadata": {},
     "output_type": "execute_result"
    }
   ],
   "source": [
    "def my_def(x):\n",
    "    return x * 2, x\n",
    "\n",
    "my_def(10) # 하나의 데이터만 반환하므로 tuple이 출력됨"
   ]
  },
  {
   "cell_type": "code",
   "execution_count": 13,
   "id": "b2b5141e-6df5-4b20-ba34-81f71e070b29",
   "metadata": {},
   "outputs": [
    {
     "name": "stdout",
     "output_type": "stream",
     "text": [
      "0\n",
      "1\n",
      "2\n",
      "3\n"
     ]
    },
    {
     "data": {
      "text/plain": [
       "3"
      ]
     },
     "execution_count": 13,
     "metadata": {},
     "output_type": "execute_result"
    }
   ],
   "source": [
    "def my_for(x):\n",
    "    for i in range(x):\n",
    "        print(i)\n",
    "        if i == 3:\n",
    "            return i\n",
    "\n",
    "my_for(5) # return을 만나서 반복문 종료"
   ]
  },
  {
   "cell_type": "code",
   "execution_count": 14,
   "id": "e5766d87-7e74-4a99-bafe-a37a7b88068a",
   "metadata": {},
   "outputs": [],
   "source": [
    "# 리스트의 합을 비교하여 큰 것 출력\n",
    "def my_list_max(list1, list2):\n",
    "    result1 = list1[0] + list1[1] + list1[2]\n",
    "    result2 = list2[0] + list2[1] + list2[2]\n",
    "\n",
    "    if result1 > result2:\n",
    "        return list1\n",
    "    else:\n",
    "        return list2"
   ]
  },
  {
   "cell_type": "code",
   "execution_count": 15,
   "id": "d995446c-b7a4-44bb-a8a7-0a2cda88a5b6",
   "metadata": {},
   "outputs": [],
   "source": [
    "def my_list_max(list1, list2):\n",
    "    result1 = 0\n",
    "    result2 = 0\n",
    "    for i in range(len(list1)):\n",
    "        result1 += list1[i]\n",
    "    for j in range(len(list2)):\n",
    "        result2 += list2[j]\n",
    "    if result1 > result2:\n",
    "        return list1\n",
    "    else:\n",
    "        return list2"
   ]
  },
  {
   "cell_type": "code",
   "execution_count": 16,
   "id": "92e52e6e-797a-4fc9-8d0b-dcb1ffbdfebc",
   "metadata": {},
   "outputs": [],
   "source": [
    "def my_list_max(list1, list2):\n",
    "    result1 = sum(list1)\n",
    "    result2 = sum(list2)\n",
    "\n",
    "    if result1 > result2:\n",
    "        return list1\n",
    "    else:\n",
    "        return list2"
   ]
  },
  {
   "cell_type": "code",
   "execution_count": 17,
   "id": "a95a5a81-a264-41eb-b6dd-52a692d4dd1d",
   "metadata": {},
   "outputs": [],
   "source": [
    "def my_list(list1, list2):\n",
    "    if sum(list1) > sum(list2):\n",
    "        return list1\n",
    "    else:\n",
    "        return list2"
   ]
  },
  {
   "cell_type": "markdown",
   "id": "7414f176-7a38-4fb8-b535-d97285b94b03",
   "metadata": {},
   "source": [
    "## 3. 함수의 인수"
   ]
  },
  {
   "cell_type": "markdown",
   "id": "326934c9-8e70-4b99-884f-8bb1d1d2d2b2",
   "metadata": {},
   "source": [
    "### 3.1. 위치 인수"
   ]
  },
  {
   "cell_type": "markdown",
   "id": "0f75e880-336f-4056-bd31-3c8a87ef5200",
   "metadata": {},
   "source": [
    "- 기본적으로 함수는 위치를 기준으로 인수를 판단"
   ]
  },
  {
   "cell_type": "code",
   "execution_count": 18,
   "id": "955aab51-4489-47b0-a877-ed87f32d525c",
   "metadata": {},
   "outputs": [],
   "source": [
    "def cylinder(r, h): # 원기둥의 부피\n",
    "    return 3.14 * r ** 2 * h"
   ]
  },
  {
   "cell_type": "code",
   "execution_count": 19,
   "id": "b94a51e5-1fab-4747-88ac-4858e6748c6e",
   "metadata": {},
   "outputs": [
    {
     "data": {
      "text/plain": [
       "282.6"
      ]
     },
     "execution_count": 19,
     "metadata": {},
     "output_type": "execute_result"
    }
   ],
   "source": [
    "cylinder(3, 10)"
   ]
  },
  {
   "cell_type": "code",
   "execution_count": 20,
   "id": "e422a8d1-b5e2-470b-9cd7-f95e81ee2cff",
   "metadata": {},
   "outputs": [
    {
     "data": {
      "text/plain": [
       "942.0"
      ]
     },
     "execution_count": 20,
     "metadata": {},
     "output_type": "execute_result"
    }
   ],
   "source": [
    "cylinder(10, 3)"
   ]
  },
  {
   "cell_type": "markdown",
   "id": "99ef08f4-f5b4-43a9-90cb-2d0e07546f01",
   "metadata": {},
   "source": [
    "### 3.2. 기본값"
   ]
  },
  {
   "cell_type": "markdown",
   "id": "b927f89d-f2eb-4db1-a924-97b90e8c971a",
   "metadata": {},
   "source": [
    "```python\n",
    "def func_name(p1=v1):\n",
    "    code1\n",
    "    return value\n",
    "```"
   ]
  },
  {
   "cell_type": "code",
   "execution_count": 21,
   "id": "88e9d063-f190-412b-9def-8bff21c9aa45",
   "metadata": {},
   "outputs": [],
   "source": [
    "def greeting(name):\n",
    "    return f'{name}님 반갑습니다.'"
   ]
  },
  {
   "cell_type": "code",
   "execution_count": 22,
   "id": "0e3ce1fe-137e-4d70-a5a5-1e06bd46d8f2",
   "metadata": {},
   "outputs": [],
   "source": [
    "# greeting() -> error: missing positional argument(위치 인자 빠짐)"
   ]
  },
  {
   "cell_type": "code",
   "execution_count": 23,
   "id": "9c00729b-ad65-4341-9287-a876c0bae509",
   "metadata": {},
   "outputs": [],
   "source": [
    "def greeting(name='익명'):\n",
    "    return f'{name}님 반갑습니다.'"
   ]
  },
  {
   "cell_type": "code",
   "execution_count": 24,
   "id": "f68f8742-0b48-44a3-b46a-f1fdac0a4590",
   "metadata": {},
   "outputs": [
    {
     "data": {
      "text/plain": [
       "'익명님 반갑습니다.'"
      ]
     },
     "execution_count": 24,
     "metadata": {},
     "output_type": "execute_result"
    }
   ],
   "source": [
    "greeting() # 기본값 설정시 값을 넣지 않아도 됨"
   ]
  },
  {
   "cell_type": "code",
   "execution_count": 25,
   "id": "f548f04a-9b29-450f-ba39-012ccde9316f",
   "metadata": {},
   "outputs": [],
   "source": [
    "# def print(*object, sep=' ', end='\\n')"
   ]
  },
  {
   "cell_type": "code",
   "execution_count": 27,
   "id": "a6287553-cb70-411f-9478-78d1febd9257",
   "metadata": {},
   "outputs": [],
   "source": [
    "# def greeting(name='익명', age) -> error: 기본값 인자는 위치 인자보다 뒤에 나와야\n",
    "\n",
    "def greeting(age, name='익명'):\n",
    "    return f'{name}님의 나이는 {age}살입니다.'"
   ]
  },
  {
   "cell_type": "code",
   "execution_count": 30,
   "id": "70257fd4-0181-4f82-87ef-2f1d2bd5a0e8",
   "metadata": {},
   "outputs": [
    {
     "data": {
      "text/plain": [
       "'익명님의 나이는 10살입니다.'"
      ]
     },
     "execution_count": 30,
     "metadata": {},
     "output_type": "execute_result"
    }
   ],
   "source": [
    "greeting(10)"
   ]
  },
  {
   "cell_type": "markdown",
   "id": "9f0498db-69eb-46a2-a3dc-b4cf543cfaab",
   "metadata": {},
   "source": [
    "### 3.3. 키워드 인수"
   ]
  },
  {
   "cell_type": "markdown",
   "id": "495516e0-b876-47e4-b95b-a9d445aaa90d",
   "metadata": {},
   "source": [
    "- 함수를 호출할 때 내가 원하는 위치에 직접적으로 값을 전달"
   ]
  },
  {
   "cell_type": "code",
   "execution_count": 31,
   "id": "616c58fd-a841-4c43-82ff-e54b9c394c86",
   "metadata": {},
   "outputs": [],
   "source": [
    "def greeting(age, name='익명'):\n",
    "    return f'{name}님의 나이는 {age}살입니다.'"
   ]
  },
  {
   "cell_type": "code",
   "execution_count": 32,
   "id": "f69f792d-4a61-42da-9662-fadf9b3adfbc",
   "metadata": {},
   "outputs": [
    {
     "data": {
      "text/plain": [
       "'길동님의 나이는 10살입니다.'"
      ]
     },
     "execution_count": 32,
     "metadata": {},
     "output_type": "execute_result"
    }
   ],
   "source": [
    "greeting(name='길동', age=10)"
   ]
  },
  {
   "cell_type": "markdown",
   "id": "877209c7-51e9-4c42-976a-39804d86cf07",
   "metadata": {},
   "source": [
    "### 3.4. 가변 인자 리스트"
   ]
  },
  {
   "cell_type": "markdown",
   "id": "be1faaaa-544e-4854-a9ee-f2e56f08dda9",
   "metadata": {},
   "source": [
    "- *변할 수 있는*\n",
    "```python\n",
    "def func_name(*params):\n",
    "    code\n",
    "    ...\n",
    "    return value\n",
    "```"
   ]
  },
  {
   "cell_type": "code",
   "execution_count": 34,
   "id": "2680d398-7b93-4614-8cf8-12dc90f04e7b",
   "metadata": {},
   "outputs": [
    {
     "data": {
      "text/plain": [
       "7"
      ]
     },
     "execution_count": 34,
     "metadata": {},
     "output_type": "execute_result"
    }
   ],
   "source": [
    "max(1, 2, 3, 4, 5, 6, 7) # 인자를 몇개 넣든 실행 가능"
   ]
  },
  {
   "cell_type": "code",
   "execution_count": 43,
   "id": "77db61c8-7ae4-4768-a051-c53d5a1f9edd",
   "metadata": {},
   "outputs": [],
   "source": [
    "def my_max(*numbers):\n",
    "    max_num = numbers[0]\n",
    "\n",
    "    for number in numbers:\n",
    "        if max_num < number:\n",
    "            max_num = number\n",
    "    return max_num"
   ]
  },
  {
   "cell_type": "code",
   "execution_count": 45,
   "id": "4e4a24fe-61c4-4367-b973-114a6758b05b",
   "metadata": {},
   "outputs": [
    {
     "data": {
      "text/plain": [
       "40"
      ]
     },
     "execution_count": 45,
     "metadata": {},
     "output_type": "execute_result"
    }
   ],
   "source": [
    "my_max(1, 2, 3, 40, 5, 6, 7)"
   ]
  },
  {
   "cell_type": "markdown",
   "id": "9b6be8fc-8754-4691-99ad-0d5dcb6d300f",
   "metadata": {},
   "source": [
    "### 3.5. 정의되지 않는 키워드 인자 처리하기"
   ]
  },
  {
   "cell_type": "markdown",
   "id": "c5b291e4-9d2c-4f8b-83f8-6d5028e7fd55",
   "metadata": {},
   "source": [
    "```python\n",
    "def func_name(**kwargs): # keyward arguments\n",
    "    return value\n",
    "```\n",
    "- *가변 인자 리스트와 비슷*\n",
    "- *키워드가 몇개 들어오든지 묶어서 dictionary로 만들어줌*"
   ]
  },
  {
   "cell_type": "code",
   "execution_count": 46,
   "id": "76ff126f-6e00-4094-95c4-d81b9f046e0f",
   "metadata": {},
   "outputs": [
    {
     "name": "stdout",
     "output_type": "stream",
     "text": [
      "{'name': 'kim', 'age': 20}\n"
     ]
    }
   ],
   "source": [
    "info = dict(name='kim', age=20)\n",
    "print(info)"
   ]
  },
  {
   "cell_type": "code",
   "execution_count": 47,
   "id": "cd32605b-673a-4f69-b7a1-f4beebd959f8",
   "metadata": {},
   "outputs": [
    {
     "name": "stdout",
     "output_type": "stream",
     "text": [
      "{'asdf': '가나다', 'age': 123, 'test': 'asdf'}\n"
     ]
    }
   ],
   "source": [
    "def my_dict(**kwargs):\n",
    "    print(kwargs)\n",
    "\n",
    "my_dict(asdf='가나다', age=123, test='asdf')"
   ]
  },
  {
   "cell_type": "code",
   "execution_count": 48,
   "id": "481e21b4-ddbf-42d1-876e-8120d035533f",
   "metadata": {},
   "outputs": [],
   "source": [
    "def my_func(parmas1, params2='temp', *numbers, **kwargs):\n",
    "    return 0"
   ]
  },
  {
   "cell_type": "code",
   "execution_count": 53,
   "id": "ca87685b-d98d-4b6e-89c2-a2dfb719b15b",
   "metadata": {},
   "outputs": [
    {
     "data": {
      "text/plain": [
       "0"
      ]
     },
     "execution_count": 53,
     "metadata": {},
     "output_type": "execute_result"
    }
   ],
   "source": [
    "my_func(123) # params1 = 123, params2 = 'temp'\n",
    "my_func(123, 234) # params1 = 123, params2 = 234\n",
    "my_func(123, 234, 456, 789) # params1 = 123, params2 = 234, numbers = (456, 789)\n",
    "my_func(123, 234, 456, 789, a=1, b=2, c=3) # kwargs = {a: 1. b: 2, c: 3}"
   ]
  },
  {
   "cell_type": "markdown",
   "id": "0c38be39-9e29-4734-91b7-199943cc732a",
   "metadata": {},
   "source": [
    "### 3.6. 타입힌트"
   ]
  },
  {
   "cell_type": "code",
   "execution_count": 57,
   "id": "7136d1eb-ab73-49d9-816f-0526298e3962",
   "metadata": {},
   "outputs": [],
   "source": [
    "def something(a: int, b: int) -> int: # parameter의 타입힌트 -> return의 타입힌트\n",
    "    return a + b"
   ]
  },
  {
   "cell_type": "markdown",
   "id": "b4454dea-9dfb-4675-bd55-c70337b0ea88",
   "metadata": {},
   "source": [
    "## 4. lambda 표현식"
   ]
  },
  {
   "cell_type": "markdown",
   "id": "6c87972d-6643-497d-bed5-67b617af33a7",
   "metadata": {},
   "source": [
    "```python\n",
    "lambda parameter: expression\n",
    "```\n",
    "- *임시함수, 일회용함수, 익명함수*\n",
    "- *장점: 빠르다*\n",
    "- *메모리에 올라가지 않고 한번 실행되면 휘발됨*"
   ]
  },
  {
   "cell_type": "code",
   "execution_count": 54,
   "id": "412be0ba-e5f0-4022-a6ea-b02ce47745e4",
   "metadata": {},
   "outputs": [],
   "source": [
    "def my_sum(num1, num2):\n",
    "    return num1 + num2"
   ]
  },
  {
   "cell_type": "code",
   "execution_count": 56,
   "id": "d666570a-646e-4b14-930a-73cae010bc92",
   "metadata": {},
   "outputs": [
    {
     "data": {
      "text/plain": [
       "3"
      ]
     },
     "execution_count": 56,
     "metadata": {},
     "output_type": "execute_result"
    }
   ],
   "source": [
    "(lambda num1, num2: num1 + num2)(1, 2)"
   ]
  },
  {
   "cell_type": "markdown",
   "id": "36ca6515-8893-45df-9d67-943f6a6295c4",
   "metadata": {},
   "source": [
    "## 5. 이름공간(namespace), 스코프(scope)"
   ]
  },
  {
   "cell_type": "markdown",
   "id": "1e82b9c0-5b90-4ef6-a429-18bd514a671f",
   "metadata": {},
   "source": [
    "- python에서 사용하는 이름들은 이름공간에 저장되어 있음\n",
    "- LEGB 룰에 따라 접근 *(위에서 아래로 갈수록 넓은 범위)*\n",
    "    1. Local: 정의된 함수 내부\n",
    "    2. Enclosed: 상위 함수\n",
    "    3. Global: 함수 밖\n",
    "    4. Built_in: python이 기본적으로 가지고 있는 함수"
   ]
  },
  {
   "cell_type": "code",
   "execution_count": 58,
   "id": "4e117589-4dfc-4d4c-a745-e7063b745206",
   "metadata": {},
   "outputs": [
    {
     "name": "stdout",
     "output_type": "stream",
     "text": [
      "123\n"
     ]
    }
   ],
   "source": [
    "result = str(123) # Built_in\n",
    "print(result)"
   ]
  },
  {
   "cell_type": "code",
   "execution_count": 59,
   "id": "7cc83314-4c3e-419b-ac87-75af5f9122b2",
   "metadata": {},
   "outputs": [],
   "source": [
    "str = 'hello'"
   ]
  },
  {
   "cell_type": "code",
   "execution_count": 60,
   "id": "b73f6791-26e8-473e-bf0e-429156e4a76e",
   "metadata": {},
   "outputs": [
    {
     "ename": "TypeError",
     "evalue": "'str' object is not callable",
     "output_type": "error",
     "traceback": [
      "\u001b[1;31m---------------------------------------------------------------------------\u001b[0m",
      "\u001b[1;31mTypeError\u001b[0m                                 Traceback (most recent call last)",
      "Cell \u001b[1;32mIn[60], line 1\u001b[0m\n\u001b[1;32m----> 1\u001b[0m result \u001b[38;5;241m=\u001b[39m \u001b[38;5;28;43mstr\u001b[39;49m\u001b[43m(\u001b[49m\u001b[38;5;241;43m123\u001b[39;49m\u001b[43m)\u001b[49m \u001b[38;5;66;03m# Built_in\u001b[39;00m\n\u001b[0;32m      2\u001b[0m \u001b[38;5;28mprint\u001b[39m(result) \u001b[38;5;66;03m# error: str을 위에서 변수로 정의\u001b[39;00m\n",
      "\u001b[1;31mTypeError\u001b[0m: 'str' object is not callable"
     ]
    }
   ],
   "source": [
    "result = str(123) # Built_in\n",
    "print(result) # error: str을 위에서 변수로 정의"
   ]
  },
  {
   "cell_type": "code",
   "execution_count": 61,
   "id": "d69c0492-7c83-4f43-ae45-af7bbf9f03ec",
   "metadata": {},
   "outputs": [],
   "source": [
    "del str # 변수 삭제"
   ]
  },
  {
   "cell_type": "code",
   "execution_count": 62,
   "id": "44608156-7b46-4462-ac57-d3e07929f0a1",
   "metadata": {},
   "outputs": [
    {
     "data": {
      "text/plain": [
       "'asdf'"
      ]
     },
     "execution_count": 62,
     "metadata": {},
     "output_type": "execute_result"
    }
   ],
   "source": [
    "a = 1\n",
    "\n",
    "def local_scope(a): # Local\n",
    "    # a = 'asdf'\n",
    "    return a\n",
    "\n",
    "a = '가나다라'\n",
    "\n",
    "local_scope('asdf')"
   ]
  },
  {
   "cell_type": "code",
   "execution_count": 63,
   "id": "e7805962-272e-4956-9288-1146aa941688",
   "metadata": {},
   "outputs": [
    {
     "data": {
      "text/plain": [
       "'가나다라'"
      ]
     },
     "execution_count": 63,
     "metadata": {},
     "output_type": "execute_result"
    }
   ],
   "source": [
    "a = 1\n",
    "\n",
    "def local_scope(b):\n",
    "    # b = 'asdf'\n",
    "    return a\n",
    "\n",
    "a = '가나다라' # a =1 => a = '가나다라'\n",
    "\n",
    "local_scope('asdf')"
   ]
  },
  {
   "cell_type": "code",
   "execution_count": 64,
   "id": "b5da2811-bcc4-46f8-9595-5781b0fb1a97",
   "metadata": {},
   "outputs": [
    {
     "name": "stdout",
     "output_type": "stream",
     "text": [
      "1\n",
      "2\n",
      "3\n",
      "4\n",
      "5\n",
      "5\n"
     ]
    }
   ],
   "source": [
    "my_list = [1, 2, 3, 4, 5]\n",
    "\n",
    "for i in my_list:\n",
    "    # i = ...\n",
    "    print(i)\n",
    "print(i) # 맨 마지막에 저장된 i 값 = 5"
   ]
  },
  {
   "cell_type": "code",
   "execution_count": 65,
   "id": "ae0a38fa-a2d3-4e37-981a-f685ae49fc12",
   "metadata": {},
   "outputs": [
    {
     "ename": "UnboundLocalError",
     "evalue": "cannot access local variable 'a' where it is not associated with a value",
     "output_type": "error",
     "traceback": [
      "\u001b[1;31m---------------------------------------------------------------------------\u001b[0m",
      "\u001b[1;31mUnboundLocalError\u001b[0m                         Traceback (most recent call last)",
      "Cell \u001b[1;32mIn[65], line 7\u001b[0m\n\u001b[0;32m      4\u001b[0m     a \u001b[38;5;241m=\u001b[39m a \u001b[38;5;241m+\u001b[39m \u001b[38;5;241m1\u001b[39m\n\u001b[0;32m      5\u001b[0m     \u001b[38;5;28;01mreturn\u001b[39;00m a\n\u001b[1;32m----> 7\u001b[0m \u001b[43mglobal_scope\u001b[49m\u001b[43m(\u001b[49m\u001b[43m)\u001b[49m \u001b[38;5;66;03m# error: a를 마음대로 계산할 수 없음\u001b[39;00m\n",
      "Cell \u001b[1;32mIn[65], line 4\u001b[0m, in \u001b[0;36mglobal_scope\u001b[1;34m()\u001b[0m\n\u001b[0;32m      3\u001b[0m \u001b[38;5;28;01mdef\u001b[39;00m\u001b[38;5;250m \u001b[39m\u001b[38;5;21mglobal_scope\u001b[39m():\n\u001b[1;32m----> 4\u001b[0m     a \u001b[38;5;241m=\u001b[39m \u001b[43ma\u001b[49m \u001b[38;5;241m+\u001b[39m \u001b[38;5;241m1\u001b[39m\n\u001b[0;32m      5\u001b[0m     \u001b[38;5;28;01mreturn\u001b[39;00m a\n",
      "\u001b[1;31mUnboundLocalError\u001b[0m: cannot access local variable 'a' where it is not associated with a value"
     ]
    }
   ],
   "source": [
    "a = 0\n",
    "\n",
    "def global_scope():\n",
    "    a = a + 1\n",
    "    return a\n",
    "\n",
    "global_scope() # error: a를 마음대로 계산할 수 없음"
   ]
  },
  {
   "cell_type": "code",
   "execution_count": 66,
   "id": "a13bbe99-9810-4799-9302-d15925432e02",
   "metadata": {},
   "outputs": [
    {
     "data": {
      "text/plain": [
       "1"
      ]
     },
     "execution_count": 66,
     "metadata": {},
     "output_type": "execute_result"
    }
   ],
   "source": [
    "a = 0\n",
    "\n",
    "def global_scope():\n",
    "    global a # 함수 밖에 있는 a를 쓸거야\n",
    "    a = a + 1\n",
    "    return a\n",
    "\n",
    "global_scope()"
   ]
  },
  {
   "cell_type": "markdown",
   "id": "a2b13185-b1a3-4a75-b4a3-885617f1ec51",
   "metadata": {},
   "source": [
    "## 6. 재귀"
   ]
  },
  {
   "cell_type": "markdown",
   "id": "8b3fd908-40b2-402c-9c24-b15176ab2d7d",
   "metadata": {},
   "source": [
    "- 함수 내부에서 자기 자신을 호출하는 함수\n",
    "```\n",
    "n! = 1 * 2 * 3 * ... * n\n",
    "\n",
    "1! = 1\n",
    "2! = 1 * 2 = 1! * 2\n",
    "3! = 1 * 2 * 3 = 2! * 3\n",
    "n! = (n-1)! * n\n",
    "```\n",
    "- *recursion*"
   ]
  },
  {
   "cell_type": "code",
   "execution_count": 67,
   "id": "a342330d-93c4-4e3b-8f20-993f1a605e83",
   "metadata": {},
   "outputs": [],
   "source": [
    "def fact(n):\n",
    "    if n == 1:\n",
    "        return 1\n",
    "    else:\n",
    "        return fact(n-1) * n"
   ]
  },
  {
   "cell_type": "code",
   "execution_count": 69,
   "id": "4012b11a-24f6-42bd-b325-5c858fb440de",
   "metadata": {},
   "outputs": [
    {
     "data": {
      "text/plain": [
       "3628800"
      ]
     },
     "execution_count": 69,
     "metadata": {},
     "output_type": "execute_result"
    }
   ],
   "source": [
    "fact(10)\n",
    "\n",
    "# fact(10 fact(9 fact(8 ...))) -> 안에서부터 계산"
   ]
  },
  {
   "cell_type": "markdown",
   "id": "afdf9f40-a00d-4222-82c6-ba8b3ac2857c",
   "metadata": {},
   "source": [
    "- *(: 함수 실행*\n",
    "- *): 함수 종료*"
   ]
  },
  {
   "cell_type": "markdown",
   "id": "b9ee5bba-834c-483e-af35-b9a9167f9b30",
   "metadata": {},
   "source": [
    "# 04. data structure 자료구조"
   ]
  },
  {
   "cell_type": "markdown",
   "id": "04ad6019-5bac-41e6-9999-6789b76f14ce",
   "metadata": {},
   "source": [
    "- 여러가지 자료구조가 가지고 있는 메소드(함수) 알아보기"
   ]
  },
  {
   "cell_type": "code",
   "execution_count": 1,
   "id": "92bdf3ab-6b3b-463d-b620-2169eec677fd",
   "metadata": {},
   "outputs": [
    {
     "name": "stdout",
     "output_type": "stream",
     "text": [
      "['__add__', '__class__', '__contains__', '__delattr__', '__dir__', '__doc__', '__eq__', '__format__', '__ge__', '__getattribute__', '__getitem__', '__getnewargs__', '__getstate__', '__gt__', '__hash__', '__init__', '__init_subclass__', '__iter__', '__le__', '__len__', '__lt__', '__mod__', '__mul__', '__ne__', '__new__', '__reduce__', '__reduce_ex__', '__repr__', '__rmod__', '__rmul__', '__setattr__', '__sizeof__', '__str__', '__subclasshook__', 'capitalize', 'casefold', 'center', 'count', 'encode', 'endswith', 'expandtabs', 'find', 'format', 'format_map', 'index', 'isalnum', 'isalpha', 'isascii', 'isdecimal', 'isdigit', 'isidentifier', 'islower', 'isnumeric', 'isprintable', 'isspace', 'istitle', 'isupper', 'join', 'ljust', 'lower', 'lstrip', 'maketrans', 'partition', 'removeprefix', 'removesuffix', 'replace', 'rfind', 'rindex', 'rjust', 'rpartition', 'rsplit', 'rstrip', 'split', 'splitlines', 'startswith', 'strip', 'swapcase', 'title', 'translate', 'upper', 'zfill']\n"
     ]
    }
   ],
   "source": [
    "print(dir('hello'))"
   ]
  },
  {
   "cell_type": "markdown",
   "id": "e7f6d687-b7eb-44bd-bb78-47ee6ad3a035",
   "metadata": {},
   "source": [
    "## 1. 문자열 메소드"
   ]
  },
  {
   "cell_type": "code",
   "execution_count": 2,
   "id": "5734a99f-f062-402c-a97b-830b69a70afc",
   "metadata": {},
   "outputs": [],
   "source": [
    "a = 'hello my name is hong'"
   ]
  },
  {
   "cell_type": "code",
   "execution_count": 3,
   "id": "1ff1f38f-2c9d-4800-b69a-81eef8d78391",
   "metadata": {},
   "outputs": [
    {
     "name": "stdout",
     "output_type": "stream",
     "text": [
      "hello my name is hong\n"
     ]
    }
   ],
   "source": [
    "print(a)"
   ]
  },
  {
   "cell_type": "code",
   "execution_count": 4,
   "id": "78914865-2c83-4193-8992-ccf6b6109389",
   "metadata": {},
   "outputs": [],
   "source": [
    "# a[0] = 'H' # error: str is immutable"
   ]
  },
  {
   "cell_type": "code",
   "execution_count": 5,
   "id": "b150955b-690f-418e-a0a4-6e54cb22e5c1",
   "metadata": {},
   "outputs": [
    {
     "data": {
      "text/plain": [
       "'Hello my name is hong'"
      ]
     },
     "execution_count": 5,
     "metadata": {},
     "output_type": "execute_result"
    }
   ],
   "source": [
    "a.capitalize() # 원본 데이터가 바뀐 것은 아님, 함수의 결과값이 출력된 것"
   ]
  },
  {
   "cell_type": "code",
   "execution_count": 6,
   "id": "d22c7cb2-4fb2-46a9-908f-c535d7466da9",
   "metadata": {},
   "outputs": [
    {
     "data": {
      "text/plain": [
       "'Hello my name is hong'"
      ]
     },
     "execution_count": 6,
     "metadata": {},
     "output_type": "execute_result"
    }
   ],
   "source": [
    "'hello my name is hong'.capitalize()"
   ]
  },
  {
   "cell_type": "code",
   "execution_count": 8,
   "id": "b051a92c-51f7-4aa0-ab6e-252d0657133c",
   "metadata": {},
   "outputs": [],
   "source": [
    "a = a.capitalize() # 재할당 -> 원본변경"
   ]
  },
  {
   "cell_type": "code",
   "execution_count": 10,
   "id": "5de6f026-a863-4e43-8549-3da0a510f01a",
   "metadata": {},
   "outputs": [
    {
     "data": {
      "text/plain": [
       "'Hello My Name Is Hong'"
      ]
     },
     "execution_count": 10,
     "metadata": {},
     "output_type": "execute_result"
    }
   ],
   "source": [
    "a.title()"
   ]
  },
  {
   "cell_type": "code",
   "execution_count": 11,
   "id": "730e2902-973d-43a9-94b1-5f3f9ff94559",
   "metadata": {},
   "outputs": [
    {
     "data": {
      "text/plain": [
       "'hello my name is hong'"
      ]
     },
     "execution_count": 11,
     "metadata": {},
     "output_type": "execute_result"
    }
   ],
   "source": [
    "a.lower()"
   ]
  },
  {
   "cell_type": "code",
   "execution_count": 12,
   "id": "919b8db8-10e0-4b9b-924f-f5d8ee217753",
   "metadata": {},
   "outputs": [
    {
     "data": {
      "text/plain": [
       "'HELLO MY NAME IS HONG'"
      ]
     },
     "execution_count": 12,
     "metadata": {},
     "output_type": "execute_result"
    }
   ],
   "source": [
    "a.upper()"
   ]
  },
  {
   "cell_type": "code",
   "execution_count": 13,
   "id": "f7010568-088c-4c7a-8fd2-b9c09657bb0a",
   "metadata": {},
   "outputs": [
    {
     "data": {
      "text/plain": [
       "'배?고?프?다'"
      ]
     },
     "execution_count": 13,
     "metadata": {},
     "output_type": "execute_result"
    }
   ],
   "source": [
    "'?'.join('배고프다')"
   ]
  },
  {
   "cell_type": "code",
   "execution_count": 14,
   "id": "42190eef-4579-4820-aaf3-a6f46f9dc562",
   "metadata": {},
   "outputs": [
    {
     "data": {
      "text/plain": [
       "'hello'"
      ]
     },
     "execution_count": 14,
     "metadata": {},
     "output_type": "execute_result"
    }
   ],
   "source": [
    "a = '      \\t    hello      \\n        '\n",
    "a.strip() # 좌우의 여백으로 생각하는 모든 것을 지워줌"
   ]
  },
  {
   "cell_type": "code",
   "execution_count": 15,
   "id": "428c1a91-895a-46e0-8d08-11f9cb4c359a",
   "metadata": {},
   "outputs": [
    {
     "data": {
      "text/plain": [
       "'hello???????'"
      ]
     },
     "execution_count": 15,
     "metadata": {},
     "output_type": "execute_result"
    }
   ],
   "source": [
    "a = '!!!!!!!!hello???????'\n",
    "a.strip('!') # def strip(char=' ')"
   ]
  },
  {
   "cell_type": "code",
   "execution_count": 16,
   "id": "fd195c88-5888-40c2-a025-7c238bb2256d",
   "metadata": {},
   "outputs": [
    {
     "name": "stdout",
     "output_type": "stream",
     "text": [
      "hello---\n",
      "----hello\n"
     ]
    }
   ],
   "source": [
    "a = '----hello---'\n",
    "print(a.lstrip('-')) # 왼쪽\n",
    "print(a.rstrip('-')) # 오른쪽"
   ]
  },
  {
   "cell_type": "code",
   "execution_count": 17,
   "id": "4818620e-d721-498e-a9a6-9cd7d11147f6",
   "metadata": {},
   "outputs": [
    {
     "data": {
      "text/plain": [
       "'w!!!ooooow'"
      ]
     },
     "execution_count": 17,
     "metadata": {},
     "output_type": "execute_result"
    }
   ],
   "source": [
    "a = 'woooooooow'\n",
    "a.replace('o', '!', 3) # count = 몇개 바꿀지"
   ]
  },
  {
   "cell_type": "code",
   "execution_count": 18,
   "id": "939bfd6b-a470-442d-98e0-5bb698aa3a18",
   "metadata": {},
   "outputs": [
    {
     "name": "stdout",
     "output_type": "stream",
     "text": [
      "0\n",
      "1\n",
      "-1\n"
     ]
    }
   ],
   "source": [
    "a = 'apple'\n",
    "print(a.find('a'))\n",
    "print(a.find('p')) # 첫번째 것만 호출\n",
    "print(a.find('z')) # -1: 없다는 뜻"
   ]
  },
  {
   "cell_type": "code",
   "execution_count": 19,
   "id": "39512e5a-b90f-4793-a4c9-7b9c2397b2a8",
   "metadata": {},
   "outputs": [
    {
     "name": "stdout",
     "output_type": "stream",
     "text": [
      "0\n",
      "1\n"
     ]
    }
   ],
   "source": [
    "a = 'apple'\n",
    "print(a.index('a'))\n",
    "print(a.index('p'))\n",
    "# print(a.index('z')) # error"
   ]
  },
  {
   "cell_type": "code",
   "execution_count": 20,
   "id": "099830bf-83ad-49bb-ac88-7614b8874c53",
   "metadata": {},
   "outputs": [
    {
     "data": {
      "text/plain": [
       "['my', 'name', 'is', 'hong']"
      ]
     },
     "execution_count": 20,
     "metadata": {},
     "output_type": "execute_result"
    }
   ],
   "source": [
    "a = 'my name is hong'\n",
    "a.split() # 띄어쓰기를 기준으로 잘라서 리스트로 만들어줌"
   ]
  },
  {
   "cell_type": "code",
   "execution_count": 21,
   "id": "75e23618-4b82-4d32-a346-d2bf5ff9394d",
   "metadata": {},
   "outputs": [
    {
     "data": {
      "text/plain": [
       "['my nam', ' is hong']"
      ]
     },
     "execution_count": 21,
     "metadata": {},
     "output_type": "execute_result"
    }
   ],
   "source": [
    "a.split('e')"
   ]
  },
  {
   "cell_type": "code",
   "execution_count": 22,
   "id": "d9b7e291-0f23-49dd-9b54-9b41e224ee42",
   "metadata": {},
   "outputs": [
    {
     "data": {
      "text/plain": [
       "6"
      ]
     },
     "execution_count": 22,
     "metadata": {},
     "output_type": "execute_result"
    }
   ],
   "source": [
    "a = 'woooooow'\n",
    "a.count('o')"
   ]
  },
  {
   "cell_type": "markdown",
   "id": "bac93549-0d26-4e48-90ce-b5c5097d8e96",
   "metadata": {},
   "source": [
    "## 2. 리스트 메소드"
   ]
  },
  {
   "cell_type": "code",
   "execution_count": 33,
   "id": "5d4aee86-14ec-46a7-bae4-62d1d417a215",
   "metadata": {},
   "outputs": [],
   "source": [
    "numbers = [2, 6, 1, 4, 8, 3, 2, 8]"
   ]
  },
  {
   "cell_type": "code",
   "execution_count": 34,
   "id": "5d4609e4-7272-4c19-ae4c-76eadd5d33d4",
   "metadata": {},
   "outputs": [
    {
     "name": "stdout",
     "output_type": "stream",
     "text": [
      "[2, 6, 1, 4, 8, 3, 2, 8, 10]\n"
     ]
    }
   ],
   "source": [
    "numbers.append(10) # 추가하다, 덧붙이다\n",
    "print(numbers)"
   ]
  },
  {
   "cell_type": "code",
   "execution_count": 35,
   "id": "16e11775-b0c2-46a1-86b9-215822121786",
   "metadata": {},
   "outputs": [
    {
     "name": "stdout",
     "output_type": "stream",
     "text": [
      "[2, 6, 1, 4, 8, 3, 2, 8, 10, 99, 100]\n"
     ]
    }
   ],
   "source": [
    "a = [99, 100]\n",
    "numbers.extend(a) # => numbers + a (concatenation)\n",
    "print(numbers)"
   ]
  },
  {
   "cell_type": "code",
   "execution_count": 36,
   "id": "37902ba3-9205-486a-9234-7ac0ebbb7773",
   "metadata": {},
   "outputs": [
    {
     "name": "stdout",
     "output_type": "stream",
     "text": [
      "[2, 6, 1, 55, 4, 8, 3, 2, 8, 10, 99, 100]\n"
     ]
    }
   ],
   "source": [
    "numbers.insert(3, 55) # 위치를 지정해서 넣을 때 (~로, ~를)\n",
    "print(numbers)"
   ]
  },
  {
   "cell_type": "code",
   "execution_count": 37,
   "id": "b9c4f5ba-25b6-4147-a49c-78ec15b760ca",
   "metadata": {},
   "outputs": [
    {
     "name": "stdout",
     "output_type": "stream",
     "text": [
      "[2, 6, 1, 55, 4, 3, 2, 8, 10, 99, 100]\n"
     ]
    }
   ],
   "source": [
    "# 첫번째 x를 찾아서 제거, 없으면 오류\n",
    "numbers.remove(8)\n",
    "print(numbers) # 첫번째 8만 삭제, 두번 실행 시 뒤의 8도 삭제, 없는 걸 삭제하려고 하면 error"
   ]
  },
  {
   "cell_type": "code",
   "execution_count": 38,
   "id": "ebd205dd-e545-4752-b543-3dd451c8baeb",
   "metadata": {},
   "outputs": [
    {
     "name": "stdout",
     "output_type": "stream",
     "text": [
      "[2, 6, 1, 55, 4, 3, 2, 8, 10, 99]\n"
     ]
    }
   ],
   "source": [
    "numbers.pop() # 맨 마지막 데이터 제거\n",
    "print(numbers)"
   ]
  },
  {
   "cell_type": "code",
   "execution_count": 39,
   "id": "a60c1b67-97ad-4b9d-ac92-f14b7857fa7e",
   "metadata": {},
   "outputs": [],
   "source": [
    "# stack(후입선출) vs queue(선입선출)"
   ]
  },
  {
   "cell_type": "code",
   "execution_count": 40,
   "id": "9e01ec3e-ffcb-4785-bf0d-16af7ad32041",
   "metadata": {},
   "outputs": [
    {
     "name": "stdout",
     "output_type": "stream",
     "text": [
      "[6, 1, 55, 4, 3, 2, 8, 10, 99]\n"
     ]
    }
   ],
   "source": [
    "numbers.pop(0) # 원하는 위치의 데이터 제거\n",
    "print(numbers)"
   ]
  },
  {
   "cell_type": "code",
   "execution_count": 41,
   "id": "99b9ce7d-4bea-4f3a-95a7-8b8c1a787ed2",
   "metadata": {},
   "outputs": [
    {
     "name": "stdout",
     "output_type": "stream",
     "text": [
      "[1, 2, 3, 4, 6, 8, 10, 55, 99]\n"
     ]
    }
   ],
   "source": [
    "numbers.sort() # 오름차순 정렬\n",
    "print(numbers)"
   ]
  },
  {
   "cell_type": "code",
   "execution_count": 43,
   "id": "9f6a2d6a-c5b7-4f5e-8a94-d850e75e186a",
   "metadata": {},
   "outputs": [
    {
     "name": "stdout",
     "output_type": "stream",
     "text": [
      "[99, 55, 10, 8, 6, 4, 3, 2, 1]\n"
     ]
    }
   ],
   "source": [
    "numbers.sort(reverse=True) # 내림차순 정렬/ 원본을 바꿈\n",
    "print(numbers)"
   ]
  },
  {
   "cell_type": "code",
   "execution_count": 44,
   "id": "ce1f5600-80ed-494e-8138-078d19846535",
   "metadata": {},
   "outputs": [
    {
     "name": "stdout",
     "output_type": "stream",
     "text": [
      "[1, 2, 4, 5, 7, 8]\n",
      "[5, 4, 2, 7, 8, 1]\n"
     ]
    }
   ],
   "source": [
    "a = [5, 4, 2, 7, 8, 1]\n",
    "print(sorted(a)) # 원본을 바꾸지 않고 계산한 결과만 알려줌\n",
    "print(a)"
   ]
  },
  {
   "cell_type": "code",
   "execution_count": 45,
   "id": "6b521c9d-a9fe-417d-92ba-31959b860d31",
   "metadata": {},
   "outputs": [
    {
     "name": "stdout",
     "output_type": "stream",
     "text": [
      "['a', 'b', 'z', '나', '하']\n"
     ]
    }
   ],
   "source": [
    "a = ['a', '하', '나', 'b', 'z']\n",
    "a.sort()\n",
    "print(a) # 유니코드 기준으로 글자도 정렬"
   ]
  },
  {
   "cell_type": "code",
   "execution_count": 46,
   "id": "0ccb4355-4d56-430d-843a-cc0106f56557",
   "metadata": {},
   "outputs": [
    {
     "name": "stdout",
     "output_type": "stream",
     "text": [
      "[99, 55, 10, 8, 6, 4, 3, 2, 1]\n",
      "[1, 2, 3, 4, 6, 8, 10, 55, 99]\n"
     ]
    }
   ],
   "source": [
    "print(numbers)\n",
    "numbers.reverse()\n",
    "print(numbers)"
   ]
  },
  {
   "cell_type": "code",
   "execution_count": 47,
   "id": "2cbbeb00-af81-42c4-ae6e-06b00a5acef8",
   "metadata": {},
   "outputs": [
    {
     "data": {
      "text/plain": [
       "1"
      ]
     },
     "execution_count": 47,
     "metadata": {},
     "output_type": "execute_result"
    }
   ],
   "source": [
    "numbers.count(10)"
   ]
  },
  {
   "cell_type": "markdown",
   "id": "d123f751-2244-40d6-ba34-39a4a097adb3",
   "metadata": {},
   "source": [
    "### 4.1. list copy"
   ]
  },
  {
   "cell_type": "code",
   "execution_count": 49,
   "id": "b48ea330-da4f-4159-b4cf-c2345036480a",
   "metadata": {},
   "outputs": [
    {
     "name": "stdout",
     "output_type": "stream",
     "text": [
      "[1, 2, 3]\n",
      "[1, 2, 3]\n"
     ]
    }
   ],
   "source": [
    "origin_list = [1, 2, 3]\n",
    "copy_list = origin_list\n",
    "print(origin_list)\n",
    "print(copy_list)"
   ]
  },
  {
   "cell_type": "code",
   "execution_count": 50,
   "id": "a245fcb0-f914-4f6f-bdba-06c4ff613b55",
   "metadata": {},
   "outputs": [
    {
     "name": "stdout",
     "output_type": "stream",
     "text": [
      "[100, 2, 3]\n",
      "[100, 2, 3]\n"
     ]
    }
   ],
   "source": [
    "copy_list[0] = 100\n",
    "print(origin_list)\n",
    "print(copy_list)"
   ]
  },
  {
   "cell_type": "code",
   "execution_count": 51,
   "id": "ca03243a-a0fd-4f92-8e4c-be694f72f95b",
   "metadata": {},
   "outputs": [
    {
     "name": "stdout",
     "output_type": "stream",
     "text": [
      "[1, 2, 3]\n",
      "[100, 2, 3]\n"
     ]
    }
   ],
   "source": [
    "origin_list = [1, 2, 3]\n",
    "copy_list = origin_list[:] # slicing\n",
    "\n",
    "copy_list[0] = 100\n",
    "\n",
    "print(origin_list)\n",
    "print(copy_list)"
   ]
  },
  {
   "cell_type": "code",
   "execution_count": 57,
   "id": "b4a2fa2d-3771-4fab-b363-3495de0a4f98",
   "metadata": {},
   "outputs": [
    {
     "name": "stdout",
     "output_type": "stream",
     "text": [
      "[1, 2, [-10, 11]]\n",
      "[100, 2, [-10, 11]]\n"
     ]
    }
   ],
   "source": [
    "o_l = [1, 2, [10, 11]]\n",
    "c_l = o_l[:]\n",
    "\n",
    "c_l[0] = 100\n",
    "c_l[2][0] = -10\n",
    "\n",
    "print(o_l)\n",
    "print(c_l)"
   ]
  },
  {
   "cell_type": "code",
   "execution_count": 59,
   "id": "4bcfbddf-0e94-4fb5-ac89-180460e078d8",
   "metadata": {},
   "outputs": [
    {
     "name": "stdout",
     "output_type": "stream",
     "text": [
      "[1, 2, [10, 11]]\n",
      "[100, 2, [10, -11]]\n"
     ]
    }
   ],
   "source": [
    "import copy\n",
    "\n",
    "o_l = [1, 2, [10, 11]]\n",
    "c_l = copy.deepcopy(o_l)\n",
    "\n",
    "c_l[0] = 100\n",
    "c_l[2][1] = -11\n",
    "\n",
    "print(o_l)\n",
    "print(c_l)"
   ]
  },
  {
   "cell_type": "markdown",
   "id": "a79ba99f-7ced-4c44-aa87-60f594ba178d",
   "metadata": {},
   "source": [
    "### 4.2. list comprehension"
   ]
  },
  {
   "cell_type": "code",
   "execution_count": 60,
   "id": "121b990f-c33e-4beb-9820-81ba2c2c9905",
   "metadata": {},
   "outputs": [
    {
     "name": "stdout",
     "output_type": "stream",
     "text": [
      "[1, 2, 3, 4, 5, 6, 7, 8, 9, 10]\n"
     ]
    }
   ],
   "source": [
    "numbers = list(range(1, 11))\n",
    "print(numbers)"
   ]
  },
  {
   "cell_type": "code",
   "execution_count": 63,
   "id": "8d085989-4d61-4b98-a8ec-ff075d8bf49b",
   "metadata": {},
   "outputs": [
    {
     "name": "stdout",
     "output_type": "stream",
     "text": [
      "[3, 6, 9, 12, 15, 18, 21, 24, 27, 30]\n"
     ]
    }
   ],
   "source": [
    "result = []\n",
    "\n",
    "for number in numbers:\n",
    "    temp = number * 3\n",
    "    result.append(temp)\n",
    "\n",
    "print(result)"
   ]
  },
  {
   "cell_type": "code",
   "execution_count": 64,
   "id": "ecf92b3a-6409-46b7-8356-a49266019c65",
   "metadata": {},
   "outputs": [
    {
     "name": "stdout",
     "output_type": "stream",
     "text": [
      "[3, 6, 9, 12, 15, 18, 21, 24, 27, 30]\n"
     ]
    }
   ],
   "source": [
    "result = [number * 3 for number in numbers]\n",
    "print(result)"
   ]
  },
  {
   "cell_type": "code",
   "execution_count": 65,
   "id": "06422238-9c67-4ed2-90e7-0b09bd7e5b5c",
   "metadata": {},
   "outputs": [
    {
     "name": "stdout",
     "output_type": "stream",
     "text": [
      "[2, 4, 6, 8, 10, 12, 14, 16, 18, 20, 22, 24, 26, 28, 30]\n"
     ]
    }
   ],
   "source": [
    "# 짝수만 고르기\n",
    "numbers = list(range(1, 31))\n",
    "result = []\n",
    "\n",
    "for number in numbers:\n",
    "    if number % 2 == 0:\n",
    "        result.append(number)\n",
    "\n",
    "print(result)"
   ]
  },
  {
   "cell_type": "code",
   "execution_count": 66,
   "id": "f8bc7647-9632-4a77-8fbf-d88fa521f76b",
   "metadata": {},
   "outputs": [
    {
     "name": "stdout",
     "output_type": "stream",
     "text": [
      "[2, 4, 6, 8, 10, 12, 14, 16, 18, 20, 22, 24, 26, 28, 30]\n"
     ]
    }
   ],
   "source": [
    "numbers = list(range(1, 31))\n",
    "\n",
    "result = [number for number in numbers if number % 2 == 0]\n",
    "print(result)"
   ]
  },
  {
   "cell_type": "code",
   "execution_count": 77,
   "id": "e583cad4-f8a1-4bad-9696-295c68271c3a",
   "metadata": {},
   "outputs": [],
   "source": [
    "# 연습! 모음제거\n",
    "words = 'my name is hong'\n",
    "# => my nm s hng"
   ]
  },
  {
   "cell_type": "code",
   "execution_count": 72,
   "id": "b44f5550-ddab-4981-a0e7-682bcfa7fa23",
   "metadata": {},
   "outputs": [
    {
     "name": "stdout",
     "output_type": "stream",
     "text": [
      "my nm s hng\n"
     ]
    }
   ],
   "source": [
    "vowels = 'aeiou'\n",
    "result = []\n",
    "\n",
    "for word in words:\n",
    "    if word not in vowels:\n",
    "        result.append(word)\n",
    "        \n",
    "print(''.join(result))"
   ]
  },
  {
   "cell_type": "code",
   "execution_count": 74,
   "id": "7ba034f2-97b3-47aa-8b64-3d3b031fe206",
   "metadata": {},
   "outputs": [
    {
     "name": "stdout",
     "output_type": "stream",
     "text": [
      "my nm s hng\n"
     ]
    }
   ],
   "source": [
    "vowels = 'aeiou'\n",
    "result = [word for word in words if word not in vowels]\n",
    "print(''.join(result))"
   ]
  },
  {
   "cell_type": "code",
   "execution_count": 78,
   "id": "2e466720-26e8-43e1-9cbf-e28be75b45ba",
   "metadata": {},
   "outputs": [
    {
     "name": "stdout",
     "output_type": "stream",
     "text": [
      "my nm s hng\n"
     ]
    }
   ],
   "source": [
    "vowels = 'aeiou'\n",
    "\n",
    "for word in vowels:\n",
    "    words = words.replace(word, '')\n",
    "\n",
    "print(words)"
   ]
  },
  {
   "cell_type": "markdown",
   "id": "ec2aa78d-c56a-4a60-9fee-eaa051b6c1bd",
   "metadata": {},
   "source": [
    "## 5. dictionary 메소드"
   ]
  },
  {
   "cell_type": "code",
   "execution_count": 80,
   "id": "748fc8b7-34b4-441e-99ae-17007b144ff4",
   "metadata": {},
   "outputs": [],
   "source": [
    "info = {\n",
    "    'name': 'hong',\n",
    "    'location': 'seoul',\n",
    "    'age': 20,\n",
    "    'phone_book':{\n",
    "        'kim': '010-1234-1234',\n",
    "        'park': '010-4321-4321'\n",
    "    }, \n",
    "    'models': ['iphone', 'ipad'],\n",
    "}"
   ]
  },
  {
   "cell_type": "code",
   "execution_count": 81,
   "id": "c3417abb-a976-406c-913f-1e817d5a9de8",
   "metadata": {},
   "outputs": [
    {
     "name": "stdout",
     "output_type": "stream",
     "text": [
      "hong\n",
      "20\n",
      "010-4321-4321\n",
      "iphone\n"
     ]
    }
   ],
   "source": [
    "print(info['name'])\n",
    "print(info['age'])\n",
    "print(info['phone_book']['park'])\n",
    "print(info['models'][0])"
   ]
  },
  {
   "cell_type": "code",
   "execution_count": 82,
   "id": "0cae5ded-26f6-4067-905d-7baba9087499",
   "metadata": {},
   "outputs": [
    {
     "name": "stdout",
     "output_type": "stream",
     "text": [
      "{'name': 'lee', 'location': 'seoul', 'age': 20, 'phone_book': {'kim': '010-1234-1234', 'park': '010-4321-4321'}, 'models': ['iphone', 'ipad']}\n"
     ]
    }
   ],
   "source": [
    "info['name'] = 'lee'\n",
    "print(info)"
   ]
  },
  {
   "cell_type": "code",
   "execution_count": 84,
   "id": "9ed75228-68ae-47fa-b3db-97e9736d613b",
   "metadata": {},
   "outputs": [
    {
     "name": "stdout",
     "output_type": "stream",
     "text": [
      "{'name': 'choi', 'location': 'seoul', 'age': 20, 'phone_book': {'kim': '010-1234-1234', 'park': '010-4321-4321'}, 'models': ['iphone', 'ipad']}\n"
     ]
    }
   ],
   "source": [
    "info.update(name='choi')\n",
    "print(info)"
   ]
  },
  {
   "cell_type": "code",
   "execution_count": 85,
   "id": "20bb3112-5e37-4862-8642-0404ab6cd385",
   "metadata": {},
   "outputs": [
    {
     "name": "stdout",
     "output_type": "stream",
     "text": [
      "{'name': 'choi', 'age': 20, 'phone_book': {'kim': '010-1234-1234', 'park': '010-4321-4321'}, 'models': ['iphone', 'ipad']}\n"
     ]
    }
   ],
   "source": [
    "info.pop('location')\n",
    "print(info)"
   ]
  },
  {
   "cell_type": "code",
   "execution_count": 86,
   "id": "8e35cfa3-deae-4683-a4cc-9f00e029f59d",
   "metadata": {},
   "outputs": [
    {
     "name": "stdout",
     "output_type": "stream",
     "text": [
      "choi\n",
      "choi\n"
     ]
    }
   ],
   "source": [
    "print(info.get('name'))\n",
    "print(info['name'])"
   ]
  },
  {
   "cell_type": "code",
   "execution_count": 87,
   "id": "a83fd09e-5072-4c27-8662-8f8b5b74907a",
   "metadata": {},
   "outputs": [
    {
     "name": "stdout",
     "output_type": "stream",
     "text": [
      "None\n"
     ]
    }
   ],
   "source": [
    "print(info.get('birth'))\n",
    "# print(info['birth']) # error"
   ]
  },
  {
   "cell_type": "code",
   "execution_count": 89,
   "id": "0b47ce59-34aa-433d-9b2f-b2f40a1d96ae",
   "metadata": {},
   "outputs": [
    {
     "name": "stdout",
     "output_type": "stream",
     "text": [
      "{'A': 4, 'B': 2, 'O': 1, 'AB': 2}\n"
     ]
    }
   ],
   "source": [
    "# 연습문제\n",
    "blood_type = ['A', 'B', 'A', 'B', 'O', 'AB', 'A', 'A', 'AB']\n",
    "\n",
    "result = {\n",
    "    'A': 0,\n",
    "    'B': 0,\n",
    "    'O': 0,\n",
    "    'AB':0\n",
    "}\n",
    "\n",
    "for blood in blood_type:\n",
    "    result[blood] += 1\n",
    "\n",
    "print(result)"
   ]
  },
  {
   "cell_type": "code",
   "execution_count": 91,
   "id": "9330efce-4631-45e7-9ba7-42a1279fc778",
   "metadata": {},
   "outputs": [
    {
     "name": "stdout",
     "output_type": "stream",
     "text": [
      "{'서울': 2, '대전': 1, '부산': 1, '대구': 1, 'LA': 1, '파리': 1}\n"
     ]
    }
   ],
   "source": [
    "# 연습문제2 데이터가 정해지지 않은 상태에서\n",
    "locations = ['서울', '서울', '대전', '부산', '대구','LA', '파리']\n",
    "result = {}\n",
    "\n",
    "for location in locations:\n",
    "    if result.get(location):\n",
    "        result[location] += 1\n",
    "    else:\n",
    "        result[location] = 1\n",
    "\n",
    "print(result)"
   ]
  },
  {
   "cell_type": "markdown",
   "id": "04b076c2-77b0-4a9d-a851-ee68409716e7",
   "metadata": {},
   "source": [
    "### 5.1. dict comprehension"
   ]
  },
  {
   "cell_type": "code",
   "execution_count": 95,
   "id": "bc07f58b-0b33-4073-90cc-93284663d07a",
   "metadata": {},
   "outputs": [
    {
     "name": "stdout",
     "output_type": "stream",
     "text": [
      "{1: 1, 2: 8, 3: 27, 4: 64, 5: 125, 6: 216, 7: 343, 8: 512, 9: 729, 10: 1000}\n"
     ]
    }
   ],
   "source": [
    "result = {}\n",
    "numbers = range(1, 11)\n",
    "\n",
    "for number in numbers:\n",
    "    result[number] = number ** 3\n",
    "\n",
    "print(result)"
   ]
  },
  {
   "cell_type": "code",
   "execution_count": 96,
   "id": "da669182-c08f-4f8a-b652-e63f9329a83a",
   "metadata": {},
   "outputs": [
    {
     "name": "stdout",
     "output_type": "stream",
     "text": [
      "{1: 1, 2: 8, 3: 27, 4: 64, 5: 125, 6: 216, 7: 343, 8: 512, 9: 729, 10: 1000}\n"
     ]
    }
   ],
   "source": [
    "result = {number: number ** 3 for number in range(1, 11)}\n",
    "print(result)"
   ]
  },
  {
   "cell_type": "code",
   "execution_count": 97,
   "id": "0e8e79c3-c7d3-4657-8e61-cb3c71c26579",
   "metadata": {},
   "outputs": [
    {
     "name": "stdout",
     "output_type": "stream",
     "text": [
      "{'수원': 30, '부산': 0}\n"
     ]
    }
   ],
   "source": [
    "dust = {\n",
    "    '서울': 40,\n",
    "    '인천': 100,\n",
    "    '수원': 30,\n",
    "    '부산': 0,\n",
    "}\n",
    "result = {}\n",
    "\n",
    "for key, value in dust.items():\n",
    "    if value <= 30:\n",
    "        result[key] = value\n",
    "\n",
    "print(result)"
   ]
  },
  {
   "cell_type": "code",
   "execution_count": 99,
   "id": "94fb8afa-3b76-4b64-92c3-003ab7821239",
   "metadata": {},
   "outputs": [
    {
     "name": "stdout",
     "output_type": "stream",
     "text": [
      "{'수원': '매우 좋음', '부산': '매우 좋음'}\n"
     ]
    }
   ],
   "source": [
    "result = {key: '매우 좋음' for key, value in dust.items() if value <= 30}\n",
    "print(result)"
   ]
  },
  {
   "cell_type": "markdown",
   "id": "15faf449-19ac-4d2a-820d-1386c3b9f7ba",
   "metadata": {},
   "source": [
    "## 6. Set 메소드"
   ]
  },
  {
   "cell_type": "code",
   "execution_count": 105,
   "id": "33a5501a-387b-4c9c-8c91-70534d91660a",
   "metadata": {},
   "outputs": [],
   "source": [
    "fruits  = {'apple', 'banana', 'melon'}"
   ]
  },
  {
   "cell_type": "code",
   "execution_count": 106,
   "id": "7fdb2f14-74b6-4863-9572-64d7dd7ac5f6",
   "metadata": {},
   "outputs": [
    {
     "name": "stdout",
     "output_type": "stream",
     "text": [
      "{'banana', 'apple', 'watermelon', 'melon'}\n"
     ]
    }
   ],
   "source": [
    "fruits.add('watermelon')\n",
    "print(fruits)"
   ]
  },
  {
   "cell_type": "code",
   "execution_count": 107,
   "id": "4c7b9d90-2e20-4db5-acc8-95d88d74c2a3",
   "metadata": {},
   "outputs": [
    {
     "name": "stdout",
     "output_type": "stream",
     "text": [
      "{'banana', 'orange', 'watermelon', 'grape', 'apple', 'melon'}\n"
     ]
    }
   ],
   "source": [
    "fruits.update({'orange', 'grape'})\n",
    "print(fruits)"
   ]
  },
  {
   "cell_type": "code",
   "execution_count": 108,
   "id": "dd78b5c8-f4f0-4093-917c-97c6403a1fe3",
   "metadata": {},
   "outputs": [
    {
     "name": "stdout",
     "output_type": "stream",
     "text": [
      "{'banana', 'orange', 'watermelon', 'grape', 'melon'}\n"
     ]
    }
   ],
   "source": [
    "fruits.remove('apple')\n",
    "print(fruits)"
   ]
  },
  {
   "cell_type": "code",
   "execution_count": 109,
   "id": "48501759-3e99-4c12-a1e5-47d7cf68e54d",
   "metadata": {},
   "outputs": [
    {
     "name": "stdout",
     "output_type": "stream",
     "text": [
      "{'orange', 'watermelon', 'grape', 'melon'}\n"
     ]
    }
   ],
   "source": [
    "fruits.pop() # 랜덤하게 지워줌\n",
    "print(fruits)"
   ]
  },
  {
   "cell_type": "markdown",
   "id": "b3a1bddd-a3f8-4b70-b41a-7cde2144b47a",
   "metadata": {},
   "source": [
    "## 7. map, filter, zip"
   ]
  },
  {
   "cell_type": "markdown",
   "id": "f019daca-b920-4604-b59f-f451ceaa5f28",
   "metadata": {},
   "source": [
    "- *공통점: lazy한 계산을 함*"
   ]
  },
  {
   "cell_type": "markdown",
   "id": "eb506338-d1f6-4100-afd7-825b489807e8",
   "metadata": {},
   "source": [
    "### 7.1. map"
   ]
  },
  {
   "cell_type": "markdown",
   "id": "ad15fb50-60a0-4b9d-ad12-289a21bbd53d",
   "metadata": {},
   "source": [
    "- `map(function, iterable)`\n",
    "    - iterable: 시퀀스 타입 *(반복 가능한 객체)*\n",
    "- *list 안 모든 데이터의 일괄 처리*"
   ]
  },
  {
   "cell_type": "code",
   "execution_count": 111,
   "id": "86a8a6cd-03f1-47d6-bc35-138bfbc50356",
   "metadata": {},
   "outputs": [
    {
     "name": "stdout",
     "output_type": "stream",
     "text": [
      "['1', '2', '3', '4', '5']\n"
     ]
    }
   ],
   "source": [
    "numbers = [1, 2, 3, 4, 5]\n",
    "\n",
    "result = []\n",
    "for number in numbers:\n",
    "    result.append(str(number))\n",
    "print(result)"
   ]
  },
  {
   "cell_type": "code",
   "execution_count": 112,
   "id": "de1329d6-f8a9-478a-93ee-0ee549153f7f",
   "metadata": {},
   "outputs": [
    {
     "name": "stdout",
     "output_type": "stream",
     "text": [
      "<map object at 0x0000021A33E04EB0>\n",
      "['1', '2', '3', '4', '5']\n"
     ]
    }
   ],
   "source": [
    "result = map(str, numbers)\n",
    "print(result)\n",
    "print(list(result))"
   ]
  },
  {
   "cell_type": "code",
   "execution_count": 113,
   "id": "7fbff044-9e05-44cd-b8ef-6f53881bd7d9",
   "metadata": {},
   "outputs": [
    {
     "name": "stdout",
     "output_type": "stream",
     "text": [
      "['1', '2', '3', '4', '5']\n"
     ]
    }
   ],
   "source": [
    "result = list(map(str, numbers))\n",
    "print(result)"
   ]
  },
  {
   "cell_type": "code",
   "execution_count": 114,
   "id": "be1abc84-6f0f-4d34-a2c2-417eecec93f1",
   "metadata": {},
   "outputs": [
    {
     "name": "stdout",
     "output_type": "stream",
     "text": [
      "[1, 8, 27, 64, 125]\n"
     ]
    }
   ],
   "source": [
    "numbers = [1, 2, 3, 4, 5]\n",
    "\n",
    "result = []\n",
    "for number in numbers:\n",
    "    result.append(number ** 3)\n",
    "\n",
    "print(result)"
   ]
  },
  {
   "cell_type": "code",
   "execution_count": 115,
   "id": "224b7aa3-e64a-4365-b290-5458988e353b",
   "metadata": {},
   "outputs": [
    {
     "name": "stdout",
     "output_type": "stream",
     "text": [
      "<map object at 0x0000021A35410E80>\n",
      "[1, 8, 27, 64, 125]\n"
     ]
    }
   ],
   "source": [
    "def cube(x):\n",
    "    return x ** 3\n",
    "\n",
    "result = map(cube, numbers)\n",
    "print(result)\n",
    "print(list(result))"
   ]
  },
  {
   "cell_type": "code",
   "execution_count": 116,
   "id": "ebf3109f-58b1-4b08-9f2a-54417c54ec0a",
   "metadata": {},
   "outputs": [
    {
     "name": "stdout",
     "output_type": "stream",
     "text": [
      "[1, 3, 5, 7, 9]\n"
     ]
    }
   ],
   "source": [
    "test_input = '1 3 5 7 9'\n",
    "\n",
    "# 1. 띄어쓰기 기준으로 나눔\n",
    "test_input.split()\n",
    "\n",
    "# 2. 각 글자를 숫자로 바꿈\n",
    "map(int, test_input.split())\n",
    "\n",
    "# 3. 리스트에 저장\n",
    "result = list(map(int, test_input.split()))\n",
    "\n",
    "print(result)"
   ]
  },
  {
   "cell_type": "markdown",
   "id": "63c80009-1083-4383-9cf6-e9c65a03ebdc",
   "metadata": {},
   "source": [
    "### 7.2. filter"
   ]
  },
  {
   "cell_type": "markdown",
   "id": "92866aae-6136-452a-87f3-12135dcf76a8",
   "metadata": {},
   "source": [
    "- `filter(function, iterable)`\n",
    "- *True만 골라내기 때문에 T or F만 나오는 함수를 써야함*"
   ]
  },
  {
   "cell_type": "code",
   "execution_count": 117,
   "id": "a8a88a14-107f-4f4f-8938-2683108cd5f0",
   "metadata": {},
   "outputs": [
    {
     "name": "stdout",
     "output_type": "stream",
     "text": [
      "[1, 3, 5]\n"
     ]
    }
   ],
   "source": [
    "numbers = [1, 2, 3, 4, 5, 6]\n",
    "\n",
    "result = []\n",
    "for number in numbers:\n",
    "    if number % 2 == 1:\n",
    "        result.append(number)\n",
    "\n",
    "print(result)"
   ]
  },
  {
   "cell_type": "code",
   "execution_count": 118,
   "id": "738f60f8-c736-4df7-b7d6-ad7f73832d89",
   "metadata": {},
   "outputs": [
    {
     "name": "stdout",
     "output_type": "stream",
     "text": [
      "<filter object at 0x0000021A35411180>\n",
      "[1, 3, 5]\n"
     ]
    }
   ],
   "source": [
    "def is_odd(x):\n",
    "    return x % 2\n",
    "\n",
    "result = filter(is_odd, numbers)\n",
    "print(result)\n",
    "print(list(result))"
   ]
  },
  {
   "cell_type": "markdown",
   "id": "ba862eb2-43dc-44d6-adea-14b2a2e3eb59",
   "metadata": {},
   "source": [
    "### 7.3. zip"
   ]
  },
  {
   "cell_type": "code",
   "execution_count": 120,
   "id": "06d6b64b-2d50-4a34-bb44-b64f1b2d3973",
   "metadata": {},
   "outputs": [
    {
     "name": "stdout",
     "output_type": "stream",
     "text": [
      "<zip object at 0x0000021A3590D900>\n",
      "[(1, 100), (2, 200), (3, 300)]\n"
     ]
    }
   ],
   "source": [
    "a = [1, 2, 3]\n",
    "b = [100, 200, 300, 400]\n",
    "\n",
    "result = zip(a, b)\n",
    "print(result)\n",
    "print(list(result))"
   ]
  },
  {
   "cell_type": "markdown",
   "id": "479be024-06f5-4b40-b052-05050518003a",
   "metadata": {},
   "source": [
    "# 05. module"
   ]
  },
  {
   "cell_type": "markdown",
   "id": "74347e50-f2f2-4009-958f-c677531b5a82",
   "metadata": {},
   "source": [
    "## 1. 모듈"
   ]
  },
  {
   "cell_type": "code",
   "execution_count": 121,
   "id": "d8d5de8e-4603-4bfd-848d-21ca0318cb85",
   "metadata": {},
   "outputs": [
    {
     "ename": "ModuleNotFoundError",
     "evalue": "No module named 'fact'",
     "output_type": "error",
     "traceback": [
      "\u001b[1;31m---------------------------------------------------------------------------\u001b[0m",
      "\u001b[1;31mModuleNotFoundError\u001b[0m                       Traceback (most recent call last)",
      "Cell \u001b[1;32mIn[121], line 1\u001b[0m\n\u001b[1;32m----> 1\u001b[0m \u001b[38;5;28;01mimport\u001b[39;00m\u001b[38;5;250m \u001b[39m\u001b[38;5;21;01mfact\u001b[39;00m\n",
      "\u001b[1;31mModuleNotFoundError\u001b[0m: No module named 'fact'"
     ]
    }
   ],
   "source": [
    "import fact"
   ]
  },
  {
   "cell_type": "code",
   "execution_count": null,
   "id": "d41d7288-3294-48d5-959a-5ddb79836580",
   "metadata": {},
   "outputs": [],
   "source": []
  },
  {
   "cell_type": "code",
   "execution_count": null,
   "id": "1fa1fb04-90dd-4f1d-9e6d-cc6daa5837e1",
   "metadata": {},
   "outputs": [],
   "source": []
  },
  {
   "cell_type": "code",
   "execution_count": null,
   "id": "2228e065-9e92-4cfa-8a0f-5f2933c1abb3",
   "metadata": {},
   "outputs": [],
   "source": []
  },
  {
   "cell_type": "code",
   "execution_count": null,
   "id": "a2e9c320-41e0-4fd6-98b4-ed446696b04d",
   "metadata": {},
   "outputs": [],
   "source": []
  },
  {
   "cell_type": "code",
   "execution_count": null,
   "id": "a373ae34-df93-441b-8794-7ac69b2619c4",
   "metadata": {},
   "outputs": [],
   "source": []
  },
  {
   "cell_type": "code",
   "execution_count": null,
   "id": "ec17b3b4-1086-431b-9c59-ba2478aa68a3",
   "metadata": {},
   "outputs": [],
   "source": []
  },
  {
   "cell_type": "code",
   "execution_count": null,
   "id": "1228bf42-c83e-47a6-ae8d-7618ed1c2f33",
   "metadata": {},
   "outputs": [],
   "source": []
  },
  {
   "cell_type": "code",
   "execution_count": null,
   "id": "dab8c8dc-ecbd-4022-bbfe-479bba97839f",
   "metadata": {},
   "outputs": [],
   "source": []
  },
  {
   "cell_type": "code",
   "execution_count": null,
   "id": "2234110e-705d-4d96-b847-3ebd5c7d90e1",
   "metadata": {},
   "outputs": [],
   "source": []
  },
  {
   "cell_type": "code",
   "execution_count": null,
   "id": "82257c32-2edd-4ccb-a3f1-df06ed5d038c",
   "metadata": {},
   "outputs": [],
   "source": []
  },
  {
   "cell_type": "code",
   "execution_count": null,
   "id": "95ffbf3a-c0a6-424b-9cb1-411ef1866c86",
   "metadata": {},
   "outputs": [],
   "source": []
  },
  {
   "cell_type": "code",
   "execution_count": null,
   "id": "8d418590-7672-4465-8e84-613c86cf72db",
   "metadata": {},
   "outputs": [],
   "source": []
  },
  {
   "cell_type": "code",
   "execution_count": null,
   "id": "c05f1b70-8b25-4674-95ec-e7a9cd028508",
   "metadata": {},
   "outputs": [],
   "source": []
  },
  {
   "cell_type": "code",
   "execution_count": null,
   "id": "ca549494-33e5-41c1-bf2d-cc2a4e7ee480",
   "metadata": {},
   "outputs": [],
   "source": []
  },
  {
   "cell_type": "code",
   "execution_count": null,
   "id": "d33dc8d0-8536-47d9-bb5c-2ade5b139de9",
   "metadata": {},
   "outputs": [],
   "source": []
  },
  {
   "cell_type": "code",
   "execution_count": null,
   "id": "09fca6ff-4062-4d22-a380-b5296fa446b3",
   "metadata": {},
   "outputs": [],
   "source": []
  },
  {
   "cell_type": "code",
   "execution_count": null,
   "id": "feb06201-3d1e-4b24-bfbb-19f26aa4f201",
   "metadata": {},
   "outputs": [],
   "source": []
  },
  {
   "cell_type": "code",
   "execution_count": null,
   "id": "5757a95b-f0dc-42d0-951b-e0442ca53e39",
   "metadata": {},
   "outputs": [],
   "source": []
  },
  {
   "cell_type": "code",
   "execution_count": null,
   "id": "0e06e5f1-c344-45b1-bf6a-e174289afcfa",
   "metadata": {},
   "outputs": [],
   "source": []
  },
  {
   "cell_type": "code",
   "execution_count": null,
   "id": "293827ef-c01c-4a6e-9614-7fed9c91f6a7",
   "metadata": {},
   "outputs": [],
   "source": []
  },
  {
   "cell_type": "code",
   "execution_count": null,
   "id": "cf8df506-6015-409e-b22e-8ce25130be38",
   "metadata": {},
   "outputs": [],
   "source": []
  },
  {
   "cell_type": "code",
   "execution_count": null,
   "id": "18880783-b5dd-4310-a900-e3cca72ddaf3",
   "metadata": {},
   "outputs": [],
   "source": []
  },
  {
   "cell_type": "code",
   "execution_count": null,
   "id": "89744a7a-6154-483a-b8ea-5ff56e3770fa",
   "metadata": {},
   "outputs": [],
   "source": []
  },
  {
   "cell_type": "code",
   "execution_count": null,
   "id": "95cb0c13-2159-44c0-bd17-a48c88cad761",
   "metadata": {},
   "outputs": [],
   "source": []
  },
  {
   "cell_type": "code",
   "execution_count": null,
   "id": "c78fad61-4701-47c9-9941-ffa9b76db4c9",
   "metadata": {},
   "outputs": [],
   "source": []
  },
  {
   "cell_type": "code",
   "execution_count": null,
   "id": "d4975e44-be00-4fcb-990c-a6b8745b46f5",
   "metadata": {},
   "outputs": [],
   "source": []
  }
 ],
 "metadata": {
  "kernelspec": {
   "display_name": "Python 3 (ipykernel)",
   "language": "python",
   "name": "python3"
  },
  "language_info": {
   "codemirror_mode": {
    "name": "ipython",
    "version": 3
   },
   "file_extension": ".py",
   "mimetype": "text/x-python",
   "name": "python",
   "nbconvert_exporter": "python",
   "pygments_lexer": "ipython3",
   "version": "3.13.2"
  }
 },
 "nbformat": 4,
 "nbformat_minor": 5
}
