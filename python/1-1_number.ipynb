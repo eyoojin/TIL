{
 "cells": [
  {
   "cell_type": "markdown",
   "id": "cfa71085-c053-4949-a0fe-44e5e8c2c8eb",
   "metadata": {},
   "source": [
    "### number"
   ]
  },
  {
   "cell_type": "code",
   "execution_count": 1,
   "id": "29011053-9df4-420e-b820-c1bb7f609e12",
   "metadata": {},
   "outputs": [
    {
     "data": {
      "text/plain": [
       "int"
      ]
     },
     "execution_count": 1,
     "metadata": {},
     "output_type": "execute_result"
    }
   ],
   "source": [
    "a = 100\n",
    "type(a) # integer: 정수"
   ]
  },
  {
   "cell_type": "code",
   "execution_count": 2,
   "id": "bd82a27f-f2f7-4efa-ac50-c9840905d58d",
   "metadata": {},
   "outputs": [
    {
     "data": {
      "text/plain": [
       "float"
      ]
     },
     "execution_count": 2,
     "metadata": {},
     "output_type": "execute_result"
    }
   ],
   "source": [
    "b = 1.1\n",
    "type(b) # float: 실수"
   ]
  },
  {
   "cell_type": "code",
   "execution_count": 3,
   "id": "41b1ac77-2b86-4b45-91df-b91625599eeb",
   "metadata": {},
   "outputs": [
    {
     "data": {
      "text/plain": [
       "complex"
      ]
     },
     "execution_count": 3,
     "metadata": {},
     "output_type": "execute_result"
    }
   ],
   "source": [
    "c = 1 + 1j\n",
    "type(c) # complex: 복소수"
   ]
  }
 ],
 "metadata": {
  "kernelspec": {
   "display_name": "Python 3 (ipykernel)",
   "language": "python",
   "name": "python3"
  },
  "language_info": {
   "codemirror_mode": {
    "name": "ipython",
    "version": 3
   },
   "file_extension": ".py",
   "mimetype": "text/x-python",
   "name": "python",
   "nbconvert_exporter": "python",
   "pygments_lexer": "ipython3",
   "version": "3.13.2"
  }
 },
 "nbformat": 4,
 "nbformat_minor": 5
}
