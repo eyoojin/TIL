{
 "cells": [
  {
   "cell_type": "markdown",
   "id": "229dd9ac-e7ef-441d-bead-38cfa2cad902",
   "metadata": {},
   "source": [
    "## 복합연산자"
   ]
  },
  {
   "cell_type": "code",
   "execution_count": 1,
   "id": "38eef21c-c5b0-4bb6-b293-843dd4f41fe2",
   "metadata": {},
   "outputs": [],
   "source": [
    "a = 2\n",
    "b = 3"
   ]
  },
  {
   "cell_type": "code",
   "execution_count": 2,
   "id": "11e174ab-3dbe-4ab3-b3df-96ad09a7c905",
   "metadata": {},
   "outputs": [],
   "source": [
    "a = a + b # 오른쪽의 값을 왼쪽에 할당\n",
    "a += b"
   ]
  },
  {
   "cell_type": "code",
   "execution_count": 3,
   "id": "30a63b5c-7cb4-40d4-afad-b88123ac16ac",
   "metadata": {},
   "outputs": [],
   "source": [
    "a = a - b\n",
    "a -= b"
   ]
  },
  {
   "cell_type": "code",
   "execution_count": 4,
   "id": "6dbe93e8-3820-4ef4-bdcf-568dd9349f37",
   "metadata": {},
   "outputs": [],
   "source": [
    "a = a * b\n",
    "a *= b"
   ]
  },
  {
   "cell_type": "code",
   "execution_count": 5,
   "id": "f964fb8f-6cc7-4a7c-a1c0-ffc620229427",
   "metadata": {},
   "outputs": [],
   "source": [
    "a = a / b\n",
    "a /= b"
   ]
  },
  {
   "cell_type": "code",
   "execution_count": 6,
   "id": "33473ff9-192d-4c74-8d5d-58935b18b842",
   "metadata": {},
   "outputs": [],
   "source": [
    "a = a ** b\n",
    "a **= b"
   ]
  },
  {
   "cell_type": "code",
   "execution_count": 7,
   "id": "81e9a5ca-a37b-4fb9-bd19-6b08957d85c1",
   "metadata": {},
   "outputs": [],
   "source": [
    "a = a // b\n",
    "a //= b"
   ]
  },
  {
   "cell_type": "code",
   "execution_count": 8,
   "id": "0873e7c2-0c9f-4e1b-879c-f07ab482d561",
   "metadata": {},
   "outputs": [],
   "source": [
    "a = a % b\n",
    "a %= b"
   ]
  }
 ],
 "metadata": {
  "kernelspec": {
   "display_name": "Python 3 (ipykernel)",
   "language": "python",
   "name": "python3"
  },
  "language_info": {
   "codemirror_mode": {
    "name": "ipython",
    "version": 3
   },
   "file_extension": ".py",
   "mimetype": "text/x-python",
   "name": "python",
   "nbconvert_exporter": "python",
   "pygments_lexer": "ipython3",
   "version": "3.13.2"
  }
 },
 "nbformat": 4,
 "nbformat_minor": 5
}
