{
 "cells": [
  {
   "cell_type": "markdown",
   "id": "0efd03b4-3883-4349-80dd-4e6754e4e92c",
   "metadata": {},
   "source": [
    "## 함수의 인수"
   ]
  },
  {
   "cell_type": "code",
   "execution_count": 1,
   "id": "7115b3e8-ef4a-4223-982e-81ffb05a5598",
   "metadata": {},
   "outputs": [],
   "source": [
    "def my_func(pamrams1, params2='temp', *numbers, **kwargs):\n",
    "    return 0"
   ]
  },
  {
   "cell_type": "code",
   "execution_count": 3,
   "id": "dc9c449b-d192-4c22-9945-bc0625b2fa16",
   "metadata": {},
   "outputs": [
    {
     "data": {
      "text/plain": [
       "0"
      ]
     },
     "execution_count": 3,
     "metadata": {},
     "output_type": "execute_result"
    }
   ],
   "source": [
    "my_func(123) # parmas1=123, parmas2='temp'\n",
    "my_func(123, 456) # parmas1=123, parmas2=456\n",
    "my_func(123, 456, 678, 789) # parmas1=123, parmas2=456, numbers=(678, 789)\n",
    "my_func(123, 456, 678, 789, a=1, b=2, c=3) # kwargs={a: 1, b: 2, c: 3}"
   ]
  }
 ],
 "metadata": {
  "kernelspec": {
   "display_name": "Python 3 (ipykernel)",
   "language": "python",
   "name": "python3"
  },
  "language_info": {
   "codemirror_mode": {
    "name": "ipython",
    "version": 3
   },
   "file_extension": ".py",
   "mimetype": "text/x-python",
   "name": "python",
   "nbconvert_exporter": "python",
   "pygments_lexer": "ipython3",
   "version": "3.13.2"
  }
 },
 "nbformat": 4,
 "nbformat_minor": 5
}
