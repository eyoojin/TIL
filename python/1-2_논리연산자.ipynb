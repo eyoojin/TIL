{
 "cells": [
  {
   "cell_type": "markdown",
   "id": "481fb64d-fc71-4beb-aebe-4cf109fbc00e",
   "metadata": {},
   "source": [
    "## 논리연산자"
   ]
  },
  {
   "cell_type": "markdown",
   "id": "be2c5ed0-54ae-4efc-bbce-e6db71ad2972",
   "metadata": {},
   "source": [
    "- and: 양쪽 모두 True일 때, True를 반환\n",
    "- or: 양쪽 모두 False일 때, False를 반환\n",
    "    - *둘 중에 하나라도 True라면 True*\n",
    "- not: 상태를 부정"
   ]
  },
  {
   "cell_type": "code",
   "execution_count": 1,
   "id": "4c65def9-cbd5-478e-ad9e-cac4fa428d3f",
   "metadata": {},
   "outputs": [
    {
     "name": "stdout",
     "output_type": "stream",
     "text": [
      "True\n",
      "False\n",
      "False\n",
      "False\n"
     ]
    }
   ],
   "source": [
    "print(True and True)\n",
    "print(True and False)\n",
    "print(False and False)\n",
    "print(False and False)"
   ]
  },
  {
   "cell_type": "code",
   "execution_count": 2,
   "id": "80e8e173-bed8-42cd-99d9-031ce27038ca",
   "metadata": {},
   "outputs": [
    {
     "name": "stdout",
     "output_type": "stream",
     "text": [
      "True\n",
      "True\n",
      "True\n",
      "False\n"
     ]
    }
   ],
   "source": [
    "print(True or True)\n",
    "print(True or False)\n",
    "print(False or True)\n",
    "print(False or False)"
   ]
  },
  {
   "cell_type": "code",
   "execution_count": 3,
   "id": "0a2499df-dcae-4574-8ef2-8aa91bda3c86",
   "metadata": {},
   "outputs": [
    {
     "name": "stdout",
     "output_type": "stream",
     "text": [
      "False\n"
     ]
    }
   ],
   "source": [
    "a = True\n",
    "print(not a)"
   ]
  },
  {
   "cell_type": "markdown",
   "id": "4e94b950-d1f4-492e-a85c-5e79617b34b8",
   "metadata": {},
   "source": [
    "### 단축평가"
   ]
  },
  {
   "cell_type": "code",
   "execution_count": 4,
   "id": "b9d5758d-2f5e-4aaa-bf6e-c99adeed5d06",
   "metadata": {},
   "outputs": [
    {
     "name": "stdout",
     "output_type": "stream",
     "text": [
      "5\n",
      "0\n",
      "0\n",
      "0\n"
     ]
    }
   ],
   "source": [
    "print(3 and 5) # 앞이 True인 경우 '뒤'를 반환\n",
    "print(3 and 0)\n",
    "print(0 and 5) # 앞이 False인 경우 '앞'을 반환\n",
    "print(0 and 0)"
   ]
  },
  {
   "cell_type": "code",
   "execution_count": 5,
   "id": "5b14378c-76c0-4d8f-9e93-8299a212d452",
   "metadata": {},
   "outputs": [
    {
     "name": "stdout",
     "output_type": "stream",
     "text": [
      "3\n",
      "3\n",
      "5\n",
      "0\n"
     ]
    }
   ],
   "source": [
    "print(3 or 5) # 앞이 True인 경우 '앞'을 반환\n",
    "print(3 or 0)\n",
    "print(0 or 5) # 앞이 False인 경우 '뒤'를 반환\n",
    "print(0 or 0)"
   ]
  }
 ],
 "metadata": {
  "kernelspec": {
   "display_name": "Python 3 (ipykernel)",
   "language": "python",
   "name": "python3"
  },
  "language_info": {
   "codemirror_mode": {
    "name": "ipython",
    "version": 3
   },
   "file_extension": ".py",
   "mimetype": "text/x-python",
   "name": "python",
   "nbconvert_exporter": "python",
   "pygments_lexer": "ipython3",
   "version": "3.13.2"
  }
 },
 "nbformat": 4,
 "nbformat_minor": 5
}
