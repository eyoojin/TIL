{
 "cells": [
  {
   "cell_type": "markdown",
   "id": "7d86dfc4-5703-41bb-8105-10b780334cab",
   "metadata": {},
   "source": [
    "# 05. module"
   ]
  },
  {
   "cell_type": "markdown",
   "id": "9abc51cb-fbb3-4692-a01e-76c21534c037",
   "metadata": {},
   "source": [
    "1. 로또 5000원 구매하기\n",
    "    랜덤으로 6개 숫자로 이루어진 5세트의 로또 번호를 생성\n",
    "2. 최신회차 당첨번호 수집\n",
    "3. 등수 확인\n",
    "    최신회차의 당첨번호와 생성된 번호를 비교하여 몇등인지 출력\n",
    "    1, 3, 4, 5, 꽝 우선 작성 후 2등\n",
    "4. 추가 기능 구현\n",
    "    참고링크(https://parkminkyu.github.io/newLotto/lottoWin.html)"
   ]
  },
  {
   "cell_type": "code",
   "execution_count": 1,
   "id": "df87d793-f6a1-4c3a-8f03-7446a91b392f",
   "metadata": {},
   "outputs": [],
   "source": [
    "import random\n",
    "import requests"
   ]
  },
  {
   "cell_type": "code",
   "execution_count": 262,
   "id": "bb21e060-a99f-4405-a3da-e856d9d8ef04",
   "metadata": {},
   "outputs": [
    {
     "name": "stdout",
     "output_type": "stream",
     "text": [
      "{'totSellamnt': 123230590000, 'returnValue': 'success', 'drwNoDate': '2025-03-01', 'firstWinamnt': 1792657969, 'drwtNo6': 42, 'drwtNo4': 24, 'firstPrzwnerCo': 16, 'drwtNo5': 34, 'bnusNo': 37, 'firstAccumamnt': 28682527504, 'drwNo': 1161, 'drwtNo2': 12, 'drwtNo3': 20, 'drwtNo1': 2}\n"
     ]
    }
   ],
   "source": [
    "lotto_url = 'https://www.dhlottery.co.kr/common.do'\n",
    "\n",
    "payload = {\n",
    "    'method': 'getLottoNumber',\n",
    "    'drwNo': 1161,\n",
    "}\n",
    "\n",
    "r = requests.get(lotto_url, params=payload)\n",
    "# print(r.url)\n",
    "# print(r.text)\n",
    "print(r.json())"
   ]
  },
  {
   "cell_type": "code",
   "execution_count": 263,
   "id": "63da86df-b4f9-402e-b025-76bad6f6d8d9",
   "metadata": {},
   "outputs": [
    {
     "name": "stdout",
     "output_type": "stream",
     "text": [
      "[2, 12, 20, 24, 34, 42]\n",
      "37\n"
     ]
    }
   ],
   "source": [
    "lotto_dict = r.json()\n",
    "\n",
    "lotto_win = []\n",
    "for i in range(1, 7):\n",
    "    lotto_win.append(lotto_dict[f'drwtNo{i}'])\n",
    "print(lotto_win)\n",
    "\n",
    "bonus_num = lotto_dict['bnusNo']\n",
    "print(bonus_num)"
   ]
  },
  {
   "cell_type": "code",
   "execution_count": 918,
   "id": "8dcce7dc-7e3d-421f-9a6f-edd7488c53a7",
   "metadata": {},
   "outputs": [
    {
     "name": "stdout",
     "output_type": "stream",
     "text": [
      "[2, 6, 10, 18, 26, 44]\n",
      "X\n",
      "[9, 16, 29, 35, 41, 45]\n",
      "X\n",
      "[9, 10, 15, 17, 26, 41]\n",
      "X\n",
      "[9, 12, 13, 22, 24, 41]\n",
      "X\n",
      "[4, 11, 12, 14, 18, 45]\n",
      "X\n"
     ]
    }
   ],
   "source": [
    "for i in range(1, 6):\n",
    "    lotto_random = random.sample(numbers, 6)\n",
    "    lotto_random.sort()\n",
    "    print(lotto_random)\n",
    "\n",
    "    if len(set(lotto_win) & set(lotto_random)) == 6:\n",
    "        print('1st')\n",
    "    elif len(set(lotto_win) & set(lotto_random)) == 5:\n",
    "        if bonus_num in lotto_random:\n",
    "            print('2nd')\n",
    "        else:\n",
    "            print('3rd')\n",
    "    elif len(set(lotto_win) & set(lotto_random)) == 4:\n",
    "        print('4th')\n",
    "    elif len(set(lotto_win) & set(lotto_random)) == 3:\n",
    "        print('5th')\n",
    "    else:\n",
    "        print('X')"
   ]
  },
  {
   "cell_type": "code",
   "execution_count": 845,
   "id": "34def641-9480-41f6-b124-45ea175e54a4",
   "metadata": {},
   "outputs": [
    {
     "name": "stdout",
     "output_type": "stream",
     "text": [
      "[42, 24, 34, 12, 20, 2]\n"
     ]
    }
   ],
   "source": [
    "lucky_numbers = []\n",
    "\n",
    "for k, v in lotto_dict.items():\n",
    "    if 'drwtNo' in k:\n",
    "        lucky_numbers.append(v)\n",
    "print(lucky_numbers)"
   ]
  },
  {
   "cell_type": "code",
   "execution_count": 894,
   "id": "f21a9734-4ade-4bf7-bf3a-daa690c26363",
   "metadata": {},
   "outputs": [
    {
     "name": "stdout",
     "output_type": "stream",
     "text": [
      "{1: [7, 12, 15, 20, 27, 31], 2: [12, 24, 29, 37, 42, 43], 3: [13, 14, 22, 30, 35, 43], 4: [5, 12, 26, 39, 44, 45], 5: [2, 15, 19, 24, 33, 40]}\n"
     ]
    }
   ],
   "source": [
    "my_numbers = {}\n",
    "\n",
    "for i in range(1, 6):\n",
    "    random_numbers = random.sample(range(1, 46), 6)\n",
    "    random_numbers.sort()\n",
    "    my_numbers[i] = random_numbers\n",
    "\n",
    "print(my_numbers)"
   ]
  },
  {
   "cell_type": "code",
   "execution_count": 895,
   "id": "f776c80a-0746-4269-8641-31393551846b",
   "metadata": {},
   "outputs": [
    {
     "name": "stdout",
     "output_type": "stream",
     "text": [
      "X\n",
      "5th\n",
      "X\n",
      "X\n",
      "X\n"
     ]
    }
   ],
   "source": [
    "for my_number in my_numbers.values():\n",
    "    my_number_set = set(my_number)\n",
    "    lucky_number_set = set(lucky_numbers)\n",
    "\n",
    "    match_count = len(my_number_set & lucky_number_set)\n",
    "    \n",
    "    if match_count == 6:\n",
    "        print('1st')\n",
    "    elif match_count == 5 and bonus_number in my_number:\n",
    "        print('2nd')\n",
    "    elif match_count == 5:\n",
    "        print('3rd')\n",
    "    elif match_count == 4:\n",
    "        print('4th')\n",
    "    elif match_count == 3:\n",
    "        print('5th')\n",
    "    else:\n",
    "        print('X')"
   ]
  },
  {
   "cell_type": "code",
   "execution_count": null,
   "id": "a5c5f6ec-6e34-42e2-8360-5738768746b3",
   "metadata": {},
   "outputs": [],
   "source": []
  }
 ],
 "metadata": {
  "kernelspec": {
   "display_name": "Python 3 (ipykernel)",
   "language": "python",
   "name": "python3"
  },
  "language_info": {
   "codemirror_mode": {
    "name": "ipython",
    "version": 3
   },
   "file_extension": ".py",
   "mimetype": "text/x-python",
   "name": "python",
   "nbconvert_exporter": "python",
   "pygments_lexer": "ipython3",
   "version": "3.13.2"
  }
 },
 "nbformat": 4,
 "nbformat_minor": 5
}
