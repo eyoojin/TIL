{
 "cells": [
  {
   "cell_type": "markdown",
   "id": "7d86dfc4-5703-41bb-8105-10b780334cab",
   "metadata": {},
   "source": [
    "# 05. module"
   ]
  },
  {
   "cell_type": "markdown",
   "id": "9abc51cb-fbb3-4692-a01e-76c21534c037",
   "metadata": {},
   "source": [
    "1. 로또 5000원 구매하기\n",
    "    랜덤으로 6개 숫자로 이루어진 5세트의 로또 번호를 생성\n",
    "2. 최신회차 당첨번호 수집\n",
    "3. 등수 확인\n",
    "    최신회차의 당첨번호와 생성된 번호를 비교하여 몇등인지 출력\n",
    "    1, 3, 4, 5, 꽝 우선 작성 후 2등\n",
    "4. 추가 기능 구현\n",
    "    참고링크(https://parkminkyu.github.io/newLotto/lottoWin.html)"
   ]
  },
  {
   "cell_type": "code",
   "execution_count": 1,
   "id": "df87d793-f6a1-4c3a-8f03-7446a91b392f",
   "metadata": {},
   "outputs": [],
   "source": [
    "import random\n",
    "import requests"
   ]
  },
  {
   "cell_type": "code",
   "execution_count": 262,
   "id": "bb21e060-a99f-4405-a3da-e856d9d8ef04",
   "metadata": {},
   "outputs": [
    {
     "name": "stdout",
     "output_type": "stream",
     "text": [
      "{'totSellamnt': 123230590000, 'returnValue': 'success', 'drwNoDate': '2025-03-01', 'firstWinamnt': 1792657969, 'drwtNo6': 42, 'drwtNo4': 24, 'firstPrzwnerCo': 16, 'drwtNo5': 34, 'bnusNo': 37, 'firstAccumamnt': 28682527504, 'drwNo': 1161, 'drwtNo2': 12, 'drwtNo3': 20, 'drwtNo1': 2}\n"
     ]
    }
   ],
   "source": [
    "lotto_url = 'https://www.dhlottery.co.kr/common.do'\n",
    "\n",
    "payload = {\n",
    "    'method': 'getLottoNumber',\n",
    "    'drwNo': 1161,\n",
    "}\n",
    "\n",
    "r = requests.get(lotto_url, params=payload)\n",
    "# print(r.url)\n",
    "# print(r.text)\n",
    "print(r.json())"
   ]
  },
  {
   "cell_type": "code",
   "execution_count": 263,
   "id": "63da86df-b4f9-402e-b025-76bad6f6d8d9",
   "metadata": {},
   "outputs": [
    {
     "name": "stdout",
     "output_type": "stream",
     "text": [
      "[2, 12, 20, 24, 34, 42]\n",
      "37\n"
     ]
    }
   ],
   "source": [
    "lotto_dict = r.json()\n",
    "\n",
    "lotto_win = []\n",
    "for i in range(1, 7):\n",
    "    lotto_win.append(lotto_dict[f'drwtNo{i}'])\n",
    "print(lotto_win)\n",
    "\n",
    "bonus_num = lotto_dict['bnusNo']\n",
    "print(bonus_num)"
   ]
  },
  {
   "cell_type": "code",
   "execution_count": 918,
   "id": "8dcce7dc-7e3d-421f-9a6f-edd7488c53a7",
   "metadata": {},
   "outputs": [
    {
     "name": "stdout",
     "output_type": "stream",
     "text": [
      "[2, 6, 10, 18, 26, 44]\n",
      "X\n",
      "[9, 16, 29, 35, 41, 45]\n",
      "X\n",
      "[9, 10, 15, 17, 26, 41]\n",
      "X\n",
      "[9, 12, 13, 22, 24, 41]\n",
      "X\n",
      "[4, 11, 12, 14, 18, 45]\n",
      "X\n"
     ]
    }
   ],
   "source": [
    "for i in range(1, 6):\n",
    "    lotto_random = random.sample(numbers, 6)\n",
    "    lotto_random.sort()\n",
    "    print(lotto_random)\n",
    "\n",
    "    if len(set(lotto_win) & set(lotto_random)) == 6:\n",
    "        print('1st')\n",
    "    elif len(set(lotto_win) & set(lotto_random)) == 5:\n",
    "        if bonus_num in lotto_random:\n",
    "            print('2nd')\n",
    "        else:\n",
    "            print('3rd')\n",
    "    elif len(set(lotto_win) & set(lotto_random)) == 4:\n",
    "        print('4th')\n",
    "    elif len(set(lotto_win) & set(lotto_random)) == 3:\n",
    "        print('5th')\n",
    "    else:\n",
    "        print('X')"
   ]
  },
  {
   "cell_type": "code",
   "execution_count": 845,
   "id": "34def641-9480-41f6-b124-45ea175e54a4",
   "metadata": {},
   "outputs": [
    {
     "name": "stdout",
     "output_type": "stream",
     "text": [
      "[42, 24, 34, 12, 20, 2]\n"
     ]
    }
   ],
   "source": [
    "lucky_numbers = []\n",
    "\n",
    "for k, v in lotto_dict.items():\n",
    "    if 'drwtNo' in k:\n",
    "        lucky_numbers.append(v)\n",
    "print(lucky_numbers)"
   ]
  },
  {
   "cell_type": "code",
   "execution_count": 894,
   "id": "f21a9734-4ade-4bf7-bf3a-daa690c26363",
   "metadata": {},
   "outputs": [
    {
     "name": "stdout",
     "output_type": "stream",
     "text": [
      "{1: [7, 12, 15, 20, 27, 31], 2: [12, 24, 29, 37, 42, 43], 3: [13, 14, 22, 30, 35, 43], 4: [5, 12, 26, 39, 44, 45], 5: [2, 15, 19, 24, 33, 40]}\n"
     ]
    }
   ],
   "source": [
    "my_numbers = {}\n",
    "\n",
    "for i in range(1, 6):\n",
    "    random_numbers = random.sample(range(1, 46), 6)\n",
    "    random_numbers.sort()\n",
    "    my_numbers[i] = random_numbers\n",
    "\n",
    "print(my_numbers)"
   ]
  },
  {
   "cell_type": "code",
   "execution_count": 895,
   "id": "f776c80a-0746-4269-8641-31393551846b",
   "metadata": {},
   "outputs": [
    {
     "name": "stdout",
     "output_type": "stream",
     "text": [
      "X\n",
      "5th\n",
      "X\n",
      "X\n",
      "X\n"
     ]
    }
   ],
   "source": [
    "for my_number in my_numbers.values():\n",
    "    my_number_set = set(my_number)\n",
    "    lucky_number_set = set(lucky_numbers)\n",
    "\n",
    "    match_count = len(my_number_set & lucky_number_set)\n",
    "    \n",
    "    if match_count == 6:\n",
    "        print('1st')\n",
    "    elif match_count == 5 and bonus_number in my_number:\n",
    "        print('2nd')\n",
    "    elif match_count == 5:\n",
    "        print('3rd')\n",
    "    elif match_count == 4:\n",
    "        print('4th')\n",
    "    elif match_count == 3:\n",
    "        print('5th')\n",
    "    else:\n",
    "        print('X')"
   ]
  },
  {
   "cell_type": "markdown",
   "id": "9a883281-0de1-4e48-a39e-6da72440f518",
   "metadata": {},
   "source": [
    "# 07. OOP"
   ]
  },
  {
   "cell_type": "code",
   "execution_count": 1,
   "id": "4a33b13c-6851-4576-90e9-caf654af16c0",
   "metadata": {},
   "outputs": [
    {
     "name": "stdout",
     "output_type": "stream",
     "text": [
      "Start!\n",
      "꼬부기이(가) 파이리에게 5의 데미지를 입혔다!\n",
      "파이리이(가) 꼬부기에게 5의 데미지를 입혔다!\n",
      "꼬부기 - 체력: 45\n",
      "파이리 - 체력: 45\n",
      "-------\n",
      "꼬부기이(가) 파이리에게 10의 데미지를 입혔다!\n",
      "파이리이(가) 꼬부기에게 15의 데미지를 입혔다!\n",
      "꼬부기 - 체력: 30\n",
      "파이리 - 체력: 35\n",
      "-------\n",
      "꼬부기이(가) 파이리에게 10의 데미지를 입혔다!\n",
      "파이리이(가) 꼬부기에게 10의 데미지를 입혔다!\n",
      "꼬부기 - 체력: 20\n",
      "파이리 - 체력: 25\n",
      "-------\n",
      "꼬부기이(가) 파이리에게 10의 데미지를 입혔다!\n",
      "파이리이(가) 꼬부기에게 15의 데미지를 입혔다!\n",
      "꼬부기 - 체력: 5\n",
      "파이리 - 체력: 15\n",
      "-------\n",
      "꼬부기이(가) 파이리에게 5의 데미지를 입혔다!\n",
      "파이리이(가) 꼬부기에게 5의 데미지를 입혔다!\n",
      "꼬부기이(가) 쓰러졌다! 파이리 승리!\n"
     ]
    }
   ],
   "source": [
    "# 포켓몬 게임\n",
    "\n",
    "import random\n",
    "\n",
    "class Pokemon:\n",
    "    def __init__(self, name, level=5):\n",
    "        self.name = name\n",
    "        self.level = level\n",
    "        self.hp = level * 10\n",
    "\n",
    "    def attack(self, opponent):\n",
    "        damage = self.level * random.randint(1, 3)\n",
    "        print(f'{self.name}이(가) {opponent.name}에게 {damage}의 데미지를 입혔다!')\n",
    "        opponent.hp -= damage\n",
    "\n",
    "    def is_knocked_out(self):\n",
    "        return self.hp <= 0\n",
    "\n",
    "    def status(self):\n",
    "        print(f'{self.name} - 체력: {self.hp}')\n",
    "\n",
    "kobugi = Pokemon('꼬부기')\n",
    "pairi = Pokemon('파이리')\n",
    "\n",
    "print('Start!')\n",
    "while True:\n",
    "    kobugi.attack(pairi)\n",
    "    if pairi.is_knocked_out():\n",
    "        print(f'{pairi.name}이(가) 쓰러졌다! {kobugi.name} 승리!')\n",
    "        break\n",
    "\n",
    "    pairi.attack(kobugi)\n",
    "    if kobugi.is_knocked_out():\n",
    "        print(f'{kobugi.name}이(가) 쓰러졌다! {pairi.name} 승리!')\n",
    "        break\n",
    "\n",
    "    kobugi.status()\n",
    "    pairi.status()\n",
    "    print('-------')"
   ]
  },
  {
   "cell_type": "code",
   "execution_count": 9,
   "id": "369c886a-13cc-4802-9673-024dc5e208c4",
   "metadata": {},
   "outputs": [
    {
     "name": "stdin",
     "output_type": "stream",
     "text": [
      " 가위\n"
     ]
    },
    {
     "name": "stdout",
     "output_type": "stream",
     "text": [
      "성민이(가) 바위를 냈다!\n",
      "성민이(가) 이겼습니다.\n",
      "--------\n"
     ]
    },
    {
     "name": "stdin",
     "output_type": "stream",
     "text": [
      " 가위\n"
     ]
    },
    {
     "name": "stdout",
     "output_type": "stream",
     "text": [
      "성민이(가) 바위를 냈다!\n",
      "성민이(가) 이겼습니다.\n",
      "--------\n"
     ]
    },
    {
     "name": "stdin",
     "output_type": "stream",
     "text": [
      " 가위\n"
     ]
    },
    {
     "name": "stdout",
     "output_type": "stream",
     "text": [
      "성민이(가) 가위를 냈다!\n",
      "비겼습니다.\n",
      "--------\n"
     ]
    },
    {
     "name": "stdin",
     "output_type": "stream",
     "text": [
      " 가위\n"
     ]
    },
    {
     "name": "stdout",
     "output_type": "stream",
     "text": [
      "성민이(가) 가위를 냈다!\n",
      "비겼습니다.\n",
      "--------\n"
     ]
    },
    {
     "name": "stdin",
     "output_type": "stream",
     "text": [
      " 가위\n"
     ]
    },
    {
     "name": "stdout",
     "output_type": "stream",
     "text": [
      "성민이(가) 바위를 냈다!\n",
      "성민이(가) 이겼습니다.\n",
      "성민의 최종 승리!\n"
     ]
    }
   ],
   "source": [
    "import random\n",
    "\n",
    "class Person():\n",
    "\n",
    "    def __init__(self, name, hp=3):\n",
    "        self.name = name\n",
    "        self.hp = hp\n",
    "\n",
    "    def rsp(self):\n",
    "        my_rsp = random.choice(['가위', '바위', '보'])\n",
    "        print(f'{self.name}이(가) {my_rsp}를 냈다!')\n",
    "        return my_rsp\n",
    "\n",
    "    def match(self, opponent):\n",
    "        m = input()\n",
    "        o = opponent.rsp()\n",
    "        m_win = 0\n",
    "        o_win = 0\n",
    "\n",
    "        if m == o:\n",
    "            print('비겼습니다.')   \n",
    "            \n",
    "        if m == '가위' and o == '바위':\n",
    "            print(f'{opponent.name}이(가) 이겼습니다.')\n",
    "            self.hp -= 1        \n",
    "            \n",
    "        if m == '가위' and o == '보':\n",
    "            print(f'{self.name}이(가) 이겼습니다.')\n",
    "            opponent.hp -= 1\n",
    "            \n",
    "        if m == '바위' and o == '보':\n",
    "            print(f'{opponent.name}이(가) 이겼습니다.')\n",
    "            self.hp -= 1\n",
    "            \n",
    "        if m == '바위' and o == '가위':\n",
    "            print(f'{self.name}이(가) 이겼습니다.')\n",
    "            opponent.hp -= 1\n",
    "            \n",
    "        if m == '보' and o == '가위':\n",
    "            print(f'{opponent.name}이(가) 이겼습니다.')\n",
    "            self.hp -= 1\n",
    "            \n",
    "        if m == '보' and o == '바위':\n",
    "            print(f'{self.name}이(가) 이겼습니다.')\n",
    "            opponent.hp -= 1\n",
    "\n",
    "    def finish(self):\n",
    "        return self.hp <= 0\n",
    "\n",
    "cw = Person('찬우')\n",
    "sm = Person('성민')\n",
    "\n",
    "while True:\n",
    "    cw.match(sm)\n",
    "    \n",
    "    if cw.finish():\n",
    "        print(f'{sm.name}의 최종 승리!')\n",
    "        break\n",
    "\n",
    "    if sm.finish():\n",
    "        print(f'{cw.name}의 최종 승리!')\n",
    "        break\n",
    "    print('--------')"
   ]
  },
  {
   "cell_type": "markdown",
   "id": "98794f9a-9507-4805-9dea-b966df835ff2",
   "metadata": {},
   "source": [
    "# 08. movie data"
   ]
  },
  {
   "cell_type": "markdown",
   "id": "7adee5bd-e9d6-45e9-b615-e90ea35ab08e",
   "metadata": {},
   "source": [
    "## 영화진흥위원회 데이터 수집"
   ]
  },
  {
   "cell_type": "markdown",
   "id": "5d46f0bd-6c73-4645-b3fc-f0fdbdce3bcc",
   "metadata": {},
   "source": [
    "### setting"
   ]
  },
  {
   "cell_type": "code",
   "execution_count": 11,
   "id": "a64c63fe-6d71-4b04-864d-56074192e82d",
   "metadata": {},
   "outputs": [],
   "source": [
    "import requests\n",
    "\n",
    "class URLMaker:\n",
    "    \"\"\"\n",
    "    영화진흥위원회 API URL 생성 클래스\n",
    "    \"\"\"\n",
    "    \n",
    "    url = 'http://www.kobis.or.kr/kobisopenapi/webservice/rest'\n",
    "\n",
    "    def __init__(self, key):\n",
    "        \"\"\"\n",
    "        API key 초기화\n",
    "        \"\"\"\n",
    "        self.key = key\n",
    "\n",
    "    def daily_boxoffice_url(self, targetDt, itemPerPage=10, multiMovieYn='', repNationCd='', wideAreaCd=''):\n",
    "        \"\"\"\n",
    "        일별 박스오피스 URL 생성\n",
    "        \"\"\"\n",
    "        return f'{self.url}/boxoffice/searchDailyBoxOfficeList.json?key={self.key}&targetDt={targetDt}&itemPerPage={itemPerPage}&multiMovieYn={multiMovieYn}&repNationCd={repNationCd}&wideAreaCd={wideAreaCd}'\n",
    "\n",
    "    def weekly_boxoffice_url(self, targetDt, weekGb='0', itemPerPage=10, multiMovieYn='', repNationCd='', wideAreaCd=''):\n",
    "        \"\"\"\n",
    "        주간/주말 박스오피스 URL 생성\n",
    "        weekGb: 0(주간), 1(주말), 2(주중)\n",
    "        \"\"\"\n",
    "        return f'{self.url}/boxoffice/searchWeeklyBoxOfficeList.json?key={self.key}&targetDt={targetDt}&weekGb={weekGb}&itemPerPage={itemPerPage}&multiMovieYn={multiMovieYn}&repNationCd={repNationCd}&wideAreaCd={wideAreaCd}'\n",
    "\n",
    "    def movie_list_url(self, curPage=1, itemPerPage=10, movieNm='', directorNm='', openStartDt='', openEndDt='', \n",
    "                      prdtStartYear='', prdtEndYear='', repNationCd='', movieTypeCd=''):\n",
    "        \"\"\"\n",
    "        영화목록 URL 생성\n",
    "        \"\"\"\n",
    "        return f'{self.url}/movie/searchMovieList.json?key={self.key}&curPage={curPage}&itemPerPage={itemPerPage}&movieNm={movieNm}&directorNm={directorNm}&openStartDt={openStartDt}&openEndDt={openEndDt}&prdtStartYear={prdtStartYear}&prdtEndYear={prdtEndYear}&repNationCd={repNationCd}&movieTypeCd={movieTypeCd}'\n",
    "\n",
    "    def movie_info_url(self, movieCd):\n",
    "        \"\"\"\n",
    "        영화 상세정보 URL 생성\n",
    "        \"\"\"\n",
    "        return f'{self.url}/movie/searchMovieInfo.json?key={self.key}&movieCd={movieCd}'\n",
    "\n",
    "    def people_list_url(self, curPage=1, itemPerPage=10, peopleNm='', filmoNames=''):\n",
    "        \"\"\"\n",
    "        영화인목록 URL 생성\n",
    "        \"\"\"\n",
    "        return f'{self.url}/people/searchPeopleList.json?key={self.key}&curPage={curPage}&itemPerPage={itemPerPage}&peopleNm={peopleNm}&filmoNames={filmoNames}'\n",
    "\n",
    "    def people_info_url(self, peopleCd):\n",
    "        \"\"\"\n",
    "        영화인 상세정보 URL 생성\n",
    "        \"\"\"\n",
    "        return f'{self.url}/people/searchPeopleInfo.json?key={self.key}&peopleCd={peopleCd}'\n"
   ]
  },
  {
   "cell_type": "code",
   "execution_count": 12,
   "id": "383c0115-0ee3-4370-9721-5568c10204c0",
   "metadata": {},
   "outputs": [],
   "source": [
    "MY_API_KEY = 'd56ce424e919ff32ac17d74f244ea605'\n",
    "url_maker = URLMaker(MY_API_KEY)"
   ]
  },
  {
   "cell_type": "code",
   "execution_count": 13,
   "id": "d3aa11b6-6855-4d43-8bc4-64a14af302d7",
   "metadata": {},
   "outputs": [
    {
     "data": {
      "text/plain": [
       "'d56ce424e919ff32ac17d74f244ea605'"
      ]
     },
     "execution_count": 13,
     "metadata": {},
     "output_type": "execute_result"
    }
   ],
   "source": [
    "url_maker.key"
   ]
  },
  {
   "cell_type": "code",
   "execution_count": 43,
   "id": "9c24db48-7b6c-4e48-bb0f-55047ce4956c",
   "metadata": {},
   "outputs": [],
   "source": [
    "def get_movie_detail(movie_cd):\n",
    "    movie_url = url_maker.movie_info_url(movie_cd)\n",
    "    res = requests.get(movie_url)\n",
    "    md = res.json()['movieInfoResult']['movieInfo']\n",
    "    \n",
    "    print(f'{md['movieNm']} ({md['prdtYear']})')\n",
    "    print(f'감독: {md['directors'][0]['peopleNm']}')\n",
    "    print(f'주연: {md['actors'][0]['peopleNm']}, {md['actors'][1]['peopleNm']}')\n",
    "    print(f'장르: {md['genres'][0]['genreNm']}')"
   ]
  },
  {
   "cell_type": "code",
   "execution_count": 44,
   "id": "6ba6d3f2-dc46-43ce-8d83-09f1caaba223",
   "metadata": {},
   "outputs": [
    {
     "name": "stdout",
     "output_type": "stream",
     "text": [
      "쇼생크 탈출 (1994)\n",
      "감독: 프랭크 다라본트\n",
      "주연: 팀 로빈스, 모건 프리먼\n",
      "장르: 드라마\n"
     ]
    }
   ],
   "source": [
    "get_movie_detail('19950084')"
   ]
  },
  {
   "cell_type": "code",
   "execution_count": 57,
   "id": "04373b13-b36c-4e9b-b59f-0c5c86c1a8d6",
   "metadata": {},
   "outputs": [],
   "source": [
    "def get_daily_boxoffice(target_date):\n",
    "    movie_url = url_maker.daily_boxoffice_url(target_date)\n",
    "    res = requests.get(movie_url)\n",
    "    db = res.json()['boxOfficeResult']['dailyBoxOfficeList']\n",
    "    print(f'{target_date} 박스오피스 TOP 10')\n",
    "    for i in range(10):\n",
    "        print(f'{db[i]['rank']}위: {db[i]['movieNm']} ({db[i]['audiCnt']}명)')"
   ]
  },
  {
   "cell_type": "code",
   "execution_count": 58,
   "id": "1996d63a-ab3f-4af7-9133-18de6a64958e",
   "metadata": {},
   "outputs": [
    {
     "name": "stdout",
     "output_type": "stream",
     "text": [
      "20250201 박스오피스 TOP 10\n",
      "1위: 히트맨2 (177129명)\n",
      "2위: 검은 수녀들 (96043명)\n",
      "3위: 말할 수 없는 비밀 (63000명)\n",
      "4위: 하얼빈 (23292명)\n",
      "5위: 서브스턴스 (15031명)\n",
      "6위: 극장판 포켓몬스터 AG: 뮤와 파동의 용사 루카리오 (12342명)\n",
      "7위: 뽀로로 극장판 바닷속 대모험 (5903명)\n",
      "8위: 바다 탐험대 옥토넛 어보브 앤 비욘드 : 극지방 대작전 (4570명)\n",
      "9위: 극장판 짱구는 못말려: 우리들의 공룡일기 (3801명)\n",
      "10위: 아이유 콘서트 : 더 위닝 (3156명)\n"
     ]
    }
   ],
   "source": [
    "get_daily_boxoffice(\"20250201\")"
   ]
  },
  {
   "cell_type": "code",
   "execution_count": 117,
   "id": "c66bbe6d-716d-4953-be86-aa3c4db6a927",
   "metadata": {},
   "outputs": [],
   "source": [
    "def get_movie_details(target_date):\n",
    "    movie_url = url_maker.daily_boxoffice_url(target_date, repNationCd='K')\n",
    "    res = requests.get(movie_url)\n",
    "    dm = res.json()['boxOfficeResult']['dailyBoxOfficeList']\n",
    "    my_dict = {}\n",
    "\n",
    "    for i in range(10):\n",
    "        my_dict[i] = dm[i]['openDt'], [dm[i]['movieNm'], dm[i]['rank']]\n",
    "    s = sorted(my_dict.items(),key=lambda x:x[1])\n",
    "\n",
    "    print(f'{target_date} 한국 영화 박스오피스 (개봉일 순)')\n",
    "\n",
    "    for j in range(10):\n",
    "        print(f'{s[j][1][1][0]} ({s[j][1][0]}) - {s[j][1][1][1]}위')"
   ]
  },
  {
   "cell_type": "code",
   "execution_count": 118,
   "id": "c868d134-b2bd-440e-8716-b37170061e35",
   "metadata": {},
   "outputs": [
    {
     "name": "stdout",
     "output_type": "stream",
     "text": [
      "20250201 한국 영화 박스오피스 (개봉일 순)\n",
      "뜻밖의 순간 : 언익스펙티드 저니 ( ) - 10위\n",
      "마당을 나온 암탉 (2011-07-28) - 9위\n",
      "소방관 (2024-12-04) - 8위\n",
      "하얼빈 (2024-12-24) - 4위\n",
      "뽀로로 극장판 바닷속 대모험 (2025-01-01) - 5위\n",
      "히트맨2 (2025-01-22) - 1위\n",
      "검은 수녀들 (2025-01-24) - 2위\n",
      "귀신경찰 (2025-01-24) - 7위\n",
      "아이유 콘서트 : 더 위닝 (2025-01-24) - 6위\n",
      "말할 수 없는 비밀 (2025-01-27) - 3위\n"
     ]
    }
   ],
   "source": [
    "get_movie_details(\"20250201\")"
   ]
  },
  {
   "cell_type": "code",
   "execution_count": 142,
   "id": "caaca30d-4724-459d-aee4-9a4b63260d10",
   "metadata": {},
   "outputs": [
    {
     "name": "stdout",
     "output_type": "stream",
     "text": [
      "[{'rnum': '1', 'rank': '1', 'rankInten': '0', 'rankOldAndNew': 'OLD', 'movieCd': '20228796', 'movieNm': '하얼빈', 'openDt': '2024-12-24', 'salesAmt': '12257573810', 'salesShare': '43.2', 'salesInten': '-10357204230', 'salesChange': '-45.8', 'salesAcc': '35098771850', 'audiCnt': '1287622', 'audiInten': '-1074841', 'audiChange': '-45.5', 'audiAcc': '3672922', 'scrnCnt': '1847', 'showCnt': '46414'}, {'rnum': '2', 'rank': '2', 'rankInten': '0', 'rankOldAndNew': 'OLD', 'movieCd': '20200142', 'movieNm': '소방관', 'openDt': '2024-12-04', 'salesAmt': '3151980440', 'salesShare': '11.1', 'salesInten': '-2661254850', 'salesChange': '-45.8', 'salesAcc': '33400749550', 'audiCnt': '335394', 'audiInten': '-284434', 'audiChange': '-45.9', 'audiAcc': '3551951', 'scrnCnt': '884', 'showCnt': '15399'}, {'rnum': '3', 'rank': '3', 'rankInten': '24', 'rankOldAndNew': 'OLD', 'movieCd': '20190300', 'movieNm': '보고타: 마지막 기회의 땅', 'openDt': '2024-12-31', 'salesAmt': '2966943560', 'salesShare': '10.4', 'salesInten': '2949303560', 'salesChange': '16719.4', 'salesAcc': '2994301560', 'audiCnt': '320018', 'audiInten': '318310', 'audiChange': '18636.4', 'audiAcc': '322552', 'scrnCnt': '1029', 'showCnt': '17841'}, {'rnum': '4', 'rank': '4', 'rankInten': '8', 'rankOldAndNew': 'OLD', 'movieCd': '20244167', 'movieNm': '수퍼 소닉3', 'openDt': '2025-01-01', 'salesAmt': '1634703490', 'salesShare': '5.8', 'salesInten': '1436003810', 'salesChange': '722.7', 'salesAcc': '1843196170', 'audiCnt': '177477', 'audiInten': '156775', 'audiChange': '757.3', 'audiAcc': '198934', 'scrnCnt': '882', 'showCnt': '7808'}, {'rnum': '5', 'rank': '5', 'rankInten': '4', 'rankOldAndNew': 'OLD', 'movieCd': '20246361', 'movieNm': '뽀로로 극장판 바닷속 대모험', 'openDt': '2025-01-01', 'salesAmt': '1374180160', 'salesShare': '4.8', 'salesInten': '1091729770', 'salesChange': '386.5', 'salesAcc': '1690169550', 'audiCnt': '160502', 'audiInten': '131542', 'audiChange': '454.2', 'audiAcc': '194399', 'scrnCnt': '791', 'showCnt': '6281'}, {'rnum': '6', 'rank': '6', 'rankInten': '-3', 'rankOldAndNew': 'OLD', 'movieCd': '20240193', 'movieNm': '무파사: 라이온 킹', 'openDt': '2024-12-18', 'salesAmt': '1323350200', 'salesShare': '4.7', 'salesInten': '-1704124400', 'salesChange': '-56.3', 'salesAcc': '7480644490', 'audiCnt': '142264', 'audiInten': '-160931', 'audiChange': '-53.1', 'audiAcc': '756979', 'scrnCnt': '779', 'showCnt': '6584'}, {'rnum': '7', 'rank': '7', 'rankInten': '-3', 'rankOldAndNew': 'OLD', 'movieCd': '20240737', 'movieNm': '모아나 2', 'openDt': '2024-11-27', 'salesAmt': '1089761890', 'salesShare': '3.8', 'salesInten': '-1626093350', 'salesChange': '-59.9', 'salesAcc': '31893752010', 'audiCnt': '115826', 'audiInten': '-173791', 'audiChange': '-60.0', 'audiAcc': '3453847', 'scrnCnt': '653', 'showCnt': '5751'}, {'rnum': '8', 'rank': '8', 'rankInten': '-3', 'rankOldAndNew': 'OLD', 'movieCd': '20245977', 'movieNm': '극장판 짱구는 못말려: 우리들의 공룡일기', 'openDt': '2024-12-18', 'salesAmt': '1063317180', 'salesShare': '3.7', 'salesInten': '-1574054390', 'salesChange': '-59.7', 'salesAcc': '6100827520', 'audiCnt': '113529', 'audiInten': '-167328', 'audiChange': '-59.6', 'audiAcc': '647581', 'scrnCnt': '636', 'showCnt': '6161'}, {'rnum': '9', 'rank': '9', 'rankInten': '-3', 'rankOldAndNew': 'OLD', 'movieCd': '20247693', 'movieNm': '위키드', 'openDt': '2024-11-20', 'salesAmt': '880078320', 'salesShare': '3.1', 'salesInten': '-633088620', 'salesChange': '-41.8', 'salesAcc': '20880403630', 'audiCnt': '89480', 'audiInten': '-64179', 'audiChange': '-41.8', 'audiAcc': '2119026', 'scrnCnt': '492', 'showCnt': '3728'}, {'rnum': '10', 'rank': '10', 'rankInten': '0', 'rankOldAndNew': 'NEW', 'movieCd': '20244850', 'movieNm': '시빌 워: 분열의 시대', 'openDt': '2024-12-31', 'salesAmt': '827462230', 'salesShare': '2.9', 'salesInten': '827462230', 'salesChange': '100.0', 'salesAcc': '836845230', 'audiCnt': '79645', 'audiInten': '79645', 'audiChange': '100.0', 'audiAcc': '80373', 'scrnCnt': '662', 'showCnt': '6364'}]\n"
     ]
    }
   ],
   "source": [
    "movie_url = url_maker.weekly_boxoffice_url('20250105')\n",
    "res = requests.get(movie_url)\n",
    "wb = res.json()\n",
    "print(wb['boxOfficeResult']['weeklyBoxOfficeList'])"
   ]
  },
  {
   "cell_type": "code",
   "execution_count": 150,
   "id": "6eedfc44-1e6d-430e-8b3d-2e7fdc66a177",
   "metadata": {},
   "outputs": [],
   "source": [
    "jan = ['20250105', '20250112', '20250119', '20250126']\n",
    "\n",
    "def get_weekly_boxoffice(month):\n",
    "    dic = {}\n",
    "    for i in month:\n",
    "        movie_url = url_maker.weekly_boxoffice_url(i)\n",
    "        res = requests.get(movie_url)\n",
    "        wb = res.json()['boxOfficeResult']['weeklyBoxOfficeList']\n",
    "        for j in range(10):\n",
    "            dic[wb[j]['movieNm']] = {\n",
    "                '영화제목': wb[j]['movieNm'], \n",
    "                '개봉일': wb[j]['openDt'], \n",
    "                '누적관객': wb[j]['audiAcc'], \n",
    "                '누적매출': wb[j]['salesAcc']\n",
    "            }\n",
    "    print(dic)\n"
   ]
  },
  {
   "cell_type": "code",
   "execution_count": 151,
   "id": "b0ed94c8-1a6c-40ad-bb58-1f5256df4954",
   "metadata": {},
   "outputs": [
    {
     "name": "stdout",
     "output_type": "stream",
     "text": [
      "{'하얼빈': {'영화제목': '하얼빈', '개봉일': '2024-12-24', '누적관객': '4642215', '누적매출': '44407362460'}, '소방관': {'영화제목': '소방관', '개봉일': '2024-12-04', '누적관객': '3840551', '누적매출': '36145572270'}, '보고타: 마지막 기회의 땅': {'영화제목': '보고타: 마지막 기회의 땅', '개봉일': '2024-12-31', '누적관객': '396287', '누적매출': '3669720540'}, '수퍼 소닉3': {'영화제목': '수퍼 소닉3', '개봉일': '2025-01-01', '누적관객': '322100', '누적매출': '2950620910'}, '뽀로로 극장판 바닷속 대모험': {'영화제목': '뽀로로 극장판 바닷속 대모험', '개봉일': '2025-01-01', '누적관객': '349597', '누적매출': '2996015770'}, '무파사: 라이온 킹': {'영화제목': '무파사: 라이온 킹', '개봉일': '2024-12-18', '누적관객': '833832', '누적매출': '8188072950'}, '모아나 2': {'영화제목': '모아나 2', '개봉일': '2024-11-27', '누적관객': '3522517', '누적매출': '32533317750'}, '극장판 짱구는 못말려: 우리들의 공룡일기': {'영화제목': '극장판 짱구는 못말려: 우리들의 공룡일기', '개봉일': '2024-12-18', '누적관객': '762895', '누적매출': '7177275100'}, '위키드': {'영화제목': '위키드', '개봉일': '2024-11-20', '누적관객': '2195165', '누적매출': '21677201940'}, '시빌 워: 분열의 시대': {'영화제목': '시빌 워: 분열의 시대', '개봉일': '2024-12-31', '누적관객': '80373', '누적매출': '836845230'}, '동화지만 청불입니다': {'영화제목': '동화지만 청불입니다', '개봉일': '2025-01-08', '누적관객': '157616', '누적매출': '1465916720'}, '서브스턴스': {'영화제목': '서브스턴스', '개봉일': '2024-12-11', '누적관객': '302870', '누적매출': '2954609400'}, '검은 수녀들': {'영화제목': '검은 수녀들', '개봉일': '2025-01-24', '누적관객': '606145', '누적매출': '5870106460'}, '히트맨2': {'영화제목': '히트맨2', '개봉일': '2025-01-22', '누적관객': '604875', '누적매출': '5686993120'}, '극장판 포켓몬스터 AG: 뮤와 파동의 용사 루카리오': {'영화제목': '극장판 포켓몬스터 AG: 뮤와 파동의 용사 루카리오', '개봉일': '2025-01-22', '누적관객': '64585', '누적매출': '570033160'}, '아이유 콘서트 : 더 위닝': {'영화제목': '아이유 콘서트 : 더 위닝', '개봉일': '2025-01-24', '누적관객': '28061', '누적매출': '778067000'}, '귀신경찰': {'영화제목': '귀신경찰', '개봉일': '2025-01-24', '누적관객': '21949', '누적매출': '191035980'}}\n"
     ]
    }
   ],
   "source": [
    "get_weekly_boxoffice(jan)"
   ]
  },
  {
   "cell_type": "code",
   "execution_count": null,
   "id": "3d209b0f-753d-4f67-a04c-d2501d82fc3a",
   "metadata": {},
   "outputs": [],
   "source": []
  }
 ],
 "metadata": {
  "kernelspec": {
   "display_name": "Python 3 (ipykernel)",
   "language": "python",
   "name": "python3"
  },
  "language_info": {
   "codemirror_mode": {
    "name": "ipython",
    "version": 3
   },
   "file_extension": ".py",
   "mimetype": "text/x-python",
   "name": "python",
   "nbconvert_exporter": "python",
   "pygments_lexer": "ipython3",
   "version": "3.13.2"
  }
 },
 "nbformat": 4,
 "nbformat_minor": 5
}
