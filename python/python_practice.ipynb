{
 "cells": [
  {
   "cell_type": "markdown",
   "id": "7d86dfc4-5703-41bb-8105-10b780334cab",
   "metadata": {},
   "source": [
    "# 05. module"
   ]
  },
  {
   "cell_type": "markdown",
   "id": "9abc51cb-fbb3-4692-a01e-76c21534c037",
   "metadata": {},
   "source": [
    "1. 로또 5000원 구매하기\n",
    "    랜덤으로 6개 숫자로 이루어진 5세트의 로또 번호를 생성\n",
    "2. 최신회차 당첨번호 수집\n",
    "3. 등수 확인\n",
    "    최신회차의 당첨번호와 생성된 번호를 비교하여 몇등인지 출력\n",
    "    1, 3, 4, 5, 꽝 우선 작성 후 2등\n",
    "4. 추가 기능 구현\n",
    "    참고링크(https://parkminkyu.github.io/newLotto/lottoWin.html)"
   ]
  }
 ],
 "metadata": {
  "kernelspec": {
   "display_name": "Python 3 (ipykernel)",
   "language": "python",
   "name": "python3"
  },
  "language_info": {
   "codemirror_mode": {
    "name": "ipython",
    "version": 3
   },
   "file_extension": ".py",
   "mimetype": "text/x-python",
   "name": "python",
   "nbconvert_exporter": "python",
   "pygments_lexer": "ipython3",
   "version": "3.13.2"
  }
 },
 "nbformat": 4,
 "nbformat_minor": 5
}
