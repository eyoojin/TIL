{
 "cells": [
  {
   "cell_type": "markdown",
   "id": "7d86dfc4-5703-41bb-8105-10b780334cab",
   "metadata": {},
   "source": [
    "# 05. module"
   ]
  },
  {
   "cell_type": "markdown",
   "id": "9abc51cb-fbb3-4692-a01e-76c21534c037",
   "metadata": {},
   "source": [
    "1. 로또 5000원 구매하기\n",
    "    랜덤으로 6개 숫자로 이루어진 5세트의 로또 번호를 생성\n",
    "2. 최신회차 당첨번호 수집\n",
    "3. 등수 확인\n",
    "    최신회차의 당첨번호와 생성된 번호를 비교하여 몇등인지 출력\n",
    "    1, 3, 4, 5, 꽝 우선 작성 후 2등\n",
    "4. 추가 기능 구현\n",
    "    참고링크(https://parkminkyu.github.io/newLotto/lottoWin.html)"
   ]
  },
  {
   "cell_type": "code",
   "execution_count": 2,
   "id": "df87d793-f6a1-4c3a-8f03-7446a91b392f",
   "metadata": {},
   "outputs": [],
   "source": [
    "import random\n",
    "import requests"
   ]
  },
  {
   "cell_type": "code",
   "execution_count": 3,
   "id": "bb21e060-a99f-4405-a3da-e856d9d8ef04",
   "metadata": {},
   "outputs": [
    {
     "name": "stdout",
     "output_type": "stream",
     "text": [
      "{'totSellamnt': 123230590000, 'returnValue': 'success', 'drwNoDate': '2025-03-01', 'firstWinamnt': 1792657969, 'drwtNo6': 42, 'drwtNo4': 24, 'firstPrzwnerCo': 16, 'drwtNo5': 34, 'bnusNo': 37, 'firstAccumamnt': 28682527504, 'drwNo': 1161, 'drwtNo2': 12, 'drwtNo3': 20, 'drwtNo1': 2}\n"
     ]
    }
   ],
   "source": [
    "lotto_url = 'https://www.dhlottery.co.kr/common.do'\n",
    "\n",
    "payload = {\n",
    "    'method': 'getLottoNumber',\n",
    "    'drwNo': 1161,\n",
    "}\n",
    "\n",
    "r = requests.get(lotto_url, params=payload)\n",
    "# print(r.url)\n",
    "# print(r.text)\n",
    "print(r.json())"
   ]
  },
  {
   "cell_type": "code",
   "execution_count": 4,
   "id": "63da86df-b4f9-402e-b025-76bad6f6d8d9",
   "metadata": {},
   "outputs": [
    {
     "name": "stdout",
     "output_type": "stream",
     "text": [
      "[2, 12, 20, 24, 34, 42]\n",
      "37\n"
     ]
    }
   ],
   "source": [
    "lotto_dict = r.json()\n",
    "\n",
    "lotto_win = []\n",
    "for i in range(1, 7):\n",
    "    lotto_win.append(lotto_dict[f'drwtNo{i}'])\n",
    "print(lotto_win)\n",
    "\n",
    "bonus_num = lotto_dict['bnusNo']\n",
    "print(bonus_num)"
   ]
  },
  {
   "cell_type": "code",
   "execution_count": 6,
   "id": "8dcce7dc-7e3d-421f-9a6f-edd7488c53a7",
   "metadata": {},
   "outputs": [
    {
     "name": "stdout",
     "output_type": "stream",
     "text": [
      "[3, 12, 15, 20, 37, 38]\n",
      "X\n",
      "[9, 19, 21, 24, 29, 30]\n",
      "X\n",
      "[13, 15, 21, 27, 36, 41]\n",
      "X\n",
      "[8, 15, 20, 27, 29, 33]\n",
      "X\n",
      "[3, 6, 8, 30, 34, 42]\n",
      "X\n"
     ]
    }
   ],
   "source": [
    "for i in range(1, 6):\n",
    "    lotto_random = random.sample(range(1, 46), 6)\n",
    "    lotto_random.sort()\n",
    "    print(lotto_random)\n",
    "\n",
    "    if len(set(lotto_win) & set(lotto_random)) == 6:\n",
    "        print('1st')\n",
    "    elif len(set(lotto_win) & set(lotto_random)) == 5:\n",
    "        if bonus_num in lotto_random:\n",
    "            print('2nd')\n",
    "        else:\n",
    "            print('3rd')\n",
    "    elif len(set(lotto_win) & set(lotto_random)) == 4:\n",
    "        print('4th')\n",
    "    elif len(set(lotto_win) & set(lotto_random)) == 3:\n",
    "        print('5th')\n",
    "    else:\n",
    "        print('X')"
   ]
  },
  {
   "cell_type": "code",
   "execution_count": 7,
   "id": "34def641-9480-41f6-b124-45ea175e54a4",
   "metadata": {},
   "outputs": [
    {
     "name": "stdout",
     "output_type": "stream",
     "text": [
      "[42, 24, 34, 12, 20, 2]\n"
     ]
    }
   ],
   "source": [
    "lucky_numbers = []\n",
    "\n",
    "for k, v in lotto_dict.items():\n",
    "    if 'drwtNo' in k:\n",
    "        lucky_numbers.append(v)\n",
    "print(lucky_numbers)"
   ]
  },
  {
   "cell_type": "code",
   "execution_count": 8,
   "id": "f21a9734-4ade-4bf7-bf3a-daa690c26363",
   "metadata": {},
   "outputs": [
    {
     "name": "stdout",
     "output_type": "stream",
     "text": [
      "{1: [3, 8, 12, 18, 23, 43], 2: [12, 19, 22, 26, 34, 35], 3: [2, 6, 7, 11, 39, 41], 4: [1, 2, 12, 21, 28, 36], 5: [1, 5, 11, 29, 32, 41]}\n"
     ]
    }
   ],
   "source": [
    "my_numbers = {}\n",
    "\n",
    "for i in range(1, 6):\n",
    "    random_numbers = random.sample(range(1, 46), 6)\n",
    "    random_numbers.sort()\n",
    "    my_numbers[i] = random_numbers\n",
    "\n",
    "print(my_numbers)"
   ]
  },
  {
   "cell_type": "code",
   "execution_count": 9,
   "id": "f776c80a-0746-4269-8641-31393551846b",
   "metadata": {},
   "outputs": [
    {
     "name": "stdout",
     "output_type": "stream",
     "text": [
      "X\n",
      "X\n",
      "X\n",
      "X\n",
      "X\n"
     ]
    }
   ],
   "source": [
    "for my_number in my_numbers.values():\n",
    "    my_number_set = set(my_number)\n",
    "    lucky_number_set = set(lucky_numbers)\n",
    "\n",
    "    match_count = len(my_number_set & lucky_number_set)\n",
    "    \n",
    "    if match_count == 6:\n",
    "        print('1st')\n",
    "    elif match_count == 5 and bonus_number in my_number:\n",
    "        print('2nd')\n",
    "    elif match_count == 5:\n",
    "        print('3rd')\n",
    "    elif match_count == 4:\n",
    "        print('4th')\n",
    "    elif match_count == 3:\n",
    "        print('5th')\n",
    "    else:\n",
    "        print('X')"
   ]
  },
  {
   "cell_type": "markdown",
   "id": "9a883281-0de1-4e48-a39e-6da72440f518",
   "metadata": {},
   "source": [
    "# 07. OOP"
   ]
  },
  {
   "cell_type": "code",
   "execution_count": 10,
   "id": "4a33b13c-6851-4576-90e9-caf654af16c0",
   "metadata": {},
   "outputs": [
    {
     "name": "stdout",
     "output_type": "stream",
     "text": [
      "Start!\n",
      "꼬부기이(가) 파이리에게 15의 데미지를 입혔다!\n",
      "파이리이(가) 꼬부기에게 15의 데미지를 입혔다!\n",
      "꼬부기 - 체력: 35\n",
      "파이리 - 체력: 35\n",
      "-------\n",
      "꼬부기이(가) 파이리에게 10의 데미지를 입혔다!\n",
      "파이리이(가) 꼬부기에게 15의 데미지를 입혔다!\n",
      "꼬부기 - 체력: 20\n",
      "파이리 - 체력: 25\n",
      "-------\n",
      "꼬부기이(가) 파이리에게 15의 데미지를 입혔다!\n",
      "파이리이(가) 꼬부기에게 15의 데미지를 입혔다!\n",
      "꼬부기 - 체력: 5\n",
      "파이리 - 체력: 10\n",
      "-------\n",
      "꼬부기이(가) 파이리에게 15의 데미지를 입혔다!\n",
      "파이리이(가) 쓰러졌다! 꼬부기 승리!\n"
     ]
    }
   ],
   "source": [
    "# 포켓몬 게임\n",
    "\n",
    "import random\n",
    "\n",
    "class Pokemon:\n",
    "    def __init__(self, name, level=5):\n",
    "        self.name = name\n",
    "        self.level = level\n",
    "        self.hp = level * 10\n",
    "\n",
    "    def attack(self, opponent):\n",
    "        damage = self.level * random.randint(1, 3)\n",
    "        print(f'{self.name}이(가) {opponent.name}에게 {damage}의 데미지를 입혔다!')\n",
    "        opponent.hp -= damage\n",
    "\n",
    "    def is_knocked_out(self):\n",
    "        return self.hp <= 0\n",
    "\n",
    "    def status(self):\n",
    "        print(f'{self.name} - 체력: {self.hp}')\n",
    "\n",
    "kobugi = Pokemon('꼬부기')\n",
    "pairi = Pokemon('파이리')\n",
    "\n",
    "print('Start!')\n",
    "while True:\n",
    "    kobugi.attack(pairi)\n",
    "    if pairi.is_knocked_out():\n",
    "        print(f'{pairi.name}이(가) 쓰러졌다! {kobugi.name} 승리!')\n",
    "        break\n",
    "\n",
    "    pairi.attack(kobugi)\n",
    "    if kobugi.is_knocked_out():\n",
    "        print(f'{kobugi.name}이(가) 쓰러졌다! {pairi.name} 승리!')\n",
    "        break\n",
    "\n",
    "    kobugi.status()\n",
    "    pairi.status()\n",
    "    print('-------')"
   ]
  },
  {
   "cell_type": "code",
   "execution_count": 11,
   "id": "369c886a-13cc-4802-9673-024dc5e208c4",
   "metadata": {},
   "outputs": [
    {
     "name": "stdout",
     "output_type": "stream",
     "text": [
      "찬우이(가) 보를 냈다!\n",
      "성민이(가) 바위를 냈다!\n",
      "찬우이(가) 이겼습니다.\n",
      "--------\n",
      "찬우이(가) 바위를 냈다!\n",
      "성민이(가) 보를 냈다!\n",
      "성민이(가) 이겼습니다.\n",
      "--------\n",
      "찬우이(가) 가위를 냈다!\n",
      "성민이(가) 가위를 냈다!\n",
      "비겼습니다.\n",
      "--------\n",
      "찬우이(가) 보를 냈다!\n",
      "성민이(가) 가위를 냈다!\n",
      "성민이(가) 이겼습니다.\n",
      "--------\n",
      "찬우이(가) 바위를 냈다!\n",
      "성민이(가) 바위를 냈다!\n",
      "비겼습니다.\n",
      "--------\n",
      "찬우이(가) 보를 냈다!\n",
      "성민이(가) 보를 냈다!\n",
      "비겼습니다.\n",
      "--------\n",
      "찬우이(가) 보를 냈다!\n",
      "성민이(가) 가위를 냈다!\n",
      "성민이(가) 이겼습니다.\n",
      "성민의 최종 승리!\n"
     ]
    }
   ],
   "source": [
    "import random\n",
    "\n",
    "class Person():\n",
    "\n",
    "    def __init__(self, name, hp=3):\n",
    "        self.name = name\n",
    "        self.hp = hp\n",
    "\n",
    "    def rsp(self):\n",
    "        my_rsp = random.choice(['가위', '바위', '보'])\n",
    "        print(f'{self.name}이(가) {my_rsp}를 냈다!')\n",
    "        return my_rsp\n",
    "\n",
    "    def match(self, opponent):\n",
    "        m = self.rsp()\n",
    "        o = opponent.rsp()\n",
    "        m_win = 0\n",
    "        o_win = 0\n",
    "\n",
    "        if m == o:\n",
    "            print('비겼습니다.')   \n",
    "            \n",
    "        if m == '가위' and o == '바위':\n",
    "            print(f'{opponent.name}이(가) 이겼습니다.')\n",
    "            self.hp -= 1        \n",
    "            \n",
    "        if m == '가위' and o == '보':\n",
    "            print(f'{self.name}이(가) 이겼습니다.')\n",
    "            opponent.hp -= 1\n",
    "            \n",
    "        if m == '바위' and o == '보':\n",
    "            print(f'{opponent.name}이(가) 이겼습니다.')\n",
    "            self.hp -= 1\n",
    "            \n",
    "        if m == '바위' and o == '가위':\n",
    "            print(f'{self.name}이(가) 이겼습니다.')\n",
    "            opponent.hp -= 1\n",
    "            \n",
    "        if m == '보' and o == '가위':\n",
    "            print(f'{opponent.name}이(가) 이겼습니다.')\n",
    "            self.hp -= 1\n",
    "            \n",
    "        if m == '보' and o == '바위':\n",
    "            print(f'{self.name}이(가) 이겼습니다.')\n",
    "            opponent.hp -= 1\n",
    "\n",
    "    def finish(self):\n",
    "        return self.hp <= 0\n",
    "\n",
    "cw = Person('찬우')\n",
    "sm = Person('성민')\n",
    "\n",
    "while True:\n",
    "    cw.match(sm)\n",
    "    \n",
    "    if cw.finish():\n",
    "        print(f'{sm.name}의 최종 승리!')\n",
    "        break\n",
    "\n",
    "    if sm.finish():\n",
    "        print(f'{cw.name}의 최종 승리!')\n",
    "        break\n",
    "    print('--------')"
   ]
  },
  {
   "cell_type": "markdown",
   "id": "98794f9a-9507-4805-9dea-b966df835ff2",
   "metadata": {},
   "source": [
    "# 08. movie data"
   ]
  },
  {
   "cell_type": "markdown",
   "id": "7adee5bd-e9d6-45e9-b615-e90ea35ab08e",
   "metadata": {},
   "source": [
    "## 영화진흥위원회 데이터 수집"
   ]
  },
  {
   "cell_type": "markdown",
   "id": "5d46f0bd-6c73-4645-b3fc-f0fdbdce3bcc",
   "metadata": {},
   "source": [
    "### setting"
   ]
  },
  {
   "cell_type": "code",
   "execution_count": 12,
   "id": "a64c63fe-6d71-4b04-864d-56074192e82d",
   "metadata": {},
   "outputs": [],
   "source": [
    "import requests\n",
    "\n",
    "class URLMaker:\n",
    "    \"\"\"\n",
    "    영화진흥위원회 API URL 생성 클래스\n",
    "    \"\"\"\n",
    "    \n",
    "    url = 'http://www.kobis.or.kr/kobisopenapi/webservice/rest'\n",
    "\n",
    "    def __init__(self, key):\n",
    "        \"\"\"\n",
    "        API key 초기화\n",
    "        \"\"\"\n",
    "        self.key = key\n",
    "\n",
    "    def daily_boxoffice_url(self, targetDt, itemPerPage=10, multiMovieYn='', repNationCd='', wideAreaCd=''):\n",
    "        \"\"\"\n",
    "        일별 박스오피스 URL 생성\n",
    "        \"\"\"\n",
    "        return f'{self.url}/boxoffice/searchDailyBoxOfficeList.json?key={self.key}&targetDt={targetDt}&itemPerPage={itemPerPage}&multiMovieYn={multiMovieYn}&repNationCd={repNationCd}&wideAreaCd={wideAreaCd}'\n",
    "\n",
    "    def weekly_boxoffice_url(self, targetDt, weekGb='0', itemPerPage=10, multiMovieYn='', repNationCd='', wideAreaCd=''):\n",
    "        \"\"\"\n",
    "        주간/주말 박스오피스 URL 생성\n",
    "        weekGb: 0(주간), 1(주말), 2(주중)\n",
    "        \"\"\"\n",
    "        return f'{self.url}/boxoffice/searchWeeklyBoxOfficeList.json?key={self.key}&targetDt={targetDt}&weekGb={weekGb}&itemPerPage={itemPerPage}&multiMovieYn={multiMovieYn}&repNationCd={repNationCd}&wideAreaCd={wideAreaCd}'\n",
    "\n",
    "    def movie_list_url(self, curPage=1, itemPerPage=10, movieNm='', directorNm='', openStartDt='', openEndDt='', \n",
    "                      prdtStartYear='', prdtEndYear='', repNationCd='', movieTypeCd=''):\n",
    "        \"\"\"\n",
    "        영화목록 URL 생성\n",
    "        \"\"\"\n",
    "        return f'{self.url}/movie/searchMovieList.json?key={self.key}&curPage={curPage}&itemPerPage={itemPerPage}&movieNm={movieNm}&directorNm={directorNm}&openStartDt={openStartDt}&openEndDt={openEndDt}&prdtStartYear={prdtStartYear}&prdtEndYear={prdtEndYear}&repNationCd={repNationCd}&movieTypeCd={movieTypeCd}'\n",
    "\n",
    "    def movie_info_url(self, movieCd):\n",
    "        \"\"\"\n",
    "        영화 상세정보 URL 생성\n",
    "        \"\"\"\n",
    "        return f'{self.url}/movie/searchMovieInfo.json?key={self.key}&movieCd={movieCd}'\n",
    "\n",
    "    def people_list_url(self, curPage=1, itemPerPage=10, peopleNm='', filmoNames=''):\n",
    "        \"\"\"\n",
    "        영화인목록 URL 생성\n",
    "        \"\"\"\n",
    "        return f'{self.url}/people/searchPeopleList.json?key={self.key}&curPage={curPage}&itemPerPage={itemPerPage}&peopleNm={peopleNm}&filmoNames={filmoNames}'\n",
    "\n",
    "    def people_info_url(self, peopleCd):\n",
    "        \"\"\"\n",
    "        영화인 상세정보 URL 생성\n",
    "        \"\"\"\n",
    "        return f'{self.url}/people/searchPeopleInfo.json?key={self.key}&peopleCd={peopleCd}'\n"
   ]
  },
  {
   "cell_type": "code",
   "execution_count": 13,
   "id": "383c0115-0ee3-4370-9721-5568c10204c0",
   "metadata": {},
   "outputs": [],
   "source": [
    "MY_API_KEY = 'd56ce424e919ff32ac17d74f244ea605'\n",
    "url_maker = URLMaker(MY_API_KEY)"
   ]
  },
  {
   "cell_type": "code",
   "execution_count": 14,
   "id": "d3aa11b6-6855-4d43-8bc4-64a14af302d7",
   "metadata": {},
   "outputs": [
    {
     "data": {
      "text/plain": [
       "'d56ce424e919ff32ac17d74f244ea605'"
      ]
     },
     "execution_count": 14,
     "metadata": {},
     "output_type": "execute_result"
    }
   ],
   "source": [
    "url_maker.key"
   ]
  },
  {
   "cell_type": "code",
   "execution_count": 15,
   "id": "9c24db48-7b6c-4e48-bb0f-55047ce4956c",
   "metadata": {},
   "outputs": [],
   "source": [
    "def get_movie_detail(movie_cd):\n",
    "    movie_url = url_maker.movie_info_url(movie_cd)\n",
    "    res = requests.get(movie_url)\n",
    "    md = res.json()['movieInfoResult']['movieInfo']\n",
    "    \n",
    "    print(f'{md['movieNm']} ({md['prdtYear']})')\n",
    "    print(f'감독: {md['directors'][0]['peopleNm']}')\n",
    "    print(f'주연: {md['actors'][0]['peopleNm']}, {md['actors'][1]['peopleNm']}')\n",
    "    print(f'장르: {md['genres'][0]['genreNm']}')"
   ]
  },
  {
   "cell_type": "code",
   "execution_count": 16,
   "id": "6ba6d3f2-dc46-43ce-8d83-09f1caaba223",
   "metadata": {},
   "outputs": [
    {
     "name": "stdout",
     "output_type": "stream",
     "text": [
      "쇼생크 탈출 (1994)\n",
      "감독: 프랭크 다라본트\n",
      "주연: 팀 로빈스, 모건 프리먼\n",
      "장르: 드라마\n"
     ]
    }
   ],
   "source": [
    "get_movie_detail('19950084')"
   ]
  },
  {
   "cell_type": "code",
   "execution_count": 17,
   "id": "04373b13-b36c-4e9b-b59f-0c5c86c1a8d6",
   "metadata": {},
   "outputs": [],
   "source": [
    "def get_daily_boxoffice(target_date):\n",
    "    movie_url = url_maker.daily_boxoffice_url(target_date)\n",
    "    res = requests.get(movie_url)\n",
    "    db = res.json()['boxOfficeResult']['dailyBoxOfficeList']\n",
    "    \n",
    "    print(f'{target_date} 박스오피스 TOP 10')\n",
    "    for i in range(10):\n",
    "        print(f'{db[i]['rank']}위: {db[i]['movieNm']} ({db[i]['audiCnt']}명)')"
   ]
  },
  {
   "cell_type": "code",
   "execution_count": 18,
   "id": "1996d63a-ab3f-4af7-9133-18de6a64958e",
   "metadata": {},
   "outputs": [
    {
     "name": "stdout",
     "output_type": "stream",
     "text": [
      "20250201 박스오피스 TOP 10\n",
      "1위: 히트맨2 (177129명)\n",
      "2위: 검은 수녀들 (96043명)\n",
      "3위: 말할 수 없는 비밀 (63000명)\n",
      "4위: 하얼빈 (23292명)\n",
      "5위: 서브스턴스 (15031명)\n",
      "6위: 극장판 포켓몬스터 AG: 뮤와 파동의 용사 루카리오 (12342명)\n",
      "7위: 뽀로로 극장판 바닷속 대모험 (5903명)\n",
      "8위: 바다 탐험대 옥토넛 어보브 앤 비욘드 : 극지방 대작전 (4570명)\n",
      "9위: 극장판 짱구는 못말려: 우리들의 공룡일기 (3801명)\n",
      "10위: 아이유 콘서트 : 더 위닝 (3156명)\n"
     ]
    }
   ],
   "source": [
    "get_daily_boxoffice(\"20250201\")"
   ]
  },
  {
   "cell_type": "code",
   "execution_count": 19,
   "id": "c66bbe6d-716d-4953-be86-aa3c4db6a927",
   "metadata": {},
   "outputs": [],
   "source": [
    "def get_movie_details(target_date):\n",
    "    movie_url = url_maker.daily_boxoffice_url(target_date, repNationCd='K')\n",
    "    res = requests.get(movie_url)\n",
    "    dm = res.json()['boxOfficeResult']['dailyBoxOfficeList']\n",
    "    my_dict = {}\n",
    "\n",
    "    for i in range(10):\n",
    "        my_dict[i] = dm[i]['openDt'], [dm[i]['movieNm'], dm[i]['rank']]\n",
    "    s = sorted(my_dict.items(), key=lambda x:x[1])\n",
    "\n",
    "    print(f'{target_date} 한국 영화 박스오피스 (개봉일 순)')\n",
    "\n",
    "    for j in range(10):\n",
    "        print(f'{s[j][1][1][0]} ({s[j][1][0]}) - {s[j][1][1][1]}위')"
   ]
  },
  {
   "cell_type": "code",
   "execution_count": 20,
   "id": "c868d134-b2bd-440e-8716-b37170061e35",
   "metadata": {},
   "outputs": [
    {
     "name": "stdout",
     "output_type": "stream",
     "text": [
      "20250201 한국 영화 박스오피스 (개봉일 순)\n",
      "뜻밖의 순간 : 언익스펙티드 저니 ( ) - 10위\n",
      "마당을 나온 암탉 (2011-07-28) - 9위\n",
      "소방관 (2024-12-04) - 8위\n",
      "하얼빈 (2024-12-24) - 4위\n",
      "뽀로로 극장판 바닷속 대모험 (2025-01-01) - 5위\n",
      "히트맨2 (2025-01-22) - 1위\n",
      "검은 수녀들 (2025-01-24) - 2위\n",
      "귀신경찰 (2025-01-24) - 7위\n",
      "아이유 콘서트 : 더 위닝 (2025-01-24) - 6위\n",
      "말할 수 없는 비밀 (2025-01-27) - 3위\n"
     ]
    }
   ],
   "source": [
    "get_movie_details(\"20250201\")"
   ]
  },
  {
   "cell_type": "code",
   "execution_count": 21,
   "id": "6eedfc44-1e6d-430e-8b3d-2e7fdc66a177",
   "metadata": {},
   "outputs": [],
   "source": [
    "jan = ['20250105', '20250112', '20250119', '20250126']\n",
    "\n",
    "def get_weekly_boxoffice(month):\n",
    "    dic = {}\n",
    "    \n",
    "    for i in month:\n",
    "        movie_url = url_maker.weekly_boxoffice_url(i)\n",
    "        res = requests.get(movie_url)\n",
    "        wb = res.json()['boxOfficeResult']['weeklyBoxOfficeList']\n",
    "        \n",
    "        for j in range(10):\n",
    "            dic[wb[j]['movieNm']] = {\n",
    "                '영화제목': wb[j]['movieNm'], \n",
    "                '개봉일': wb[j]['openDt'], \n",
    "                '누적관객': wb[j]['audiAcc'], \n",
    "                '누적매출': wb[j]['salesAcc']\n",
    "            }\n",
    "            \n",
    "    print(dic)\n"
   ]
  },
  {
   "cell_type": "code",
   "execution_count": 22,
   "id": "b0ed94c8-1a6c-40ad-bb58-1f5256df4954",
   "metadata": {},
   "outputs": [
    {
     "name": "stdout",
     "output_type": "stream",
     "text": [
      "{'하얼빈': {'영화제목': '하얼빈', '개봉일': '2024-12-24', '누적관객': '4642215', '누적매출': '44407362460'}, '소방관': {'영화제목': '소방관', '개봉일': '2024-12-04', '누적관객': '3840551', '누적매출': '36145572270'}, '보고타: 마지막 기회의 땅': {'영화제목': '보고타: 마지막 기회의 땅', '개봉일': '2024-12-31', '누적관객': '396287', '누적매출': '3669720540'}, '수퍼 소닉3': {'영화제목': '수퍼 소닉3', '개봉일': '2025-01-01', '누적관객': '322100', '누적매출': '2950620910'}, '뽀로로 극장판 바닷속 대모험': {'영화제목': '뽀로로 극장판 바닷속 대모험', '개봉일': '2025-01-01', '누적관객': '349597', '누적매출': '2996015770'}, '무파사: 라이온 킹': {'영화제목': '무파사: 라이온 킹', '개봉일': '2024-12-18', '누적관객': '833832', '누적매출': '8188072950'}, '모아나 2': {'영화제목': '모아나 2', '개봉일': '2024-11-27', '누적관객': '3522517', '누적매출': '32533317750'}, '극장판 짱구는 못말려: 우리들의 공룡일기': {'영화제목': '극장판 짱구는 못말려: 우리들의 공룡일기', '개봉일': '2024-12-18', '누적관객': '762895', '누적매출': '7177275100'}, '위키드': {'영화제목': '위키드', '개봉일': '2024-11-20', '누적관객': '2195165', '누적매출': '21677201940'}, '시빌 워: 분열의 시대': {'영화제목': '시빌 워: 분열의 시대', '개봉일': '2024-12-31', '누적관객': '80373', '누적매출': '836845230'}, '동화지만 청불입니다': {'영화제목': '동화지만 청불입니다', '개봉일': '2025-01-08', '누적관객': '157616', '누적매출': '1465916720'}, '서브스턴스': {'영화제목': '서브스턴스', '개봉일': '2024-12-11', '누적관객': '302870', '누적매출': '2954609400'}, '검은 수녀들': {'영화제목': '검은 수녀들', '개봉일': '2025-01-24', '누적관객': '606145', '누적매출': '5870106460'}, '히트맨2': {'영화제목': '히트맨2', '개봉일': '2025-01-22', '누적관객': '604875', '누적매출': '5686993120'}, '극장판 포켓몬스터 AG: 뮤와 파동의 용사 루카리오': {'영화제목': '극장판 포켓몬스터 AG: 뮤와 파동의 용사 루카리오', '개봉일': '2025-01-22', '누적관객': '64585', '누적매출': '570033160'}, '아이유 콘서트 : 더 위닝': {'영화제목': '아이유 콘서트 : 더 위닝', '개봉일': '2025-01-24', '누적관객': '28061', '누적매출': '778067000'}, '귀신경찰': {'영화제목': '귀신경찰', '개봉일': '2025-01-24', '누적관객': '21949', '누적매출': '191035980'}}\n"
     ]
    }
   ],
   "source": [
    "get_weekly_boxoffice(jan)"
   ]
  },
  {
   "cell_type": "code",
   "execution_count": 50,
   "id": "30aaf513-7e16-4f2a-940d-a5567100842c",
   "metadata": {},
   "outputs": [],
   "source": [
    "def get_movie_details(target_date):\n",
    "    movie_url = url_maker.daily_boxoffice_url(target_date)\n",
    "    res = requests.get(movie_url)\n",
    "    daily = res.json()['boxOfficeResult']['dailyBoxOfficeList']\n",
    "\n",
    "    for i in range(10):\n",
    "        print(f'{daily[i]['rank']}위')\n",
    "        print(daily[i]['movieNm'])\n",
    "        \n",
    "        code = daily[i]['movieCd']\n",
    "        movie_url2 = url_maker.movie_info_url(code)\n",
    "        res2 = requests.get(movie_url2)\n",
    "        detail = res2.json()['movieInfoResult']['movieInfo']\n",
    "\n",
    "        if len(detail['directors']) == 0:\n",
    "            print('감독: 없음')\n",
    "        else:\n",
    "            print(f'감독: {detail['directors'][0]['peopleNm']}')\n",
    "\n",
    "        if len(detail['actors']) == 1:\n",
    "            print(f'주연: {detail['actors'][0]['peopleNm']}')\n",
    "        elif len(detail['actors']) == 2:\n",
    "            print(f'주연: {detail['actors'][0]['peopleNm']}, {detail['actors'][1]['peopleNm']}')\n",
    "        elif len(detail['actors']) == 0:\n",
    "            print('주연: 없음')\n",
    "        else:\n",
    "            for j in range(3):\n",
    "                print(f'주연: {detail['actors'][j]['peopleNm']}, {detail['actors'][j+1]['peopleNm']}, {detail['actors'][j+2]['peopleNm']}')\n",
    "                break\n",
    "\n",
    "        print('------------------------------')"
   ]
  },
  {
   "cell_type": "code",
   "execution_count": 51,
   "id": "bfc279b5-aa36-4864-b68a-9035f8620fe4",
   "metadata": {},
   "outputs": [
    {
     "name": "stdout",
     "output_type": "stream",
     "text": [
      "1위\n",
      "미키 17\n",
      "감독: 봉준호\n",
      "주연: 로버트 패틴슨, 나오미 애키, 스티븐 연\n",
      "------------------------------\n",
      "2위\n",
      "캡틴 아메리카: 브레이브 뉴 월드\n",
      "감독: 줄리어스 오나\n",
      "주연: 안소니 마키, 해리슨 포드, 대니 라미레즈\n",
      "------------------------------\n",
      "3위\n",
      "퇴마록\n",
      "감독: 김동철\n",
      "주연: 최한, 남도형, 정유정\n",
      "------------------------------\n",
      "4위\n",
      "괜찮아 괜찮아 괜찮아! \n",
      "감독: 김혜영\n",
      "주연: 이레, 진서연, 정수빈\n",
      "------------------------------\n",
      "5위\n",
      "패딩턴: 페루에 가다!\n",
      "감독: 없음\n",
      "주연: 휴 보네빌, 에밀리 모티머, 벤 위쇼\n",
      "------------------------------\n",
      "6위\n",
      "그 시절, 우리가 좋아했던 소녀\n",
      "감독: 조영명\n",
      "주연: 진영, 다현, 손정혁\n",
      "------------------------------\n",
      "7위\n",
      "백수아파트\n",
      "감독: 이루다\n",
      "주연: 경수진, 고규필, 이지훈\n",
      "------------------------------\n",
      "8위\n",
      "컴플리트 언노운\n",
      "감독: 제임스 맨골드\n",
      "주연: 티모시 샬라메, 에드워드 노튼, 엘 패닝\n",
      "------------------------------\n",
      "9위\n",
      "첫 번째 키스\n",
      "감독: 츠카하라 아유코\n",
      "주연: 마츠 다카코, 마츠무라 호쿠토, 요시오카 리호\n",
      "------------------------------\n",
      "10위\n",
      "힘내라 대한민국\n",
      "감독: 없음\n",
      "주연: 없음\n",
      "------------------------------\n"
     ]
    }
   ],
   "source": [
    "get_movie_details(\"20250301\")"
   ]
  },
  {
   "cell_type": "code",
   "execution_count": 44,
   "id": "caa2eecb-0f6e-4df8-a59b-c6339d137ef9",
   "metadata": {},
   "outputs": [],
   "source": [
    "def analyze_actor_movies(actor_name):\n",
    "    movie_url = url_maker.people_list_url(peopleNm=actor_name)\n",
    "    res = requests.get(movie_url)\n",
    "    pd = res.json()['peopleListResult']['peopleList']\n",
    "\n",
    "    my_dict = {}\n",
    "    \n",
    "    for i in range(len(pd)):\n",
    "        if pd[i]['repRoleNm'] == '배우':\n",
    "            my_dict[i] = pd[i]['peopleCd'], pd[i]['filmoNames']\n",
    "    s = max(my_dict.items(), key=lambda x:len(x[1][1]))\n",
    "    actor_code = s[1][0]\n",
    "\n",
    "    movie_url2 = url_maker.people_info_url(actor_code)\n",
    "    res2 = requests.get(movie_url2)\n",
    "    ad = res2.json()['peopleInfoResult']['peopleInfo']\n",
    "    li = []\n",
    "\n",
    "    print(f'배우 {actor_name}의 최근 출연작 5개')\n",
    "\n",
    "    for j in range(len(ad['filmos'])):\n",
    "        if ad['filmos'][j]['moviePartNm'] == '배우':\n",
    "            print(f'제목: {ad['filmos'][j]['movieNm']}')\n",
    "            movie_code = ad['filmos'][j]['movieCd']\n",
    "            li.append(movie_code)\n",
    "        \n",
    "            movie_url3 = url_maker.movie_info_url(movie_code)\n",
    "            res3 = requests.get(movie_url3)\n",
    "            md = res3.json()['movieInfoResult']['movieInfo']\n",
    "\n",
    "            print(f'개봉일: {md['openDt']}')\n",
    "            print(f'상영시간: {md['showTm']}분')\n",
    "            print(f'감독: {md['directors'][0]['peopleNm']}')\n",
    "            print()\n",
    "            \n",
    "            if len(li) == 5:\n",
    "                break\n"
   ]
  },
  {
   "cell_type": "code",
   "execution_count": 46,
   "id": "3d209b0f-753d-4f67-a04c-d2501d82fc3a",
   "metadata": {},
   "outputs": [
    {
     "name": "stdout",
     "output_type": "stream",
     "text": [
      "배우 박정민의 최근 출연작 5개\n",
      "제목: 하얼빈\n",
      "개봉일: 20241224\n",
      "상영시간: 113분\n",
      "감독: 우민호\n",
      "\n",
      "제목: 얼굴\n",
      "개봉일: \n",
      "상영시간: 분\n",
      "감독: 연상호\n",
      "\n",
      "제목: 전, 란\n",
      "개봉일: \n",
      "상영시간: 126분\n",
      "감독: 김상만\n",
      "\n",
      "제목: 휴민트\n",
      "개봉일: \n",
      "상영시간: 분\n",
      "감독: 류승완\n",
      "\n",
      "제목: 밀수\n",
      "개봉일: 20230726\n",
      "상영시간: 129분\n",
      "감독: 류승완\n",
      "\n"
     ]
    }
   ],
   "source": [
    "analyze_actor_movies(\"박정민\")"
   ]
  },
  {
   "cell_type": "code",
   "execution_count": null,
   "id": "2fbb3e1d-0731-4f33-a634-6347f7b32551",
   "metadata": {},
   "outputs": [],
   "source": []
  }
 ],
 "metadata": {
  "kernelspec": {
   "display_name": "Python 3 (ipykernel)",
   "language": "python",
   "name": "python3"
  },
  "language_info": {
   "codemirror_mode": {
    "name": "ipython",
    "version": 3
   },
   "file_extension": ".py",
   "mimetype": "text/x-python",
   "name": "python",
   "nbconvert_exporter": "python",
   "pygments_lexer": "ipython3",
   "version": "3.13.2"
  }
 },
 "nbformat": 4,
 "nbformat_minor": 5
}
