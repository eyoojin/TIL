{
 "cells": [
  {
   "cell_type": "markdown",
   "id": "ed0921e9-ea40-4773-9556-3008223ddc75",
   "metadata": {},
   "source": [
    "## 클래스 변수/ 인스턴스 변수"
   ]
  },
  {
   "cell_type": "markdown",
   "id": "fee5ec57-aeca-4e35-acfd-c1cda83a6790",
   "metadata": {},
   "source": [
    "- 클래스 변수: 클래스 선언 블록 최상단에 위치\n",
    "- 인스턴스 변수: 인스턴스 내부에서 생성한 변수\n",
    "```python\n",
    "class MyClass():\n",
    "    class_variavle = '클래스 변수'\n",
    "\n",
    "    def __init__(self):\n",
    "        self.instance_variable = '인스턴스 변수'\n",
    "```\n",
    "- *영역 차이 존재, 독립적으로 존재*"
   ]
  },
  {
   "cell_type": "code",
   "execution_count": 1,
   "id": "62ca03bc-ff7f-48ae-adcd-333b06308a40",
   "metadata": {},
   "outputs": [],
   "source": [
    "class Person():\n",
    "    name = 'ruka'\n",
    "    age = 22\n",
    "\n",
    "    def __init__(self, name):\n",
    "        self.name = name"
   ]
  },
  {
   "cell_type": "code",
   "execution_count": 4,
   "id": "80ad6aba-7a44-4699-b559-7378e39acb56",
   "metadata": {},
   "outputs": [
    {
     "name": "stdout",
     "output_type": "stream",
     "text": [
      "asa\n",
      "22\n"
     ]
    }
   ],
   "source": [
    "p1 = Person('asa')\n",
    "print(p1.name)\n",
    "print(p1.age)"
   ]
  }
 ],
 "metadata": {
  "kernelspec": {
   "display_name": "Python 3 (ipykernel)",
   "language": "python",
   "name": "python3"
  },
  "language_info": {
   "codemirror_mode": {
    "name": "ipython",
    "version": 3
   },
   "file_extension": ".py",
   "mimetype": "text/x-python",
   "name": "python",
   "nbconvert_exporter": "python",
   "pygments_lexer": "ipython3",
   "version": "3.13.2"
  }
 },
 "nbformat": 4,
 "nbformat_minor": 5
}
