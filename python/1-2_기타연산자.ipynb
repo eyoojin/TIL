{
 "cells": [
  {
   "cell_type": "markdown",
   "id": "08fc8007-6e94-4848-8fd7-09346bef8a29",
   "metadata": {},
   "source": [
    "## 기타연산자"
   ]
  },
  {
   "cell_type": "code",
   "execution_count": 1,
   "id": "c7ad7b8c-db2a-40f9-af26-6fff108bcb68",
   "metadata": {},
   "outputs": [],
   "source": [
    "a = 'hi'\n",
    "b = 'hello'"
   ]
  },
  {
   "cell_type": "code",
   "execution_count": 2,
   "id": "73f54f57-8665-48f7-96af-5ba1344bcede",
   "metadata": {},
   "outputs": [
    {
     "name": "stdout",
     "output_type": "stream",
     "text": [
      "hihello\n"
     ]
    }
   ],
   "source": [
    "print(a + b) # concatenation: 연결"
   ]
  },
  {
   "cell_type": "code",
   "execution_count": 3,
   "id": "a5742974-0d50-4cff-887a-27a46c6b0789",
   "metadata": {},
   "outputs": [],
   "source": [
    "# print(a + 1) # error: 앞이 str이므로 concatenation으로 인식"
   ]
  },
  {
   "cell_type": "code",
   "execution_count": 4,
   "id": "dfbdc076-42c6-49d9-91bf-702b0b0f54f6",
   "metadata": {},
   "outputs": [],
   "source": [
    "# print(1 + b) # error: 앞이 int이므로 plus로 인식"
   ]
  },
  {
   "cell_type": "code",
   "execution_count": 5,
   "id": "61a72aec-0a5f-4085-a748-473718ffe7ab",
   "metadata": {},
   "outputs": [],
   "source": [
    "a = [1, 2, 3]\n",
    "b = [4, 5, 6]"
   ]
  },
  {
   "cell_type": "code",
   "execution_count": 6,
   "id": "20c87a95-1e8c-4c92-8b75-2c12daf420fb",
   "metadata": {},
   "outputs": [
    {
     "name": "stdout",
     "output_type": "stream",
     "text": [
      "[1, 2, 3, 4, 5, 6]\n"
     ]
    }
   ],
   "source": [
    "print(a + b) # concatenation"
   ]
  },
  {
   "cell_type": "code",
   "execution_count": 7,
   "id": "4f626b85-7ec1-4800-8334-03d39c62d9b2",
   "metadata": {},
   "outputs": [
    {
     "name": "stdout",
     "output_type": "stream",
     "text": [
      "True\n",
      "False\n"
     ]
    }
   ],
   "source": [
    "print(1 in a) # contain\n",
    "print(10 in a)"
   ]
  },
  {
   "cell_type": "code",
   "execution_count": 8,
   "id": "37bfc3f0-9191-4d64-b309-1842cbec0345",
   "metadata": {},
   "outputs": [],
   "source": [
    "a = 256\n",
    "b = 256\n",
    "c = 257\n",
    "d = 257"
   ]
  },
  {
   "cell_type": "code",
   "execution_count": 9,
   "id": "c7a3a2d6-5614-4be3-bea5-6cc0d333fe00",
   "metadata": {},
   "outputs": [
    {
     "name": "stdout",
     "output_type": "stream",
     "text": [
      "True\n",
      "True\n",
      "True\n",
      "False\n"
     ]
    }
   ],
   "source": [
    "print(a == b) # a와 b의 값이 같은가?\n",
    "print(a is b) # a가 b인가?\n",
    "# is: a와 b가 본질적으로 같은 객체인지 = 메모리를 차지하는 위치가 같은지\n",
    "print(c == d)\n",
    "print(c is d)\n",
    "# 256까지는 자주 쓰는 숫자이므로 이미 메모리를 차지하고 있음"
   ]
  }
 ],
 "metadata": {
  "kernelspec": {
   "display_name": "Python 3 (ipykernel)",
   "language": "python",
   "name": "python3"
  },
  "language_info": {
   "codemirror_mode": {
    "name": "ipython",
    "version": 3
   },
   "file_extension": ".py",
   "mimetype": "text/x-python",
   "name": "python",
   "nbconvert_exporter": "python",
   "pygments_lexer": "ipython3",
   "version": "3.13.2"
  }
 },
 "nbformat": 4,
 "nbformat_minor": 5
}
