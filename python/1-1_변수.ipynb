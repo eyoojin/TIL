{
 "cells": [
  {
   "cell_type": "markdown",
   "id": "872c474b-e1df-487c-8ac6-135f424b97e1",
   "metadata": {},
   "source": [
    "# 01. intro"
   ]
  },
  {
   "cell_type": "markdown",
   "id": "8b61e075-4d15-4613-ac93-c4b3dd0ef185",
   "metadata": {},
   "source": [
    "## 1. 변수"
   ]
  },
  {
   "cell_type": "markdown",
   "id": "ae1545c0-f40f-4ff8-9739-8c4e7aa03834",
   "metadata": {},
   "source": [
    "```\n",
    "var_name = value\n",
    "```\n",
    "- 변수 이름은 어떤 이름이든 사용 가능\n",
    "- but 영어, 숫자, _를 이용해서 선언\n",
    "- 키워드는 불가능\n",
    "- *데이터 타입 다양*"
   ]
  },
  {
   "cell_type": "code",
   "execution_count": 1,
   "id": "01d80343-e00c-4ec2-990a-49e22c840ecf",
   "metadata": {},
   "outputs": [
    {
     "data": {
      "text/plain": [
       "['False',\n",
       " 'None',\n",
       " 'True',\n",
       " 'and',\n",
       " 'as',\n",
       " 'assert',\n",
       " 'async',\n",
       " 'await',\n",
       " 'break',\n",
       " 'class',\n",
       " 'continue',\n",
       " 'def',\n",
       " 'del',\n",
       " 'elif',\n",
       " 'else',\n",
       " 'except',\n",
       " 'finally',\n",
       " 'for',\n",
       " 'from',\n",
       " 'global',\n",
       " 'if',\n",
       " 'import',\n",
       " 'in',\n",
       " 'is',\n",
       " 'lambda',\n",
       " 'nonlocal',\n",
       " 'not',\n",
       " 'or',\n",
       " 'pass',\n",
       " 'raise',\n",
       " 'return',\n",
       " 'try',\n",
       " 'while',\n",
       " 'with',\n",
       " 'yield']"
      ]
     },
     "execution_count": 1,
     "metadata": {},
     "output_type": "execute_result"
    }
   ],
   "source": [
    "# 키워드\n",
    "import keyword\n",
    "keyword.kwlist"
   ]
  }
 ],
 "metadata": {
  "kernelspec": {
   "display_name": "Python 3 (ipykernel)",
   "language": "python",
   "name": "python3"
  },
  "language_info": {
   "codemirror_mode": {
    "name": "ipython",
    "version": 3
   },
   "file_extension": ".py",
   "mimetype": "text/x-python",
   "name": "python",
   "nbconvert_exporter": "python",
   "pygments_lexer": "ipython3",
   "version": "3.13.2"
  }
 },
 "nbformat": 4,
 "nbformat_minor": 5
}
