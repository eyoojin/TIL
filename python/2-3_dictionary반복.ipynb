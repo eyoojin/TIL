{
 "cells": [
  {
   "cell_type": "markdown",
   "id": "03b2d1fd-73df-4d32-befa-c770d8807ff7",
   "metadata": {},
   "source": [
    "## dictionary 반복"
   ]
  },
  {
   "cell_type": "markdown",
   "id": "49b5c7cf-ee32-495e-8a45-9164d2fdfc74",
   "metadata": {},
   "source": [
    "1. `for key in dict:`\n",
    "2. `for key in dict.keys():`\n",
    "3. `for value in dict.values():`\n",
    "4. `for key, value in dict.items():`"
   ]
  },
  {
   "cell_type": "code",
   "execution_count": 2,
   "id": "17773335-78ae-4165-a80f-6b92eb9f60d3",
   "metadata": {},
   "outputs": [],
   "source": [
    "info = {\n",
    "    'name': 'ruka',\n",
    "    'location': 'tokyo',\n",
    "    'team': 'babymonster',\n",
    "    'age': 22,\n",
    "}"
   ]
  },
  {
   "cell_type": "code",
   "execution_count": 4,
   "id": "22a03b56-994d-4e96-8bdb-48c9ffd5d659",
   "metadata": {},
   "outputs": [
    {
     "name": "stdout",
     "output_type": "stream",
     "text": [
      "name\n",
      "location\n",
      "team\n",
      "age\n"
     ]
    }
   ],
   "source": [
    "for k in info:\n",
    "    print(k)"
   ]
  },
  {
   "cell_type": "code",
   "execution_count": 5,
   "id": "34dfa614-fe77-41dc-b6d2-87a25bb42147",
   "metadata": {},
   "outputs": [
    {
     "name": "stdout",
     "output_type": "stream",
     "text": [
      "name\n",
      "location\n",
      "team\n",
      "age\n"
     ]
    }
   ],
   "source": [
    "for k in info.keys():\n",
    "    print(k)"
   ]
  },
  {
   "cell_type": "code",
   "execution_count": 6,
   "id": "14613c4d-0235-43b2-93c7-ca9758122f99",
   "metadata": {},
   "outputs": [
    {
     "name": "stdout",
     "output_type": "stream",
     "text": [
      "name\n",
      "ruka\n",
      "location\n",
      "tokyo\n",
      "team\n",
      "babymonster\n",
      "age\n",
      "22\n"
     ]
    }
   ],
   "source": [
    "for k in info.keys():\n",
    "    print(k)\n",
    "    print(info[k])"
   ]
  },
  {
   "cell_type": "code",
   "execution_count": 7,
   "id": "134d6b23-c813-4e1d-97fa-1966736dc859",
   "metadata": {},
   "outputs": [
    {
     "name": "stdout",
     "output_type": "stream",
     "text": [
      "ruka\n",
      "tokyo\n",
      "babymonster\n",
      "22\n"
     ]
    }
   ],
   "source": [
    "for v in info.values():\n",
    "    print(v)"
   ]
  },
  {
   "cell_type": "code",
   "execution_count": 8,
   "id": "0143a960-785f-49b8-b214-a8c8e0b409b4",
   "metadata": {},
   "outputs": [
    {
     "name": "stdout",
     "output_type": "stream",
     "text": [
      "name ruka\n",
      "location tokyo\n",
      "team babymonster\n",
      "age 22\n"
     ]
    }
   ],
   "source": [
    "for k, v in info.items():\n",
    "    print(k, v)"
   ]
  },
  {
   "cell_type": "code",
   "execution_count": 9,
   "id": "f11a6591-b417-4821-ac46-fe6721dc615a",
   "metadata": {},
   "outputs": [],
   "source": [
    "blood = {\n",
    "    'A': 15,\n",
    "    'B': 8,\n",
    "    'O': 5,\n",
    "    'AB': 4,\n",
    "}"
   ]
  },
  {
   "cell_type": "code",
   "execution_count": 10,
   "id": "77d500ce-fa68-471c-ad1c-5a3f23148244",
   "metadata": {},
   "outputs": [
    {
     "name": "stdout",
     "output_type": "stream",
     "text": [
      "혈액형의 종류\n",
      "A\n",
      "B\n",
      "O\n",
      "AB\n"
     ]
    }
   ],
   "source": [
    "print('혈액형의 종류')\n",
    "\n",
    "for k in blood:\n",
    "    print(k)"
   ]
  },
  {
   "cell_type": "code",
   "execution_count": 11,
   "id": "e3954093-a2f6-4146-9401-de1c8705c853",
   "metadata": {},
   "outputs": [
    {
     "name": "stdout",
     "output_type": "stream",
     "text": [
      "32\n"
     ]
    }
   ],
   "source": [
    "# 총 학생 수\n",
    "result = 0\n",
    "for v in blood.values():\n",
    "    result += v\n",
    "print(result)"
   ]
  },
  {
   "cell_type": "code",
   "execution_count": 12,
   "id": "81c075c4-e234-44fa-8713-c216310d0eda",
   "metadata": {},
   "outputs": [
    {
     "name": "stdout",
     "output_type": "stream",
     "text": [
      "A형은 15명입니다.\n",
      "B형은 8명입니다.\n",
      "O형은 5명입니다.\n",
      "AB형은 4명입니다.\n"
     ]
    }
   ],
   "source": [
    "for k, v in blood.items():\n",
    "    print(f'{k}형은 {v}명입니다.')"
   ]
  }
 ],
 "metadata": {
  "kernelspec": {
   "display_name": "Python 3 (ipykernel)",
   "language": "python",
   "name": "python3"
  },
  "language_info": {
   "codemirror_mode": {
    "name": "ipython",
    "version": 3
   },
   "file_extension": ".py",
   "mimetype": "text/x-python",
   "name": "python",
   "nbconvert_exporter": "python",
   "pygments_lexer": "ipython3",
   "version": "3.13.2"
  }
 },
 "nbformat": 4,
 "nbformat_minor": 5
}
