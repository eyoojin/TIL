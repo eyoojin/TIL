{
 "cells": [
  {
   "cell_type": "markdown",
   "id": "65fb8205-8a9a-4ce8-a3c9-514de2428109",
   "metadata": {},
   "source": [
    "## 명시적 형변환"
   ]
  },
  {
   "cell_type": "markdown",
   "id": "41d16b9b-7c18-47c3-af50-c9c87a2562dd",
   "metadata": {},
   "source": [
    "- int()\n",
    "- float()\n",
    "- str()\n",
    "- bool()"
   ]
  },
  {
   "cell_type": "code",
   "execution_count": 2,
   "id": "6f94db82-561c-4c24-a082-ec20f7bef11b",
   "metadata": {},
   "outputs": [],
   "source": [
    "a = 1\n",
    "b = '반'"
   ]
  },
  {
   "cell_type": "code",
   "execution_count": 3,
   "id": "dbd82014-144d-4985-af3a-38232d8e5e9b",
   "metadata": {},
   "outputs": [],
   "source": [
    "# print(a + b) # error"
   ]
  },
  {
   "cell_type": "code",
   "execution_count": 4,
   "id": "3fb64837-355c-4337-8789-0caeac4321c7",
   "metadata": {},
   "outputs": [
    {
     "name": "stdout",
     "output_type": "stream",
     "text": [
      "1반\n"
     ]
    }
   ],
   "source": [
    "print(str(a) + b) # 대부분의 경우 str로 변환 가능"
   ]
  },
  {
   "cell_type": "code",
   "execution_count": 5,
   "id": "71ec0202-2018-4593-872b-c15f44134250",
   "metadata": {},
   "outputs": [
    {
     "name": "stdout",
     "output_type": "stream",
     "text": [
      "3\n",
      "<class 'str'>\n"
     ]
    }
   ],
   "source": [
    "a = '3'\n",
    "print(a)\n",
    "print(type(a))"
   ]
  },
  {
   "cell_type": "code",
   "execution_count": 6,
   "id": "0464a7b7-3749-4b10-a770-92ea8b0537a7",
   "metadata": {},
   "outputs": [
    {
     "name": "stdout",
     "output_type": "stream",
     "text": [
      "3\n",
      "<class 'int'>\n"
     ]
    }
   ],
   "source": [
    "b = int(a)\n",
    "print(b)\n",
    "print(type(b))"
   ]
  },
  {
   "cell_type": "code",
   "execution_count": 7,
   "id": "4dd39e12-0593-44a0-a016-b21540a13571",
   "metadata": {},
   "outputs": [],
   "source": [
    "c = 'apple'\n",
    "# d = int(c) # error: 숫자로 바꿀 수 있는 형태여야 가능"
   ]
  },
  {
   "cell_type": "code",
   "execution_count": 8,
   "id": "7327a6f6-717e-4e4e-8ab4-d168273186b5",
   "metadata": {},
   "outputs": [
    {
     "name": "stdout",
     "output_type": "stream",
     "text": [
      "True\n",
      "False\n",
      "True\n"
     ]
    }
   ],
   "source": [
    "a = 1\n",
    "b = 0 # 0만 False, 0이 아닌 나머지 데이터는 True\n",
    "c = -123\n",
    "print(bool(a))\n",
    "print(bool(b))\n",
    "print(bool(c))"
   ]
  },
  {
   "cell_type": "code",
   "execution_count": 9,
   "id": "0b71e413-7c15-4547-89ea-d43cc6892892",
   "metadata": {},
   "outputs": [
    {
     "name": "stdout",
     "output_type": "stream",
     "text": [
      "False\n",
      "True\n"
     ]
    }
   ],
   "source": [
    "print(bool([])) # 데이터가 하나도 없으면 False\n",
    "print(bool([3])) # 데이터가 하나라도 있으면 True"
   ]
  }
 ],
 "metadata": {
  "kernelspec": {
   "display_name": "Python 3 (ipykernel)",
   "language": "python",
   "name": "python3"
  },
  "language_info": {
   "codemirror_mode": {
    "name": "ipython",
    "version": 3
   },
   "file_extension": ".py",
   "mimetype": "text/x-python",
   "name": "python",
   "nbconvert_exporter": "python",
   "pygments_lexer": "ipython3",
   "version": "3.13.2"
  }
 },
 "nbformat": 4,
 "nbformat_minor": 5
}
