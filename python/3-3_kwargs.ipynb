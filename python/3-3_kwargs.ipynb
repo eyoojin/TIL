{
 "cells": [
  {
   "cell_type": "markdown",
   "id": "21b6b468-6982-44eb-aaf8-52c8b0eaec20",
   "metadata": {},
   "source": [
    "## 정의되지 않는 키워드 인자 처리하기"
   ]
  },
  {
   "cell_type": "markdown",
   "id": "8ac8b188-88e0-467f-b7e2-40f4a50d39fb",
   "metadata": {},
   "source": [
    "```python\n",
    "def func_name(**kwargs): # keyword arguments\n",
    "    return value\n",
    "```\n",
    "- *가변 인자 리스트와 비슷*\n",
    "- *키워드가 몇 개 들어오든지 묶어서 dictionary로 만들어줌*"
   ]
  },
  {
   "cell_type": "code",
   "execution_count": 1,
   "id": "f2082483-dbf9-4927-89c2-9f3fa43cad9a",
   "metadata": {},
   "outputs": [
    {
     "name": "stdout",
     "output_type": "stream",
     "text": [
      "{'name': 'ruke', 'age': 22}\n"
     ]
    }
   ],
   "source": [
    "info = dict(name='ruke', age=22)\n",
    "print(info)"
   ]
  },
  {
   "cell_type": "code",
   "execution_count": 2,
   "id": "6d17b7af-e86d-4c26-b7f0-d554806ac096",
   "metadata": {},
   "outputs": [
    {
     "name": "stdout",
     "output_type": "stream",
     "text": [
      "{'asdf': '가나다', 'age': 123, 'test': 'asdf'}\n"
     ]
    }
   ],
   "source": [
    "def my_dict(**kwargs):\n",
    "    print(kwargs)\n",
    "\n",
    "my_dict(asdf='가나다', age=123, test='asdf')"
   ]
  }
 ],
 "metadata": {
  "kernelspec": {
   "display_name": "Python 3 (ipykernel)",
   "language": "python",
   "name": "python3"
  },
  "language_info": {
   "codemirror_mode": {
    "name": "ipython",
    "version": 3
   },
   "file_extension": ".py",
   "mimetype": "text/x-python",
   "name": "python",
   "nbconvert_exporter": "python",
   "pygments_lexer": "ipython3",
   "version": "3.13.2"
  }
 },
 "nbformat": 4,
 "nbformat_minor": 5
}
