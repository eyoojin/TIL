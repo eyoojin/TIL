{
 "cells": [
  {
   "cell_type": "markdown",
   "id": "1fc93ccc-879b-4877-b42b-ec4073f2ac83",
   "metadata": {},
   "source": [
    "## 생성자, 소멸자"
   ]
  },
  {
   "cell_type": "markdown",
   "id": "ccc2add0-cf62-43cc-9204-b6d81c7b7767",
   "metadata": {},
   "source": [
    "```python\n",
    "class MyClass():\n",
    "\n",
    "    def __init__(self):\n",
    "        pass\n",
    "\n",
    "    def __del__(self):\n",
    "        pass\n",
    "```"
   ]
  },
  {
   "cell_type": "code",
   "execution_count": 1,
   "id": "09fe538b-2a3f-4ed3-b1c2-994660f8713e",
   "metadata": {},
   "outputs": [],
   "source": [
    "class Person():\n",
    "    name = ''\n",
    "\n",
    "    def __init__(self, name):\n",
    "        self.name = name\n",
    "        print('init')\n",
    "\n",
    "    def __del__(self):\n",
    "        print('del')"
   ]
  },
  {
   "cell_type": "code",
   "execution_count": 3,
   "id": "ef7dc604-7d40-4433-9d0a-e1da88ca36e3",
   "metadata": {},
   "outputs": [
    {
     "name": "stdout",
     "output_type": "stream",
     "text": [
      "init\n",
      "init\n"
     ]
    }
   ],
   "source": [
    "# p1 = Person() # error: Pesron.__init__(p1, name이 없음)\n",
    "p1 = Person('ruka')\n",
    "p2 = Person('ahyeon')"
   ]
  },
  {
   "cell_type": "code",
   "execution_count": 4,
   "id": "fd9f4a85-61a0-43f9-aff8-cadc648f70f3",
   "metadata": {},
   "outputs": [
    {
     "name": "stdout",
     "output_type": "stream",
     "text": [
      "init\n",
      "del\n",
      "init\n",
      "del\n"
     ]
    }
   ],
   "source": [
    "p1 = Person('ruka') # 2번 실행하면 소멸됨\n",
    "p2 = Person('ahyeon')"
   ]
  },
  {
   "cell_type": "code",
   "execution_count": 5,
   "id": "af7e4247-4952-4e17-9d02-daeaf57e90cd",
   "metadata": {},
   "outputs": [
    {
     "name": "stdout",
     "output_type": "stream",
     "text": [
      "del\n"
     ]
    }
   ],
   "source": [
    "del p1"
   ]
  },
  {
   "cell_type": "code",
   "execution_count": 6,
   "id": "8208691e-2254-4093-bc4f-af37da58d1bd",
   "metadata": {},
   "outputs": [],
   "source": [
    "class Circle():\n",
    "    pi = 3.14\n",
    "\n",
    "    def __init__(self, r, x=0, y=0):\n",
    "        self.r = r\n",
    "        self.x = x\n",
    "        self.y = y\n",
    "\n",
    "    def info(self):\n",
    "        print(f'radius: {self.r}, center: ({self.x}, {self.y})')\n",
    "\n",
    "    def area(self):\n",
    "        return self.r ** 2 * self.pi\n",
    "\n",
    "    def round(self):\n",
    "        return self.r * self.pi * 2\n",
    "\n",
    "    def move(self, x, y):\n",
    "        self.x = x\n",
    "        self.y = y"
   ]
  },
  {
   "cell_type": "code",
   "execution_count": 7,
   "id": "fa5c527f-c049-4acb-8b7c-9d11998d14b1",
   "metadata": {},
   "outputs": [],
   "source": [
    "c1 = Circle(5) # 기본값 인자 활용\n",
    "c2 = Circle(3, 1, 1)"
   ]
  },
  {
   "cell_type": "code",
   "execution_count": 9,
   "id": "d8bb8391-a4a6-431e-b50d-7c994789513e",
   "metadata": {},
   "outputs": [
    {
     "name": "stdout",
     "output_type": "stream",
     "text": [
      "radius: 5, center: (0, 0)\n",
      "radius: 3, center: (1, 1)\n"
     ]
    }
   ],
   "source": [
    "c1.info()\n",
    "c2.info()"
   ]
  },
  {
   "cell_type": "code",
   "execution_count": 10,
   "id": "93ed42b0-6c74-4125-8bc4-87569ad3fc70",
   "metadata": {},
   "outputs": [
    {
     "name": "stdout",
     "output_type": "stream",
     "text": [
      "78.5\n",
      "28.26\n",
      "31.400000000000002\n",
      "18.84\n"
     ]
    }
   ],
   "source": [
    "print(c1.area())\n",
    "print(c2.area())\n",
    "\n",
    "print(c1.round())\n",
    "print(c2.round())"
   ]
  },
  {
   "cell_type": "code",
   "execution_count": 11,
   "id": "f90e4c9f-5734-404f-9b95-fe452a9aaad6",
   "metadata": {},
   "outputs": [
    {
     "name": "stdout",
     "output_type": "stream",
     "text": [
      "radius: 5, center: (100, 100)\n"
     ]
    }
   ],
   "source": [
    "c1.move(100, 100)\n",
    "c1.info()"
   ]
  },
  {
   "cell_type": "code",
   "execution_count": 16,
   "id": "e9ee32e9-e824-4d16-b1e4-34161fdb1732",
   "metadata": {},
   "outputs": [],
   "source": [
    "class Point():\n",
    "    def __init__(self, x, y):\n",
    "        self.x = x\n",
    "        self.y = y\n",
    "\n",
    "    def info(self):\n",
    "        print(f'({self.x}, {self.y})')"
   ]
  },
  {
   "cell_type": "code",
   "execution_count": 18,
   "id": "5bbd2dc8-0177-442c-b84d-0c9b4f9d499d",
   "metadata": {},
   "outputs": [
    {
     "name": "stdout",
     "output_type": "stream",
     "text": [
      "(1, 1)\n"
     ]
    }
   ],
   "source": [
    "p1 = Point(1, 1)\n",
    "p2 = Point(2, 3)\n",
    "\n",
    "p1.info()"
   ]
  },
  {
   "cell_type": "code",
   "execution_count": 22,
   "id": "b2fd97ac-a31c-4417-9e76-4b40a12b6c5c",
   "metadata": {},
   "outputs": [],
   "source": [
    "class Circle():\n",
    "    def __init__(self, r, point):\n",
    "        self.r = r\n",
    "        self.point = point\n",
    "\n",
    "    def info(self):\n",
    "        point = self.point\n",
    "        x = point.x\n",
    "        y = point.y\n",
    "        print(f'radius: {self.r}, center: ({x}, {y})')"
   ]
  },
  {
   "cell_type": "code",
   "execution_count": 23,
   "id": "32ca4622-39a5-4992-af54-06c4b03a604b",
   "metadata": {},
   "outputs": [],
   "source": [
    "c1 = Circle(10, p1)\n",
    "c2 = Circle(5, p2)"
   ]
  },
  {
   "cell_type": "code",
   "execution_count": 24,
   "id": "99fe2ff4-6014-461c-9114-3dfedfe4010e",
   "metadata": {},
   "outputs": [
    {
     "name": "stdout",
     "output_type": "stream",
     "text": [
      "radius: 10, center: (1, 1)\n"
     ]
    }
   ],
   "source": [
    "c1.info()"
   ]
  }
 ],
 "metadata": {
  "kernelspec": {
   "display_name": "Python 3 (ipykernel)",
   "language": "python",
   "name": "python3"
  },
  "language_info": {
   "codemirror_mode": {
    "name": "ipython",
    "version": 3
   },
   "file_extension": ".py",
   "mimetype": "text/x-python",
   "name": "python",
   "nbconvert_exporter": "python",
   "pygments_lexer": "ipython3",
   "version": "3.13.2"
  }
 },
 "nbformat": 4,
 "nbformat_minor": 5
}
