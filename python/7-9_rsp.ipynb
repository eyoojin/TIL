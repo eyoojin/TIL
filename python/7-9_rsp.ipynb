{
 "cells": [
  {
   "cell_type": "markdown",
   "id": "d85284f3-34d3-47c1-aa86-2df91dc805b1",
   "metadata": {},
   "source": [
    "## 가위바위보 게임"
   ]
  },
  {
   "cell_type": "code",
   "execution_count": null,
   "id": "fba3e866-55e4-48b3-8155-b956737b9fc0",
   "metadata": {},
   "outputs": [],
   "source": []
  }
 ],
 "metadata": {
  "kernelspec": {
   "display_name": "Python 3 (ipykernel)",
   "language": "python",
   "name": "python3"
  },
  "language_info": {
   "codemirror_mode": {
    "name": "ipython",
    "version": 3
   },
   "file_extension": ".py",
   "mimetype": "text/x-python",
   "name": "python",
   "nbconvert_exporter": "python",
   "pygments_lexer": "ipython3",
   "version": "3.13.2"
  }
 },
 "nbformat": 4,
 "nbformat_minor": 5
}
