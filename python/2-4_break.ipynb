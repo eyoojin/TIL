{
 "cells": [
  {
   "cell_type": "markdown",
   "id": "a3c32008-02b7-4a8d-8951-054ac0cfe6b7",
   "metadata": {},
   "source": [
    "## break"
   ]
  },
  {
   "cell_type": "markdown",
   "id": "0480de34-d982-411a-931c-89d711e5d3de",
   "metadata": {},
   "source": [
    "- 반복문을 종료시키는 키워드"
   ]
  },
  {
   "cell_type": "code",
   "execution_count": 1,
   "id": "455ccd6c-8f91-49b9-b5a8-0c8c8835b628",
   "metadata": {},
   "outputs": [
    {
     "name": "stdout",
     "output_type": "stream",
     "text": [
      "여기는 for문 0\n",
      "여기는 for문 1\n",
      "여기는 for문 2\n",
      "여기는 for문 3\n",
      "여기는 for문 4\n",
      "여기는 for문 5\n",
      "여기는 for문 6\n",
      "여기는 break\n"
     ]
    }
   ],
   "source": [
    "for i in range(100):\n",
    "    print('여기는 for문', i)\n",
    "    if i > 5:\n",
    "        print('여기는 break')\n",
    "        break"
   ]
  },
  {
   "cell_type": "code",
   "execution_count": 2,
   "id": "20813b7f-8063-4fc6-a7c7-af3982c38cce",
   "metadata": {},
   "outputs": [
    {
     "name": "stdin",
     "output_type": "stream",
     "text": [
      " 보리\n"
     ]
    },
    {
     "name": "stdout",
     "output_type": "stream",
     "text": [
      "보리\n"
     ]
    },
    {
     "name": "stdin",
     "output_type": "stream",
     "text": [
      " 보리\n"
     ]
    },
    {
     "name": "stdout",
     "output_type": "stream",
     "text": [
      "보리\n"
     ]
    },
    {
     "name": "stdin",
     "output_type": "stream",
     "text": [
      " 쌀\n"
     ]
    },
    {
     "name": "stdout",
     "output_type": "stream",
     "text": [
      "쌀\n",
      "잡았다!\n"
     ]
    }
   ],
   "source": [
    "while True:\n",
    "    rice = input()\n",
    "    print(rice)\n",
    "    if rice == '쌀':\n",
    "        print('잡았다!')\n",
    "        break"
   ]
  }
 ],
 "metadata": {
  "kernelspec": {
   "display_name": "Python 3 (ipykernel)",
   "language": "python",
   "name": "python3"
  },
  "language_info": {
   "codemirror_mode": {
    "name": "ipython",
    "version": 3
   },
   "file_extension": ".py",
   "mimetype": "text/x-python",
   "name": "python",
   "nbconvert_exporter": "python",
   "pygments_lexer": "ipython3",
   "version": "3.13.2"
  }
 },
 "nbformat": 4,
 "nbformat_minor": 5
}
