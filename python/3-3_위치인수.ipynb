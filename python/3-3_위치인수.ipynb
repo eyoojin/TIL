{
 "cells": [
  {
   "cell_type": "markdown",
   "id": "3c626b69-d80b-4802-a734-f7d00a929328",
   "metadata": {},
   "source": [
    "## 위치 인수"
   ]
  },
  {
   "cell_type": "markdown",
   "id": "9f69e94a-42d9-46e2-b558-285848800376",
   "metadata": {},
   "source": [
    "- 기본적으로 함수는 위치를 기준으로 인수를 판단"
   ]
  },
  {
   "cell_type": "code",
   "execution_count": 1,
   "id": "c0e79af2-23a7-4325-983c-84f691227d0b",
   "metadata": {},
   "outputs": [],
   "source": [
    "def cylinder(r, h): # 원기둥의 부피\n",
    "    return 3.14 * r ** 2 * h"
   ]
  },
  {
   "cell_type": "code",
   "execution_count": 2,
   "id": "6c428b02-53f7-4a30-b845-cb73278b0922",
   "metadata": {},
   "outputs": [
    {
     "data": {
      "text/plain": [
       "282.6"
      ]
     },
     "execution_count": 2,
     "metadata": {},
     "output_type": "execute_result"
    }
   ],
   "source": [
    "cylinder(3, 10)"
   ]
  },
  {
   "cell_type": "code",
   "execution_count": 3,
   "id": "f1539ac8-f917-4a2c-918c-06f0e5a14fbd",
   "metadata": {},
   "outputs": [
    {
     "data": {
      "text/plain": [
       "942.0"
      ]
     },
     "execution_count": 3,
     "metadata": {},
     "output_type": "execute_result"
    }
   ],
   "source": [
    "cylinder(10, 3)"
   ]
  }
 ],
 "metadata": {
  "kernelspec": {
   "display_name": "Python 3 (ipykernel)",
   "language": "python",
   "name": "python3"
  },
  "language_info": {
   "codemirror_mode": {
    "name": "ipython",
    "version": 3
   },
   "file_extension": ".py",
   "mimetype": "text/x-python",
   "name": "python",
   "nbconvert_exporter": "python",
   "pygments_lexer": "ipython3",
   "version": "3.13.2"
  }
 },
 "nbformat": 4,
 "nbformat_minor": 5
}
