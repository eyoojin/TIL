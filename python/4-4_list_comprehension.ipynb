{
 "cells": [
  {
   "cell_type": "code",
   "execution_count": 1,
   "id": "7f93e603-6486-44c5-a9ca-8e155fa19f85",
   "metadata": {},
   "outputs": [],
   "source": [
    "words = 'my name is ruka'\n",
    "# => my nm s rk"
   ]
  },
  {
   "cell_type": "code",
   "execution_count": 3,
   "id": "dcdc0b2f-138a-4e8d-b916-279eb7a8a4e9",
   "metadata": {},
   "outputs": [
    {
     "name": "stdout",
     "output_type": "stream",
     "text": [
      "my nm s rk\n"
     ]
    }
   ],
   "source": [
    "vowels = 'aeiou'\n",
    "char = ''\n",
    "for word in words:\n",
    "    if word not in vowels:\n",
    "        char += word\n",
    "print(char)"
   ]
  },
  {
   "cell_type": "code",
   "execution_count": 4,
   "id": "267dabee-53d9-4ecd-8b4f-afd1828861bd",
   "metadata": {},
   "outputs": [],
   "source": [
    "char = ''\n",
    "result = [char + word for word in words if word not in vowels]"
   ]
  },
  {
   "cell_type": "code",
   "execution_count": 6,
   "id": "b9c64e47-1561-42d7-9f2b-96d2efe11981",
   "metadata": {},
   "outputs": [
    {
     "name": "stdout",
     "output_type": "stream",
     "text": [
      "my nm s rk\n"
     ]
    }
   ],
   "source": [
    "print(''.join(result))"
   ]
  },
  {
   "cell_type": "code",
   "execution_count": 7,
   "id": "7f5129de-e430-40b2-8a73-68683217c2ff",
   "metadata": {},
   "outputs": [
    {
     "name": "stdout",
     "output_type": "stream",
     "text": [
      "my nm s rk\n"
     ]
    }
   ],
   "source": [
    "answer = [word for word in words if word not in vowels]\n",
    "print(''.join(answer))"
   ]
  },
  {
   "cell_type": "code",
   "execution_count": 8,
   "id": "6656e4ff-0c4a-4213-bc84-82609bdd2770",
   "metadata": {},
   "outputs": [
    {
     "name": "stdout",
     "output_type": "stream",
     "text": [
      "my nm s rk\n"
     ]
    }
   ],
   "source": [
    "for word in vowels:\n",
    "    words = words.replace(word, '')\n",
    "\n",
    "print(words)"
   ]
  }
 ],
 "metadata": {
  "kernelspec": {
   "display_name": "Python 3 (ipykernel)",
   "language": "python",
   "name": "python3"
  },
  "language_info": {
   "codemirror_mode": {
    "name": "ipython",
    "version": 3
   },
   "file_extension": ".py",
   "mimetype": "text/x-python",
   "name": "python",
   "nbconvert_exporter": "python",
   "pygments_lexer": "ipython3",
   "version": "3.13.2"
  }
 },
 "nbformat": 4,
 "nbformat_minor": 5
}
