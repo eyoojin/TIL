{
 "cells": [
  {
   "cell_type": "markdown",
   "id": "44c3f95e-a08c-47f9-9805-64b2c4e20fdb",
   "metadata": {},
   "source": [
    "## 키워드 인수"
   ]
  },
  {
   "cell_type": "markdown",
   "id": "e5a6e5de-60cc-469e-af53-d441ca684fab",
   "metadata": {},
   "source": [
    "- 함수를 호출할 때 내가 원하는 위치에 직접적으로 값을 전달"
   ]
  },
  {
   "cell_type": "code",
   "execution_count": 1,
   "id": "5e13f789-5bd1-4574-809b-371ea25ea53b",
   "metadata": {},
   "outputs": [],
   "source": [
    "def greeting(age, name='익명'):\n",
    "    return f'{name}님의 나이는 {age}살입니다.'"
   ]
  },
  {
   "cell_type": "code",
   "execution_count": 2,
   "id": "8e0516f9-11a7-4fe9-86fe-56744b7c7375",
   "metadata": {},
   "outputs": [
    {
     "data": {
      "text/plain": [
       "'ruka님의 나이는 22살입니다.'"
      ]
     },
     "execution_count": 2,
     "metadata": {},
     "output_type": "execute_result"
    }
   ],
   "source": [
    "greeting(name='ruka', age=22)"
   ]
  }
 ],
 "metadata": {
  "kernelspec": {
   "display_name": "Python 3 (ipykernel)",
   "language": "python",
   "name": "python3"
  },
  "language_info": {
   "codemirror_mode": {
    "name": "ipython",
    "version": 3
   },
   "file_extension": ".py",
   "mimetype": "text/x-python",
   "name": "python",
   "nbconvert_exporter": "python",
   "pygments_lexer": "ipython3",
   "version": "3.13.2"
  }
 },
 "nbformat": 4,
 "nbformat_minor": 5
}
