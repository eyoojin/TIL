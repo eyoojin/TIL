{
 "cells": [
  {
   "cell_type": "markdown",
   "id": "008f9278-35af-439e-8172-095d90672151",
   "metadata": {},
   "source": [
    "## while문"
   ]
  },
  {
   "cell_type": "markdown",
   "id": "24c18484-edc1-4bfc-9170-bf8dc56c4e06",
   "metadata": {},
   "source": [
    "```\n",
    "while <조건식>:\n",
    "    실행할 코드\n",
    "```\n",
    "- *조건식이 참인 동안 코드를 반복하다가 조건식이 거짓이 되면 멈춤*"
   ]
  },
  {
   "cell_type": "code",
   "execution_count": 1,
   "id": "55d1e83d-2fd9-457a-ab53-bbbba260f117",
   "metadata": {},
   "outputs": [
    {
     "name": "stdout",
     "output_type": "stream",
     "text": [
      "0\n",
      "1\n",
      "2\n",
      "3\n",
      "4\n"
     ]
    }
   ],
   "source": [
    "a = 0\n",
    "\n",
    "while a < 5: # 언제 끝나는지 조건을 만들어주는 것이 중요\n",
    "    print(a) # 지정하지 않으면 무한루프에 빠짐\n",
    "    a = a + 1"
   ]
  }
 ],
 "metadata": {
  "kernelspec": {
   "display_name": "Python 3 (ipykernel)",
   "language": "python",
   "name": "python3"
  },
  "language_info": {
   "codemirror_mode": {
    "name": "ipython",
    "version": 3
   },
   "file_extension": ".py",
   "mimetype": "text/x-python",
   "name": "python",
   "nbconvert_exporter": "python",
   "pygments_lexer": "ipython3",
   "version": "3.13.2"
  }
 },
 "nbformat": 4,
 "nbformat_minor": 5
}
