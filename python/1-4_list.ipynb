{
 "cells": [
  {
   "cell_type": "markdown",
   "id": "5e698bc6-ed03-4d7c-b358-24e872ea4180",
   "metadata": {},
   "source": [
    "## List(리스트, 배열)"
   ]
  },
  {
   "cell_type": "markdown",
   "id": "b545185b-d8dc-44cd-bc5c-fb085f7e31dd",
   "metadata": {},
   "source": [
    "- 선언: `var_name = [value1, value2, value3, ...]`\n",
    "- 접근: `var_name[index]` *(index: 숫자 데이터 0, 1, 2번쩨...)*"
   ]
  },
  {
   "cell_type": "code",
   "execution_count": 2,
   "id": "226b28cf-f09e-430b-95b7-709904431eac",
   "metadata": {},
   "outputs": [
    {
     "name": "stdout",
     "output_type": "stream",
     "text": [
      "[]\n",
      "<class 'list'>\n"
     ]
    }
   ],
   "source": [
    "l = []\n",
    "print(l)\n",
    "print(type(l))"
   ]
  },
  {
   "cell_type": "code",
   "execution_count": 3,
   "id": "7105bca2-587c-4d92-92d2-575aa8e32099",
   "metadata": {},
   "outputs": [
    {
     "name": "stdout",
     "output_type": "stream",
     "text": [
      "['서울', '대전', '부산']\n",
      "서울\n",
      "대전\n",
      "부산\n"
     ]
    }
   ],
   "source": [
    "location = ['서울', '대전', '부산']\n",
    "print(location)\n",
    "print(location[0])\n",
    "print(location[1])\n",
    "print(location[2])\n",
    "# print(location[3]) # error: out of range"
   ]
  },
  {
   "cell_type": "code",
   "execution_count": 4,
   "id": "a3fc4b82-2107-4a30-adab-f8634f64a53f",
   "metadata": {},
   "outputs": [
    {
     "name": "stdout",
     "output_type": "stream",
     "text": [
      "['서울', '대구', '부산']\n"
     ]
    }
   ],
   "source": [
    "location[1] = '대구' # 제할당\n",
    "print(location)"
   ]
  }
 ],
 "metadata": {
  "kernelspec": {
   "display_name": "Python 3 (ipykernel)",
   "language": "python",
   "name": "python3"
  },
  "language_info": {
   "codemirror_mode": {
    "name": "ipython",
    "version": 3
   },
   "file_extension": ".py",
   "mimetype": "text/x-python",
   "name": "python",
   "nbconvert_exporter": "python",
   "pygments_lexer": "ipython3",
   "version": "3.13.2"
  }
 },
 "nbformat": 4,
 "nbformat_minor": 5
}
