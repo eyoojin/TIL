{
 "cells": [
  {
   "cell_type": "markdown",
   "id": "cf667f2e-3a65-4838-81b2-d7a080952c68",
   "metadata": {},
   "source": [
    "#  01. 변수"
   ]
  },
  {
   "cell_type": "markdown",
   "id": "4bbfbe67-132f-457a-97aa-47266ceaf35f",
   "metadata": {},
   "source": [
    "```\n",
    "var_name = value\n",
    "```\n",
    "- 변수 이름은 어떤 이름이든 사용 가능\n",
    "- but 영어, 숫자, _를 이용해서 선언\n",
    "- 키워드는 불가능"
   ]
  },
  {
   "cell_type": "code",
   "execution_count": null,
   "id": "809e9823-cbfb-4a6f-9061-decb3aeabf75",
   "metadata": {},
   "outputs": [],
   "source": []
  }
 ],
 "metadata": {
  "kernelspec": {
   "display_name": "Python 3 (ipykernel)",
   "language": "python",
   "name": "python3"
  },
  "language_info": {
   "codemirror_mode": {
    "name": "ipython",
    "version": 3
   },
   "file_extension": ".py",
   "mimetype": "text/x-python",
   "name": "python",
   "nbconvert_exporter": "python",
   "pygments_lexer": "ipython3",
   "version": "3.13.2"
  }
 },
 "nbformat": 4,
 "nbformat_minor": 5
}
