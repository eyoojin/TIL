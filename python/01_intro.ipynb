{
 "cells": [
  {
   "cell_type": "markdown",
   "id": "cf667f2e-3a65-4838-81b2-d7a080952c68",
   "metadata": {},
   "source": [
    "#  1. 변수"
   ]
  },
  {
   "cell_type": "markdown",
   "id": "4bbfbe67-132f-457a-97aa-47266ceaf35f",
   "metadata": {},
   "source": [
    "```\n",
    "var_name = value\n",
    "```\n",
    "- 변수 이름은 어떤 이름이든 사용 가능\n",
    "- but 영어, 숫자, _를 이용해서 선언\n",
    "- 키워드는 불가능"
   ]
  },
  {
   "cell_type": "code",
   "execution_count": 7,
   "id": "809e9823-cbfb-4a6f-9061-decb3aeabf75",
   "metadata": {},
   "outputs": [
    {
     "data": {
      "text/plain": [
       "100"
      ]
     },
     "execution_count": 7,
     "metadata": {},
     "output_type": "execute_result"
    }
   ],
   "source": [
    "a = 100\n",
    "a # 아래에 결과값 바로 출력"
   ]
  },
  {
   "cell_type": "code",
   "execution_count": 5,
   "id": "fe15e88d-431e-4be7-a3df-5610ede75bfb",
   "metadata": {},
   "outputs": [
    {
     "data": {
      "text/plain": [
       "['False',\n",
       " 'None',\n",
       " 'True',\n",
       " 'and',\n",
       " 'as',\n",
       " 'assert',\n",
       " 'async',\n",
       " 'await',\n",
       " 'break',\n",
       " 'class',\n",
       " 'continue',\n",
       " 'def',\n",
       " 'del',\n",
       " 'elif',\n",
       " 'else',\n",
       " 'except',\n",
       " 'finally',\n",
       " 'for',\n",
       " 'from',\n",
       " 'global',\n",
       " 'if',\n",
       " 'import',\n",
       " 'in',\n",
       " 'is',\n",
       " 'lambda',\n",
       " 'nonlocal',\n",
       " 'not',\n",
       " 'or',\n",
       " 'pass',\n",
       " 'raise',\n",
       " 'return',\n",
       " 'try',\n",
       " 'while',\n",
       " 'with',\n",
       " 'yield']"
      ]
     },
     "execution_count": 5,
     "metadata": {},
     "output_type": "execute_result"
    }
   ],
   "source": [
    "import keyword\n",
    "keyword.kwlist"
   ]
  },
  {
   "cell_type": "markdown",
   "id": "cd6d0c1f-d226-456f-b07e-f45b9e270d40",
   "metadata": {},
   "source": [
    "## 1.1 number"
   ]
  },
  {
   "cell_type": "code",
   "execution_count": 8,
   "id": "7184bc13-b52c-457c-a046-f56fa864c071",
   "metadata": {},
   "outputs": [
    {
     "data": {
      "text/plain": [
       "int"
      ]
     },
     "execution_count": 8,
     "metadata": {},
     "output_type": "execute_result"
    }
   ],
   "source": [
    "a = 10000 # 덮어씌우기 # 데이터 타입 다양\n",
    "type(a) # integer: 정수"
   ]
  },
  {
   "cell_type": "code",
   "execution_count": 9,
   "id": "aa08cc59-273a-4ffe-bd2b-b1f0c253de0e",
   "metadata": {},
   "outputs": [
    {
     "data": {
      "text/plain": [
       "float"
      ]
     },
     "execution_count": 9,
     "metadata": {},
     "output_type": "execute_result"
    }
   ],
   "source": [
    "b = 1.1\n",
    "type(b) # float: 실수"
   ]
  },
  {
   "cell_type": "code",
   "execution_count": 10,
   "id": "fe529502-e9da-4815-a457-071909d64811",
   "metadata": {},
   "outputs": [
    {
     "data": {
      "text/plain": [
       "complex"
      ]
     },
     "execution_count": 10,
     "metadata": {},
     "output_type": "execute_result"
    }
   ],
   "source": [
    "c = 1 + 1j\n",
    "type(c) # complex: 복소수"
   ]
  },
  {
   "cell_type": "markdown",
   "id": "e4414114-cdfc-4db4-ae8c-e50f3976791a",
   "metadata": {},
   "source": [
    "## 1.2 boolean"
   ]
  },
  {
   "cell_type": "code",
   "execution_count": 11,
   "id": "00b00fde-a901-4db5-afd4-670b18c6e0f6",
   "metadata": {},
   "outputs": [
    {
     "data": {
      "text/plain": [
       "bool"
      ]
     },
     "execution_count": 11,
     "metadata": {},
     "output_type": "execute_result"
    }
   ],
   "source": [
    "a = True\n",
    "type(a) # boolean: 참 또는 거짓"
   ]
  },
  {
   "cell_type": "markdown",
   "id": "99f419a3-a454-4f63-a8c0-ae2f01973091",
   "metadata": {},
   "source": [
    "## 1.3 string"
   ]
  },
  {
   "cell_type": "markdown",
   "id": "add8fda6-44cd-45cd-9f5a-79b8f4464ee5",
   "metadata": {},
   "source": [
    "- `'`, `\"`를 이용하여 표현\n",
    "- *문자열*\n",
    "- *어디로 가느냐에 따라 모양이 달라질 수 있음*"
   ]
  },
  {
   "cell_type": "code",
   "execution_count": null,
   "id": "f512e6b8-9052-4f7f-a236-5198ff67a640",
   "metadata": {},
   "outputs": [],
   "source": []
  }
 ],
 "metadata": {
  "kernelspec": {
   "display_name": "Python 3 (ipykernel)",
   "language": "python",
   "name": "python3"
  },
  "language_info": {
   "codemirror_mode": {
    "name": "ipython",
    "version": 3
   },
   "file_extension": ".py",
   "mimetype": "text/x-python",
   "name": "python",
   "nbconvert_exporter": "python",
   "pygments_lexer": "ipython3",
   "version": "3.13.2"
  }
 },
 "nbformat": 4,
 "nbformat_minor": 5
}
