{
 "cells": [
  {
   "cell_type": "markdown",
   "id": "19b70e95-2cc1-4b39-9773-015d7e3487cc",
   "metadata": {},
   "source": [
    "# 02. control of flow (제어문)"
   ]
  },
  {
   "cell_type": "markdown",
   "id": "f1e65bbe-b943-4df7-9aa0-b1a87986793d",
   "metadata": {},
   "source": [
    "## 조건문 (if문)"
   ]
  },
  {
   "cell_type": "markdown",
   "id": "a3d5da63-3ee2-4188-aa64-7962c9ac8b0e",
   "metadata": {},
   "source": [
    "1. if문은 반드시 참/거짓을 판단할 수 있는 `조건식`과 함께 사용\n",
    "    - `if <조건식>:`\n",
    "2. `<조건식>`이 참인 경우: `:` 이후의 문장을 실행\n",
    "3. `<조건식>`이 거짓인 경우: `else` 이후의 문장을 실행\n",
    "```\n",
    "if <조건식>:\n",
    "    if의 조건식이 참인 경우 실행하는 코드\n",
    "else:\n",
    "    if의 조건식이 거짓인 경우 실행하는 코드"
   ]
  },
  {
   "cell_type": "code",
   "execution_count": 1,
   "id": "6cb25699-bbe4-41e3-9f65-e5a491bde711",
   "metadata": {},
   "outputs": [
    {
     "name": "stdin",
     "output_type": "stream",
     "text": [
      " 12/24\n"
     ]
    },
    {
     "name": "stdout",
     "output_type": "stream",
     "text": [
      "12/24\n",
      "No\n"
     ]
    }
   ],
   "source": [
    "my_string = input() # input: 사용자가 마음대로 입력하고 싶을 때 사용\n",
    "print(my_string)\n",
    "\n",
    "if my_string == '12/25':\n",
    "    print('Merry Christmas!')\n",
    "else:\n",
    "    print('No')"
   ]
  },
  {
   "cell_type": "code",
   "execution_count": 3,
   "id": "71c01bfb-bda8-4d8e-8980-80defc7c4c4f",
   "metadata": {},
   "outputs": [],
   "source": [
    "# num = input()\n",
    "# print(num)\n",
    "\n",
    "# if num % 2 == 1: # error: num을 글자로 인식\n",
    "#     print('odd')\n",
    "# else:\n",
    "#     print('even')"
   ]
  },
  {
   "cell_type": "code",
   "execution_count": 4,
   "id": "16f7768f-674d-49c4-be78-2971efe3cea7",
   "metadata": {},
   "outputs": [
    {
     "name": "stdin",
     "output_type": "stream",
     "text": [
      "숫자를 입력해주세요. 5\n"
     ]
    },
    {
     "name": "stdout",
     "output_type": "stream",
     "text": [
      "5\n",
      "odd\n"
     ]
    }
   ],
   "source": [
    "num = input('숫자를 입력해주세요.')\n",
    "print(num)\n",
    "\n",
    "if int(num) % 2 == 1:\n",
    "    print('odd')\n",
    "else:\n",
    "    print('even')"
   ]
  },
  {
   "cell_type": "code",
   "execution_count": 5,
   "id": "2ae6928d-efaa-4e62-a5b1-6c1a627456e9",
   "metadata": {},
   "outputs": [
    {
     "name": "stdin",
     "output_type": "stream",
     "text": [
      " 4\n"
     ]
    },
    {
     "name": "stdout",
     "output_type": "stream",
     "text": [
      "4\n",
      "even\n"
     ]
    }
   ],
   "source": [
    "num = int(input())\n",
    "print(num)\n",
    "\n",
    "if num % 2: # if문 안쪽은 True(1)여야 함\n",
    "    print('odd')\n",
    "else:\n",
    "    print('even')"
   ]
  },
  {
   "cell_type": "markdown",
   "id": "b358e50e-d7b1-476b-92f7-c29f6251021c",
   "metadata": {},
   "source": [
    "## elif"
   ]
  },
  {
   "cell_type": "markdown",
   "id": "80d823c5-4328-4151-9dee-a2bd3d27b0c1",
   "metadata": {},
   "source": [
    "- *else if*\n",
    "```\n",
    "if <조건식>:\n",
    "    if문이 참인 경우\n",
    "elif <조건식>:\n",
    "    elif문이 참인 경우\n",
    "else:\n",
    "    위의 모든 조건이 거짓인 경우\n",
    "```"
   ]
  },
  {
   "cell_type": "code",
   "execution_count": 6,
   "id": "9628daac-756b-4121-ad74-bdbc3d988f24",
   "metadata": {},
   "outputs": [
    {
     "name": "stdin",
     "output_type": "stream",
     "text": [
      " 97\n"
     ]
    },
    {
     "name": "stdout",
     "output_type": "stream",
     "text": [
      "97\n",
      "A\n",
      "good!\n"
     ]
    }
   ],
   "source": [
    "score = int(input())\n",
    "print(score)\n",
    "\n",
    "if score >= 90:\n",
    "    print('A')\n",
    "    if score >= 95: # if문 중첩\n",
    "        print('good!')\n",
    "elif score >= 80:\n",
    "    print('B')\n",
    "elif score >= 70:\n",
    "    print('C')\n",
    "else:\n",
    "    print('F')"
   ]
  },
  {
   "cell_type": "markdown",
   "id": "d733e20f-288e-4cdb-a457-e56c3c53491a",
   "metadata": {},
   "source": [
    "- `true_value if <조건식> else false value`"
   ]
  },
  {
   "cell_type": "code",
   "execution_count": 7,
   "id": "6ac73816-ee4d-465c-a9be-cdc5bc7c711c",
   "metadata": {},
   "outputs": [
    {
     "name": "stdout",
     "output_type": "stream",
     "text": [
      "-100\n"
     ]
    }
   ],
   "source": [
    "a = 0\n",
    "\n",
    "if False:\n",
    "    a = 100\n",
    "else:\n",
    "    a = -100\n",
    "\n",
    "print(a)"
   ]
  },
  {
   "cell_type": "code",
   "execution_count": 10,
   "id": "e3a15101-876d-4edb-a45b-85f75416f719",
   "metadata": {},
   "outputs": [
    {
     "name": "stdout",
     "output_type": "stream",
     "text": [
      "-100\n"
     ]
    }
   ],
   "source": [
    "a = 100 if False else -100\n",
    "print(a) # 참/거짓에 따라 특정한 값을 표현하고 싶을 때 사용"
   ]
  },
  {
   "cell_type": "code",
   "execution_count": 11,
   "id": "a57901a4-0cfd-4ef4-ba46-b99973d9c0e5",
   "metadata": {},
   "outputs": [
    {
     "name": "stdin",
     "output_type": "stream",
     "text": [
      " -100\n"
     ]
    },
    {
     "name": "stdout",
     "output_type": "stream",
     "text": [
      "-100\n",
      "0\n"
     ]
    }
   ],
   "source": [
    "num = int(input())\n",
    "print(num)\n",
    "\n",
    "if num >= 0:\n",
    "    result = num\n",
    "else:\n",
    "    result = 0\n",
    "print(result)"
   ]
  },
  {
   "cell_type": "code",
   "execution_count": 12,
   "id": "076ef82a-3cf4-43b1-89c2-5766d532f13b",
   "metadata": {},
   "outputs": [
    {
     "name": "stdin",
     "output_type": "stream",
     "text": [
      " 10\n"
     ]
    },
    {
     "name": "stdout",
     "output_type": "stream",
     "text": [
      "10\n",
      "10\n"
     ]
    }
   ],
   "source": [
    "num = int(input())\n",
    "print(num)\n",
    "\n",
    "result = num if num >= 0 else 0\n",
    "print(result)"
   ]
  }
 ],
 "metadata": {
  "kernelspec": {
   "display_name": "Python 3 (ipykernel)",
   "language": "python",
   "name": "python3"
  },
  "language_info": {
   "codemirror_mode": {
    "name": "ipython",
    "version": 3
   },
   "file_extension": ".py",
   "mimetype": "text/x-python",
   "name": "python",
   "nbconvert_exporter": "python",
   "pygments_lexer": "ipython3",
   "version": "3.13.2"
  }
 },
 "nbformat": 4,
 "nbformat_minor": 5
}
