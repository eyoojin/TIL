{
 "cells": [
  {
   "cell_type": "markdown",
   "id": "249c7c69-c5e4-4deb-939c-fd2752cdb8f9",
   "metadata": {},
   "source": [
    "## 클래스 메소드/ 인스턴스 메소드/ 스태틱 메소드"
   ]
  },
  {
   "cell_type": "markdown",
   "id": "35886b42-f36f-40d2-a706-6d9260c36864",
   "metadata": {},
   "source": [
    "```python\n",
    "class MyClass():\n",
    "    \n",
    "    def instance_method(self): # 인스턴스 자기 자신\n",
    "        pass\n",
    "\n",
    "    @classmethod\n",
    "    def class_method(cls): # 클래스 개체 자체\n",
    "        pass\n",
    "\n",
    "    @staticmethod\n",
    "    def static_method(): # 클래스 변수나 인스턴스 변수를 건드리지 않을 때\n",
    "        pass\n",
    "```"
   ]
  },
  {
   "cell_type": "code",
   "execution_count": 1,
   "id": "f6bd670c-5726-4709-b19d-5b50f4314ed9",
   "metadata": {},
   "outputs": [],
   "source": [
    "class MyClass():\n",
    "\n",
    "    def instance_method(self):\n",
    "        print(self)\n",
    "\n",
    "    @classmethod\n",
    "    def class_method(cls):\n",
    "        print(cls)\n",
    "\n",
    "    @staticmethod\n",
    "    def static_method():\n",
    "        print('static')"
   ]
  },
  {
   "cell_type": "code",
   "execution_count": 3,
   "id": "3ab20787-86ac-49c8-9854-49e549767278",
   "metadata": {},
   "outputs": [
    {
     "name": "stdout",
     "output_type": "stream",
     "text": [
      "<__main__.MyClass object at 0x000002807E252FD0>\n",
      "<__main__.MyClass object at 0x000002807E252FD0>\n"
     ]
    }
   ],
   "source": [
    "mc = MyClass()\n",
    "\n",
    "mc.instance_method() # => self: 내가 인스턴스화한 자기 자신 그 자체\n",
    "print(mc)"
   ]
  },
  {
   "cell_type": "code",
   "execution_count": 4,
   "id": "9fde7a5f-a055-420e-ad0c-c0a4d1056db2",
   "metadata": {},
   "outputs": [
    {
     "name": "stdout",
     "output_type": "stream",
     "text": [
      "<class '__main__.MyClass'>\n",
      "<class '__main__.MyClass'>\n"
     ]
    }
   ],
   "source": [
    "mc.class_method() # => cls\n",
    "print(MyClass)"
   ]
  },
  {
   "cell_type": "code",
   "execution_count": 5,
   "id": "c3a5feee-644d-4b4c-bebf-e020effc9348",
   "metadata": {},
   "outputs": [
    {
     "name": "stdout",
     "output_type": "stream",
     "text": [
      "static\n"
     ]
    }
   ],
   "source": [
    "mc.static_method()"
   ]
  },
  {
   "cell_type": "code",
   "execution_count": 10,
   "id": "315344c9-7e01-47d9-9f7f-d6fb86aa3f8a",
   "metadata": {},
   "outputs": [],
   "source": [
    "class BabyMonster():\n",
    "    member = 0\n",
    "\n",
    "    def __init__(self, name):\n",
    "        self.name = name\n",
    "        BabyMonster.member += 1\n",
    "\n",
    "    @classmethod\n",
    "    def info(cls):\n",
    "        print(f'baby monster member is {cls.member}.')\n",
    "\n",
    "    # @instancemethod\n",
    "    def sing(self):\n",
    "        print(f'lala my name is {self.name}.')\n",
    "\n",
    "    @staticmethod\n",
    "    def song():\n",
    "        print('lala')"
   ]
  },
  {
   "cell_type": "code",
   "execution_count": 11,
   "id": "6a6fca09-dd55-4edc-bf20-8bf14b1e2ab8",
   "metadata": {},
   "outputs": [
    {
     "name": "stdout",
     "output_type": "stream",
     "text": [
      "baby monster member is 3.\n"
     ]
    }
   ],
   "source": [
    "b1 = BabyMonster('ruka')\n",
    "b2 = BabyMonster('ahyeon')\n",
    "b3 = BabyMonster('asa')\n",
    "\n",
    "BabyMonster.info()"
   ]
  },
  {
   "cell_type": "code",
   "execution_count": 12,
   "id": "dfdf7a3b-24b1-434d-b695-6f26b15e66d8",
   "metadata": {},
   "outputs": [
    {
     "name": "stdout",
     "output_type": "stream",
     "text": [
      "lala my name is ruka.\n",
      "lala my name is ahyeon.\n"
     ]
    }
   ],
   "source": [
    "b1.sing()\n",
    "b2.sing()"
   ]
  },
  {
   "cell_type": "code",
   "execution_count": 13,
   "id": "d071fe76-0b31-4055-a682-38090836ec44",
   "metadata": {},
   "outputs": [
    {
     "name": "stdout",
     "output_type": "stream",
     "text": [
      "lala\n",
      "lala\n"
     ]
    }
   ],
   "source": [
    "b1.song()\n",
    "b2.song()"
   ]
  }
 ],
 "metadata": {
  "kernelspec": {
   "display_name": "Python 3 (ipykernel)",
   "language": "python",
   "name": "python3"
  },
  "language_info": {
   "codemirror_mode": {
    "name": "ipython",
    "version": 3
   },
   "file_extension": ".py",
   "mimetype": "text/x-python",
   "name": "python",
   "nbconvert_exporter": "python",
   "pygments_lexer": "ipython3",
   "version": "3.13.2"
  }
 },
 "nbformat": 4,
 "nbformat_minor": 5
}
