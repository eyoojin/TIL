{
 "cells": [
  {
   "cell_type": "markdown",
   "id": "e316ec11-e987-4338-b55a-4cb8b084b693",
   "metadata": {},
   "source": [
    "## lotto"
   ]
  },
  {
   "cell_type": "markdown",
   "id": "12e0ba07-c324-481e-8cc9-220f25833b84",
   "metadata": {},
   "source": [
    "1. 로또 5000원 구매하기\n",
    "    - 랜덤으로 6개 숫자로 이루어진 5세트의 로또 번호를 생성\n",
    "2. 최신회차 당첨번호 수집\n",
    "3. 등수 확인\n",
    "    - 최신회차의 당첨번호와 생성된 번호를 비교하여 몇등인지 출력\n",
    "    - 1, 3, 4, 5, 꽝 우선 작성 후 2등\n",
    "4. 추가 기능 구현\n",
    "    - 참고링크(https://parkminkyu.github.io/newLotto/lottoWin.html)"
   ]
  },
  {
   "cell_type": "code",
   "execution_count": 1,
   "id": "2d1cb397-052b-4dcb-9bd4-556ef21f55e4",
   "metadata": {},
   "outputs": [],
   "source": [
    "# https://www.dhlottery.co.kr/common.do?method=getLottoNumber&drwNo=1163"
   ]
  },
  {
   "cell_type": "code",
   "execution_count": 6,
   "id": "d01cece8-611b-4e23-ba42-d999897442ea",
   "metadata": {},
   "outputs": [
    {
     "name": "stdout",
     "output_type": "stream",
     "text": [
      "https://www.dhlottery.co.kr/common.do?method=getLottoNumber&drwNo=1163\n"
     ]
    }
   ],
   "source": [
    "import requests\n",
    "url = 'https://www.dhlottery.co.kr/common.do'\n",
    "\n",
    "payload = {\n",
    "    'method': 'getLottoNumber',\n",
    "    'drwNo': 1163,\n",
    "}\n",
    "\n",
    "r = requests.get(url, params=payload)\n",
    "print(r.url)"
   ]
  },
  {
   "cell_type": "code",
   "execution_count": 7,
   "id": "3b65e7d2-2cfd-42db-94c8-541a6576e340",
   "metadata": {},
   "outputs": [
    {
     "name": "stdout",
     "output_type": "stream",
     "text": [
      "{'totSellamnt': 122246316000, 'returnValue': 'success', 'drwNoDate': '2025-03-15', 'firstWinamnt': 1936891150, 'drwtNo6': 43, 'drwtNo4': 16, 'firstPrzwnerCo': 15, 'drwtNo5': 33, 'bnusNo': 4, 'firstAccumamnt': 29053367250, 'drwNo': 1163, 'drwtNo2': 13, 'drwtNo3': 15, 'drwtNo1': 2}\n"
     ]
    }
   ],
   "source": [
    "print(r.json())"
   ]
  },
  {
   "cell_type": "code",
   "execution_count": 10,
   "id": "ed4f21b4-8629-46f9-b91d-b1cb605902d9",
   "metadata": {},
   "outputs": [
    {
     "name": "stdout",
     "output_type": "stream",
     "text": [
      "[2, 13, 15, 16, 33, 43]\n"
     ]
    }
   ],
   "source": [
    "res = r.json()\n",
    "lucky_num = []\n",
    "for i in range(1, 7):\n",
    "    lucky_num.append(res[f'drwtNo{i}'])\n",
    "print(lucky_num)"
   ]
  },
  {
   "cell_type": "code",
   "execution_count": 12,
   "id": "0065f115-1011-44e9-ad33-5a2e7d6f13ba",
   "metadata": {},
   "outputs": [
    {
     "name": "stdout",
     "output_type": "stream",
     "text": [
      "4\n"
     ]
    }
   ],
   "source": [
    "bonus_num = res['bnusNo']\n",
    "print(bonus_num)"
   ]
  },
  {
   "cell_type": "code",
   "execution_count": 67,
   "id": "f38fa705-0e1d-4e85-990f-6317dec53615",
   "metadata": {},
   "outputs": [
    {
     "name": "stdout",
     "output_type": "stream",
     "text": [
      "{1: [2, 20, 34, 36, 41, 43], 2: [3, 8, 15, 28, 35, 40], 3: [9, 23, 33, 34, 36, 45], 4: [2, 7, 9, 15, 16, 22], 5: [10, 14, 24, 25, 27, 36]}\n"
     ]
    }
   ],
   "source": [
    "import random\n",
    "my_num = {}\n",
    "for i in range(1, 6):\n",
    "    my_num[i] = random.sample(range(1, 46), 6)\n",
    "    my_num[i].sort()\n",
    "print(my_num)"
   ]
  },
  {
   "cell_type": "code",
   "execution_count": 68,
   "id": "b794c793-053d-4c96-9192-5e8d18567841",
   "metadata": {},
   "outputs": [
    {
     "name": "stdout",
     "output_type": "stream",
     "text": [
      "{2, 34, 36, 41, 43, 20}\n",
      "X\n",
      "{35, 3, 8, 40, 15, 28}\n",
      "X\n",
      "{33, 34, 36, 9, 45, 23}\n",
      "X\n",
      "{2, 7, 9, 15, 16, 22}\n",
      "5\n",
      "{36, 10, 14, 24, 25, 27}\n",
      "X\n"
     ]
    }
   ],
   "source": [
    "for i in range(1, 6):\n",
    "    lucky_set = set(lucky_num)\n",
    "    my_set = set(my_num[i])\n",
    "    count = len(lucky_set & my_set)\n",
    "    print(my_set)\n",
    "    if count == 6:\n",
    "        print('1')\n",
    "    elif count == 5 and (bonus_num in my_set):\n",
    "        print('2')\n",
    "    elif count == 5:\n",
    "        print('3')\n",
    "    elif count == 4:\n",
    "        print('4')\n",
    "    elif count == 3:\n",
    "        print('5')\n",
    "    else:\n",
    "        print('X')\n",
    "    "
   ]
  }
 ],
 "metadata": {
  "kernelspec": {
   "display_name": "Python 3 (ipykernel)",
   "language": "python",
   "name": "python3"
  },
  "language_info": {
   "codemirror_mode": {
    "name": "ipython",
    "version": 3
   },
   "file_extension": ".py",
   "mimetype": "text/x-python",
   "name": "python",
   "nbconvert_exporter": "python",
   "pygments_lexer": "ipython3",
   "version": "3.13.2"
  }
 },
 "nbformat": 4,
 "nbformat_minor": 5
}
