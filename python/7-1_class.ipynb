{
 "cells": [
  {
   "cell_type": "markdown",
   "id": "3a099bde-1f20-4df8-be89-754b1f19a2e1",
   "metadata": {},
   "source": [
    "## class"
   ]
  },
  {
   "cell_type": "markdown",
   "id": "bf04e088-851c-4d35-aaa1-0ea29b7b8ae3",
   "metadata": {},
   "source": [
    "- *함수와 똑같은 구조: 선언과 실행*\n",
    "- 클래스 선언/정의\n",
    "```python\n",
    "class ClassName():\n",
    "    attribute1 = value1 # 정보/속성/값을 넣는 공간\n",
    "    attribute2 = value2\n",
    "    ...\n",
    "\n",
    "    def method_name1(self): # 함수 만들기\n",
    "        code\n",
    "\n",
    "    def method_name2(self):\n",
    "        code\n",
    "    ...\n",
    "```\n",
    "- 인스턴스화(클래스 실행): `c = ClassName()`"
   ]
  },
  {
   "cell_type": "code",
   "execution_count": 1,
   "id": "12dc5acf-c489-45a0-9dcb-a5c128b963f5",
   "metadata": {},
   "outputs": [],
   "source": [
    "# 선언(정의)\n",
    "class MyClass():\n",
    "    name = 'kim'\n",
    "\n",
    "    def hello(self):\n",
    "        return 'hi'"
   ]
  },
  {
   "cell_type": "code",
   "execution_count": 2,
   "id": "2c655631-26a4-4c85-9495-b2312e3b1114",
   "metadata": {},
   "outputs": [],
   "source": [
    "# 인스턴스화\n",
    "m = MyClass()"
   ]
  },
  {
   "cell_type": "code",
   "execution_count": 3,
   "id": "bb2ec867-3e60-4eaa-8aaf-35144ea2d357",
   "metadata": {},
   "outputs": [
    {
     "name": "stdout",
     "output_type": "stream",
     "text": [
      "<__main__.MyClass object at 0x00000253F91D42F0>\n",
      "<class '__main__.MyClass'>\n"
     ]
    }
   ],
   "source": [
    "print(m)\n",
    "print(type(m))"
   ]
  },
  {
   "cell_type": "code",
   "execution_count": 4,
   "id": "9bb0ab48-31f3-4974-87c2-d93fac5dbbef",
   "metadata": {},
   "outputs": [
    {
     "name": "stdout",
     "output_type": "stream",
     "text": [
      "kim\n",
      "hi\n"
     ]
    }
   ],
   "source": [
    "print(m.name)\n",
    "print(m.hello())"
   ]
  },
  {
   "cell_type": "code",
   "execution_count": 5,
   "id": "5d2e113c-f1ef-4b71-b91d-5f3bd71d5d43",
   "metadata": {},
   "outputs": [
    {
     "name": "stdout",
     "output_type": "stream",
     "text": [
      "kim\n",
      "hi\n"
     ]
    }
   ],
   "source": [
    "m2 = MyClass()\n",
    "print(m2.name)\n",
    "print(m2.hello())"
   ]
  },
  {
   "cell_type": "code",
   "execution_count": 6,
   "id": "e274c49a-c5f1-44ae-b6cd-df98e0bd174e",
   "metadata": {},
   "outputs": [
    {
     "name": "stdout",
     "output_type": "stream",
     "text": [
      "kim\n",
      "park\n"
     ]
    }
   ],
   "source": [
    "m2.name = 'park'\n",
    "\n",
    "print(m.name)\n",
    "print(m2.name)"
   ]
  },
  {
   "cell_type": "code",
   "execution_count": 9,
   "id": "a0245ed5-75f9-4aa8-a6e7-beca0995a17e",
   "metadata": {},
   "outputs": [],
   "source": [
    "class Phone():\n",
    "    power = False\n",
    "    number = '010-0000-0000'\n",
    "    book = {}\n",
    "    model = ''\n",
    "\n",
    "    def on(self): #self = instance 자기 자신\n",
    "        if self.power == False:\n",
    "            self.power = True\n",
    "\n",
    "    def off(self):\n",
    "        if self.power == True:\n",
    "            self.power = False\n",
    "\n",
    "    def call(self, target):\n",
    "        if self.power == True:\n",
    "            print(f'{self.number}이(가) {target.number}에게 전화 중')\n",
    "        else:\n",
    "            print('power off')"
   ]
  },
  {
   "cell_type": "code",
   "execution_count": 10,
   "id": "c03288c9-3cb1-4fed-92bf-d19766148302",
   "metadata": {},
   "outputs": [],
   "source": [
    "my_phone = Phone()\n",
    "your_phone = Phone()"
   ]
  },
  {
   "cell_type": "code",
   "execution_count": 11,
   "id": "4fc9801a-d2e0-4991-bdae-c6f7f73db965",
   "metadata": {},
   "outputs": [
    {
     "name": "stdout",
     "output_type": "stream",
     "text": [
      "010-1234-1234\n",
      "010-0000-0000\n"
     ]
    }
   ],
   "source": [
    "my_phone.number = '010-1234-1234'\n",
    "\n",
    "print(my_phone.number)\n",
    "print(your_phone.number)"
   ]
  },
  {
   "cell_type": "code",
   "execution_count": 12,
   "id": "5e71c776-0ed8-439d-8d24-4ad3f36adf69",
   "metadata": {},
   "outputs": [
    {
     "data": {
      "text/plain": [
       "False"
      ]
     },
     "execution_count": 12,
     "metadata": {},
     "output_type": "execute_result"
    }
   ],
   "source": [
    "my_phone.power"
   ]
  },
  {
   "cell_type": "code",
   "execution_count": 13,
   "id": "4f3b4671-a773-406c-9c74-4571c0b79287",
   "metadata": {},
   "outputs": [],
   "source": [
    "my_phone.on()"
   ]
  },
  {
   "cell_type": "code",
   "execution_count": 14,
   "id": "0acd1711-6732-4689-8d4d-d71f967ce328",
   "metadata": {},
   "outputs": [
    {
     "data": {
      "text/plain": [
       "True"
      ]
     },
     "execution_count": 14,
     "metadata": {},
     "output_type": "execute_result"
    }
   ],
   "source": [
    "my_phone.power"
   ]
  },
  {
   "cell_type": "code",
   "execution_count": 15,
   "id": "c1bf7b5c-14c3-404d-8959-8cf08b0698c5",
   "metadata": {},
   "outputs": [
    {
     "name": "stdout",
     "output_type": "stream",
     "text": [
      "010-1234-1234이(가) 010-0000-0000에게 전화 중\n"
     ]
    }
   ],
   "source": [
    "my_phone.call(your_phone) # self 생략 가능"
   ]
  },
  {
   "cell_type": "code",
   "execution_count": 16,
   "id": "837ce82f-89c7-4559-a7ca-682a72f5051d",
   "metadata": {},
   "outputs": [
    {
     "name": "stdout",
     "output_type": "stream",
     "text": [
      "power off\n"
     ]
    }
   ],
   "source": [
    "your_phone.call(my_phone)"
   ]
  },
  {
   "cell_type": "code",
   "execution_count": 17,
   "id": "4d7da640-ab23-40ef-9e5d-966699204a9d",
   "metadata": {},
   "outputs": [],
   "source": [
    "class Person():\n",
    "    name = ''\n",
    "    gender = ''\n",
    "    age = 0\n",
    "    height = 0\n",
    "\n",
    "    def greeting(self):\n",
    "        print(f'hello. my name is {self.name}.')\n",
    "\n",
    "    def grow(self):\n",
    "        self.age += 1"
   ]
  },
  {
   "cell_type": "code",
   "execution_count": 18,
   "id": "d73f57be-7e33-48fe-953c-9ee3408ca7d0",
   "metadata": {},
   "outputs": [],
   "source": [
    "p1 = Person()\n",
    "p2 = Person()"
   ]
  },
  {
   "cell_type": "code",
   "execution_count": 19,
   "id": "fa12774d-872b-49ca-98d9-f8fbf0ea15a0",
   "metadata": {},
   "outputs": [],
   "source": [
    "p1.name = 'ruka'\n",
    "p2.name = 'ahyeon'\n",
    "\n",
    "p1.gender = 'F'\n",
    "p2.gender = 'F'\n",
    "\n",
    "p1.age = 22\n",
    "p2.age = 17\n",
    "\n",
    "p1.height = 165\n",
    "p2.height = 167"
   ]
  },
  {
   "cell_type": "code",
   "execution_count": 20,
   "id": "8c7541a7-aaba-4d58-a494-ec3edb168601",
   "metadata": {},
   "outputs": [
    {
     "name": "stdout",
     "output_type": "stream",
     "text": [
      "ruka ahyeon\n"
     ]
    }
   ],
   "source": [
    "print(p1.name, p2.name)"
   ]
  },
  {
   "cell_type": "code",
   "execution_count": 21,
   "id": "3395d73a-7de3-4052-b3ea-40585e8f0557",
   "metadata": {},
   "outputs": [
    {
     "name": "stdout",
     "output_type": "stream",
     "text": [
      "hello. my name is ruka.\n"
     ]
    }
   ],
   "source": [
    "p1.greeting()"
   ]
  },
  {
   "cell_type": "code",
   "execution_count": 23,
   "id": "89fdfbf0-cffc-407b-a33f-b2c9b13dd469",
   "metadata": {},
   "outputs": [
    {
     "name": "stdout",
     "output_type": "stream",
     "text": [
      "hello. my name is ruka.\n"
     ]
    }
   ],
   "source": [
    "Person.greeting(p1)\n",
    "# Person.greeting() # error: missing argument"
   ]
  }
 ],
 "metadata": {
  "kernelspec": {
   "display_name": "Python 3 (ipykernel)",
   "language": "python",
   "name": "python3"
  },
  "language_info": {
   "codemirror_mode": {
    "name": "ipython",
    "version": 3
   },
   "file_extension": ".py",
   "mimetype": "text/x-python",
   "name": "python",
   "nbconvert_exporter": "python",
   "pygments_lexer": "ipython3",
   "version": "3.13.2"
  }
 },
 "nbformat": 4,
 "nbformat_minor": 5
}
