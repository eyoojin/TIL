{
 "cells": [
  {
   "cell_type": "markdown",
   "id": "ec2efa82-bd04-4c83-a7d2-527a45b70932",
   "metadata": {},
   "source": [
    "## Set"
   ]
  },
  {
   "cell_type": "markdown",
   "id": "3d12bad4-3236-4ef4-849d-2dd3e4e55faf",
   "metadata": {},
   "source": [
    "- 수학에서의 집합과 비슷한 개념(중복값이 없음)\n",
    "- 선언: `var_name = {value1, value2, value3}`\n",
    "- *순서가 아니기 때문에 접근이 의미가 없음*\n",
    "- *단일 데이터가 아니라 집합 전체를 봄*"
   ]
  },
  {
   "cell_type": "code",
   "execution_count": 1,
   "id": "efbb5185-37d5-4031-916e-2d6a7cb68bff",
   "metadata": {},
   "outputs": [],
   "source": [
    "my_set_a = {1, 2, 3, 4, 5}\n",
    "my_set_b = {1, 3, 5, 7, 9}"
   ]
  },
  {
   "cell_type": "code",
   "execution_count": 2,
   "id": "9994421d-f19d-43d1-af61-2556b6cfd05f",
   "metadata": {},
   "outputs": [
    {
     "name": "stdout",
     "output_type": "stream",
     "text": [
      "{1, 2, 3, 4, 5}\n",
      "{1, 3, 5, 7, 9}\n"
     ]
    }
   ],
   "source": [
    "print(my_set_a)\n",
    "print(my_set_b)"
   ]
  },
  {
   "cell_type": "code",
   "execution_count": 3,
   "id": "3dc71c2d-16c7-4352-91a3-f52c6bb1c8ce",
   "metadata": {},
   "outputs": [
    {
     "name": "stdout",
     "output_type": "stream",
     "text": [
      "{1, 2, 3, 4, 5}\n"
     ]
    }
   ],
   "source": [
    "my_set = {1, 2, 3, 4, 5, 5, 5, 5, 5}\n",
    "print(my_set) # 5를 많이 넣어도 하나로 인식"
   ]
  },
  {
   "cell_type": "code",
   "execution_count": 4,
   "id": "ea3d3550-4ca0-45e3-9fb2-0b41444ee501",
   "metadata": {},
   "outputs": [
    {
     "name": "stdout",
     "output_type": "stream",
     "text": [
      "{2, 4}\n",
      "{1, 2, 3, 4, 5, 7, 9}\n",
      "{1, 3, 5}\n"
     ]
    }
   ],
   "source": [
    "print(my_set_a - my_set_b) # 차집합\n",
    "print(my_set_a | my_set_b) # 합집합\n",
    "print(my_set_a & my_set_b) # 교집합"
   ]
  },
  {
   "cell_type": "code",
   "execution_count": 5,
   "id": "0a5870f7-4048-4f0a-aaa6-05f4c19b75bd",
   "metadata": {},
   "outputs": [
    {
     "name": "stdout",
     "output_type": "stream",
     "text": [
      "{'광주', '서울', '대구', '부산'}\n"
     ]
    }
   ],
   "source": [
    "location = ['서울', '대구', '광주', '부산', '광주', '부산']\n",
    "print(set(location)) # 중복값을 없애기 위한 형변환"
   ]
  }
 ],
 "metadata": {
  "kernelspec": {
   "display_name": "Python 3 (ipykernel)",
   "language": "python",
   "name": "python3"
  },
  "language_info": {
   "codemirror_mode": {
    "name": "ipython",
    "version": 3
   },
   "file_extension": ".py",
   "mimetype": "text/x-python",
   "name": "python",
   "nbconvert_exporter": "python",
   "pygments_lexer": "ipython3",
   "version": "3.13.2"
  }
 },
 "nbformat": 4,
 "nbformat_minor": 5
}
