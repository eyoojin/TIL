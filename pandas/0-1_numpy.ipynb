{
 "cells": [
  {
   "cell_type": "markdown",
   "id": "29fd6f54-a509-4c30-aaa6-91f80e828dab",
   "metadata": {},
   "source": [
    "# 00. numpy"
   ]
  },
  {
   "cell_type": "code",
   "execution_count": 1,
   "id": "e9fe8159-f776-4b1e-bb64-8580d99b5f1b",
   "metadata": {},
   "outputs": [],
   "source": [
    "import numpy as np # numpy: 배열 다루기에 특화"
   ]
  },
  {
   "cell_type": "markdown",
   "id": "55ca08e4-0d87-4b38-81bf-485bbc9330e2",
   "metadata": {},
   "source": [
    "- 0차원: 스칼라(scala)\n",
    "- 1차원: 벡터(vector)\n",
    "- 2차원 행렬(matrix)\n",
    "- 3차원: 텐서(tenser)"
   ]
  },
  {
   "cell_type": "code",
   "execution_count": 3,
   "id": "57233d09-8457-4123-b5e8-51ddb327e8ff",
   "metadata": {},
   "outputs": [
    {
     "name": "stdout",
     "output_type": "stream",
     "text": [
      "[[   1.     2.3    4. ]\n",
      " [-123.   123.     0. ]]\n"
     ]
    }
   ],
   "source": [
    "a = [\n",
    "    [1, 2.3, 4],\n",
    "    [-123, 123, 0]\n",
    "] # 2차원 리스트\n",
    "data = np.array(a)\n",
    "print(data)"
   ]
  },
  {
   "cell_type": "code",
   "execution_count": 4,
   "id": "38dfa4dc-0182-4088-9c66-da60eeadd571",
   "metadata": {},
   "outputs": [
    {
     "name": "stdout",
     "output_type": "stream",
     "text": [
      "[[   10.    23.    40.]\n",
      " [-1230.  1230.     0.]]\n",
      "[[   2.     4.6    8. ]\n",
      " [-246.   246.     0. ]]\n"
     ]
    }
   ],
   "source": [
    "print(data * 10)\n",
    "print(data + data)"
   ]
  },
  {
   "cell_type": "code",
   "execution_count": 6,
   "id": "98defef9-856b-4e10-a13e-64ccae1f4661",
   "metadata": {},
   "outputs": [
    {
     "name": "stdout",
     "output_type": "stream",
     "text": [
      "(2, 3)\n",
      "float64\n"
     ]
    }
   ],
   "source": [
    "print(data.shape)\n",
    "print(data.dtype)"
   ]
  }
 ],
 "metadata": {
  "kernelspec": {
   "display_name": "Python 3 (ipykernel)",
   "language": "python",
   "name": "python3"
  },
  "language_info": {
   "codemirror_mode": {
    "name": "ipython",
    "version": 3
   },
   "file_extension": ".py",
   "mimetype": "text/x-python",
   "name": "python",
   "nbconvert_exporter": "python",
   "pygments_lexer": "ipython3",
   "version": "3.13.2"
  }
 },
 "nbformat": 4,
 "nbformat_minor": 5
}
