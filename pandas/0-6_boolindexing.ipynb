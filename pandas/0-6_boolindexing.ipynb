{
 "cells": [
  {
   "cell_type": "markdown",
   "id": "d29f43c8-21b1-48b7-a24d-cb0f4c6a4351",
   "metadata": {},
   "source": [
    "## 불리언 값으로 선택"
   ]
  },
  {
   "cell_type": "code",
   "execution_count": 7,
   "id": "15c3beff-202c-49f0-9c8b-81af69b20893",
   "metadata": {},
   "outputs": [],
   "source": [
    "import numpy as np\n",
    "\n",
    "names = np.array(['ruka', 'rita', 'ruka', 'rita'])\n",
    "data = np.array([['math', 60], ['math', 90], ['eng', 70], ['eng', 80]])"
   ]
  },
  {
   "cell_type": "code",
   "execution_count": 8,
   "id": "eedc9ae8-abf0-4112-b7f8-f046290f2b9b",
   "metadata": {},
   "outputs": [
    {
     "data": {
      "text/plain": [
       "array([ True, False,  True, False])"
      ]
     },
     "execution_count": 8,
     "metadata": {},
     "output_type": "execute_result"
    }
   ],
   "source": [
    "names == 'ruka'"
   ]
  },
  {
   "cell_type": "code",
   "execution_count": 9,
   "id": "fdfaa0a2-bcb3-4283-9f04-6373a7273573",
   "metadata": {},
   "outputs": [
    {
     "data": {
      "text/plain": [
       "array([['math', '60'],\n",
       "       ['eng', '70']], dtype='<U21')"
      ]
     },
     "execution_count": 9,
     "metadata": {},
     "output_type": "execute_result"
    }
   ],
   "source": [
    "data[[True, False, True, False]]"
   ]
  },
  {
   "cell_type": "code",
   "execution_count": 10,
   "id": "53c758a3-cfe8-44e5-aef1-4e8f2a434ab6",
   "metadata": {},
   "outputs": [
    {
     "data": {
      "text/plain": [
       "array([['math', '60'],\n",
       "       ['eng', '70']], dtype='<U21')"
      ]
     },
     "execution_count": 10,
     "metadata": {},
     "output_type": "execute_result"
    }
   ],
   "source": [
    "data[names == 'ruka']"
   ]
  },
  {
   "cell_type": "code",
   "execution_count": 11,
   "id": "5349fd4b-aaa2-4668-bbfd-98867c605d3e",
   "metadata": {},
   "outputs": [],
   "source": [
    "names = np.array(['ruka', 'rita', 'rita', 'ruka'])\n",
    "data = np.array([['math', 60], ['math', 90], ['eng', 70], ['eng', 80]])"
   ]
  },
  {
   "cell_type": "code",
   "execution_count": 12,
   "id": "0aad72cd-264f-46a2-a4a6-b735cf8ca223",
   "metadata": {},
   "outputs": [
    {
     "data": {
      "text/plain": [
       "array([['math', '60'],\n",
       "       ['eng', '80']], dtype='<U21')"
      ]
     },
     "execution_count": 12,
     "metadata": {},
     "output_type": "execute_result"
    }
   ],
   "source": [
    "data[names == 'ruka']"
   ]
  },
  {
   "cell_type": "code",
   "execution_count": 14,
   "id": "aa4d8259-3489-4073-a966-2b20afc34f5f",
   "metadata": {},
   "outputs": [
    {
     "name": "stdout",
     "output_type": "stream",
     "text": [
      "['60' '80']\n",
      "[['math']\n",
      " ['eng']]\n"
     ]
    }
   ],
   "source": [
    "print(data[names == 'ruka', 1])\n",
    "print(data[names == 'ruka', :1])"
   ]
  },
  {
   "cell_type": "code",
   "execution_count": 15,
   "id": "e6cc2124-c16d-42fc-9459-df74b555863c",
   "metadata": {},
   "outputs": [
    {
     "name": "stdout",
     "output_type": "stream",
     "text": [
      "[False  True  True False]\n",
      "[False  True  True False]\n"
     ]
    }
   ],
   "source": [
    "print(names != 'ruka')\n",
    "print(~(names == 'ruka'))"
   ]
  },
  {
   "cell_type": "code",
   "execution_count": 16,
   "id": "eb0b744b-d2c6-4f95-8994-fb81b7043464",
   "metadata": {},
   "outputs": [
    {
     "data": {
      "text/plain": [
       "array([['math', '60'],\n",
       "       ['eng', '80']], dtype='<U21')"
      ]
     },
     "execution_count": 16,
     "metadata": {},
     "output_type": "execute_result"
    }
   ],
   "source": [
    "cond = names == 'ruka'\n",
    "data[cond]"
   ]
  }
 ],
 "metadata": {
  "kernelspec": {
   "display_name": "Python 3 (ipykernel)",
   "language": "python",
   "name": "python3"
  },
  "language_info": {
   "codemirror_mode": {
    "name": "ipython",
    "version": 3
   },
   "file_extension": ".py",
   "mimetype": "text/x-python",
   "name": "python",
   "nbconvert_exporter": "python",
   "pygments_lexer": "ipython3",
   "version": "3.13.2"
  }
 },
 "nbformat": 4,
 "nbformat_minor": 5
}
