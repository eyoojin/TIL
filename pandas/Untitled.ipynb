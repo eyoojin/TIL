{
 "cells": [
  {
   "cell_type": "markdown",
   "id": "29fd6f54-a509-4c30-aaa6-91f80e828dab",
   "metadata": {},
   "source": [
    "# 00. numpy"
   ]
  },
  {
   "cell_type": "code",
   "execution_count": null,
   "id": "e9fe8159-f776-4b1e-bb64-8580d99b5f1b",
   "metadata": {},
   "outputs": [],
   "source": []
  }
 ],
 "metadata": {
  "kernelspec": {
   "display_name": "Python 3 (ipykernel)",
   "language": "python",
   "name": "python3"
  },
  "language_info": {
   "codemirror_mode": {
    "name": "ipython",
    "version": 3
   },
   "file_extension": ".py",
   "mimetype": "text/x-python",
   "name": "python",
   "nbconvert_exporter": "python",
   "pygments_lexer": "ipython3",
   "version": "3.13.2"
  }
 },
 "nbformat": 4,
 "nbformat_minor": 5
}
