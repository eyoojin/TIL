{
 "cells": [
  {
   "cell_type": "markdown",
   "id": "7c129898-f21d-4691-b802-740565ac6a76",
   "metadata": {},
   "source": [
    "## 00. numpy"
   ]
  },
  {
   "cell_type": "code",
   "execution_count": 3,
   "id": "9dcd85c8-3728-4f8a-b40c-bb403833be1a",
   "metadata": {},
   "outputs": [],
   "source": [
    "import numpy as np # numpy: 배열 다루기에 특화"
   ]
  },
  {
   "cell_type": "markdown",
   "id": "df13c9e3-94b0-468d-97f9-ea98441b5b30",
   "metadata": {},
   "source": [
    "- 0차원: 스칼라(scala)\n",
    "- 1차원: 벡터(vector)\n",
    "- 2차원: 행렬(matrix)\n",
    "- 3차원: 텐서(tenser)"
   ]
  },
  {
   "cell_type": "code",
   "execution_count": 4,
   "id": "c2b61f9a-05e1-4d94-ad7e-b628aa1419db",
   "metadata": {},
   "outputs": [
    {
     "name": "stdout",
     "output_type": "stream",
     "text": [
      "[[   1.     2.3    3. ]\n",
      " [-123.   123.     0. ]]\n"
     ]
    }
   ],
   "source": [
    "a = [\n",
    "    [1, 2.3, 3],\n",
    "    [-123, 123, 0]\n",
    "] # 2차원 리스트\n",
    "data = np.array(a)\n",
    "print(data)"
   ]
  },
  {
   "cell_type": "code",
   "execution_count": 5,
   "id": "0d332938-df93-44a6-822f-ce68894b8400",
   "metadata": {},
   "outputs": [
    {
     "name": "stdout",
     "output_type": "stream",
     "text": [
      "[[   10.    23.    30.]\n",
      " [-1230.  1230.     0.]]\n",
      "[[   2.     4.6    6. ]\n",
      " [-246.   246.     0. ]]\n"
     ]
    }
   ],
   "source": [
    "print(data * 10)\n",
    "print(data + data)"
   ]
  },
  {
   "cell_type": "code",
   "execution_count": 7,
   "id": "64c8bef8-f16d-4ce2-867f-4fe391e15347",
   "metadata": {},
   "outputs": [
    {
     "name": "stdout",
     "output_type": "stream",
     "text": [
      "(2, 3)\n",
      "float64\n"
     ]
    }
   ],
   "source": [
    "print(data.shape)\n",
    "print(data.dtype)"
   ]
  },
  {
   "cell_type": "markdown",
   "id": "0b76615d-b460-4eab-99af-87ae9bfa766c",
   "metadata": {},
   "source": [
    "## 1. ndarray 생성하기"
   ]
  },
  {
   "cell_type": "markdown",
   "id": "2c2948c5-a2d6-4dc9-8a73-589813f63171",
   "metadata": {},
   "source": [
    "- *n차원의 배열*"
   ]
  },
  {
   "cell_type": "code",
   "execution_count": 11,
   "id": "f98e9233-a366-4819-b9af-85d4470c9067",
   "metadata": {},
   "outputs": [
    {
     "name": "stdout",
     "output_type": "stream",
     "text": [
      "[1 2 3 4 5]\n",
      "<class 'numpy.ndarray'>\n"
     ]
    }
   ],
   "source": [
    "data1 = [1, 2, 3, 4, 5]\n",
    "arr1 = np.array(data1)\n",
    "print(arr1)\n",
    "print(type(arr1))"
   ]
  },
  {
   "cell_type": "code",
   "execution_count": 12,
   "id": "e28d15a7-555e-410f-8e27-23dfe35dd87a",
   "metadata": {},
   "outputs": [
    {
     "name": "stdout",
     "output_type": "stream",
     "text": [
      "[[1.1 2.2]\n",
      " [3.3 4.4]]\n",
      "<class 'numpy.ndarray'>\n"
     ]
    }
   ],
   "source": [
    "arr2 = np.array([[1.1, 2.2], [3.3, 4.4]])\n",
    "print(arr2)\n",
    "print(type(arr2))"
   ]
  },
  {
   "cell_type": "code",
   "execution_count": 10,
   "id": "9d03f09a-23de-4d73-a5ca-0768ef28cdb2",
   "metadata": {},
   "outputs": [
    {
     "ename": "ValueError",
     "evalue": "setting an array element with a sequence. The requested array has an inhomogeneous shape after 1 dimensions. The detected shape was (2,) + inhomogeneous part.",
     "output_type": "error",
     "traceback": [
      "\u001b[1;31m---------------------------------------------------------------------------\u001b[0m",
      "\u001b[1;31mValueError\u001b[0m                                Traceback (most recent call last)",
      "Cell \u001b[1;32mIn[10], line 1\u001b[0m\n\u001b[1;32m----> 1\u001b[0m arr2 \u001b[38;5;241m=\u001b[39m \u001b[43mnp\u001b[49m\u001b[38;5;241;43m.\u001b[39;49m\u001b[43marray\u001b[49m\u001b[43m(\u001b[49m\u001b[43m[\u001b[49m\u001b[43m[\u001b[49m\u001b[38;5;241;43m1.1\u001b[39;49m\u001b[43m,\u001b[49m\u001b[43m \u001b[49m\u001b[38;5;241;43m2.2\u001b[39;49m\u001b[43m]\u001b[49m\u001b[43m,\u001b[49m\u001b[43m \u001b[49m\u001b[43m[\u001b[49m\u001b[38;5;241;43m3.3\u001b[39;49m\u001b[43m,\u001b[49m\u001b[43m \u001b[49m\u001b[38;5;241;43m4.4\u001b[39;49m\u001b[43m,\u001b[49m\u001b[43m \u001b[49m\u001b[38;5;241;43m5.5\u001b[39;49m\u001b[43m]\u001b[49m\u001b[43m]\u001b[49m\u001b[43m)\u001b[49m \u001b[38;5;66;03m# error: 안쪽 리스트의 배열이 달라서\u001b[39;00m\n",
      "\u001b[1;31mValueError\u001b[0m: setting an array element with a sequence. The requested array has an inhomogeneous shape after 1 dimensions. The detected shape was (2,) + inhomogeneous part."
     ]
    }
   ],
   "source": [
    "arr = np.array([[1.1, 2.2], [3.3, 4.4, 5.5]]) # error: 안쪽 리스트의 배열이 달라서"
   ]
  },
  {
   "cell_type": "code",
   "execution_count": 13,
   "id": "45abdd08-0a3f-4ae3-8c6d-2db2ed4fb8d8",
   "metadata": {},
   "outputs": [
    {
     "name": "stdout",
     "output_type": "stream",
     "text": [
      "1\n",
      "2\n"
     ]
    }
   ],
   "source": [
    "print(arr1.ndim) # n차원\n",
    "print(arr2.ndim)"
   ]
  },
  {
   "cell_type": "code",
   "execution_count": 14,
   "id": "9d6aaa01-be18-4710-b1bb-33880ad2aa99",
   "metadata": {},
   "outputs": [
    {
     "name": "stdout",
     "output_type": "stream",
     "text": [
      "(5,)\n",
      "(2, 2)\n"
     ]
    }
   ],
   "source": [
    "print(arr1.shape)\n",
    "print(arr2.shape)"
   ]
  },
  {
   "cell_type": "code",
   "execution_count": 15,
   "id": "2254f724-86a9-4615-91e0-4b478b97efc0",
   "metadata": {},
   "outputs": [
    {
     "name": "stdout",
     "output_type": "stream",
     "text": [
      "[0. 0. 0. 0. 0. 0. 0. 0. 0. 0.]\n",
      "[[0. 0. 0. 0. 0.]\n",
      " [0. 0. 0. 0. 0.]\n",
      " [0. 0. 0. 0. 0.]\n",
      " [0. 0. 0. 0. 0.]\n",
      " [0. 0. 0. 0. 0.]]\n",
      "[[[0. 0.]\n",
      "  [0. 0.]]\n",
      "\n",
      " [[0. 0.]\n",
      "  [0. 0.]]]\n"
     ]
    }
   ],
   "source": [
    "print(np.zeros(10))\n",
    "print(np.zeros((5, 5)))\n",
    "print(np.zeros((2, 2, 2)))"
   ]
  },
  {
   "cell_type": "code",
   "execution_count": 16,
   "id": "b8186c8b-9205-40bd-beba-892e85017abf",
   "metadata": {},
   "outputs": [
    {
     "name": "stdout",
     "output_type": "stream",
     "text": [
      "[0 1 2 3 4 5 6 7 8 9]\n"
     ]
    }
   ],
   "source": [
    "print(np.arange(10))"
   ]
  },
  {
   "cell_type": "markdown",
   "id": "b08ffbba-f3cb-4d3d-b0c0-49916ff86454",
   "metadata": {},
   "source": [
    "## 2. ndarray 자료형"
   ]
  },
  {
   "cell_type": "code",
   "execution_count": 18,
   "id": "2af790f6-ff4b-4239-9e86-9119c17261c0",
   "metadata": {},
   "outputs": [
    {
     "name": "stdout",
     "output_type": "stream",
     "text": [
      "int64\n",
      "float64\n",
      "int32\n"
     ]
    }
   ],
   "source": [
    "arr1 = np.array([1, 2, 3])\n",
    "arr2 = np.array([1, 2, 3], dtype=np.float64) # 생성할 때 속성을 넣어서 형변환\n",
    "arr3 = np.array([1, 2, 3], dtype=np.int32)\n",
    "\n",
    "print(arr1.dtype)\n",
    "print(arr2.dtype)\n",
    "print(arr3.dtype)"
   ]
  },
  {
   "cell_type": "code",
   "execution_count": 19,
   "id": "8aec1bdd-77fc-473e-beeb-682ddab5377b",
   "metadata": {},
   "outputs": [
    {
     "name": "stdout",
     "output_type": "stream",
     "text": [
      "[1 2 3]\n",
      "[1. 2. 3.]\n",
      "float64\n"
     ]
    }
   ],
   "source": [
    "float_arr1 = arr1.astype(np.float64) # 명시적 형변환\n",
    "print(arr1)\n",
    "print(float_arr1)\n",
    "print(float_arr1.dtype)"
   ]
  },
  {
   "cell_type": "code",
   "execution_count": 20,
   "id": "fe1f885d-36b1-49dc-8df1-3a8e3668ea8c",
   "metadata": {},
   "outputs": [
    {
     "name": "stdout",
     "output_type": "stream",
     "text": [
      "float64\n",
      "[1 2 3 9]\n",
      "int64\n"
     ]
    }
   ],
   "source": [
    "arr2 = np.array([1.1, 2.2, 3.3, 9.9])\n",
    "print(arr2.dtype)\n",
    "int_arr2 = arr2.astype(np.int64) # 형변환 시 소수점 버림\n",
    "print(int_arr2)\n",
    "print(int_arr2.dtype)"
   ]
  },
  {
   "cell_type": "markdown",
   "id": "450ee18c-f1b0-4d1a-bd15-c1373db8b0aa",
   "metadata": {},
   "source": [
    "## 3. 산술 연산"
   ]
  },
  {
   "cell_type": "code",
   "execution_count": 21,
   "id": "4d1eaa1c-a55a-4c38-b2a7-1119f4bb6ff8",
   "metadata": {},
   "outputs": [
    {
     "name": "stdout",
     "output_type": "stream",
     "text": [
      "[[1 2 3]\n",
      " [4 5 6]]\n",
      "[[ 1  4  9]\n",
      " [16 25 36]]\n",
      "[[ 2  4  6]\n",
      " [ 8 10 12]]\n",
      "[[1.         0.5        0.33333333]\n",
      " [0.25       0.2        0.16666667]]\n",
      "[[  1   8  27]\n",
      " [ 64 125 216]]\n"
     ]
    }
   ],
   "source": [
    "arr = np.array([[1, 2, 3], [4, 5, 6]])\n",
    "print(arr)\n",
    "print(arr * arr) # 같은 위치에 있는 데이터끼리 사칙연산\n",
    "print(arr + arr)\n",
    "print(1 / arr)\n",
    "print(arr ** 3)"
   ]
  },
  {
   "cell_type": "code",
   "execution_count": 22,
   "id": "50f2fe42-3052-4141-b07d-a7bb67a593a1",
   "metadata": {},
   "outputs": [
    {
     "name": "stdout",
     "output_type": "stream",
     "text": [
      "[[1 2 3]\n",
      " [4 5 6]]\n",
      "[[3 2 1]\n",
      " [1 2 3]]\n",
      "[[False False  True]\n",
      " [ True  True  True]]\n",
      "[[ True False False]\n",
      " [False False  True]]\n"
     ]
    }
   ],
   "source": [
    "arr2 = np.array([[3, 2, 1], [1, 2, 3]])\n",
    "print(arr)\n",
    "print(arr2)\n",
    "print(arr > arr2)\n",
    "print(arr2 == 3)"
   ]
  },
  {
   "cell_type": "markdown",
   "id": "3f319bb6-ae0a-46b9-8bb5-aeab19a12ca4",
   "metadata": {},
   "source": [
    "## 4. 색인(인덱싱)과 슬라이싱"
   ]
  },
  {
   "cell_type": "code",
   "execution_count": 23,
   "id": "db9b3d9b-2dda-4620-a7d0-069a17e05857",
   "metadata": {},
   "outputs": [
    {
     "name": "stdout",
     "output_type": "stream",
     "text": [
      "[0 1 2 3 4 5 6 7 8 9]\n"
     ]
    }
   ],
   "source": [
    "arr = np.arange(10)\n",
    "print(arr)"
   ]
  },
  {
   "cell_type": "code",
   "execution_count": 24,
   "id": "47d573ad-3c8d-4e4d-8909-b5e11570a8dc",
   "metadata": {},
   "outputs": [
    {
     "name": "stdout",
     "output_type": "stream",
     "text": [
      "5\n",
      "[2 3 4]\n"
     ]
    }
   ],
   "source": [
    "print(arr[5])\n",
    "print(arr[2:5])"
   ]
  },
  {
   "cell_type": "code",
   "execution_count": 25,
   "id": "4f336c5c-6940-4529-8ebb-026fe5f99fda",
   "metadata": {},
   "outputs": [
    {
     "name": "stdout",
     "output_type": "stream",
     "text": [
      "[ 0  1 10 10 10  5  6  7  8  9]\n"
     ]
    }
   ],
   "source": [
    "arr[2:5] = 10\n",
    "print(arr) # 원본이 변함"
   ]
  },
  {
   "cell_type": "code",
   "execution_count": 28,
   "id": "2cd8628c-1dd0-45eb-8f5b-8ef4c8a31138",
   "metadata": {},
   "outputs": [
    {
     "name": "stdout",
     "output_type": "stream",
     "text": [
      "[[1 2 3]\n",
      " [4 5 6]]\n",
      "5\n",
      "5\n"
     ]
    }
   ],
   "source": [
    "arr = np.array([[1, 2, 3], [4, 5, 6]])\n",
    "print(arr)\n",
    "print(arr[1][1])\n",
    "print(arr[1, 1])"
   ]
  },
  {
   "cell_type": "code",
   "execution_count": 30,
   "id": "078ca4a0-0e4a-4469-a9b5-5e953c217f7d",
   "metadata": {},
   "outputs": [],
   "source": [
    "arr3d = np.array([[[1, 2, 3], [4, 5, 6], [7, 8, 9]],\n",
    "                  [[11, 12, 13], [14, 15, 16], [17, 18, 19]],\n",
    "                  [[11, 22, 33], [44, 55, 66], [77, 88, 99]]])"
   ]
  },
  {
   "cell_type": "code",
   "execution_count": 31,
   "id": "42bb3fd3-ee0c-4f46-a4a5-0306efdfc245",
   "metadata": {},
   "outputs": [
    {
     "name": "stdout",
     "output_type": "stream",
     "text": [
      "22\n",
      "22\n"
     ]
    }
   ],
   "source": [
    "print(arr3d[2][0][1])\n",
    "print(arr3d[2, 0, 1])"
   ]
  },
  {
   "cell_type": "code",
   "execution_count": 34,
   "id": "e340ac4f-6e2c-4d29-a8de-de7087e8b4d8",
   "metadata": {},
   "outputs": [
    {
     "data": {
      "text/plain": [
       "array([[[6],\n",
       "        [9]]])"
      ]
     },
     "execution_count": 34,
     "metadata": {},
     "output_type": "execute_result"
    }
   ],
   "source": [
    "arr3d[:1, 1:, 2:] # 슬라이싱 접근 대괄호 유지"
   ]
  },
  {
   "cell_type": "code",
   "execution_count": 37,
   "id": "c06ff93e-5eb2-4f5a-8f11-0ce263539131",
   "metadata": {},
   "outputs": [
    {
     "data": {
      "text/plain": [
       "array([[6],\n",
       "       [9]])"
      ]
     },
     "execution_count": 37,
     "metadata": {},
     "output_type": "execute_result"
    }
   ],
   "source": [
    "arr3d[0, 1:, 2:] # 인덱스 접근 대괄호 -1"
   ]
  },
  {
   "cell_type": "code",
   "execution_count": 38,
   "id": "18690944-1ddd-41de-9fa5-42e615d0e2f0",
   "metadata": {},
   "outputs": [
    {
     "name": "stdout",
     "output_type": "stream",
     "text": [
      "[[[  1   2   3]\n",
      "  [  4   5 999]\n",
      "  [  7   8 999]]\n",
      "\n",
      " [[ 11  12  13]\n",
      "  [ 14  15  16]\n",
      "  [ 17  18  19]]\n",
      "\n",
      " [[ 11  22  33]\n",
      "  [ 44  55  66]\n",
      "  [ 77  88  99]]]\n"
     ]
    }
   ],
   "source": [
    "arr3d[0, 1:, 2:] = 999\n",
    "print(arr3d)"
   ]
  },
  {
   "cell_type": "markdown",
   "id": "4aaaade8-4d44-4ef6-8273-6ebe7315ecf0",
   "metadata": {},
   "source": [
    "## 5. 불리언 값으로 선택"
   ]
  },
  {
   "cell_type": "code",
   "execution_count": 39,
   "id": "431d21b2-5882-400b-bd86-52622350445a",
   "metadata": {},
   "outputs": [],
   "source": [
    "names = np.array(['hong', 'kim', 'hong', 'kim'])\n",
    "data = np. array([['math', 60], ['math', 90], ['eng', 70], ['eng', 50]])"
   ]
  },
  {
   "cell_type": "code",
   "execution_count": 40,
   "id": "f3dac070-875f-4bcb-884d-1700ebb1344e",
   "metadata": {},
   "outputs": [
    {
     "data": {
      "text/plain": [
       "array([ True, False,  True, False])"
      ]
     },
     "execution_count": 40,
     "metadata": {},
     "output_type": "execute_result"
    }
   ],
   "source": [
    "names == 'hong'"
   ]
  },
  {
   "cell_type": "code",
   "execution_count": 41,
   "id": "876c92bb-5090-44ff-837a-8adf495775ea",
   "metadata": {},
   "outputs": [
    {
     "data": {
      "text/plain": [
       "array([['math', '60'],\n",
       "       ['eng', '70']], dtype='<U21')"
      ]
     },
     "execution_count": 41,
     "metadata": {},
     "output_type": "execute_result"
    }
   ],
   "source": [
    "data[[True, False, True, False]]"
   ]
  },
  {
   "cell_type": "code",
   "execution_count": 42,
   "id": "cb50e69e-ae46-4751-b19f-90f4d5f51003",
   "metadata": {},
   "outputs": [
    {
     "data": {
      "text/plain": [
       "array([['math', '60'],\n",
       "       ['eng', '70']], dtype='<U21')"
      ]
     },
     "execution_count": 42,
     "metadata": {},
     "output_type": "execute_result"
    }
   ],
   "source": [
    "data[names == 'hong']"
   ]
  },
  {
   "cell_type": "code",
   "execution_count": 43,
   "id": "9211b73b-4616-40d0-b5f6-885b69a9d24f",
   "metadata": {},
   "outputs": [],
   "source": [
    "names = np.array(['hong', 'kim', 'kim', 'hong'])\n",
    "data = np. array([['math', 60], ['math', 90], ['eng', 70], ['eng', 50]])"
   ]
  },
  {
   "cell_type": "code",
   "execution_count": 44,
   "id": "b50dee06-0967-4438-a108-fef655e85745",
   "metadata": {},
   "outputs": [
    {
     "data": {
      "text/plain": [
       "array([['math', '60'],\n",
       "       ['eng', '50']], dtype='<U21')"
      ]
     },
     "execution_count": 44,
     "metadata": {},
     "output_type": "execute_result"
    }
   ],
   "source": [
    "data[names == 'hong'] # 순서로 고름"
   ]
  },
  {
   "cell_type": "code",
   "execution_count": 46,
   "id": "871b022e-8d44-41da-a874-c8a8dc293813",
   "metadata": {},
   "outputs": [
    {
     "name": "stdout",
     "output_type": "stream",
     "text": [
      "['60' '50']\n",
      "[['math']\n",
      " ['eng']]\n"
     ]
    }
   ],
   "source": [
    "print(data[names == 'hong', 1])\n",
    "print(data[names == 'hong', :1])"
   ]
  },
  {
   "cell_type": "code",
   "execution_count": 47,
   "id": "affb9999-9c7b-443d-9e87-5f2ce8dcbecb",
   "metadata": {},
   "outputs": [
    {
     "name": "stdout",
     "output_type": "stream",
     "text": [
      "[False  True  True False]\n",
      "[False  True  True False]\n"
     ]
    }
   ],
   "source": [
    "print(names != 'hong')\n",
    "print(~(names == 'hong'))"
   ]
  },
  {
   "cell_type": "code",
   "execution_count": 48,
   "id": "b3f9a1bd-0947-475f-b546-edf26dd76d06",
   "metadata": {},
   "outputs": [
    {
     "data": {
      "text/plain": [
       "array([['math', '90'],\n",
       "       ['eng', '70']], dtype='<U21')"
      ]
     },
     "execution_count": 48,
     "metadata": {},
     "output_type": "execute_result"
    }
   ],
   "source": [
    "cond = names == 'kim'\n",
    "data[cond]"
   ]
  },
  {
   "cell_type": "markdown",
   "id": "e471b4ee-b0b9-445d-8255-1d06ff7270cc",
   "metadata": {},
   "source": [
    "## 6. 팬시 색인 (fancy indexing)"
   ]
  },
  {
   "cell_type": "code",
   "execution_count": 49,
   "id": "65771f35-3677-4800-a8eb-6f4ca17260f8",
   "metadata": {},
   "outputs": [
    {
     "name": "stdout",
     "output_type": "stream",
     "text": [
      "[[0. 0. 0. 0.]\n",
      " [1. 1. 1. 1.]\n",
      " [2. 2. 2. 2.]\n",
      " [3. 3. 3. 3.]\n",
      " [4. 4. 4. 4.]\n",
      " [5. 5. 5. 5.]\n",
      " [6. 6. 6. 6.]\n",
      " [7. 7. 7. 7.]]\n"
     ]
    }
   ],
   "source": [
    "arr = np.zeros((8, 4))\n",
    "\n",
    "for i in range(8):\n",
    "    arr[i] = i\n",
    "print(arr)"
   ]
  },
  {
   "cell_type": "code",
   "execution_count": 50,
   "id": "92ddee65-a167-4eed-ab88-21fa3d63c102",
   "metadata": {},
   "outputs": [
    {
     "data": {
      "text/plain": [
       "array([[4., 4., 4., 4.],\n",
       "       [3., 3., 3., 3.],\n",
       "       [0., 0., 0., 0.],\n",
       "       [5., 5., 5., 5.]])"
      ]
     },
     "execution_count": 50,
     "metadata": {},
     "output_type": "execute_result"
    }
   ],
   "source": [
    "arr[[4, 3, 0, 5]] # 대괄호 안 대괄호 -> 내가 원하는 행을 직접 고를 수 있음"
   ]
  },
  {
   "cell_type": "code",
   "execution_count": 51,
   "id": "e6a8b804-bbd3-4356-9bf7-ac4581b06a9c",
   "metadata": {},
   "outputs": [
    {
     "data": {
      "text/plain": [
       "array([[5., 5., 5., 5.],\n",
       "       [3., 3., 3., 3.],\n",
       "       [7., 7., 7., 7.]])"
      ]
     },
     "execution_count": 51,
     "metadata": {},
     "output_type": "execute_result"
    }
   ],
   "source": [
    "arr[[-3, -5, -1]]"
   ]
  },
  {
   "cell_type": "code",
   "execution_count": 52,
   "id": "052338a6-98b4-44e2-a3fd-bb729e1cb23b",
   "metadata": {},
   "outputs": [
    {
     "name": "stdout",
     "output_type": "stream",
     "text": [
      "[[ 0  1  2  3]\n",
      " [ 4  5  6  7]\n",
      " [ 8  9 10 11]\n",
      " [12 13 14 15]\n",
      " [16 17 18 19]\n",
      " [20 21 22 23]\n",
      " [24 25 26 27]\n",
      " [28 29 30 31]]\n"
     ]
    }
   ],
   "source": [
    "arr = np.arange(32).reshape(8, 4)\n",
    "print(arr)"
   ]
  },
  {
   "cell_type": "code",
   "execution_count": 58,
   "id": "1bd1facc-1976-4e7c-8431-81daf81a78ef",
   "metadata": {},
   "outputs": [
    {
     "name": "stdout",
     "output_type": "stream",
     "text": [
      "[ 6 23]\n"
     ]
    }
   ],
   "source": [
    "print(arr[[1, 5], [2, 3]])"
   ]
  },
  {
   "cell_type": "code",
   "execution_count": 59,
   "id": "e0cb7276-1d0d-4685-bca1-c3d72d5e3875",
   "metadata": {},
   "outputs": [
    {
     "name": "stdout",
     "output_type": "stream",
     "text": [
      "[ 5 22]\n"
     ]
    }
   ],
   "source": [
    "print(arr[[1, 5], [1, 2]])"
   ]
  },
  {
   "cell_type": "code",
   "execution_count": 63,
   "id": "9fcf46ab-2056-4383-82b7-0acbd4c6e723",
   "metadata": {},
   "outputs": [
    {
     "data": {
      "text/plain": [
       "array([[ 6,  7],\n",
       "       [22, 23]])"
      ]
     },
     "execution_count": 63,
     "metadata": {},
     "output_type": "execute_result"
    }
   ],
   "source": [
    "arr[[1, 5]][:, [2, 3]]"
   ]
  },
  {
   "cell_type": "code",
   "execution_count": null,
   "id": "519eccee-37ca-4511-934b-24c5da1dc2f5",
   "metadata": {},
   "outputs": [],
   "source": []
  },
  {
   "cell_type": "code",
   "execution_count": null,
   "id": "d5a93c71-7b62-4537-9edf-fa231b6ef2f6",
   "metadata": {},
   "outputs": [],
   "source": []
  },
  {
   "cell_type": "code",
   "execution_count": null,
   "id": "e28e4c3a-0c86-4ce7-ad95-79e662a595af",
   "metadata": {},
   "outputs": [],
   "source": []
  },
  {
   "cell_type": "code",
   "execution_count": null,
   "id": "b02e7770-ce7e-42ec-bcd1-d92175c82c0a",
   "metadata": {},
   "outputs": [],
   "source": []
  },
  {
   "cell_type": "code",
   "execution_count": null,
   "id": "53cbd838-328e-4f31-88c9-979933d66120",
   "metadata": {},
   "outputs": [],
   "source": []
  },
  {
   "cell_type": "code",
   "execution_count": null,
   "id": "3ace16fc-1084-4c35-aede-518060f653c2",
   "metadata": {},
   "outputs": [],
   "source": []
  },
  {
   "cell_type": "code",
   "execution_count": null,
   "id": "ab3ed7b5-a199-42c3-92fd-5dec96cc2efd",
   "metadata": {},
   "outputs": [],
   "source": []
  },
  {
   "cell_type": "code",
   "execution_count": null,
   "id": "ba2b22ef-55c3-4d42-a178-e31516de6f5b",
   "metadata": {},
   "outputs": [],
   "source": []
  },
  {
   "cell_type": "code",
   "execution_count": null,
   "id": "8162ee42-21f4-4ea7-a6fa-0559461521c2",
   "metadata": {},
   "outputs": [],
   "source": []
  },
  {
   "cell_type": "code",
   "execution_count": null,
   "id": "e62037de-3f31-4ef6-8764-3f465d282fdd",
   "metadata": {},
   "outputs": [],
   "source": []
  },
  {
   "cell_type": "code",
   "execution_count": null,
   "id": "d4a5b2d1-ec5d-41f7-ac1a-f2584abd384b",
   "metadata": {},
   "outputs": [],
   "source": []
  },
  {
   "cell_type": "code",
   "execution_count": null,
   "id": "7eb3ab94-c7ce-47d9-a39c-bb09b3bc3679",
   "metadata": {},
   "outputs": [],
   "source": []
  }
 ],
 "metadata": {
  "kernelspec": {
   "display_name": "Python 3 (ipykernel)",
   "language": "python",
   "name": "python3"
  },
  "language_info": {
   "codemirror_mode": {
    "name": "ipython",
    "version": 3
   },
   "file_extension": ".py",
   "mimetype": "text/x-python",
   "name": "python",
   "nbconvert_exporter": "python",
   "pygments_lexer": "ipython3",
   "version": "3.13.2"
  }
 },
 "nbformat": 4,
 "nbformat_minor": 5
}
