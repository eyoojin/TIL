{
 "cells": [
  {
   "cell_type": "markdown",
   "id": "c34e3bed-eab7-47f9-ae81-9948371aad09",
   "metadata": {},
   "source": [
    "## 색인(인덱싱)과 슬라이싱"
   ]
  },
  {
   "cell_type": "code",
   "execution_count": 1,
   "id": "39f8da64-0daa-4c9d-9be1-3b7aab92164a",
   "metadata": {},
   "outputs": [],
   "source": [
    "import numpy as np"
   ]
  },
  {
   "cell_type": "code",
   "execution_count": 2,
   "id": "8a4a6ffb-39c2-4635-8967-ab183ea98992",
   "metadata": {},
   "outputs": [
    {
     "name": "stdout",
     "output_type": "stream",
     "text": [
      "[0 1 2 3 4 5 6 7 8 9]\n"
     ]
    }
   ],
   "source": [
    "arr = np.arange(10)\n",
    "print(arr)"
   ]
  },
  {
   "cell_type": "code",
   "execution_count": 3,
   "id": "faaa26c0-9fa9-4dce-bd6a-b2b0846dea53",
   "metadata": {},
   "outputs": [
    {
     "name": "stdout",
     "output_type": "stream",
     "text": [
      "5\n",
      "[2 3 4]\n"
     ]
    }
   ],
   "source": [
    "print(arr[5])\n",
    "print(arr[2:5])"
   ]
  },
  {
   "cell_type": "code",
   "execution_count": 4,
   "id": "8ef7edc7-3ba9-4031-9373-6ceb6db12350",
   "metadata": {},
   "outputs": [
    {
     "name": "stdout",
     "output_type": "stream",
     "text": [
      "[ 0  1 10 10 10  5  6  7  8  9]\n"
     ]
    }
   ],
   "source": [
    "arr[2:5] = 10\n",
    "print(arr) # 원본이 변함"
   ]
  },
  {
   "cell_type": "code",
   "execution_count": 6,
   "id": "1b9b370b-a1d6-4fb3-99ad-17d19c47e86a",
   "metadata": {},
   "outputs": [
    {
     "name": "stdout",
     "output_type": "stream",
     "text": [
      "[[1 2 3]\n",
      " [4 5 6]]\n",
      "5\n",
      "5\n"
     ]
    }
   ],
   "source": [
    "arr = np.array([[1, 2, 3], [4, 5, 6]])\n",
    "print(arr)\n",
    "print(arr[1][1])\n",
    "print(arr[1, 1])"
   ]
  },
  {
   "cell_type": "code",
   "execution_count": 13,
   "id": "b5eaed64-0f0c-46d9-be0a-275efa8e89fa",
   "metadata": {},
   "outputs": [
    {
     "name": "stdout",
     "output_type": "stream",
     "text": [
      "[[[ 0  1  2]\n",
      "  [ 3  4  5]\n",
      "  [ 6  7  8]]\n",
      "\n",
      " [[ 9 10 11]\n",
      "  [12 13 14]\n",
      "  [15 16 17]]\n",
      "\n",
      " [[18 19 20]\n",
      "  [21 22 23]\n",
      "  [24 25 26]]]\n"
     ]
    }
   ],
   "source": [
    "arr3d = np.arange(27)\n",
    "arr3d = arr3d.reshape(3, 3, 3)\n",
    "print(arr3d)"
   ]
  },
  {
   "cell_type": "code",
   "execution_count": 17,
   "id": "dd200290-8e18-48e9-939f-f98fb0aebc77",
   "metadata": {},
   "outputs": [
    {
     "name": "stdout",
     "output_type": "stream",
     "text": [
      "19\n",
      "19\n"
     ]
    }
   ],
   "source": [
    "print(arr3d[2][0][1])\n",
    "print(arr3d[2, 0, 1])"
   ]
  },
  {
   "cell_type": "code",
   "execution_count": 21,
   "id": "98d74155-9469-4caf-90f1-4f11743621eb",
   "metadata": {},
   "outputs": [
    {
     "data": {
      "text/plain": [
       "array([[[5],\n",
       "        [8]]])"
      ]
     },
     "execution_count": 21,
     "metadata": {},
     "output_type": "execute_result"
    }
   ],
   "source": [
    "arr3d[:1, 1:, 2:] # 슬라이싱 접근 대괄호 유지"
   ]
  },
  {
   "cell_type": "code",
   "execution_count": 24,
   "id": "4af3076c-f994-4ac7-9951-66bb27070c0a",
   "metadata": {},
   "outputs": [
    {
     "data": {
      "text/plain": [
       "array([[5],\n",
       "       [8]])"
      ]
     },
     "execution_count": 24,
     "metadata": {},
     "output_type": "execute_result"
    }
   ],
   "source": [
    "arr3d[0, 1:, 2:] # 인덱스 접근 대괄호 -1"
   ]
  },
  {
   "cell_type": "code",
   "execution_count": 25,
   "id": "4e218cf1-87e3-46b0-b1f3-240b5a0d7c15",
   "metadata": {},
   "outputs": [
    {
     "name": "stdout",
     "output_type": "stream",
     "text": [
      "[[[  0   1   2]\n",
      "  [  3   4 999]\n",
      "  [  6   7 999]]\n",
      "\n",
      " [[  9  10  11]\n",
      "  [ 12  13  14]\n",
      "  [ 15  16  17]]\n",
      "\n",
      " [[ 18  19  20]\n",
      "  [ 21  22  23]\n",
      "  [ 24  25  26]]]\n"
     ]
    }
   ],
   "source": [
    "arr3d[0, 1:, 2:] = 999\n",
    "print(arr3d)"
   ]
  }
 ],
 "metadata": {
  "kernelspec": {
   "display_name": "Python 3 (ipykernel)",
   "language": "python",
   "name": "python3"
  },
  "language_info": {
   "codemirror_mode": {
    "name": "ipython",
    "version": 3
   },
   "file_extension": ".py",
   "mimetype": "text/x-python",
   "name": "python",
   "nbconvert_exporter": "python",
   "pygments_lexer": "ipython3",
   "version": "3.13.2"
  }
 },
 "nbformat": 4,
 "nbformat_minor": 5
}
