{
 "cells": [
  {
   "cell_type": "markdown",
   "id": "0175d75b-d57d-4a26-82e1-6ef0267bb86a",
   "metadata": {},
   "source": [
    "# 02. file load save"
   ]
  },
  {
   "cell_type": "code",
   "execution_count": 1,
   "id": "b89e7d7e-e048-4e50-a45a-55b15916758b",
   "metadata": {},
   "outputs": [],
   "source": [
    "import pandas as pd"
   ]
  },
  {
   "cell_type": "markdown",
   "id": "9f45cd41-a11e-494d-9c95-88a556f6e6b5",
   "metadata": {},
   "source": [
    "## excel"
   ]
  },
  {
   "cell_type": "markdown",
   "id": "5b45ebe3-cd58-4a48-9095-1f33d5bbd9ce",
   "metadata": {},
   "source": [
    "```python\n",
    "excel = pd.read_excel('파일위치/파일명.xlsx') # 불러오기\n",
    "excel[['column1', 'column2', ...]] # indexing\n",
    "excel.head()\n",
    "excel = pd.read_excel('data/excel.xlsx', sheet_name=None) # dictionary\n",
    "```"
   ]
  },
  {
   "cell_type": "code",
   "execution_count": null,
   "id": "c9c14ba8-adb1-4d8d-9da2-4d306a2abe3e",
   "metadata": {},
   "outputs": [],
   "source": []
  }
 ],
 "metadata": {
  "kernelspec": {
   "display_name": "Python 3 (ipykernel)",
   "language": "python",
   "name": "python3"
  },
  "language_info": {
   "codemirror_mode": {
    "name": "ipython",
    "version": 3
   },
   "file_extension": ".py",
   "mimetype": "text/x-python",
   "name": "python",
   "nbconvert_exporter": "python",
   "pygments_lexer": "ipython3",
   "version": "3.13.2"
  }
 },
 "nbformat": 4,
 "nbformat_minor": 5
}
