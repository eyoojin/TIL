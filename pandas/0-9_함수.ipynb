{
 "cells": [
  {
   "cell_type": "markdown",
   "id": "c0da68f9-2d6b-4895-909d-60a858e64f7d",
   "metadata": {},
   "source": [
    "## numpy 함수"
   ]
  },
  {
   "cell_type": "code",
   "execution_count": 1,
   "id": "79ea8401-83fd-4b0b-8e53-f212dfbcc638",
   "metadata": {},
   "outputs": [],
   "source": [
    "import numpy as np"
   ]
  },
  {
   "cell_type": "code",
   "execution_count": 6,
   "id": "79ed40a5-499e-41a6-98dd-aab2a0081f89",
   "metadata": {},
   "outputs": [
    {
     "name": "stdout",
     "output_type": "stream",
     "text": [
      "[[-1.06531394 -0.4624275   0.96226824]\n",
      " [ 2.00397286 -1.10624337 -0.10298507]\n",
      " [-1.46938202 -0.82882659 -0.55652722]]\n"
     ]
    }
   ],
   "source": [
    "samples = np.random.standard_normal(size=(3, 3))\n",
    "print(samples)"
   ]
  },
  {
   "cell_type": "code",
   "execution_count": 8,
   "id": "376a4e31-fbae-43df-b9d8-67fc9f235763",
   "metadata": {},
   "outputs": [
    {
     "name": "stdout",
     "output_type": "stream",
     "text": [
      "[[       nan        nan 0.98095272]\n",
      " [1.41561748        nan        nan]\n",
      " [       nan        nan        nan]]\n"
     ]
    },
    {
     "name": "stderr",
     "output_type": "stream",
     "text": [
      "C:\\Users\\1-14\\AppData\\Local\\Temp\\ipykernel_7676\\493222594.py:1: RuntimeWarning: invalid value encountered in sqrt\n",
      "  arr1 = np.sqrt(samples) # 음수에 루트 씌우면 결측치(nan: nor a number)\n"
     ]
    }
   ],
   "source": [
    "arr1 = np.sqrt(samples) # 음수에 루트 씌우면 결측치(nan: nor a number)\n",
    "print(arr1)"
   ]
  },
  {
   "cell_type": "code",
   "execution_count": 9,
   "id": "e3b6ff6f-73a8-44a6-881e-606d618845e2",
   "metadata": {},
   "outputs": [
    {
     "name": "stdout",
     "output_type": "stream",
     "text": [
      "[[1.06531394 0.4624275  0.96226824]\n",
      " [2.00397286 1.10624337 0.10298507]\n",
      " [1.46938202 0.82882659 0.55652722]]\n"
     ]
    }
   ],
   "source": [
    "arr2 = np.abs(samples) # absolute: 절댓값\n",
    "print(arr2)"
   ]
  },
  {
   "cell_type": "code",
   "execution_count": 10,
   "id": "554b22ac-abe0-496f-af32-4404f09e95b9",
   "metadata": {},
   "outputs": [
    {
     "data": {
      "text/plain": [
       "array([[ True,  True, False],\n",
       "       [False,  True,  True],\n",
       "       [ True,  True,  True]])"
      ]
     },
     "execution_count": 10,
     "metadata": {},
     "output_type": "execute_result"
    }
   ],
   "source": [
    "np.isnan(arr1) # 결측치 찾기"
   ]
  }
 ],
 "metadata": {
  "kernelspec": {
   "display_name": "Python 3 (ipykernel)",
   "language": "python",
   "name": "python3"
  },
  "language_info": {
   "codemirror_mode": {
    "name": "ipython",
    "version": 3
   },
   "file_extension": ".py",
   "mimetype": "text/x-python",
   "name": "python",
   "nbconvert_exporter": "python",
   "pygments_lexer": "ipython3",
   "version": "3.13.2"
  }
 },
 "nbformat": 4,
 "nbformat_minor": 5
}
