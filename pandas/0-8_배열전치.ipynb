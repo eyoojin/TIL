{
 "cells": [
  {
   "cell_type": "markdown",
   "id": "d1c1ab14-59b9-4229-8e7d-b4974184b0c7",
   "metadata": {},
   "source": [
    "## 배열 전치"
   ]
  },
  {
   "cell_type": "code",
   "execution_count": 1,
   "id": "0943e900-137a-4003-a26c-c0f835f2995a",
   "metadata": {},
   "outputs": [],
   "source": [
    "import numpy as np"
   ]
  },
  {
   "cell_type": "code",
   "execution_count": 2,
   "id": "6db0224f-e6b8-4857-b982-bc1d7f776627",
   "metadata": {},
   "outputs": [
    {
     "name": "stdout",
     "output_type": "stream",
     "text": [
      "[[ 0  1  2  3  4]\n",
      " [ 5  6  7  8  9]\n",
      " [10 11 12 13 14]]\n"
     ]
    }
   ],
   "source": [
    "arr = np.arange(15).reshape(3, 5)\n",
    "print(arr)"
   ]
  },
  {
   "cell_type": "code",
   "execution_count": 3,
   "id": "1c726419-c06d-4eaa-8a0d-fcfa05930d3c",
   "metadata": {},
   "outputs": [
    {
     "name": "stdout",
     "output_type": "stream",
     "text": [
      "[[ 0  5 10]\n",
      " [ 1  6 11]\n",
      " [ 2  7 12]\n",
      " [ 3  8 13]\n",
      " [ 4  9 14]]\n"
     ]
    }
   ],
   "source": [
    "print(arr.T) # 축을 바꿀 때"
   ]
  },
  {
   "cell_type": "code",
   "execution_count": 4,
   "id": "478e353b-9408-4318-a11f-74c5dfc724c9",
   "metadata": {},
   "outputs": [
    {
     "name": "stdout",
     "output_type": "stream",
     "text": [
      "[[ 30  80 130]\n",
      " [ 80 255 430]\n",
      " [130 430 730]]\n",
      "[[ 30  80 130]\n",
      " [ 80 255 430]\n",
      " [130 430 730]]\n"
     ]
    }
   ],
   "source": [
    "# 행렬의 내적, 곱 연산\n",
    "print(arr @ arr.T)\n",
    "print(np.dot(arr, arr.T))"
   ]
  }
 ],
 "metadata": {
  "kernelspec": {
   "display_name": "Python 3 (ipykernel)",
   "language": "python",
   "name": "python3"
  },
  "language_info": {
   "codemirror_mode": {
    "name": "ipython",
    "version": 3
   },
   "file_extension": ".py",
   "mimetype": "text/x-python",
   "name": "python",
   "nbconvert_exporter": "python",
   "pygments_lexer": "ipython3",
   "version": "3.13.2"
  }
 },
 "nbformat": 4,
 "nbformat_minor": 5
}
