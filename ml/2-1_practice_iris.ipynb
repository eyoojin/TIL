{
 "cells": [
  {
   "cell_type": "markdown",
   "id": "77b27eab-25a9-41a2-8b58-6db5553bde4a",
   "metadata": {},
   "source": [
    "### iris data로 연습하기"
   ]
  },
  {
   "cell_type": "code",
   "execution_count": 1,
   "id": "0fe7d13e-0390-493e-a630-7f828f25c1ac",
   "metadata": {},
   "outputs": [],
   "source": [
    "import pandas as pd\n",
    "import seaborn as sns"
   ]
  },
  {
   "cell_type": "code",
   "execution_count": 4,
   "id": "e52ea62f-353a-41d5-a06f-994f9e03a950",
   "metadata": {},
   "outputs": [],
   "source": [
    "df = sns.load_dataset('iris')\n",
    "\n",
    "# setosa, versicolor를 petal_length와 petal_width로 예상하기"
   ]
  },
  {
   "cell_type": "code",
   "execution_count": 5,
   "id": "7e0dbc34-7a6d-4e5f-a030-5eb526ee6c8b",
   "metadata": {},
   "outputs": [
    {
     "data": {
      "text/html": [
       "<div>\n",
       "<style scoped>\n",
       "    .dataframe tbody tr th:only-of-type {\n",
       "        vertical-align: middle;\n",
       "    }\n",
       "\n",
       "    .dataframe tbody tr th {\n",
       "        vertical-align: top;\n",
       "    }\n",
       "\n",
       "    .dataframe thead th {\n",
       "        text-align: right;\n",
       "    }\n",
       "</style>\n",
       "<table border=\"1\" class=\"dataframe\">\n",
       "  <thead>\n",
       "    <tr style=\"text-align: right;\">\n",
       "      <th></th>\n",
       "      <th>sepal_length</th>\n",
       "      <th>sepal_width</th>\n",
       "      <th>petal_length</th>\n",
       "      <th>petal_width</th>\n",
       "      <th>species</th>\n",
       "    </tr>\n",
       "  </thead>\n",
       "  <tbody>\n",
       "    <tr>\n",
       "      <th>0</th>\n",
       "      <td>5.1</td>\n",
       "      <td>3.5</td>\n",
       "      <td>1.4</td>\n",
       "      <td>0.2</td>\n",
       "      <td>setosa</td>\n",
       "    </tr>\n",
       "    <tr>\n",
       "      <th>1</th>\n",
       "      <td>4.9</td>\n",
       "      <td>3.0</td>\n",
       "      <td>1.4</td>\n",
       "      <td>0.2</td>\n",
       "      <td>setosa</td>\n",
       "    </tr>\n",
       "    <tr>\n",
       "      <th>2</th>\n",
       "      <td>4.7</td>\n",
       "      <td>3.2</td>\n",
       "      <td>1.3</td>\n",
       "      <td>0.2</td>\n",
       "      <td>setosa</td>\n",
       "    </tr>\n",
       "    <tr>\n",
       "      <th>3</th>\n",
       "      <td>4.6</td>\n",
       "      <td>3.1</td>\n",
       "      <td>1.5</td>\n",
       "      <td>0.2</td>\n",
       "      <td>setosa</td>\n",
       "    </tr>\n",
       "    <tr>\n",
       "      <th>4</th>\n",
       "      <td>5.0</td>\n",
       "      <td>3.6</td>\n",
       "      <td>1.4</td>\n",
       "      <td>0.2</td>\n",
       "      <td>setosa</td>\n",
       "    </tr>\n",
       "  </tbody>\n",
       "</table>\n",
       "</div>"
      ],
      "text/plain": [
       "   sepal_length  sepal_width  petal_length  petal_width species\n",
       "0           5.1          3.5           1.4          0.2  setosa\n",
       "1           4.9          3.0           1.4          0.2  setosa\n",
       "2           4.7          3.2           1.3          0.2  setosa\n",
       "3           4.6          3.1           1.5          0.2  setosa\n",
       "4           5.0          3.6           1.4          0.2  setosa"
      ]
     },
     "execution_count": 5,
     "metadata": {},
     "output_type": "execute_result"
    }
   ],
   "source": [
    "df.head()"
   ]
  },
  {
   "cell_type": "code",
   "execution_count": 11,
   "id": "b44c7a24-a956-414d-9d4e-4f15d6a0b106",
   "metadata": {},
   "outputs": [],
   "source": [
    "cond = df['species'].isin(['setosa', 'versicolor'])\n",
    "\n",
    "lw_df = df.loc[cond, ['petal_length', 'petal_width']]\n",
    "iris_data = lw_df.values.tolist()"
   ]
  },
  {
   "cell_type": "code",
   "execution_count": 17,
   "id": "1ebeae9e-da8b-4c09-8781-850f136b1601",
   "metadata": {},
   "outputs": [],
   "source": [
    "cond1 = df.loc[df['species'] == 'setosa']\n",
    "cond2 = df.loc[df['species'] == 'versicolor']\n",
    "setosa_count = cond1.shape[0]\n",
    "versicolor_count = cond2.shape[0]\n",
    "\n",
    "iris_target = [1] * setosa_count + [0] * versicolor_count"
   ]
  },
  {
   "cell_type": "code",
   "execution_count": 10,
   "id": "617d1296-b5e4-4969-b7db-cf4f0fa52283",
   "metadata": {},
   "outputs": [],
   "source": [
    "import numpy as np"
   ]
  },
  {
   "cell_type": "code",
   "execution_count": 18,
   "id": "58dc79c6-7beb-4e7d-8fe4-4a62ca759472",
   "metadata": {},
   "outputs": [
    {
     "data": {
      "text/plain": [
       "(100, 2)"
      ]
     },
     "execution_count": 18,
     "metadata": {},
     "output_type": "execute_result"
    }
   ],
   "source": [
    "input_arr = np.array(iris_data)\n",
    "target_arr = np.array(iris_target)\n",
    "\n",
    "input_arr.shape"
   ]
  },
  {
   "cell_type": "code",
   "execution_count": 20,
   "id": "11a6ae03-5d74-4f55-822d-544f0924f4ef",
   "metadata": {},
   "outputs": [
    {
     "name": "stdout",
     "output_type": "stream",
     "text": [
      "[57 11 47 58 35 55 46 68 30 63 28 14 17 37 80 90  8 34 27  9 19 78 89 43\n",
      " 44  1  6 49 41 32 24 39 56 12 79 21 15 61 88 29 18 36  7 75 51  5 25 66\n",
      " 10  2 52 53 59 93 85  3 77 65 22 84 97 62 26 95 67 31 38 94 91 74 99 23\n",
      " 16  0 54 64 69 13 71 45 76 72 70 48 42 50 87 83 92 40 20 33 82 60 81 96\n",
      " 73 86  4 98]\n"
     ]
    }
   ],
   "source": [
    "index = np.arange(100)\n",
    "np.random.shuffle(index)\n",
    "print(index)"
   ]
  },
  {
   "cell_type": "code",
   "execution_count": 21,
   "id": "9b29f1c0-c621-42e0-8d1c-e8ccc59f8cac",
   "metadata": {},
   "outputs": [],
   "source": [
    "train_input = input_arr[index[:70]]\n",
    "train_target = target_arr[index[:70]]\n",
    "\n",
    "test_input = input_arr[index[70:]]\n",
    "test_target = target_arr[index[70:]]"
   ]
  },
  {
   "cell_type": "code",
   "execution_count": 22,
   "id": "6299512d-8d47-4528-bb20-0e533d12b69e",
   "metadata": {},
   "outputs": [],
   "source": [
    "import matplotlib.pyplot as plt"
   ]
  },
  {
   "cell_type": "code",
   "execution_count": 23,
   "id": "0a990827-48af-49c1-8d84-cf7bce4250bc",
   "metadata": {},
   "outputs": [
    {
     "data": {
      "text/plain": [
       "<matplotlib.collections.PathCollection at 0x1baaef0f9d0>"
      ]
     },
     "execution_count": 23,
     "metadata": {},
     "output_type": "execute_result"
    },
    {
     "data": {
      "image/png": "[encoded data removed]",
      "text/plain": [
       "<Figure size 640x480 with 1 Axes>"
      ]
     },
     "metadata": {},
     "output_type": "display_data"
    }
   ],
   "source": [
    "plt.scatter(train_input[:, 0], train_input[:, 1])\n",
    "plt.scatter(test_input[:, 0], test_input[:, 1])"
   ]
  },
  {
   "cell_type": "code",
   "execution_count": 24,
   "id": "34dbc4c7-3220-4d4e-bc8b-80fdc1101c20",
   "metadata": {},
   "outputs": [],
   "source": [
    "from sklearn.neighbors import KNeighborsClassifier\n",
    "\n",
    "kn = KNeighborsClassifier()"
   ]
  },
  {
   "cell_type": "code",
   "execution_count": 25,
   "id": "a85f7f1d-cb9f-45f2-b084-84cacdd2c38c",
   "metadata": {},
   "outputs": [
    {
     "data": {
      "text/plain": [
       "1.0"
      ]
     },
     "execution_count": 25,
     "metadata": {},
     "output_type": "execute_result"
    }
   ],
   "source": [
    "kn.fit(train_input, train_target)\n",
    "kn.score(test_input, test_target)"
   ]
  },
  {
   "cell_type": "code",
   "execution_count": 27,
   "id": "c3fe5c7e-ea2f-4851-8400-dabe61d02f37",
   "metadata": {},
   "outputs": [
    {
     "data": {
      "text/plain": [
       "array([0, 1, 1, 1, 0, 0, 0, 1, 0, 1, 0, 0, 0, 1, 1, 0, 0, 0, 0, 1, 1, 1,\n",
       "       0, 0, 0, 0, 0, 0, 1, 0])"
      ]
     },
     "execution_count": 27,
     "metadata": {},
     "output_type": "execute_result"
    }
   ],
   "source": [
    "kn.predict(test_input)"
   ]
  },
  {
   "cell_type": "code",
   "execution_count": 28,
   "id": "c1494cf5-c5bf-4760-8135-623b96980276",
   "metadata": {},
   "outputs": [
    {
     "data": {
      "text/plain": [
       "array([0, 1, 1, 1, 0, 0, 0, 1, 0, 1, 0, 0, 0, 1, 1, 0, 0, 0, 0, 1, 1, 1,\n",
       "       0, 0, 0, 0, 0, 0, 1, 0])"
      ]
     },
     "execution_count": 28,
     "metadata": {},
     "output_type": "execute_result"
    }
   ],
   "source": [
    "test_target"
   ]
  },
  {
   "cell_type": "code",
   "execution_count": 29,
   "id": "a7ad8ea5-c45a-4a6e-b2cc-c8c3219bfb19",
   "metadata": {},
   "outputs": [],
   "source": [
    "# version 2\n",
    "\n",
    "iris_target = np.array([1] * setosa_count + [0] * versicolor_count)"
   ]
  },
  {
   "cell_type": "code",
   "execution_count": 30,
   "id": "e81603a3-dfe2-4148-9acb-fa28f8a17684",
   "metadata": {},
   "outputs": [],
   "source": [
    "import random\n",
    "\n",
    "index = list(range(setosa_count + versicolor_count))\n",
    "random.shuffle(index)"
   ]
  }
 ],
 "metadata": {
  "kernelspec": {
   "display_name": "Python 3 (ipykernel)",
   "language": "python",
   "name": "python3"
  },
  "language_info": {
   "codemirror_mode": {
    "name": "ipython",
    "version": 3
   },
   "file_extension": ".py",
   "mimetype": "text/x-python",
   "name": "python",
   "nbconvert_exporter": "python",
   "pygments_lexer": "ipython3",
   "version": "3.13.2"
  }
 },
 "nbformat": 4,
 "nbformat_minor": 5
}
