{
 "cells": [
  {
   "cell_type": "markdown",
   "id": "d9f4b7dd-8220-4637-aaf3-1a4f908d63e6",
   "metadata": {},
   "source": [
    "## 2-1. 훈련 세트와 테스트 세트"
   ]
  },
  {
   "cell_type": "code",
   "execution_count": 1,
   "id": "a6b7f2cd-8213-48d5-a919-d47c0223b8fb",
   "metadata": {},
   "outputs": [],
   "source": [
    "import pandas as pd\n",
    "\n",
    "df = pd.read_csv('data/Fish.csv')"
   ]
  },
  {
   "cell_type": "code",
   "execution_count": 3,
   "id": "d98d09fe-c27c-4d0d-804f-8d3de1f182ba",
   "metadata": {},
   "outputs": [],
   "source": [
    "cond = df['Species'].isin(['Bream', 'Smelt']) \n",
    "# isin(): 2개 이상의 데이터 유무를 판단할 때 사용\n",
    "lw_df = df.loc[cond, ['Length2', 'Weight']]\n",
    "lw_df.values # 2차원 numpy의 list 형태\n",
    "fish_data = lw_df.values.tolist()"
   ]
  },
  {
   "cell_type": "code",
   "execution_count": 4,
   "id": "09b93e29-162f-472b-9a83-44fa4f01f9b7",
   "metadata": {},
   "outputs": [],
   "source": [
    "fish_target = [1] * 35 + [0] * 14"
   ]
  },
  {
   "cell_type": "code",
   "execution_count": 5,
   "id": "9e84c149-e91a-4b79-8978-83071b2f041c",
   "metadata": {},
   "outputs": [],
   "source": [
    "from sklearn.neighbors import KNeighborsClassifier\n",
    "kn = KNeighborsClassifier()"
   ]
  },
  {
   "cell_type": "code",
   "execution_count": 6,
   "id": "78bd19ac-0c36-40c4-993b-3f8ec4c8c71e",
   "metadata": {},
   "outputs": [],
   "source": [
    "# 훈련 세트\n",
    "train_input = fish_data[:35]\n",
    "train_target = fish_target[:35]\n",
    "\n",
    "# 테스트 세트\n",
    "test_input = fish_data[35:]\n",
    "test_target = fish_target[35:]"
   ]
  },
  {
   "cell_type": "code",
   "execution_count": 7,
   "id": "115b5472-d540-4eea-8e66-7b51a95285e9",
   "metadata": {},
   "outputs": [
    {
     "data": {
      "text/plain": [
       "0.0"
      ]
     },
     "execution_count": 7,
     "metadata": {},
     "output_type": "execute_result"
    }
   ],
   "source": [
    "kn.fit(train_input, train_target)\n",
    "kn.score(test_input, test_target)"
   ]
  },
  {
   "cell_type": "markdown",
   "id": "89bfd2c7-1443-4f37-9ddf-e168434cc029",
   "metadata": {},
   "source": [
    "### 샘플링 편향"
   ]
  },
  {
   "cell_type": "markdown",
   "id": "22062fa5-e816-4ffb-b9e6-9f243256d56c",
   "metadata": {},
   "source": [
    "- 훈련 세트에는 도미만, 테스트 세트에는 빙어만 들어있음 → 데이터를 섞어줘야 함"
   ]
  },
  {
   "cell_type": "markdown",
   "id": "b86da1b1-dc3d-40f5-bc1e-3013e99a8d7e",
   "metadata": {},
   "source": [
    "### 넘파이"
   ]
  },
  {
   "cell_type": "code",
   "execution_count": 8,
   "id": "65ae04f9-95ea-4015-a4b2-83f7ca1d293c",
   "metadata": {},
   "outputs": [],
   "source": [
    "import numpy as np"
   ]
  },
  {
   "cell_type": "code",
   "execution_count": 9,
   "id": "15c9488a-04cc-45ac-8bca-d19202689beb",
   "metadata": {},
   "outputs": [
    {
     "data": {
      "text/plain": [
       "(49, 2)"
      ]
     },
     "execution_count": 9,
     "metadata": {},
     "output_type": "execute_result"
    }
   ],
   "source": [
    "input_arr = np.array(fish_data)\n",
    "target_arr = np.array(fish_target)\n",
    "\n",
    "input_arr.shape # (샘플 수, 특성 수)"
   ]
  },
  {
   "cell_type": "code",
   "execution_count": 10,
   "id": "c32025c2-07dd-4db3-be77-d488f3a7e9e0",
   "metadata": {},
   "outputs": [
    {
     "name": "stdout",
     "output_type": "stream",
     "text": [
      "[28 30 33  2 44 48 47 27  7 18  4 22 19 15 16 45 46 10 20 38 24 36 32 23\n",
      " 35 13 11 42 34  3 17 37 26  5 39 12 29 25  8 43  6 31 40 41 14  0  9  1\n",
      " 21]\n"
     ]
    }
   ],
   "source": [
    "index = np.arange(49)\n",
    "np.random.shuffle(index)\n",
    "print(index)"
   ]
  },
  {
   "cell_type": "code",
   "execution_count": 13,
   "id": "1042dc7d-0cde-45a1-b2aa-46091ea02698",
   "metadata": {},
   "outputs": [
    {
     "name": "stdout",
     "output_type": "stream",
     "text": [
      "[[ 36.  850. ]\n",
      " [ 38.5 920. ]\n",
      " [ 41.  975. ]\n",
      " [ 26.5 340. ]\n",
      " [ 12.2  12.2]\n",
      " [ 15.   19.9]\n",
      " [ 14.3  19.7]\n",
      " [ 36.  714. ]\n",
      " [ 30.  390. ]\n",
      " [ 33.5 610. ]\n",
      " [ 29.  430. ]\n",
      " [ 34.5 620. ]\n",
      " [ 33.5 650. ]\n",
      " [ 32.  600. ]\n",
      " [ 33.  700. ]\n",
      " [ 12.4  13.4]\n",
      " [ 13.   12.2]\n",
      " [ 31.  475. ]\n",
      " [ 34.  575. ]\n",
      " [ 11.    9.7]\n",
      " [ 35.  700. ]\n",
      " [ 10.5   7.5]\n",
      " [ 39.5 925. ]\n",
      " [ 35.  680. ]\n",
      " [  9.8   6.7]\n",
      " [ 32.  340. ]\n",
      " [ 31.  500. ]\n",
      " [ 11.8   9.9]\n",
      " [ 41.  950. ]\n",
      " [ 29.  363. ]\n",
      " [ 33.  700. ]\n",
      " [ 10.6   7. ]\n",
      " [ 35.  720. ]\n",
      " [ 29.7 450. ]\n",
      " [ 11.2   9.8]]\n"
     ]
    }
   ],
   "source": [
    "# 데이터를 섞어서 일부분을 사용\n",
    "train_input = input_arr[index[:35]]\n",
    "train_target = target_arr[index[:35]]\n",
    "\n",
    "test_input = input_arr[index[35:]]\n",
    "test_target = target_arr[index[35:]]\n",
    "\n",
    "print(train_input)"
   ]
  },
  {
   "cell_type": "code",
   "execution_count": 12,
   "id": "d5d6cd42-a1d6-4dc7-9f76-abc4f5ac3a58",
   "metadata": {},
   "outputs": [],
   "source": [
    "import matplotlib.pyplot as plt"
   ]
  },
  {
   "cell_type": "code",
   "execution_count": 14,
   "id": "ba4bc62f-0d4e-44b8-86cf-6aa337e46085",
   "metadata": {},
   "outputs": [
    {
     "data": {
      "text/plain": [
       "<matplotlib.collections.PathCollection at 0x28ae7c6a350>"
      ]
     },
     "execution_count": 14,
     "metadata": {},
     "output_type": "execute_result"
    },
    {
     "data": {
      "image/png": "[encoded data removed]",
      "text/plain": [
       "<Figure size 640x480 with 1 Axes>"
      ]
     },
     "metadata": {},
     "output_type": "display_data"
    }
   ],
   "source": [
    "plt.scatter(train_input[:, 0], train_input[:, 1])\n",
    "plt.scatter(test_input[:, 0], test_input[:, 1])\n",
    "# 데이터들이 잘 섞였는지 확인"
   ]
  },
  {
   "cell_type": "code",
   "execution_count": 15,
   "id": "63ea8634-626e-4eff-884c-a92e126f0bd0",
   "metadata": {},
   "outputs": [
    {
     "data": {
      "text/plain": [
       "1.0"
      ]
     },
     "execution_count": 15,
     "metadata": {},
     "output_type": "execute_result"
    }
   ],
   "source": [
    "kn.fit(train_input, train_target) # 35개 학습\n",
    "kn.score(test_input, test_target) # 14게 체잠"
   ]
  },
  {
   "cell_type": "code",
   "execution_count": 16,
   "id": "0d63b177-3a3b-4368-a2d4-479d8dd89c32",
   "metadata": {},
   "outputs": [
    {
     "data": {
      "text/plain": [
       "array([1, 1, 1, 1, 0, 1, 1, 0, 0, 1, 1, 1, 1, 1])"
      ]
     },
     "execution_count": 16,
     "metadata": {},
     "output_type": "execute_result"
    }
   ],
   "source": [
    "kn.predict(test_input)"
   ]
  },
  {
   "cell_type": "code",
   "execution_count": 17,
   "id": "7e436c62-a3ef-4b1e-98f5-957c7826ecaf",
   "metadata": {},
   "outputs": [
    {
     "data": {
      "text/plain": [
       "array([1, 1, 1, 1, 0, 1, 1, 0, 0, 1, 1, 1, 1, 1])"
      ]
     },
     "execution_count": 17,
     "metadata": {},
     "output_type": "execute_result"
    }
   ],
   "source": [
    "test_target # 똑같다"
   ]
  }
 ],
 "metadata": {
  "kernelspec": {
   "display_name": "Python 3 (ipykernel)",
   "language": "python",
   "name": "python3"
  },
  "language_info": {
   "codemirror_mode": {
    "name": "ipython",
    "version": 3
   },
   "file_extension": ".py",
   "mimetype": "text/x-python",
   "name": "python",
   "nbconvert_exporter": "python",
   "pygments_lexer": "ipython3",
   "version": "3.13.2"
  }
 },
 "nbformat": 4,
 "nbformat_minor": 5
}
