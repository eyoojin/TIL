{
 "cells": [
  {
   "cell_type": "markdown",
   "id": "36319236-5992-4dc0-9d9d-341e12f6e61a",
   "metadata": {},
   "source": [
    "# 01. 나의 첫 머신러닝"
   ]
  },
  {
   "cell_type": "markdown",
   "id": "1d747b12-b12a-4cb4-8f4f-59313666d772",
   "metadata": {},
   "source": [
    "## 1-1. 인공지능과 머신러닝, 딥러닝"
   ]
  },
  {
   "cell_type": "markdown",
   "id": "f96d86c8-5fab-4ce2-b2b7-188c70d4661a",
   "metadata": {},
   "source": [
    "- `인공지능`: 사람처럼 학습하고 추론할 수 있는 지능을 가진 시스템을 만드는 기술\n",
    "    - **강인공지능**과 **약인공지능**으로 나뉨\n",
    "- `머신러닝`: 규칙을 프로그래밍하지 않아도 자동으로 데이터에서 규칙을 학습하는 알고리즘을 연구하는 분야\n",
    "    - 대표적인 라이브러리: **사이킷런**\n",
    "- `딥러닝`: **인공 신경망**을 기반으로 한 방법\n",
    "    - 대표적인 라이브러리: **텐서플로**, **파이토치**"
   ]
  },
  {
   "cell_type": "markdown",
   "id": "7539a2d6-ba10-48da-8c3c-cc8815b5bd8c",
   "metadata": {},
   "source": [
    "## 1-2. 코랩과 주피터 노트북"
   ]
  },
  {
   "cell_type": "markdown",
   "id": "61a92d2a-2d89-4c80-9c93-b908ce627661",
   "metadata": {},
   "source": [
    "1. 구글에서 제공하는 웹 브라우저 기반의 파이썬 실행 환경: `코랩`\n",
    "2. 코랩 노트북에서 쓸 수 있는 마크다운 중에서 기울임 꼴로 쓰는 것: `_혼공머신_`\n",
    "3. 코랩 노트북이 실행되는 곳: `구글 클라우드`"
   ]
  },
  {
   "cell_type": "markdown",
   "id": "751b2311-5503-46cc-adab-322a9cdaebec",
   "metadata": {},
   "source": [
    "## 1-3. 마켓과 머신러닝"
   ]
  },
  {
   "cell_type": "markdown",
   "id": "5a84c89b-d63f-4e6c-bcf7-b0c1157f64f7",
   "metadata": {},
   "source": [
    "- `특성`: 데이터를 표현하는 하나의 성질\n",
    "    - 예시: 생선 데이터의 길이와 무게\n",
    "- `훈련`: 머신러닝 알고리즘이 데이터에서 규칙을 찾는 과정\n",
    "    - 사이킷런의 **fit()**\n",
    "- `k-최근접 이웃 알고리즘`: 어떤 데이터에 대한 답을 구할 때 주위의 다른 데이터를 보고 다수를 차지하는 것을 정답으로 사용\n",
    "    - 어떤 규칙을 찾기보다는 전체 데이터를 메모리에 가지고 있는 것이 전부임\n",
    "- `모델`: 머신러닝 프로그램에서 알고리즘이 구현된 객체\n",
    "    - 종종 알고리즘 자체를 모델이라고 부르기도 함\n",
    "- `정확도`: 정확한 답을 몇 개 맞혔는지를 백분율로 나타낸 값\n",
    "    - 사이킷런에서는 0~1 사이의 값으로 출력됨\n",
    "    - 정확도 = (정확히 맞힌 개수) / (전체 데이터 개수)"
   ]
  },
  {
   "cell_type": "markdown",
   "id": "cf3f0e08-2e12-4ca4-9f1f-d72f6e5a6c21",
   "metadata": {},
   "source": [
    "1. 데이터를 표현하는 하나의 성질로써, 예를 들어 국가 데이터의 경우 인구 수, GDP, 면적 등이 하나의 국가를 나타내는데, 머신러신에서 부르는 이런 성질: `특성`\n",
    "2. 가장 가까운 이웃을 참고하여 정답을 예측하는 알고리즘이 구현된 사이킷런의 클래스: `KNeighborsClassifier`\n",
    "3. 사이킷런 모델을 훈련할 때 사용하는 메서드: `fit()`"
   ]
  },
  {
   "cell_type": "markdown",
   "id": "44cbf0bd-1479-4276-8cd1-a0dbe4a30355",
   "metadata": {},
   "source": [
    "# 02. 데이터 다루기"
   ]
  },
  {
   "cell_type": "markdown",
   "id": "d44dfa10-7d28-4f7e-a25a-52ccaeb27218",
   "metadata": {},
   "source": [
    "## 2-1. 훈련 세트와 테스트 세트"
   ]
  },
  {
   "cell_type": "markdown",
   "id": "b6a9f474-1070-4942-8aab-de8467bdd86c",
   "metadata": {},
   "source": [
    "- `지도 학습`: 입력과 타깃을 전달하여 모델을 훈련한 다음 새로운 데이터를 예측하는 데 활용\n",
    "    - 예시: **k-최근접 이웃**\n",
    "- `비지도 학습`: 타깃 데이터가 없어서 무엇을 예측하는 것이 아니라 입력 데이터에서 어떤 특징을 찾는 데 활용\n",
    "- `훈련 세트`: 모델을 훈련할 때 사용하는 데이터\n",
    "    - 보통 훈련 세트가 클수록 좋기 때문에 테스트 세트를 제외한 모든 데이터를 사용\n",
    "- `테스트 세트`: 평가에 사용하는 데이터\n",
    "    - 전체 데이터에서 20~30%를 사용\n",
    "    - 전체 데이터가 아주 크다면 1%만 덜어내도 충분할 수 있음"
   ]
  },
  {
   "cell_type": "markdown",
   "id": "a4bdff49-d95e-4780-9be9-56e3c9dc7743",
   "metadata": {},
   "source": [
    "1. 머신러닝 알고리즘의 한 종류로서 샘플의 입력과 타깃(정답)을 알고 있을 때 사용할 수 있는 학습 방법: `지도 학습`\n",
    "2. 훈련 세트와 테스트 세트가 잘못 만들어져 데이터를 대표하지 못하는 현상: `샘플링 편향`\n",
    "3. 사이킷런이 기대하는 입력 데이터(배열) 구성: `행: 샘플, 열: 특성`"
   ]
  },
  {
   "cell_type": "code",
   "execution_count": null,
   "id": "520de235-8a9d-430f-b123-45b1ec5e6e89",
   "metadata": {},
   "outputs": [],
   "source": []
  }
 ],
 "metadata": {
  "kernelspec": {
   "display_name": "Python 3 (ipykernel)",
   "language": "python",
   "name": "python3"
  },
  "language_info": {
   "codemirror_mode": {
    "name": "ipython",
    "version": 3
   },
   "file_extension": ".py",
   "mimetype": "text/x-python",
   "name": "python",
   "nbconvert_exporter": "python",
   "pygments_lexer": "ipython3",
   "version": "3.13.2"
  }
 },
 "nbformat": 4,
 "nbformat_minor": 5
}
