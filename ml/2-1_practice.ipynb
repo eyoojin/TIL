{
 "cells": [
  {
   "cell_type": "markdown",
   "id": "16c53bb7-d01a-4966-9484-e1f9e0a0b80a",
   "metadata": {},
   "source": [
    "## iris"
   ]
  },
  {
   "cell_type": "code",
   "execution_count": 4,
   "id": "e4b2be0a-d819-48ec-ae81-e93d15072ffc",
   "metadata": {},
   "outputs": [],
   "source": [
    "import seaborn as sns\n",
    "\n",
    "df = sns.load_dataset('iris')\n",
    "\n",
    "# setosa, versicolor를 petal_length와 petal_width로 예상하기"
   ]
  },
  {
   "cell_type": "code",
   "execution_count": 5,
   "id": "191a0ed2-b7de-421b-8237-e46e62e5c4b0",
   "metadata": {},
   "outputs": [
    {
     "data": {
      "text/html": [
       "<div>\n",
       "<style scoped>\n",
       "    .dataframe tbody tr th:only-of-type {\n",
       "        vertical-align: middle;\n",
       "    }\n",
       "\n",
       "    .dataframe tbody tr th {\n",
       "        vertical-align: top;\n",
       "    }\n",
       "\n",
       "    .dataframe thead th {\n",
       "        text-align: right;\n",
       "    }\n",
       "</style>\n",
       "<table border=\"1\" class=\"dataframe\">\n",
       "  <thead>\n",
       "    <tr style=\"text-align: right;\">\n",
       "      <th></th>\n",
       "      <th>sepal_length</th>\n",
       "      <th>sepal_width</th>\n",
       "      <th>petal_length</th>\n",
       "      <th>petal_width</th>\n",
       "      <th>species</th>\n",
       "    </tr>\n",
       "  </thead>\n",
       "  <tbody>\n",
       "    <tr>\n",
       "      <th>0</th>\n",
       "      <td>5.1</td>\n",
       "      <td>3.5</td>\n",
       "      <td>1.4</td>\n",
       "      <td>0.2</td>\n",
       "      <td>setosa</td>\n",
       "    </tr>\n",
       "    <tr>\n",
       "      <th>1</th>\n",
       "      <td>4.9</td>\n",
       "      <td>3.0</td>\n",
       "      <td>1.4</td>\n",
       "      <td>0.2</td>\n",
       "      <td>setosa</td>\n",
       "    </tr>\n",
       "    <tr>\n",
       "      <th>2</th>\n",
       "      <td>4.7</td>\n",
       "      <td>3.2</td>\n",
       "      <td>1.3</td>\n",
       "      <td>0.2</td>\n",
       "      <td>setosa</td>\n",
       "    </tr>\n",
       "    <tr>\n",
       "      <th>3</th>\n",
       "      <td>4.6</td>\n",
       "      <td>3.1</td>\n",
       "      <td>1.5</td>\n",
       "      <td>0.2</td>\n",
       "      <td>setosa</td>\n",
       "    </tr>\n",
       "    <tr>\n",
       "      <th>4</th>\n",
       "      <td>5.0</td>\n",
       "      <td>3.6</td>\n",
       "      <td>1.4</td>\n",
       "      <td>0.2</td>\n",
       "      <td>setosa</td>\n",
       "    </tr>\n",
       "  </tbody>\n",
       "</table>\n",
       "</div>"
      ],
      "text/plain": [
       "   sepal_length  sepal_width  petal_length  petal_width species\n",
       "0           5.1          3.5           1.4          0.2  setosa\n",
       "1           4.9          3.0           1.4          0.2  setosa\n",
       "2           4.7          3.2           1.3          0.2  setosa\n",
       "3           4.6          3.1           1.5          0.2  setosa\n",
       "4           5.0          3.6           1.4          0.2  setosa"
      ]
     },
     "execution_count": 5,
     "metadata": {},
     "output_type": "execute_result"
    }
   ],
   "source": [
    "iris.head()"
   ]
  },
  {
   "cell_type": "code",
   "execution_count": 9,
   "id": "a37aa887-0966-4591-b966-ab27a5959d99",
   "metadata": {},
   "outputs": [],
   "source": [
    "cond = df['species'].isin(['setosa', 'versicolor'])\n",
    "lw_df = df.loc[cond, ['petal_length', 'petal_width']]\n",
    "iris_data = lw_df.values.tolist()"
   ]
  },
  {
   "cell_type": "code",
   "execution_count": 29,
   "id": "bb32363d-dccc-475a-b785-7bbcadf23049",
   "metadata": {},
   "outputs": [],
   "source": [
    "setosa_count = df.loc[df['species'] == 'setosa'].shape[0]\n",
    "versicolor_count = df.loc[df['species'] == 'versicolor'].shape[0]"
   ]
  },
  {
   "cell_type": "code",
   "execution_count": 30,
   "id": "f5397cc9-ef55-4adb-bdf0-20374fe22d50",
   "metadata": {},
   "outputs": [],
   "source": [
    "iris_target = [1] * setosa_count + [0] * versicolor_count"
   ]
  },
  {
   "cell_type": "code",
   "execution_count": 18,
   "id": "c789587e-9838-4e2c-90fa-943e9a729241",
   "metadata": {},
   "outputs": [],
   "source": [
    "import numpy as np"
   ]
  },
  {
   "cell_type": "code",
   "execution_count": 20,
   "id": "2686bfc2-c042-449c-a2d6-f7926065c84e",
   "metadata": {},
   "outputs": [],
   "source": [
    "input_arr = np.array(iris_data)\n",
    "target_arr = np.array(iris_target)"
   ]
  },
  {
   "cell_type": "code",
   "execution_count": 23,
   "id": "9cf7c2d5-aed9-44db-8221-38fc94c5ba06",
   "metadata": {},
   "outputs": [],
   "source": [
    "index = np.arange(len(iris_target))\n",
    "np.random.shuffle(index)"
   ]
  },
  {
   "cell_type": "code",
   "execution_count": 24,
   "id": "02fac822-b614-4286-be0d-e46d7e0e7660",
   "metadata": {},
   "outputs": [],
   "source": [
    "train_input = input_arr[index[:70]]\n",
    "train_target = target_arr[index[:70]]\n",
    "\n",
    "test_input = input_arr[index[70:]]\n",
    "test_target = target_arr[index[70:]]"
   ]
  },
  {
   "cell_type": "code",
   "execution_count": 25,
   "id": "3f77b12a-3e7a-4307-89d1-01ddc081e317",
   "metadata": {},
   "outputs": [
    {
     "data": {
      "text/plain": [
       "<matplotlib.collections.PathCollection at 0x2c0bb0bc7d0>"
      ]
     },
     "execution_count": 25,
     "metadata": {},
     "output_type": "execute_result"
    },
    {
     "data": {
      "image/png": "[encoded data removed]",
      "text/plain": [
       "<Figure size 640x480 with 1 Axes>"
      ]
     },
     "metadata": {},
     "output_type": "display_data"
    }
   ],
   "source": [
    "import matplotlib.pyplot as plt\n",
    "\n",
    "plt.scatter(train_input[:, 0], train_input[:, 1])\n",
    "plt.scatter(test_input[:, 0], test_input[:, 1])"
   ]
  },
  {
   "cell_type": "code",
   "execution_count": 26,
   "id": "354a88be-5e24-4830-9009-422953e656c5",
   "metadata": {},
   "outputs": [],
   "source": [
    "from sklearn.neighbors import KNeighborsClassifier\n",
    "kn = KNeighborsClassifier()"
   ]
  },
  {
   "cell_type": "code",
   "execution_count": 28,
   "id": "11747fde-4b75-4267-aac2-c3d6470196c4",
   "metadata": {},
   "outputs": [
    {
     "data": {
      "text/plain": [
       "1.0"
      ]
     },
     "execution_count": 28,
     "metadata": {},
     "output_type": "execute_result"
    }
   ],
   "source": [
    "kn.fit(train_input, train_target)\n",
    "kn.score(test_input, test_target)"
   ]
  },
  {
   "cell_type": "code",
   "execution_count": 32,
   "id": "30ef4583-e11c-409e-9156-e72bc6b56e18",
   "metadata": {},
   "outputs": [],
   "source": [
    "# version 2\n",
    "\n",
    "iris_target = np.array([1] * setosa_count + [0] * versicolor_count)"
   ]
  },
  {
   "cell_type": "code",
   "execution_count": 33,
   "id": "bfe39c4c-88c6-4671-9997-bb55d498c42b",
   "metadata": {},
   "outputs": [],
   "source": [
    "import random\n",
    "\n",
    "index = list(range(setosa_count + versicolor_count))\n",
    "random.shuffle(index)"
   ]
  }
 ],
 "metadata": {
  "kernelspec": {
   "display_name": "Python 3 (ipykernel)",
   "language": "python",
   "name": "python3"
  },
  "language_info": {
   "codemirror_mode": {
    "name": "ipython",
    "version": 3
   },
   "file_extension": ".py",
   "mimetype": "text/x-python",
   "name": "python",
   "nbconvert_exporter": "python",
   "pygments_lexer": "ipython3",
   "version": "3.13.2"
  }
 },
 "nbformat": 4,
 "nbformat_minor": 5
}
