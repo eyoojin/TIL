{
 "cells": [
  {
   "cell_type": "markdown",
   "id": "3295f510-6aab-4173-80bf-0215b651ed04",
   "metadata": {},
   "source": [
    "# 2-1. 훈련 세트와 테스트 세트"
   ]
  },
  {
   "cell_type": "code",
   "execution_count": 1,
   "id": "a4851a17-ec8d-4eaf-8ff8-b19976fee34f",
   "metadata": {},
   "outputs": [],
   "source": [
    "import pandas as pd\n",
    "\n",
    "df = pd.read_csv('data/Fish.csv')"
   ]
  },
  {
   "cell_type": "code",
   "execution_count": 5,
   "id": "53b3c775-9cae-4de4-9d17-a83ec96ece78",
   "metadata": {},
   "outputs": [],
   "source": [
    "cond = df['Species'].isin(['Bream', 'Smelt']) # isin(): 2개 이상의 데이터의 유무를 판단할 때 사용\n",
    "lw_df = df.loc[cond, ['Length2', 'Weight']]\n",
    "lw_df.values # 2차원 numpy의 list 형태\n",
    "fish_data = lw_df.values.tolist()"
   ]
  },
  {
   "cell_type": "code",
   "execution_count": 6,
   "id": "fd3f2dba-0a1f-49ae-b75c-043c5e7812dd",
   "metadata": {},
   "outputs": [],
   "source": [
    "fish_target = [1] * 35 + [0] * 14"
   ]
  },
  {
   "cell_type": "code",
   "execution_count": 11,
   "id": "ff906603-1848-4e96-b38b-39b8478fa482",
   "metadata": {},
   "outputs": [],
   "source": [
    "from sklearn.neighbors import KNeighborsClassifier\n",
    "kn = KNeighborsClassifier()"
   ]
  },
  {
   "cell_type": "code",
   "execution_count": 9,
   "id": "26dcae9b-6c9e-4bdd-9b0e-1ecbe75a90b3",
   "metadata": {},
   "outputs": [],
   "source": [
    "train_input = fish_data[:35]\n",
    "train_target = fish_target[:35] # 훈련 세트\n",
    "\n",
    "test_input = fish_data[35:]\n",
    "test_target = fish_target[35:] # 테스트 세트"
   ]
  },
  {
   "cell_type": "code",
   "execution_count": 12,
   "id": "3cf8f4a6-a0ed-456f-bf0f-2246ed4733bc",
   "metadata": {},
   "outputs": [
    {
     "data": {
      "text/plain": [
       "0.0"
      ]
     },
     "execution_count": 12,
     "metadata": {},
     "output_type": "execute_result"
    }
   ],
   "source": [
    "kn.fit(train_input, train_target)\n",
    "kn.score(test_input, test_target)"
   ]
  },
  {
   "cell_type": "markdown",
   "id": "ad104d0b-28b2-45b9-8476-606efc3aa5b9",
   "metadata": {},
   "source": [
    "## 샘플링 편향"
   ]
  },
  {
   "cell_type": "markdown",
   "id": "d2ab3037-b248-4b59-b136-5bb7177105db",
   "metadata": {},
   "source": [
    "- 훈련 세트에는 도미만, 테스트 세트에는 빙어만 들어있음"
   ]
  },
  {
   "cell_type": "markdown",
   "id": "636b4458-af26-4c98-b7c1-5d47623ec4c0",
   "metadata": {},
   "source": [
    "## 넘파이"
   ]
  },
  {
   "cell_type": "code",
   "execution_count": 13,
   "id": "40fd1c81-1b7b-4f1f-ae1a-8fc66dc625fe",
   "metadata": {},
   "outputs": [],
   "source": [
    "import numpy as np"
   ]
  },
  {
   "cell_type": "code",
   "execution_count": 14,
   "id": "47b88dd5-7535-4d64-801e-7e8a326d4ad1",
   "metadata": {},
   "outputs": [
    {
     "data": {
      "text/plain": [
       "(49, 2)"
      ]
     },
     "execution_count": 14,
     "metadata": {},
     "output_type": "execute_result"
    }
   ],
   "source": [
    "input_arr = np.array(fish_data)\n",
    "target_arr = np.array(fish_target)\n",
    "\n",
    "input_arr.shape # 샘플 수, 특성 수"
   ]
  },
  {
   "cell_type": "code",
   "execution_count": 22,
   "id": "25ab35e8-eb60-4b13-817f-f598365d969f",
   "metadata": {},
   "outputs": [
    {
     "name": "stdout",
     "output_type": "stream",
     "text": [
      "[23 31 26  9 10 24 45 25 48 34 38 30 29 15 20 42 40 18 43 32 33  1  5 19\n",
      " 16 14 37 13  6 44 17 46  7  4  3 35  0 27  8 22 47 28 21 41 36 11 39  2\n",
      " 12]\n"
     ]
    }
   ],
   "source": [
    "index = np.arange(49)\n",
    "np.random.shuffle(index)\n",
    "print(index)"
   ]
  },
  {
   "cell_type": "code",
   "execution_count": 23,
   "id": "8269e331-ec37-41f7-ba5b-ca1fbaab9519",
   "metadata": {},
   "outputs": [],
   "source": [
    "train_input = input_arr[index[:35]] # 데이터를 섞어서 일부분을 사용\n",
    "train_target = target_arr[index[:35]]\n",
    "\n",
    "test_input = input_arr[index[35:]]\n",
    "test_target = target_arr[index[35:]]"
   ]
  },
  {
   "cell_type": "code",
   "execution_count": 24,
   "id": "fe2f0f4d-0a70-4f60-9cf8-284eb0f7d819",
   "metadata": {},
   "outputs": [],
   "source": [
    "import matplotlib.pyplot as plt"
   ]
  },
  {
   "cell_type": "code",
   "execution_count": 25,
   "id": "79f6b877-a452-4e9a-b933-4829da597bab",
   "metadata": {},
   "outputs": [
    {
     "data": {
      "text/plain": [
       "<matplotlib.collections.PathCollection at 0x206241cbd90>"
      ]
     },
     "execution_count": 25,
     "metadata": {},
     "output_type": "execute_result"
    },
    {
     "data": {
      "image/png": "[encoded data removed]",
      "text/plain": [
       "<Figure size 640x480 with 1 Axes>"
      ]
     },
     "metadata": {},
     "output_type": "display_data"
    }
   ],
   "source": [
    "plt.scatter(train_input[:, 0], train_input[:, 1])\n",
    "plt.scatter(test_input[:, 0], test_input[:, 1]) # 데이터들이 잘 섞였는지 확인"
   ]
  },
  {
   "cell_type": "code",
   "execution_count": 26,
   "id": "672953ca-d9cf-411d-bd00-23476cf76ceb",
   "metadata": {},
   "outputs": [
    {
     "data": {
      "text/plain": [
       "1.0"
      ]
     },
     "execution_count": 26,
     "metadata": {},
     "output_type": "execute_result"
    }
   ],
   "source": [
    "kn.fit(train_input, train_target) # 35개 학습\n",
    "kn.score(test_input, test_target) # 14개 정답"
   ]
  },
  {
   "cell_type": "code",
   "execution_count": 27,
   "id": "25bd7188-18dc-4dd4-a366-69ff30e3a6b5",
   "metadata": {},
   "outputs": [
    {
     "data": {
      "text/plain": [
       "array([0, 1, 1, 1, 1, 0, 1, 1, 0, 0, 1, 0, 1, 1])"
      ]
     },
     "execution_count": 27,
     "metadata": {},
     "output_type": "execute_result"
    }
   ],
   "source": [
    "kn.predict(test_input)"
   ]
  },
  {
   "cell_type": "code",
   "execution_count": 28,
   "id": "5c5b4487-0103-45ce-960e-e1c09b7df07b",
   "metadata": {},
   "outputs": [
    {
     "data": {
      "text/plain": [
       "array([0, 1, 1, 1, 1, 0, 1, 1, 0, 0, 1, 0, 1, 1])"
      ]
     },
     "execution_count": 28,
     "metadata": {},
     "output_type": "execute_result"
    }
   ],
   "source": [
    "test_target # 똑같다"
   ]
  },
  {
   "cell_type": "markdown",
   "id": "902b937f-6f4a-4fc2-9bda-2ee944e5e3a8",
   "metadata": {},
   "source": [
    "## 키워드"
   ]
  },
  {
   "cell_type": "markdown",
   "id": "299eeffe-019f-454e-b907-cde02aa0502a",
   "metadata": {},
   "source": [
    "- 지도 학습: 입력과 타깃을 전달하여 모델을 훈련한 다음 새로운 데이터를 예측하는 데 활용\n",
    "- 비지도 학습: 타킷 데이터가 없음, 입력 데이터에서 어떤 특징을 찾는 데 활용\n",
    "- 훈련 세트: 모델을 훈련할 때 사용하는 데이터\n",
    "- 테스트 세트: 평가에 사용하는 데이터"
   ]
  },
  {
   "cell_type": "markdown",
   "id": "9d331a30-843c-4f8b-b2c5-66c030038aff",
   "metadata": {},
   "source": [
    "## 확인 문제"
   ]
  },
  {
   "cell_type": "markdown",
   "id": "990bac96-1313-4e8f-aaf8-f11d3f758720",
   "metadata": {},
   "source": [
    "1. 샘플의 입력과 타깃을 알고 있을 때 사용하는 학습 방법 = 지도 학습\n",
    "2. 훈련 세트와 테스트 세트가 잘못 만들어져 전체 데이터를 대표하지 못하는 현상 = 샘플링 편향\n",
    "3. 사이킷런이 예상하는 데이터 배열 = (샘플, 특성)"
   ]
  }
 ],
 "metadata": {
  "kernelspec": {
   "display_name": "Python 3 (ipykernel)",
   "language": "python",
   "name": "python3"
  },
  "language_info": {
   "codemirror_mode": {
    "name": "ipython",
    "version": 3
   },
   "file_extension": ".py",
   "mimetype": "text/x-python",
   "name": "python",
   "nbconvert_exporter": "python",
   "pygments_lexer": "ipython3",
   "version": "3.13.2"
  }
 },
 "nbformat": 4,
 "nbformat_minor": 5
}
